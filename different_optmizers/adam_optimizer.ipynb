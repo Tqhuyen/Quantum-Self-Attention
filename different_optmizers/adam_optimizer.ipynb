{
 "cells": [
  {
   "cell_type": "code",
   "execution_count": 1,
   "id": "4da214fe",
   "metadata": {
    "execution": {
     "iopub.execute_input": "2025-02-10T15:18:40.499859Z",
     "iopub.status.busy": "2025-02-10T15:18:40.499487Z",
     "iopub.status.idle": "2025-02-10T15:18:50.520690Z",
     "shell.execute_reply": "2025-02-10T15:18:50.519318Z"
    },
    "id": "MbEyJMHaW9w7",
    "outputId": "8edd0afc-dd65-408c-b624-fea1e6874d8b",
    "papermill": {
     "duration": 10.030565,
     "end_time": "2025-02-10T15:18:50.522650",
     "exception": false,
     "start_time": "2025-02-10T15:18:40.492085",
     "status": "completed"
    },
    "tags": []
   },
   "outputs": [
    {
     "name": "stdout",
     "output_type": "stream",
     "text": [
      "Collecting pennylane\r\n",
      "  Downloading PennyLane-0.40.0-py3-none-any.whl.metadata (10 kB)\r\n",
      "Requirement already satisfied: numpy<2.1 in /usr/local/lib/python3.10/dist-packages (from pennylane) (1.26.4)\r\n",
      "Requirement already satisfied: scipy in /usr/local/lib/python3.10/dist-packages (from pennylane) (1.13.1)\r\n",
      "Requirement already satisfied: networkx in /usr/local/lib/python3.10/dist-packages (from pennylane) (3.4.2)\r\n",
      "Collecting rustworkx>=0.14.0 (from pennylane)\r\n",
      "  Downloading rustworkx-0.16.0-cp39-abi3-manylinux_2_17_x86_64.manylinux2014_x86_64.whl.metadata (10 kB)\r\n",
      "Requirement already satisfied: autograd in /usr/local/lib/python3.10/dist-packages (from pennylane) (1.7.0)\r\n",
      "Collecting tomlkit (from pennylane)\r\n",
      "  Downloading tomlkit-0.13.2-py3-none-any.whl.metadata (2.7 kB)\r\n",
      "Collecting appdirs (from pennylane)\r\n",
      "  Downloading appdirs-1.4.4-py2.py3-none-any.whl.metadata (9.0 kB)\r\n",
      "Collecting autoray>=0.6.11 (from pennylane)\r\n",
      "  Downloading autoray-0.7.0-py3-none-any.whl.metadata (5.8 kB)\r\n",
      "Requirement already satisfied: cachetools in /usr/local/lib/python3.10/dist-packages (from pennylane) (5.5.0)\r\n",
      "Collecting pennylane-lightning>=0.40 (from pennylane)\r\n",
      "  Downloading PennyLane_Lightning-0.40.0-cp310-cp310-manylinux_2_28_x86_64.whl.metadata (27 kB)\r\n",
      "Requirement already satisfied: requests in /usr/local/lib/python3.10/dist-packages (from pennylane) (2.32.3)\r\n",
      "Requirement already satisfied: typing-extensions in /usr/local/lib/python3.10/dist-packages (from pennylane) (4.12.2)\r\n",
      "Requirement already satisfied: packaging in /usr/local/lib/python3.10/dist-packages (from pennylane) (24.2)\r\n",
      "Collecting diastatic-malt (from pennylane)\r\n",
      "  Downloading diastatic_malt-2.15.2-py3-none-any.whl.metadata (2.6 kB)\r\n",
      "Requirement already satisfied: mkl_fft in /usr/local/lib/python3.10/dist-packages (from numpy<2.1->pennylane) (1.3.8)\r\n",
      "Requirement already satisfied: mkl_random in /usr/local/lib/python3.10/dist-packages (from numpy<2.1->pennylane) (1.2.4)\r\n",
      "Requirement already satisfied: mkl_umath in /usr/local/lib/python3.10/dist-packages (from numpy<2.1->pennylane) (0.1.1)\r\n",
      "Requirement already satisfied: mkl in /usr/local/lib/python3.10/dist-packages (from numpy<2.1->pennylane) (2025.0.1)\r\n",
      "Requirement already satisfied: tbb4py in /usr/local/lib/python3.10/dist-packages (from numpy<2.1->pennylane) (2022.0.0)\r\n",
      "Requirement already satisfied: mkl-service in /usr/local/lib/python3.10/dist-packages (from numpy<2.1->pennylane) (2.4.1)\r\n",
      "Collecting scipy-openblas32>=0.3.26 (from pennylane-lightning>=0.40->pennylane)\r\n",
      "  Downloading scipy_openblas32-0.3.29.0.0-py3-none-manylinux_2_17_x86_64.manylinux2014_x86_64.whl.metadata (56 kB)\r\n",
      "\u001b[2K     \u001b[90m━━━━━━━━━━━━━━━━━━━━━━━━━━━━━━━━━━━━━━━━\u001b[0m \u001b[32m56.1/56.1 kB\u001b[0m \u001b[31m2.6 MB/s\u001b[0m eta \u001b[36m0:00:00\u001b[0m\r\n",
      "\u001b[?25hRequirement already satisfied: astunparse in /usr/local/lib/python3.10/dist-packages (from diastatic-malt->pennylane) (1.6.3)\r\n",
      "Requirement already satisfied: gast in /usr/local/lib/python3.10/dist-packages (from diastatic-malt->pennylane) (0.6.0)\r\n",
      "Requirement already satisfied: termcolor in /usr/local/lib/python3.10/dist-packages (from diastatic-malt->pennylane) (2.5.0)\r\n",
      "Requirement already satisfied: charset-normalizer<4,>=2 in /usr/local/lib/python3.10/dist-packages (from requests->pennylane) (3.4.1)\r\n",
      "Requirement already satisfied: idna<4,>=2.5 in /usr/local/lib/python3.10/dist-packages (from requests->pennylane) (3.10)\r\n",
      "Requirement already satisfied: urllib3<3,>=1.21.1 in /usr/local/lib/python3.10/dist-packages (from requests->pennylane) (2.3.0)\r\n",
      "Requirement already satisfied: certifi>=2017.4.17 in /usr/local/lib/python3.10/dist-packages (from requests->pennylane) (2025.1.31)\r\n",
      "Requirement already satisfied: wheel<1.0,>=0.23.0 in /usr/local/lib/python3.10/dist-packages (from astunparse->diastatic-malt->pennylane) (0.45.1)\r\n",
      "Requirement already satisfied: six<2.0,>=1.6.1 in /usr/local/lib/python3.10/dist-packages (from astunparse->diastatic-malt->pennylane) (1.17.0)\r\n",
      "Requirement already satisfied: intel-openmp>=2024 in /usr/local/lib/python3.10/dist-packages (from mkl->numpy<2.1->pennylane) (2024.2.0)\r\n",
      "Requirement already satisfied: tbb==2022.* in /usr/local/lib/python3.10/dist-packages (from mkl->numpy<2.1->pennylane) (2022.0.0)\r\n",
      "Requirement already satisfied: tcmlib==1.* in /usr/local/lib/python3.10/dist-packages (from tbb==2022.*->mkl->numpy<2.1->pennylane) (1.2.0)\r\n",
      "Requirement already satisfied: intel-cmplr-lib-rt in /usr/local/lib/python3.10/dist-packages (from mkl_umath->numpy<2.1->pennylane) (2024.2.0)\r\n",
      "Requirement already satisfied: intel-cmplr-lib-ur==2024.2.0 in /usr/local/lib/python3.10/dist-packages (from intel-openmp>=2024->mkl->numpy<2.1->pennylane) (2024.2.0)\r\n",
      "Downloading PennyLane-0.40.0-py3-none-any.whl (2.0 MB)\r\n",
      "\u001b[2K   \u001b[90m━━━━━━━━━━━━━━━━━━━━━━━━━━━━━━━━━━━━━━━━\u001b[0m \u001b[32m2.0/2.0 MB\u001b[0m \u001b[31m28.1 MB/s\u001b[0m eta \u001b[36m0:00:00\u001b[0m\r\n",
      "\u001b[?25hDownloading autoray-0.7.0-py3-none-any.whl (930 kB)\r\n",
      "\u001b[2K   \u001b[90m━━━━━━━━━━━━━━━━━━━━━━━━━━━━━━━━━━━━━━━━\u001b[0m \u001b[32m930.0/930.0 kB\u001b[0m \u001b[31m32.9 MB/s\u001b[0m eta \u001b[36m0:00:00\u001b[0m\r\n",
      "\u001b[?25hDownloading PennyLane_Lightning-0.40.0-cp310-cp310-manylinux_2_28_x86_64.whl (2.4 MB)\r\n",
      "\u001b[2K   \u001b[90m━━━━━━━━━━━━━━━━━━━━━━━━━━━━━━━━━━━━━━━━\u001b[0m \u001b[32m2.4/2.4 MB\u001b[0m \u001b[31m59.2 MB/s\u001b[0m eta \u001b[36m0:00:00\u001b[0m\r\n",
      "\u001b[?25hDownloading rustworkx-0.16.0-cp39-abi3-manylinux_2_17_x86_64.manylinux2014_x86_64.whl (2.1 MB)\r\n",
      "\u001b[2K   \u001b[90m━━━━━━━━━━━━━━━━━━━━━━━━━━━━━━━━━━━━━━━━\u001b[0m \u001b[32m2.1/2.1 MB\u001b[0m \u001b[31m57.8 MB/s\u001b[0m eta \u001b[36m0:00:00\u001b[0m\r\n",
      "\u001b[?25hDownloading appdirs-1.4.4-py2.py3-none-any.whl (9.6 kB)\r\n",
      "Downloading diastatic_malt-2.15.2-py3-none-any.whl (167 kB)\r\n",
      "\u001b[2K   \u001b[90m━━━━━━━━━━━━━━━━━━━━━━━━━━━━━━━━━━━━━━━━\u001b[0m \u001b[32m167.9/167.9 kB\u001b[0m \u001b[31m8.0 MB/s\u001b[0m eta \u001b[36m0:00:00\u001b[0m\r\n",
      "\u001b[?25hDownloading tomlkit-0.13.2-py3-none-any.whl (37 kB)\r\n",
      "Downloading scipy_openblas32-0.3.29.0.0-py3-none-manylinux_2_17_x86_64.manylinux2014_x86_64.whl (8.6 MB)\r\n",
      "\u001b[2K   \u001b[90m━━━━━━━━━━━━━━━━━━━━━━━━━━━━━━━━━━━━━━━━\u001b[0m \u001b[32m8.6/8.6 MB\u001b[0m \u001b[31m75.0 MB/s\u001b[0m eta \u001b[36m0:00:00\u001b[0m\r\n",
      "\u001b[?25hInstalling collected packages: appdirs, tomlkit, scipy-openblas32, autoray, diastatic-malt, rustworkx, pennylane-lightning, pennylane\r\n",
      "Successfully installed appdirs-1.4.4 autoray-0.7.0 diastatic-malt-2.15.2 pennylane-0.40.0 pennylane-lightning-0.40.0 rustworkx-0.16.0 scipy-openblas32-0.3.29.0.0 tomlkit-0.13.2\r\n"
     ]
    }
   ],
   "source": [
    "!pip install pennylane --upgrade"
   ]
  },
  {
   "cell_type": "code",
   "execution_count": 2,
   "id": "ce9b5762",
   "metadata": {
    "execution": {
     "iopub.execute_input": "2025-02-10T15:18:50.538673Z",
     "iopub.status.busy": "2025-02-10T15:18:50.538311Z",
     "iopub.status.idle": "2025-02-10T15:19:11.440494Z",
     "shell.execute_reply": "2025-02-10T15:19:11.439314Z"
    },
    "id": "u1g8haeSUioZ",
    "papermill": {
     "duration": 20.912271,
     "end_time": "2025-02-10T15:19:11.442463",
     "exception": false,
     "start_time": "2025-02-10T15:18:50.530192",
     "status": "completed"
    },
    "tags": []
   },
   "outputs": [],
   "source": [
    "import pennylane as qml\n",
    "from pennylane import numpy as np\n",
    "from pennylane.optimize import AdamOptimizer\n",
    "import tensorflow as tf"
   ]
  },
  {
   "cell_type": "code",
   "execution_count": 3,
   "id": "1ef89ff6",
   "metadata": {
    "execution": {
     "iopub.execute_input": "2025-02-10T15:19:11.459127Z",
     "iopub.status.busy": "2025-02-10T15:19:11.458340Z",
     "iopub.status.idle": "2025-02-10T15:19:12.254015Z",
     "shell.execute_reply": "2025-02-10T15:19:12.252880Z"
    },
    "papermill": {
     "duration": 0.805975,
     "end_time": "2025-02-10T15:19:12.256013",
     "exception": false,
     "start_time": "2025-02-10T15:19:11.450038",
     "status": "completed"
    },
    "tags": []
   },
   "outputs": [
    {
     "name": "stderr",
     "output_type": "stream",
     "text": [
      "/usr/local/lib/python3.10/dist-packages/keras/src/layers/core/embedding.py:90: UserWarning: Argument `input_length` is deprecated. Just remove it.\n",
      "  warnings.warn(\n"
     ]
    },
    {
     "name": "stdout",
     "output_type": "stream",
     "text": [
      "\u001b[1m3/3\u001b[0m \u001b[32m━━━━━━━━━━━━━━━━━━━━\u001b[0m\u001b[37m\u001b[0m \u001b[1m0s\u001b[0m 15ms/step \n",
      "\u001b[1m1/1\u001b[0m \u001b[32m━━━━━━━━━━━━━━━━━━━━\u001b[0m\u001b[37m\u001b[0m \u001b[1m0s\u001b[0m 109ms/step\n",
      "\u001b[1m1/1\u001b[0m \u001b[32m━━━━━━━━━━━━━━━━━━━━\u001b[0m\u001b[37m\u001b[0m \u001b[1m0s\u001b[0m 104ms/step\n"
     ]
    }
   ],
   "source": [
    "#******************************************\n",
    "# Data import\n",
    "#******************************************\n",
    "\n",
    "# import train, dev and test datasets: the data entries are all strings of the form 'label sentence' \n",
    "# with the label in {0,1} and with the sentence of the form \"word1_POStag1 word2_POStag2 ...\"\n",
    "\n",
    "with open('/kaggle/input/mc-and-rp-dataset-for-quantum-computing-qnlp/mc_train_data.txt') as f:\n",
    "    training_data_raw = f.readlines()\n",
    "\n",
    "with open('/kaggle/input/mc-and-rp-dataset-for-quantum-computing-qnlp/mc_dev_data.txt') as f:\n",
    "    dev_data_raw = f.readlines()\n",
    "\n",
    "with open('/kaggle/input/mc-and-rp-dataset-for-quantum-computing-qnlp/mc_test_data.txt') as f:\n",
    "    testing_data_raw = f.readlines()\n",
    "#***************************************************************\n",
    "# Turn the raw input data into data structures convenient below\n",
    "#***************************************************************\n",
    "\n",
    "vocab = dict()          # dictionary to be filled with the vocabulary in the form { word : POStag }\n",
    "data = dict()           # dictionary to be filled with all the data (train, dev and test subsets); entries of the \n",
    "                        # form { sentence : label } with label encoding '1' as [1.0, 0.0] and '0' as [0.0, 1.0]\n",
    "training_data = []      # list of sentences in the train dataset as strings \"word1 word2 ...\"\n",
    "dev_data = []           # list of sentences in the dev dataset as strings \"word1 word2 ...\"\n",
    "testing_data = []       # list of sentences in the test dataset as strings \"word1 word2 ...\"\n",
    "training_data_label = []      # list of sentences in the train dataset as strings \"word1 word2 ...\"\n",
    "dev_data_label = []           # list of sentences in the dev dataset as strings \"word1 word2 ...\"\n",
    "testing_data_label = []\n",
    "# Go through the train data\n",
    "for sent in training_data_raw:\n",
    "    words = sent[2:].split() \n",
    "    sent_untagged = ''\n",
    "    for word in words:\n",
    "        word_untagged, tag = word.split('_')\n",
    "        vocab[word_untagged] = tag\n",
    "        sent_untagged += word_untagged + ' '\n",
    "    sentence = sent_untagged[:-1]\n",
    "    training_data.append(sentence)\n",
    "    label = 1.0 if sent[0] == '1' else -1.0\n",
    "    training_data_label.append(label)\n",
    "\n",
    "# Go through the dev data\n",
    "for sent in dev_data_raw:\n",
    "    words = sent[2:].split() \n",
    "    sent_untagged = ''\n",
    "    for word in words:\n",
    "        word_untagged, tag = word.split('_')\n",
    "        vocab[word_untagged] = tag\n",
    "        sent_untagged += word_untagged + ' '\n",
    "    sentence = sent_untagged[:-1]\n",
    "    dev_data.append(sentence)\n",
    "    label = 1.0 if sent[0] == '1' else -1.0\n",
    "    dev_data_label.append(label)\n",
    "    \n",
    "# Go through the test data\n",
    "for sent in testing_data_raw:\n",
    "    words = sent[2:].split() \n",
    "    sent_untagged = ''\n",
    "    for word in words:\n",
    "        word_untagged, tag = word.split('_')\n",
    "        vocab[word_untagged] = tag\n",
    "        sent_untagged += word_untagged + ' '\n",
    "    sentence = sent_untagged[:-1]\n",
    "    testing_data.append(sentence)\n",
    "    label = 1.0 if sent[0] == '1' else -1.0\n",
    "    testing_data_label.append(label)\n",
    "import tensorflow as tf\n",
    "from tensorflow.keras.preprocessing.text import Tokenizer\n",
    "from tensorflow.keras.preprocessing.sequence import pad_sequences\n",
    "from tensorflow.keras.models import Sequential\n",
    "from tensorflow.keras.layers import Embedding\n",
    "\n",
    "def embedding_sentece(data_list):\n",
    "    sentences = data_list\n",
    "    tokenizer = Tokenizer()\n",
    "    tokenizer.fit_on_texts(sentences)  \n",
    "    word_index = tokenizer.word_index  \n",
    "    vocab_size = len(word_index) + 1  # Số lượng từ vựng (+1 cho padding)\n",
    "    sequences = tokenizer.texts_to_sequences(sentences)\n",
    "\n",
    "    max_length = max(len(seq) for seq in sequences)  # Độ dài tối đa\n",
    "    padded_sequences = pad_sequences(sequences, maxlen=max_length, padding='post')\n",
    "    \n",
    "    embedding_dim = 4  # Chọn số chiều của vector embedding\n",
    "    \n",
    "    model = Sequential([\n",
    "        Embedding(input_dim=vocab_size, output_dim=embedding_dim, input_length=max_length)\n",
    "    ])\n",
    "    \n",
    "    output = model.predict(padded_sequences)\n",
    "    return output\n",
    "X = np.array(embedding_sentece(training_data), dtype='float64')\n",
    "Y = np.array(training_data_label)\n",
    "X_dev = np.array(embedding_sentece(dev_data), dtype='float64')\n",
    "Y_dev = np.array(dev_data_label)\n",
    "X_test = np.array(embedding_sentece(testing_data), dtype='float64')\n",
    "Y_test = np.array(testing_data_label)\n",
    "X = X.reshape(-1,16)\n",
    "X_dev = X_dev.reshape(-1,16)\n",
    "X_test = X_test.reshape(-1,16)"
   ]
  },
  {
   "cell_type": "code",
   "execution_count": 4,
   "id": "b6bb9b06",
   "metadata": {
    "execution": {
     "iopub.execute_input": "2025-02-10T15:19:12.272583Z",
     "iopub.status.busy": "2025-02-10T15:19:12.272205Z",
     "iopub.status.idle": "2025-02-10T15:19:12.276668Z",
     "shell.execute_reply": "2025-02-10T15:19:12.275522Z"
    },
    "papermill": {
     "duration": 0.014616,
     "end_time": "2025-02-10T15:19:12.278359",
     "exception": false,
     "start_time": "2025-02-10T15:19:12.263743",
     "status": "completed"
    },
    "tags": []
   },
   "outputs": [],
   "source": [
    "X = X[:50]\n",
    "Y = Y[:50]"
   ]
  },
  {
   "cell_type": "code",
   "execution_count": 5,
   "id": "cfb0cb8b",
   "metadata": {
    "execution": {
     "iopub.execute_input": "2025-02-10T15:19:12.296761Z",
     "iopub.status.busy": "2025-02-10T15:19:12.296355Z",
     "iopub.status.idle": "2025-02-10T15:19:12.303964Z",
     "shell.execute_reply": "2025-02-10T15:19:12.302378Z"
    },
    "id": "9ZrZHnIeXGAD",
    "papermill": {
     "duration": 0.020321,
     "end_time": "2025-02-10T15:19:12.306305",
     "exception": false,
     "start_time": "2025-02-10T15:19:12.285984",
     "status": "completed"
    },
    "tags": []
   },
   "outputs": [],
   "source": [
    "dev = qml.device('default.qubit', wires=17)\n",
    "\n",
    "def state_preparation(f=None):\n",
    "    qml.AmplitudeEmbedding(features=f, wires=[0,1,2,3], normalize=True)\n",
    "    qml.AmplitudeEmbedding(features=f, wires=[4,5,6,7], normalize=True)\n",
    "    qml.AmplitudeEmbedding(features=f, wires=[8,9,10,11], normalize=True)"
   ]
  },
  {
   "cell_type": "code",
   "execution_count": 6,
   "id": "ae9ae72a",
   "metadata": {
    "execution": {
     "iopub.execute_input": "2025-02-10T15:19:12.323842Z",
     "iopub.status.busy": "2025-02-10T15:19:12.323424Z",
     "iopub.status.idle": "2025-02-10T15:19:12.329555Z",
     "shell.execute_reply": "2025-02-10T15:19:12.328483Z"
    },
    "id": "2JL2UMuZ56Sm",
    "papermill": {
     "duration": 0.016944,
     "end_time": "2025-02-10T15:19:12.331757",
     "exception": false,
     "start_time": "2025-02-10T15:19:12.314813",
     "status": "completed"
    },
    "tags": []
   },
   "outputs": [],
   "source": [
    "def unitary_embedding(theta_list: list):\n",
    "  '''\n",
    "  theta_list: list of theta\n",
    "  '''\n",
    "  for i in range(len(theta_list)):\n",
    "    qml.RY(theta_list[i], wires=[i])\n",
    "  for i in range(len(theta_list)-1):\n",
    "    c = i\n",
    "    if c == len(theta_list)-1:\n",
    "      f = 0\n",
    "    else:\n",
    "      f = c+1\n",
    "    qml.CNOT(wires=[c,f])"
   ]
  },
  {
   "cell_type": "code",
   "execution_count": 7,
   "id": "641ebfd7",
   "metadata": {
    "execution": {
     "iopub.execute_input": "2025-02-10T15:19:12.349661Z",
     "iopub.status.busy": "2025-02-10T15:19:12.349265Z",
     "iopub.status.idle": "2025-02-10T15:19:12.354730Z",
     "shell.execute_reply": "2025-02-10T15:19:12.353533Z"
    },
    "papermill": {
     "duration": 0.016984,
     "end_time": "2025-02-10T15:19:12.356677",
     "exception": false,
     "start_time": "2025-02-10T15:19:12.339693",
     "status": "completed"
    },
    "tags": []
   },
   "outputs": [],
   "source": [
    "def combine_unitary_embedding(number_layer, theta_list):\n",
    "  '''\n",
    "  len(theta_list) = number_layer\n",
    "  theta_list elem = \n",
    "  '''\n",
    "  for i in range(len(theta_list[0])):\n",
    "    qml.H(wires=[i])\n",
    "  for layer in range(number_layer):\n",
    "    unitary_embedding(theta_list[layer])"
   ]
  },
  {
   "cell_type": "code",
   "execution_count": 8,
   "id": "35fb15b9",
   "metadata": {
    "execution": {
     "iopub.execute_input": "2025-02-10T15:19:12.373907Z",
     "iopub.status.busy": "2025-02-10T15:19:12.373506Z",
     "iopub.status.idle": "2025-02-10T15:19:12.378209Z",
     "shell.execute_reply": "2025-02-10T15:19:12.377050Z"
    },
    "id": "z5cGe_yzARyc",
    "papermill": {
     "duration": 0.015557,
     "end_time": "2025-02-10T15:19:12.379879",
     "exception": false,
     "start_time": "2025-02-10T15:19:12.364322",
     "status": "completed"
    },
    "tags": []
   },
   "outputs": [],
   "source": [
    "def barbell_operation(wires_1, wires_2):\n",
    "  '''\n",
    "  swap Q to second register group\n",
    "  '''\n",
    "  for i, j in zip(wires_1, wires_2):\n",
    "    qml.SWAP(wires=[i,j])"
   ]
  },
  {
   "cell_type": "code",
   "execution_count": 9,
   "id": "fc4575b6",
   "metadata": {
    "execution": {
     "iopub.execute_input": "2025-02-10T15:19:12.396735Z",
     "iopub.status.busy": "2025-02-10T15:19:12.396249Z",
     "iopub.status.idle": "2025-02-10T15:19:12.401974Z",
     "shell.execute_reply": "2025-02-10T15:19:12.400734Z"
    },
    "id": "NmCq3kW7ct4E",
    "papermill": {
     "duration": 0.01678,
     "end_time": "2025-02-10T15:19:12.404167",
     "exception": false,
     "start_time": "2025-02-10T15:19:12.387387",
     "status": "completed"
    },
    "tags": []
   },
   "outputs": [],
   "source": [
    "def QLS_module(wires_control_1, wires_control_2, wires_result):\n",
    "  for i, j, k in zip(wires_control_1, wires_control_2, wires_result):\n",
    "    qml.Toffoli(wires=[i,j,k])\n",
    "  for i in range(len(wires_result)-2):\n",
    "    qml.CNOT(wires=[wires_result[i],wires_result[i+1]])"
   ]
  },
  {
   "cell_type": "code",
   "execution_count": 10,
   "id": "6b74bfb2",
   "metadata": {
    "execution": {
     "iopub.execute_input": "2025-02-10T15:19:12.420336Z",
     "iopub.status.busy": "2025-02-10T15:19:12.419922Z",
     "iopub.status.idle": "2025-02-10T15:19:12.424500Z",
     "shell.execute_reply": "2025-02-10T15:19:12.423510Z"
    },
    "id": "utSeMaEAdBmB",
    "outputId": "7eeb8e85-3cee-437e-90a1-008a2eee9fd3",
    "papermill": {
     "duration": 0.014641,
     "end_time": "2025-02-10T15:19:12.426339",
     "exception": false,
     "start_time": "2025-02-10T15:19:12.411698",
     "status": "completed"
    },
    "tags": []
   },
   "outputs": [],
   "source": [
    "def multicontrol_slice(wires_qls, wires_q):\n",
    "  for i in wires_q:\n",
    "    qml.MultiControlledX(wires=[*wires_qls,i])\n",
    "# print(qml.draw(multicontrol_slice)([12,13,14,15], [0,1,2,3]))"
   ]
  },
  {
   "cell_type": "code",
   "execution_count": 11,
   "id": "f076b4d8",
   "metadata": {
    "execution": {
     "iopub.execute_input": "2025-02-10T15:19:12.443516Z",
     "iopub.status.busy": "2025-02-10T15:19:12.443139Z",
     "iopub.status.idle": "2025-02-10T15:19:12.448301Z",
     "shell.execute_reply": "2025-02-10T15:19:12.447163Z"
    },
    "papermill": {
     "duration": 0.015484,
     "end_time": "2025-02-10T15:19:12.450172",
     "exception": false,
     "start_time": "2025-02-10T15:19:12.434688",
     "status": "completed"
    },
    "tags": []
   },
   "outputs": [],
   "source": [
    "def swap_test_layer(wires_1, wires_2, controll_wires):\n",
    "    qml.H(wires=controll_wires)\n",
    "    for w1, w2 in zip(wires_1, wires_2):\n",
    "        qml.CSWAP(wires=[controll_wires,w1,w2])\n",
    "    qml.H(wires=controll_wires)"
   ]
  },
  {
   "cell_type": "code",
   "execution_count": 12,
   "id": "fe7b147f",
   "metadata": {
    "execution": {
     "iopub.execute_input": "2025-02-10T15:19:12.467853Z",
     "iopub.status.busy": "2025-02-10T15:19:12.467447Z",
     "iopub.status.idle": "2025-02-10T15:19:12.475586Z",
     "shell.execute_reply": "2025-02-10T15:19:12.474467Z"
    },
    "id": "UYCqcjbzdy_y",
    "papermill": {
     "duration": 0.019081,
     "end_time": "2025-02-10T15:19:12.477390",
     "exception": false,
     "start_time": "2025-02-10T15:19:12.458309",
     "status": "completed"
    },
    "tags": []
   },
   "outputs": [],
   "source": [
    "# define circuit and start train and implement\n",
    "@qml.qnode(dev)\n",
    "def full_circuit(x, weights,parameters, num_layers=1):\n",
    "  '''\n",
    "  weight = [theta_q, theta_k, theta_v]\n",
    "  3x4\n",
    "  theta_q: 4x1\n",
    "  theta_k: 4x1\n",
    "  theta_v: 4x1\n",
    "\n",
    "  '''\n",
    "  state_preparation(f=x)\n",
    "  # step 1: prepare Q\n",
    "  combine_unitary_embedding(number_layer=num_layers, theta_list=weights[0])\n",
    "  # step 2: swap Q and register\n",
    "  wires_1 = [0,1,2,3]\n",
    "  wires_2 = [4,5,6,7]\n",
    "  barbell_operation(wires_1, wires_2)\n",
    "\n",
    "  # step 3: prepare K\n",
    "  combine_unitary_embedding(number_layer=num_layers, theta_list=weights[1])\n",
    "\n",
    "  # step 4: swap K\n",
    "  wires_1 = [0,1,2,3]\n",
    "  wires_2 = [8,9,10,11]\n",
    "  barbell_operation(wires_1, wires_2)\n",
    "\n",
    "  # step 5: QLS Module\n",
    "  wires_control_1, wires_control_2, wires_result = [0,1,2,3], [4,5,6,7], [12,13,14,15]\n",
    "  QLS_module(wires_control_1, wires_control_2, wires_result)\n",
    "\n",
    "\n",
    "  #step 6: prepare V\n",
    "  combine_unitary_embedding(number_layer=num_layers, theta_list=weights[2])\n",
    "\n",
    "  # step 7: the entanglement compression operation\n",
    "  # do nothing if n == 1\n",
    "\n",
    "  # step 8: slicing operation\n",
    "  wires_qls, wires_q = [12,13,14,15], [4,5,6,7]\n",
    "  multicontrol_slice(wires_qls, wires_q)\n",
    "\n",
    "  # step 8.2: swap test operation\n",
    "  # wires_qls, wires_q = [12,13,14,15], [0,1,2,3]\n",
    "  # controll_qubit = 16\n",
    "  # swap_test_layer(wires_qls, wires_q, controll_qubit)\n",
    "  # step8.3: another QNN\n",
    "  qml.StronglyEntanglingLayers(weights=parameters, wires=range(8))\n",
    "  # step 9: meseaurement\n",
    "  observable = qml.PauliZ(0)\n",
    "  return qml.expval(observable)"
   ]
  },
  {
   "cell_type": "code",
   "execution_count": 13,
   "id": "6e5f6079",
   "metadata": {
    "execution": {
     "iopub.execute_input": "2025-02-10T15:19:12.494205Z",
     "iopub.status.busy": "2025-02-10T15:19:12.493809Z",
     "iopub.status.idle": "2025-02-10T15:19:12.501694Z",
     "shell.execute_reply": "2025-02-10T15:19:12.500479Z"
    },
    "papermill": {
     "duration": 0.018428,
     "end_time": "2025-02-10T15:19:12.503561",
     "exception": false,
     "start_time": "2025-02-10T15:19:12.485133",
     "status": "completed"
    },
    "tags": []
   },
   "outputs": [
    {
     "name": "stdout",
     "output_type": "stream",
     "text": [
      "(16, 8, 3)\n"
     ]
    }
   ],
   "source": [
    "# test circuit\n",
    "shape = qml.StronglyEntanglingLayers.shape(n_layers=16, n_wires=8)\n",
    "parameters = np.random.random(size=shape)\n",
    "print(parameters.shape)\n",
    "n_layers = 1\n",
    "weights = 0.01 * np.random.randn(3,n_layers,4, requires_grad=True)\n",
    "params = (weights, parameters)"
   ]
  },
  {
   "cell_type": "code",
   "execution_count": 14,
   "id": "694eae17",
   "metadata": {
    "execution": {
     "iopub.execute_input": "2025-02-10T15:19:12.520288Z",
     "iopub.status.busy": "2025-02-10T15:19:12.519909Z",
     "iopub.status.idle": "2025-02-10T15:19:12.524559Z",
     "shell.execute_reply": "2025-02-10T15:19:12.523285Z"
    },
    "papermill": {
     "duration": 0.015206,
     "end_time": "2025-02-10T15:19:12.526329",
     "exception": false,
     "start_time": "2025-02-10T15:19:12.511123",
     "status": "completed"
    },
    "tags": []
   },
   "outputs": [],
   "source": [
    "X_batch = X\n",
    "Y_batch = Y\n",
    "X_test_batch = X_test\n",
    "Y_test_batch = Y_test"
   ]
  },
  {
   "cell_type": "markdown",
   "id": "209ff96c",
   "metadata": {
    "id": "nxeZNr8QqsNy",
    "papermill": {
     "duration": 0.007601,
     "end_time": "2025-02-10T15:19:12.541683",
     "exception": false,
     "start_time": "2025-02-10T15:19:12.534082",
     "status": "completed"
    },
    "tags": []
   },
   "source": [
    "<h1> Cost Function and Opimizer </h1>"
   ]
  },
  {
   "cell_type": "code",
   "execution_count": 15,
   "id": "d75e3ee1",
   "metadata": {
    "execution": {
     "iopub.execute_input": "2025-02-10T15:19:12.557449Z",
     "iopub.status.busy": "2025-02-10T15:19:12.557083Z",
     "iopub.status.idle": "2025-02-10T15:19:12.563155Z",
     "shell.execute_reply": "2025-02-10T15:19:12.562153Z"
    },
    "id": "rKOPEtF0iKhj",
    "papermill": {
     "duration": 0.015911,
     "end_time": "2025-02-10T15:19:12.564862",
     "exception": false,
     "start_time": "2025-02-10T15:19:12.548951",
     "status": "completed"
    },
    "tags": []
   },
   "outputs": [],
   "source": [
    "def accuracy(labels, predictions):\n",
    "    acc = sum(abs(l - p) < 1e-5 for l, p in zip(labels, predictions))\n",
    "    acc = acc / len(labels)\n",
    "    return acc\n",
    "    \n",
    "def cost(*args, **kwargs):\n",
    "    # Extract the parameters and data from *args and **kwargs\n",
    "    weights = args[0]  # Assuming the first argument is the parameters (usually a NumPy array)\n",
    "    parameters = args[1]\n",
    "    X = kwargs.get('X', None)  # Get X from kwargs, default to None if not provided\n",
    "    Y = kwargs.get('Y', None)  # Get Y from kwargs, default to None if not provided\n",
    "    predictions = [full_circuit(x=x, weights=weights,parameters=parameters) for x in X]\n",
    "    return np.mean((Y - qml.math.stack(predictions)) ** 2)"
   ]
  },
  {
   "cell_type": "code",
   "execution_count": 16,
   "id": "a2d4b754",
   "metadata": {
    "execution": {
     "iopub.execute_input": "2025-02-10T15:19:12.581190Z",
     "iopub.status.busy": "2025-02-10T15:19:12.580806Z",
     "iopub.status.idle": "2025-02-10T15:19:12.586199Z",
     "shell.execute_reply": "2025-02-10T15:19:12.585080Z"
    },
    "papermill": {
     "duration": 0.015467,
     "end_time": "2025-02-10T15:19:12.587870",
     "exception": false,
     "start_time": "2025-02-10T15:19:12.572403",
     "status": "completed"
    },
    "tags": []
   },
   "outputs": [
    {
     "name": "stdout",
     "output_type": "stream",
     "text": [
      "50\n",
      "50\n",
      "30\n",
      "30\n"
     ]
    }
   ],
   "source": [
    "print(len(X))\n",
    "print(len(Y))\n",
    "print(len(X_test))\n",
    "print(len(Y_test))"
   ]
  },
  {
   "cell_type": "code",
   "execution_count": 17,
   "id": "a16cf64c",
   "metadata": {
    "execution": {
     "iopub.execute_input": "2025-02-10T15:19:12.604933Z",
     "iopub.status.busy": "2025-02-10T15:19:12.604516Z",
     "iopub.status.idle": "2025-02-10T15:19:12.612416Z",
     "shell.execute_reply": "2025-02-10T15:19:12.611223Z"
    },
    "papermill": {
     "duration": 0.018814,
     "end_time": "2025-02-10T15:19:12.614073",
     "exception": false,
     "start_time": "2025-02-10T15:19:12.595259",
     "status": "completed"
    },
    "tags": []
   },
   "outputs": [],
   "source": [
    "import matplotlib.pyplot as plt\n",
    "def draw_result(current_cost_list,acc_list,test_acc_list,epoch,lrate,n_layers=1):\n",
    "    fig, axs = plt.subplots(3, 1, figsize=(12, 10))\n",
    "    axs[0].plot(epoch, current_cost_list,label=f'loss_{lrate}')\n",
    "    axs[0].set_title(f'Loss {n_layers}')\n",
    "    axs[0].set_xlabel('Epoch')  # Set x-axis label\n",
    "    axs[0].set_ylabel('Cost Function')  # Set y-axis label\n",
    "    axs[0].legend()\n",
    "    axs[1].plot(epoch, acc_list, label=f'train_acc_{lrate}')\n",
    "    axs[1].set_title(f'Train acc {n_layers}')\n",
    "    axs[1].set_xlabel('Epoch')  # Set x-axis label\n",
    "    axs[1].set_ylabel('Train Accuraccy')  # Set y-axis label\n",
    "    axs[1].legend()\n",
    "    axs[2].plot(epoch, test_acc_list,label=f'test_acc_{lrate}')\n",
    "    axs[2].set_title(f'Test acc {n_layers}')\n",
    "    axs[2].set_xlabel('Epoch')  # Set x-axis label\n",
    "    axs[2].set_ylabel('Test Accuraccy')  # Set y-axis label\n",
    "    axs[2].legend()\n",
    "    fig.subplots_adjust(hspace=0.5)\n",
    "    fig.tight_layout()\n",
    "    plt.show()\n",
    "    fig.savefig(f\"/kaggle/working/chart_nlayer{n_layers}_lrate{lrate}.png\")"
   ]
  },
  {
   "cell_type": "code",
   "execution_count": 18,
   "id": "7cbe7be7",
   "metadata": {
    "execution": {
     "iopub.execute_input": "2025-02-10T15:19:12.631219Z",
     "iopub.status.busy": "2025-02-10T15:19:12.630826Z",
     "iopub.status.idle": "2025-02-10T15:19:12.637218Z",
     "shell.execute_reply": "2025-02-10T15:19:12.636119Z"
    },
    "papermill": {
     "duration": 0.017467,
     "end_time": "2025-02-10T15:19:12.639056",
     "exception": false,
     "start_time": "2025-02-10T15:19:12.621589",
     "status": "completed"
    },
    "tags": []
   },
   "outputs": [],
   "source": [
    "def make_drop_out_parameter(parameter, drop_rate):\n",
    "    '''\n",
    "    caculate gradient based on dropped gate\n",
    "    update gradient without dropped gate\n",
    "    update on true parameter\n",
    "    '''\n",
    "    param_shape = parameter.shape\n",
    "    total_elem = param_shape[0] * param_shape[1]\n",
    "    num_selected = int(drop_rate * total_elem)  # 30% of 64 = 19\n",
    "    \n",
    "    # Flatten the matrix, randomly select 19 indices\n",
    "    flat_indices = np.random.choice(total_elem, num_selected, replace=False)\n",
    "    \n",
    "    # Create a mask of zeros and set selected positions to 1\n",
    "    index_matrix = np.zeros(total_elem, dtype=bool)\n",
    "    index_matrix[flat_indices] = True\n",
    "    index_matrix = index_matrix.reshape(param_shape[0], param_shape[1])  # Reshape back to 8×8\n",
    "    masked_matrix = np.ones(param_shape, dtype=int)  # Initialize with zeros\n",
    "    masked_matrix[index_matrix,:] = 0  # Set every second row to 1\n",
    "    dropped_param = parameter * masked_matrix\n",
    "    return dropped_param, masked_matrix"
   ]
  },
  {
   "cell_type": "code",
   "execution_count": 19,
   "id": "cbf6b2b4",
   "metadata": {
    "execution": {
     "iopub.execute_input": "2025-02-10T15:19:12.656249Z",
     "iopub.status.busy": "2025-02-10T15:19:12.655882Z",
     "iopub.status.idle": "2025-02-10T15:19:12.664329Z",
     "shell.execute_reply": "2025-02-10T15:19:12.663300Z"
    },
    "papermill": {
     "duration": 0.018739,
     "end_time": "2025-02-10T15:19:12.666141",
     "exception": false,
     "start_time": "2025-02-10T15:19:12.647402",
     "status": "completed"
    },
    "tags": []
   },
   "outputs": [
    {
     "data": {
      "text/plain": [
       "tensor([[[ 0.00842014,  0.01375249, -0.01879557, -0.00176564]],\n",
       "\n",
       "        [[-0.00781752, -0.0056475 , -0.00624811,  0.00493283]],\n",
       "\n",
       "        [[ 0.00577577, -0.00680839, -0.00321331,  0.01998903]]], requires_grad=True)"
      ]
     },
     "execution_count": 19,
     "metadata": {},
     "output_type": "execute_result"
    }
   ],
   "source": [
    "params[0]"
   ]
  },
  {
   "cell_type": "code",
   "execution_count": 20,
   "id": "100a4981",
   "metadata": {
    "execution": {
     "iopub.execute_input": "2025-02-10T15:19:12.682890Z",
     "iopub.status.busy": "2025-02-10T15:19:12.682472Z",
     "iopub.status.idle": "2025-02-10T15:19:33.194103Z",
     "shell.execute_reply": "2025-02-10T15:19:33.192943Z"
    },
    "papermill": {
     "duration": 20.522303,
     "end_time": "2025-02-10T15:19:33.196299",
     "exception": false,
     "start_time": "2025-02-10T15:19:12.673996",
     "status": "completed"
    },
    "tags": []
   },
   "outputs": [],
   "source": [
    "current_cost = cost(params[0],params[1], X=X, Y=Y)"
   ]
  },
  {
   "cell_type": "code",
   "execution_count": 21,
   "id": "e21bc60e",
   "metadata": {
    "execution": {
     "iopub.execute_input": "2025-02-10T15:19:33.213252Z",
     "iopub.status.busy": "2025-02-10T15:19:33.212899Z",
     "iopub.status.idle": "2025-02-10T21:49:53.979349Z",
     "shell.execute_reply": "2025-02-10T21:49:53.978110Z"
    },
    "id": "GPXyMxbnsbXv",
    "outputId": "918de71a-c54e-4f74-d877-f6b1bb0e6aed",
    "papermill": {
     "duration": 23420.778882,
     "end_time": "2025-02-10T21:49:53.983002",
     "exception": false,
     "start_time": "2025-02-10T15:19:33.204120",
     "status": "completed"
    },
    "tags": []
   },
   "outputs": [
    {
     "name": "stdout",
     "output_type": "stream",
     "text": [
      "number layers: 1\n",
      "Iter:    1 | Cost: 0.9993256 | Accuracy: 0.4800000 | Test Accuracy: 0.6333333 | Run Time: 162.2651608\n",
      "Iter:    2 | Cost: 0.9987886 | Accuracy: 0.4600000 | Test Accuracy: 0.5000000 | Run Time: 145.9147451\n",
      "Iter:    3 | Cost: 1.0060446 | Accuracy: 0.4800000 | Test Accuracy: 0.6000000 | Run Time: 163.4763694\n",
      "Iter:    4 | Cost: 0.9996500 | Accuracy: 0.5000000 | Test Accuracy: 0.5000000 | Run Time: 139.3938704\n",
      "Iter:    5 | Cost: 1.0011393 | Accuracy: 0.4400000 | Test Accuracy: 0.5333333 | Run Time: 149.8765159\n",
      "Iter:    6 | Cost: 1.0009244 | Accuracy: 0.4600000 | Test Accuracy: 0.5333333 | Run Time: 157.0675519\n",
      "Iter:    7 | Cost: 0.9976271 | Accuracy: 0.4800000 | Test Accuracy: 0.4000000 | Run Time: 159.3437784\n",
      "Iter:    8 | Cost: 0.9980748 | Accuracy: 0.5200000 | Test Accuracy: 0.5333333 | Run Time: 146.2490287\n",
      "Iter:    9 | Cost: 1.0038182 | Accuracy: 0.4400000 | Test Accuracy: 0.5333333 | Run Time: 148.0285723\n",
      "Iter:   10 | Cost: 0.9844938 | Accuracy: 0.6400000 | Test Accuracy: 0.4333333 | Run Time: 160.4444239\n",
      "Iter:   11 | Cost: 0.9957039 | Accuracy: 0.6400000 | Test Accuracy: 0.5666667 | Run Time: 156.5414410\n",
      "Iter:   12 | Cost: 0.9654312 | Accuracy: 0.7000000 | Test Accuracy: 0.6333333 | Run Time: 151.5160334\n",
      "Iter:   13 | Cost: 0.9758442 | Accuracy: 0.6800000 | Test Accuracy: 0.6666667 | Run Time: 148.5088625\n",
      "Iter:   14 | Cost: 0.9489990 | Accuracy: 0.8400000 | Test Accuracy: 0.6000000 | Run Time: 165.3916872\n",
      "Iter:   15 | Cost: 0.9525379 | Accuracy: 0.7800000 | Test Accuracy: 0.4666667 | Run Time: 159.9774334\n",
      "Iter:   16 | Cost: 0.9342209 | Accuracy: 0.8600000 | Test Accuracy: 0.3666667 | Run Time: 161.5214639\n",
      "Iter:   17 | Cost: 0.9333425 | Accuracy: 0.8800000 | Test Accuracy: 0.5000000 | Run Time: 158.2288218\n",
      "Iter:   18 | Cost: 0.9079905 | Accuracy: 0.9800000 | Test Accuracy: 0.5000000 | Run Time: 175.8739319\n",
      "Iter:   19 | Cost: 0.9063782 | Accuracy: 0.9600000 | Test Accuracy: 0.4666667 | Run Time: 161.5874927\n",
      "Iter:   20 | Cost: 0.8970412 | Accuracy: 0.9000000 | Test Accuracy: 0.5000000 | Run Time: 153.6938028\n",
      "Iter:   21 | Cost: 0.8904256 | Accuracy: 0.9400000 | Test Accuracy: 0.5000000 | Run Time: 149.3655665\n",
      "Iter:   22 | Cost: 0.8561067 | Accuracy: 0.9000000 | Test Accuracy: 0.5000000 | Run Time: 170.1522272\n",
      "Iter:   23 | Cost: 0.8596648 | Accuracy: 0.9600000 | Test Accuracy: 0.5000000 | Run Time: 159.0246620\n",
      "Iter:   24 | Cost: 0.8422608 | Accuracy: 0.9800000 | Test Accuracy: 0.5000000 | Run Time: 150.0195434\n",
      "Iter:   25 | Cost: 0.8339949 | Accuracy: 0.9200000 | Test Accuracy: 0.4666667 | Run Time: 143.9378176\n",
      "Iter:   26 | Cost: 0.8298899 | Accuracy: 0.9600000 | Test Accuracy: 0.5000000 | Run Time: 160.8539364\n",
      "Iter:   27 | Cost: 0.8208116 | Accuracy: 0.9600000 | Test Accuracy: 0.4666667 | Run Time: 153.1358943\n",
      "Iter:   28 | Cost: 0.8117289 | Accuracy: 0.9600000 | Test Accuracy: 0.4666667 | Run Time: 151.6265211\n",
      "Iter:   29 | Cost: 0.7991022 | Accuracy: 0.9600000 | Test Accuracy: 0.4666667 | Run Time: 147.9784994\n",
      "Iter:   30 | Cost: 0.7965122 | Accuracy: 0.9400000 | Test Accuracy: 0.5000000 | Run Time: 158.5367348\n",
      "Iter:   31 | Cost: 0.7872976 | Accuracy: 0.9600000 | Test Accuracy: 0.4666667 | Run Time: 159.6609385\n",
      "Iter:   32 | Cost: 0.7800527 | Accuracy: 0.9600000 | Test Accuracy: 0.4666667 | Run Time: 149.3019671\n",
      "Iter:   33 | Cost: 0.7736609 | Accuracy: 0.9800000 | Test Accuracy: 0.5000000 | Run Time: 145.7727504\n",
      "Iter:   34 | Cost: 0.7678948 | Accuracy: 0.9800000 | Test Accuracy: 0.5000000 | Run Time: 159.4284117\n",
      "Iter:   35 | Cost: 0.7686203 | Accuracy: 1.0000000 | Test Accuracy: 0.5000000 | Run Time: 156.0256314\n",
      "Iter:   36 | Cost: 0.7616712 | Accuracy: 0.9800000 | Test Accuracy: 0.5000000 | Run Time: 145.7111850\n",
      "Iter:   37 | Cost: 0.7550439 | Accuracy: 0.9800000 | Test Accuracy: 0.5000000 | Run Time: 147.0778854\n",
      "Iter:   38 | Cost: 0.7536851 | Accuracy: 0.9800000 | Test Accuracy: 0.5000000 | Run Time: 159.6210883\n",
      "Iter:   39 | Cost: 0.7495559 | Accuracy: 0.9600000 | Test Accuracy: 0.4666667 | Run Time: 165.6742597\n",
      "Iter:   40 | Cost: 0.7451975 | Accuracy: 0.9400000 | Test Accuracy: 0.5000000 | Run Time: 151.1830323\n",
      "Iter:   41 | Cost: 0.7373167 | Accuracy: 0.9600000 | Test Accuracy: 0.5333333 | Run Time: 152.1034892\n",
      "Iter:   42 | Cost: 0.7390169 | Accuracy: 0.9800000 | Test Accuracy: 0.5000000 | Run Time: 163.5755279\n",
      "Iter:   43 | Cost: 0.7352261 | Accuracy: 0.9800000 | Test Accuracy: 0.5000000 | Run Time: 158.0659120\n",
      "Iter:   44 | Cost: 0.7367167 | Accuracy: 1.0000000 | Test Accuracy: 0.5000000 | Run Time: 154.1644261\n",
      "Iter:   45 | Cost: 0.7300764 | Accuracy: 0.9600000 | Test Accuracy: 0.5333333 | Run Time: 150.3907125\n",
      "Iter:   46 | Cost: 0.7245916 | Accuracy: 0.9600000 | Test Accuracy: 0.5333333 | Run Time: 166.1217535\n",
      "Iter:   47 | Cost: 0.7194588 | Accuracy: 0.9800000 | Test Accuracy: 0.5333333 | Run Time: 156.6057827\n",
      "Iter:   48 | Cost: 0.7179616 | Accuracy: 0.9600000 | Test Accuracy: 0.5333333 | Run Time: 145.3043556\n",
      "Iter:   49 | Cost: 0.7174229 | Accuracy: 0.9600000 | Test Accuracy: 0.5333333 | Run Time: 147.5882812\n",
      "Iter:   50 | Cost: 0.7155851 | Accuracy: 0.9600000 | Test Accuracy: 0.5333333 | Run Time: 159.7264423\n",
      "Iter:   51 | Cost: 0.7131901 | Accuracy: 0.9600000 | Test Accuracy: 0.5333333 | Run Time: 156.6682527\n",
      "Iter:   52 | Cost: 0.7097293 | Accuracy: 0.9800000 | Test Accuracy: 0.5000000 | Run Time: 148.7503426\n",
      "Iter:   53 | Cost: 0.7082410 | Accuracy: 0.9800000 | Test Accuracy: 0.5000000 | Run Time: 149.2507696\n",
      "Iter:   54 | Cost: 0.7077671 | Accuracy: 0.9800000 | Test Accuracy: 0.5000000 | Run Time: 164.2170048\n",
      "Iter:   55 | Cost: 0.7040378 | Accuracy: 0.9800000 | Test Accuracy: 0.5000000 | Run Time: 157.2033820\n",
      "Iter:   56 | Cost: 0.7052499 | Accuracy: 0.9800000 | Test Accuracy: 0.5000000 | Run Time: 148.8264492\n",
      "Iter:   57 | Cost: 0.7039964 | Accuracy: 0.9600000 | Test Accuracy: 0.5333333 | Run Time: 148.4669881\n",
      "Iter:   58 | Cost: 0.7045486 | Accuracy: 0.9800000 | Test Accuracy: 0.5000000 | Run Time: 162.6087849\n",
      "Iter:   59 | Cost: 0.7071145 | Accuracy: 0.9800000 | Test Accuracy: 0.5000000 | Run Time: 160.6435406\n",
      "Iter:   60 | Cost: 0.7158312 | Accuracy: 0.9800000 | Test Accuracy: 0.5000000 | Run Time: 149.5049822\n",
      "Iter:   61 | Cost: 0.7274856 | Accuracy: 0.9600000 | Test Accuracy: 0.5333333 | Run Time: 147.6936986\n",
      "Iter:   62 | Cost: 0.7226087 | Accuracy: 0.9600000 | Test Accuracy: 0.5333333 | Run Time: 162.8705270\n",
      "Iter:   63 | Cost: 0.7088920 | Accuracy: 0.9600000 | Test Accuracy: 0.5333333 | Run Time: 171.3699222\n",
      "Iter:   64 | Cost: 0.7066731 | Accuracy: 0.9800000 | Test Accuracy: 0.5000000 | Run Time: 154.7582731\n",
      "Iter:   65 | Cost: 0.7117822 | Accuracy: 0.9800000 | Test Accuracy: 0.5000000 | Run Time: 152.2803526\n",
      "Iter:   66 | Cost: 0.7138916 | Accuracy: 0.9800000 | Test Accuracy: 0.5000000 | Run Time: 170.2708249\n",
      "Iter:   67 | Cost: 0.7076516 | Accuracy: 0.9800000 | Test Accuracy: 0.5000000 | Run Time: 158.7598381\n",
      "Iter:   68 | Cost: 0.7036462 | Accuracy: 0.9800000 | Test Accuracy: 0.5000000 | Run Time: 151.2418168\n",
      "Iter:   69 | Cost: 0.7056320 | Accuracy: 0.9800000 | Test Accuracy: 0.5000000 | Run Time: 149.3765328\n",
      "Iter:   70 | Cost: 0.7052697 | Accuracy: 0.9800000 | Test Accuracy: 0.5000000 | Run Time: 163.5825529\n",
      "Iter:   71 | Cost: 0.7020270 | Accuracy: 0.9800000 | Test Accuracy: 0.5000000 | Run Time: 155.1060073\n",
      "Iter:   72 | Cost: 0.7031642 | Accuracy: 0.9800000 | Test Accuracy: 0.5000000 | Run Time: 148.3483183\n",
      "Iter:   73 | Cost: 0.7034660 | Accuracy: 0.9800000 | Test Accuracy: 0.5000000 | Run Time: 147.5080690\n",
      "Iter:   74 | Cost: 0.7017902 | Accuracy: 0.9800000 | Test Accuracy: 0.5000000 | Run Time: 166.6524417\n",
      "Iter:   75 | Cost: 0.7005664 | Accuracy: 0.9800000 | Test Accuracy: 0.5000000 | Run Time: 157.0465996\n",
      "Iter:   76 | Cost: 0.6982756 | Accuracy: 0.9800000 | Test Accuracy: 0.5000000 | Run Time: 157.5329487\n",
      "Iter:   77 | Cost: 0.7002030 | Accuracy: 0.9800000 | Test Accuracy: 0.5000000 | Run Time: 147.3467898\n",
      "Iter:   78 | Cost: 0.6953058 | Accuracy: 0.9800000 | Test Accuracy: 0.5000000 | Run Time: 165.8695183\n",
      "Iter:   79 | Cost: 0.6952386 | Accuracy: 0.9800000 | Test Accuracy: 0.5000000 | Run Time: 155.8398385\n",
      "Iter:   80 | Cost: 0.6965460 | Accuracy: 0.9800000 | Test Accuracy: 0.5000000 | Run Time: 147.0549698\n",
      "Iter:   81 | Cost: 0.6951935 | Accuracy: 0.9800000 | Test Accuracy: 0.5000000 | Run Time: 151.3055968\n",
      "Iter:   82 | Cost: 0.6918905 | Accuracy: 0.9800000 | Test Accuracy: 0.5000000 | Run Time: 160.6380055\n",
      "Iter:   83 | Cost: 0.6917655 | Accuracy: 0.9800000 | Test Accuracy: 0.5000000 | Run Time: 155.6818728\n",
      "Iter:   84 | Cost: 0.6963971 | Accuracy: 0.9800000 | Test Accuracy: 0.5000000 | Run Time: 148.0187063\n",
      "Iter:   85 | Cost: 0.6964699 | Accuracy: 0.9800000 | Test Accuracy: 0.5000000 | Run Time: 144.9920685\n",
      "Iter:   86 | Cost: 0.6982236 | Accuracy: 0.9600000 | Test Accuracy: 0.4666667 | Run Time: 171.2727847\n",
      "Iter:   87 | Cost: 0.6963789 | Accuracy: 0.9600000 | Test Accuracy: 0.5000000 | Run Time: 168.9564097\n",
      "Iter:   88 | Cost: 0.6933250 | Accuracy: 0.9400000 | Test Accuracy: 0.4666667 | Run Time: 154.3523457\n",
      "Iter:   89 | Cost: 0.6883710 | Accuracy: 0.9800000 | Test Accuracy: 0.5000000 | Run Time: 153.9974577\n",
      "Iter:   90 | Cost: 0.6857009 | Accuracy: 0.9800000 | Test Accuracy: 0.5000000 | Run Time: 170.7817638\n",
      "Iter:   91 | Cost: 0.6862715 | Accuracy: 0.9600000 | Test Accuracy: 0.5000000 | Run Time: 160.5532713\n",
      "Iter:   92 | Cost: 0.6882488 | Accuracy: 0.9800000 | Test Accuracy: 0.5000000 | Run Time: 150.7795546\n",
      "Iter:   93 | Cost: 0.6906963 | Accuracy: 0.9600000 | Test Accuracy: 0.4666667 | Run Time: 150.1421835\n",
      "Iter:   94 | Cost: 0.6919121 | Accuracy: 0.9800000 | Test Accuracy: 0.5000000 | Run Time: 160.8117712\n",
      "Iter:   95 | Cost: 0.6934153 | Accuracy: 0.9600000 | Test Accuracy: 0.5000000 | Run Time: 156.7646799\n",
      "Iter:   96 | Cost: 0.6938276 | Accuracy: 0.9600000 | Test Accuracy: 0.5000000 | Run Time: 164.6469357\n",
      "Iter:   97 | Cost: 0.6926328 | Accuracy: 0.9600000 | Test Accuracy: 0.5000000 | Run Time: 149.7287061\n",
      "Iter:   98 | Cost: 0.6912540 | Accuracy: 0.9800000 | Test Accuracy: 0.5000000 | Run Time: 166.2999547\n",
      "Iter:   99 | Cost: 0.6907441 | Accuracy: 0.9600000 | Test Accuracy: 0.5000000 | Run Time: 157.8289542\n",
      "Iter:  100 | Cost: 0.6897377 | Accuracy: 0.9600000 | Test Accuracy: 0.5000000 | Run Time: 148.8822813\n",
      "Iter:  101 | Cost: 0.6896257 | Accuracy: 0.9600000 | Test Accuracy: 0.5000000 | Run Time: 153.2461455\n",
      "Iter:  102 | Cost: 0.6898528 | Accuracy: 0.9800000 | Test Accuracy: 0.5000000 | Run Time: 160.6384618\n",
      "Iter:  103 | Cost: 0.6906998 | Accuracy: 0.9800000 | Test Accuracy: 0.5000000 | Run Time: 155.2215574\n",
      "Iter:  104 | Cost: 0.6906902 | Accuracy: 0.9600000 | Test Accuracy: 0.5000000 | Run Time: 148.3165607\n",
      "Iter:  105 | Cost: 0.6866491 | Accuracy: 0.9800000 | Test Accuracy: 0.5000000 | Run Time: 146.4088943\n",
      "Iter:  106 | Cost: 0.6857326 | Accuracy: 0.9600000 | Test Accuracy: 0.5000000 | Run Time: 163.4184847\n",
      "Iter:  107 | Cost: 0.6887760 | Accuracy: 0.9600000 | Test Accuracy: 0.4666667 | Run Time: 168.6568058\n",
      "Iter:  108 | Cost: 0.6937779 | Accuracy: 0.9800000 | Test Accuracy: 0.5000000 | Run Time: 151.7248502\n",
      "Iter:  109 | Cost: 0.6939764 | Accuracy: 0.9600000 | Test Accuracy: 0.4666667 | Run Time: 161.1304288\n",
      "Iter:  110 | Cost: 0.6908134 | Accuracy: 0.9800000 | Test Accuracy: 0.5000000 | Run Time: 167.0367444\n",
      "Iter:  111 | Cost: 0.6864915 | Accuracy: 0.9600000 | Test Accuracy: 0.4666667 | Run Time: 164.4614966\n",
      "Iter:  112 | Cost: 0.6835642 | Accuracy: 0.9800000 | Test Accuracy: 0.5000000 | Run Time: 155.6860311\n",
      "Iter:  113 | Cost: 0.6865782 | Accuracy: 0.9800000 | Test Accuracy: 0.5000000 | Run Time: 173.3386815\n",
      "Iter:  114 | Cost: 0.6912633 | Accuracy: 0.9800000 | Test Accuracy: 0.5000000 | Run Time: 168.3473983\n",
      "Iter:  115 | Cost: 0.6959663 | Accuracy: 0.9600000 | Test Accuracy: 0.5000000 | Run Time: 157.9381657\n",
      "Iter:  116 | Cost: 0.6984366 | Accuracy: 0.9800000 | Test Accuracy: 0.5000000 | Run Time: 151.7420208\n",
      "Iter:  117 | Cost: 0.6990553 | Accuracy: 0.9800000 | Test Accuracy: 0.5000000 | Run Time: 151.5719466\n",
      "Iter:  118 | Cost: 0.7000081 | Accuracy: 0.9800000 | Test Accuracy: 0.5000000 | Run Time: 164.3449788\n",
      "Iter:  119 | Cost: 0.7027656 | Accuracy: 0.9800000 | Test Accuracy: 0.5000000 | Run Time: 157.1033592\n",
      "Iter:  120 | Cost: 0.6987567 | Accuracy: 0.9600000 | Test Accuracy: 0.5000000 | Run Time: 149.8841858\n",
      "Iter:  121 | Cost: 0.6913372 | Accuracy: 0.9800000 | Test Accuracy: 0.5000000 | Run Time: 148.1453810\n",
      "Iter:  122 | Cost: 0.6896818 | Accuracy: 0.9800000 | Test Accuracy: 0.5000000 | Run Time: 177.9811542\n",
      "Iter:  123 | Cost: 0.6933752 | Accuracy: 0.9800000 | Test Accuracy: 0.5000000 | Run Time: 163.4888361\n",
      "Iter:  124 | Cost: 0.6962286 | Accuracy: 0.9800000 | Test Accuracy: 0.5000000 | Run Time: 148.5437806\n",
      "Iter:  125 | Cost: 0.6952248 | Accuracy: 0.9800000 | Test Accuracy: 0.5000000 | Run Time: 148.4619310\n",
      "Iter:  126 | Cost: 0.6934385 | Accuracy: 0.9800000 | Test Accuracy: 0.5000000 | Run Time: 164.4927316\n",
      "Iter:  127 | Cost: 0.6926689 | Accuracy: 0.9800000 | Test Accuracy: 0.5000000 | Run Time: 156.2527971\n",
      "Iter:  128 | Cost: 0.6936510 | Accuracy: 0.9600000 | Test Accuracy: 0.4666667 | Run Time: 148.8423233\n",
      "Iter:  129 | Cost: 0.6894649 | Accuracy: 0.9800000 | Test Accuracy: 0.5000000 | Run Time: 147.2709978\n",
      "Iter:  130 | Cost: 0.6837068 | Accuracy: 0.9800000 | Test Accuracy: 0.5000000 | Run Time: 161.7384686\n",
      "Iter:  131 | Cost: 0.6843399 | Accuracy: 0.9800000 | Test Accuracy: 0.5000000 | Run Time: 162.3460009\n",
      "Iter:  132 | Cost: 0.6910119 | Accuracy: 0.9800000 | Test Accuracy: 0.5000000 | Run Time: 155.4790378\n",
      "Iter:  133 | Cost: 0.6915696 | Accuracy: 0.9800000 | Test Accuracy: 0.5000000 | Run Time: 152.9660988\n",
      "Iter:  134 | Cost: 0.6881709 | Accuracy: 0.9800000 | Test Accuracy: 0.5000000 | Run Time: 164.7847583\n",
      "Iter:  135 | Cost: 0.6891201 | Accuracy: 0.9800000 | Test Accuracy: 0.5000000 | Run Time: 162.6504433\n",
      "Iter:  136 | Cost: 0.6898973 | Accuracy: 0.9800000 | Test Accuracy: 0.5000000 | Run Time: 147.8086598\n",
      "Iter:  137 | Cost: 0.6876715 | Accuracy: 0.9800000 | Test Accuracy: 0.5000000 | Run Time: 151.7976298\n",
      "Iter:  138 | Cost: 0.6876587 | Accuracy: 0.9800000 | Test Accuracy: 0.5000000 | Run Time: 164.1539812\n",
      "Iter:  139 | Cost: 0.6896934 | Accuracy: 0.9800000 | Test Accuracy: 0.5000000 | Run Time: 166.7989783\n",
      "Iter:  140 | Cost: 0.6891879 | Accuracy: 0.9800000 | Test Accuracy: 0.5000000 | Run Time: 149.4243729\n",
      "Iter:  141 | Cost: 0.6902266 | Accuracy: 0.9800000 | Test Accuracy: 0.5000000 | Run Time: 146.7435770\n",
      "Iter:  142 | Cost: 0.6939813 | Accuracy: 0.9800000 | Test Accuracy: 0.5000000 | Run Time: 160.5026031\n",
      "Iter:  143 | Cost: 0.6944937 | Accuracy: 0.9800000 | Test Accuracy: 0.5000000 | Run Time: 157.8196836\n",
      "Iter:  144 | Cost: 0.6919217 | Accuracy: 0.9800000 | Test Accuracy: 0.5000000 | Run Time: 145.2353592\n",
      "Iter:  145 | Cost: 0.6907148 | Accuracy: 0.9800000 | Test Accuracy: 0.5000000 | Run Time: 143.8538973\n",
      "Iter:  146 | Cost: 0.6863547 | Accuracy: 0.9800000 | Test Accuracy: 0.5000000 | Run Time: 160.8328323\n",
      "Iter:  147 | Cost: 0.6840667 | Accuracy: 0.9800000 | Test Accuracy: 0.5000000 | Run Time: 156.2530210\n",
      "Iter:  148 | Cost: 0.6862324 | Accuracy: 0.9800000 | Test Accuracy: 0.5000000 | Run Time: 143.5994363\n",
      "Iter:  149 | Cost: 0.6862809 | Accuracy: 0.9800000 | Test Accuracy: 0.5000000 | Run Time: 145.1318691\n",
      "Iter:  150 | Cost: 0.6865825 | Accuracy: 0.9800000 | Test Accuracy: 0.5000000 | Run Time: 159.8784833\n"
     ]
    },
    {
     "data": {
      "image/png": "[encoded data removed]",
      "text/plain": [
       "<Figure size 1200x1000 with 3 Axes>"
      ]
     },
     "metadata": {},
     "output_type": "display_data"
    },
    {
     "name": "stdout",
     "output_type": "stream",
     "text": [
      "[[[ 2.21933183 -0.65789921 -1.72098498 -2.40641778]]\n",
      "\n",
      " [[-0.00781752 -0.00564751 -0.00624811  0.00493283]]\n",
      "\n",
      " [[-0.03572624  2.02765343 -0.47590028 -3.52823227]]]\n"
     ]
    }
   ],
   "source": [
    "import time\n",
    "learning_rate = [0.5]\n",
    "num_layers = [1]\n",
    "for n_layers in num_layers:\n",
    "    lrate = 0.5\n",
    "    print(\"number layers:\", n_layers)\n",
    "\n",
    "    opt = AdamOptimizer(stepsize=lrate)\n",
    "    current_cost_list = []\n",
    "    acc_list = []\n",
    "    test_acc_list = []\n",
    "    epoch = []\n",
    "    for it in range(150):\n",
    "        start_time = time.time()\n",
    "        # apply drop out\n",
    "        dropped_parameters, masked_matrix = make_drop_out_parameter(params[1], 0.0)\n",
    "        dropped_params = (params[0], dropped_parameters)\n",
    "        gradient_value, current_cost = opt.compute_grad(objective_fn=cost, args=dropped_params, kwargs={\"X\": X, \"Y\": Y})\n",
    "        dropped_gradient = (gradient_value[0], gradient_value[1] * masked_matrix)\n",
    "        params = opt.apply_grad(grad=dropped_gradient, args=params)\n",
    "        current_cost = cost(params[0],params[1], X=X, Y=Y)\n",
    "        current_cost_list.append(current_cost)\n",
    "        weights = params[0]\n",
    "        parameters = params[1]\n",
    "        # Compute accuracy on train\n",
    "        predictions = [np.sign(full_circuit(x,weights,parameters=parameters,num_layers=n_layers)) for x in X_batch]\n",
    "        acc = accuracy(Y_batch, predictions)\n",
    "        acc_list.append(acc)\n",
    "        \n",
    "        # Compute accuracy on test\n",
    "        predictions_test = [np.sign(full_circuit(x,weights,parameters=parameters, num_layers=n_layers)) for x in X_test_batch]\n",
    "        test_acc = accuracy(Y_test_batch, predictions)\n",
    "        test_acc_list.append(test_acc)\n",
    "        epoch.append(it)\n",
    "        \n",
    "        # Redraw the updated plot\n",
    "        end_time = time.time() - start_time\n",
    "        print(f\"Iter: {it+1:4d} | Cost: {current_cost:0.7f} | Accuracy: {acc:0.7f} | Test Accuracy: {test_acc:0.7f} | Run Time: {end_time:0.7f}\")   \n",
    "    draw_result(current_cost_list,acc_list,test_acc_list,epoch,lrate,n_layers)\n",
    "    print(weights)"
   ]
  },
  {
   "cell_type": "code",
   "execution_count": 22,
   "id": "261c79ba",
   "metadata": {
    "execution": {
     "iopub.execute_input": "2025-02-10T21:49:54.026211Z",
     "iopub.status.busy": "2025-02-10T21:49:54.025849Z",
     "iopub.status.idle": "2025-02-10T21:50:06.273023Z",
     "shell.execute_reply": "2025-02-10T21:50:06.271736Z"
    },
    "id": "flb82L4ZBY6x",
    "papermill": {
     "duration": 12.270805,
     "end_time": "2025-02-10T21:50:06.275023",
     "exception": false,
     "start_time": "2025-02-10T21:49:54.004218",
     "status": "completed"
    },
    "tags": []
   },
   "outputs": [
    {
     "name": "stdout",
     "output_type": "stream",
     "text": [
      "Final test, accuracy_test: 0.5\n"
     ]
    }
   ],
   "source": [
    "# Compute accuracy\n",
    "weights = params[0]\n",
    "parameters = params[1]\n",
    "predictions = [np.sign(full_circuit(x,weights,parameters, 1)) for x in X_test]\n",
    "acc = accuracy(Y_test, predictions)\n",
    "print(f\"Final test, accuracy_test: {acc}\")"
   ]
  }
 ],
 "metadata": {
  "colab": {
   "provenance": []
  },
  "kaggle": {
   "accelerator": "none",
   "dataSources": [
    {
     "datasetId": 6593060,
     "sourceId": 10648027,
     "sourceType": "datasetVersion"
    }
   ],
   "dockerImageVersionId": 30886,
   "isGpuEnabled": false,
   "isInternetEnabled": true,
   "language": "python",
   "sourceType": "notebook"
  },
  "kernelspec": {
   "display_name": "Python 3",
   "language": "python",
   "name": "python3"
  },
  "language_info": {
   "codemirror_mode": {
    "name": "ipython",
    "version": 3
   },
   "file_extension": ".py",
   "mimetype": "text/x-python",
   "name": "python",
   "nbconvert_exporter": "python",
   "pygments_lexer": "ipython3",
   "version": "3.10.12"
  },
  "papermill": {
   "default_parameters": {},
   "duration": 23491.659805,
   "end_time": "2025-02-10T21:50:09.087697",
   "environment_variables": {},
   "exception": null,
   "input_path": "__notebook__.ipynb",
   "output_path": "__notebook__.ipynb",
   "parameters": {},
   "start_time": "2025-02-10T15:18:37.427892",
   "version": "2.6.0"
  }
 },
 "nbformat": 4,
 "nbformat_minor": 5
}
