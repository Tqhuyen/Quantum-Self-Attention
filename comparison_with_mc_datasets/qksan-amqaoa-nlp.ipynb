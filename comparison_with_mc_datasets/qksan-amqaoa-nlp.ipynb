{
 "cells": [
  {
   "cell_type": "code",
   "execution_count": 1,
   "id": "9eaa23b2",
   "metadata": {
    "execution": {
     "iopub.execute_input": "2025-04-29T03:28:48.105645Z",
     "iopub.status.busy": "2025-04-29T03:28:48.105126Z",
     "iopub.status.idle": "2025-04-29T03:28:58.762143Z",
     "shell.execute_reply": "2025-04-29T03:28:58.760231Z"
    },
    "id": "fFqvK319LrYK",
    "outputId": "7a236944-aeb9-42e1-8ea9-4f5a4d6a23ec",
    "papermill": {
     "duration": 10.670516,
     "end_time": "2025-04-29T03:28:58.764422",
     "exception": false,
     "start_time": "2025-04-29T03:28:48.093906",
     "status": "completed"
    },
    "tags": []
   },
   "outputs": [
    {
     "name": "stdout",
     "output_type": "stream",
     "text": [
      "Collecting pennylane\r\n",
      "  Downloading PennyLane-0.41.0-py3-none-any.whl.metadata (10 kB)\r\n",
      "Requirement already satisfied: numpy in /usr/local/lib/python3.10/dist-packages (from pennylane) (1.26.4)\r\n",
      "Requirement already satisfied: scipy in /usr/local/lib/python3.10/dist-packages (from pennylane) (1.13.1)\r\n",
      "Requirement already satisfied: networkx in /usr/local/lib/python3.10/dist-packages (from pennylane) (3.4.2)\r\n",
      "Collecting rustworkx>=0.14.0 (from pennylane)\r\n",
      "  Downloading rustworkx-0.16.0-cp39-abi3-manylinux_2_17_x86_64.manylinux2014_x86_64.whl.metadata (10 kB)\r\n",
      "Requirement already satisfied: autograd in /usr/local/lib/python3.10/dist-packages (from pennylane) (1.7.0)\r\n",
      "Collecting tomlkit (from pennylane)\r\n",
      "  Downloading tomlkit-0.13.2-py3-none-any.whl.metadata (2.7 kB)\r\n",
      "Collecting appdirs (from pennylane)\r\n",
      "  Downloading appdirs-1.4.4-py2.py3-none-any.whl.metadata (9.0 kB)\r\n",
      "Collecting autoray>=0.6.11 (from pennylane)\r\n",
      "  Downloading autoray-0.7.1-py3-none-any.whl.metadata (5.8 kB)\r\n",
      "Requirement already satisfied: cachetools in /usr/local/lib/python3.10/dist-packages (from pennylane) (5.5.0)\r\n",
      "Collecting pennylane-lightning>=0.41 (from pennylane)\r\n",
      "  Downloading pennylane_lightning-0.41.0-cp310-cp310-manylinux_2_28_x86_64.whl.metadata (28 kB)\r\n",
      "Requirement already satisfied: requests in /usr/local/lib/python3.10/dist-packages (from pennylane) (2.32.3)\r\n",
      "Requirement already satisfied: typing-extensions in /usr/local/lib/python3.10/dist-packages (from pennylane) (4.12.2)\r\n",
      "Requirement already satisfied: packaging in /usr/local/lib/python3.10/dist-packages (from pennylane) (24.2)\r\n",
      "Collecting diastatic-malt (from pennylane)\r\n",
      "  Downloading diastatic_malt-2.15.2-py3-none-any.whl.metadata (2.6 kB)\r\n",
      "Collecting scipy-openblas32>=0.3.26 (from pennylane-lightning>=0.41->pennylane)\r\n",
      "  Downloading scipy_openblas32-0.3.29.0.0-py3-none-manylinux_2_17_x86_64.manylinux2014_x86_64.whl.metadata (56 kB)\r\n",
      "\u001b[2K     \u001b[90m━━━━━━━━━━━━━━━━━━━━━━━━━━━━━━━━━━━━━━━━\u001b[0m \u001b[32m56.1/56.1 kB\u001b[0m \u001b[31m2.9 MB/s\u001b[0m eta \u001b[36m0:00:00\u001b[0m\r\n",
      "\u001b[?25hRequirement already satisfied: mkl_fft in /usr/local/lib/python3.10/dist-packages (from numpy->pennylane) (1.3.8)\r\n",
      "Requirement already satisfied: mkl_random in /usr/local/lib/python3.10/dist-packages (from numpy->pennylane) (1.2.4)\r\n",
      "Requirement already satisfied: mkl_umath in /usr/local/lib/python3.10/dist-packages (from numpy->pennylane) (0.1.1)\r\n",
      "Requirement already satisfied: mkl in /usr/local/lib/python3.10/dist-packages (from numpy->pennylane) (2025.0.1)\r\n",
      "Requirement already satisfied: tbb4py in /usr/local/lib/python3.10/dist-packages (from numpy->pennylane) (2022.0.0)\r\n",
      "Requirement already satisfied: mkl-service in /usr/local/lib/python3.10/dist-packages (from numpy->pennylane) (2.4.1)\r\n",
      "Requirement already satisfied: astunparse in /usr/local/lib/python3.10/dist-packages (from diastatic-malt->pennylane) (1.6.3)\r\n",
      "Requirement already satisfied: gast in /usr/local/lib/python3.10/dist-packages (from diastatic-malt->pennylane) (0.6.0)\r\n",
      "Requirement already satisfied: termcolor in /usr/local/lib/python3.10/dist-packages (from diastatic-malt->pennylane) (2.5.0)\r\n",
      "Requirement already satisfied: charset-normalizer<4,>=2 in /usr/local/lib/python3.10/dist-packages (from requests->pennylane) (3.4.1)\r\n",
      "Requirement already satisfied: idna<4,>=2.5 in /usr/local/lib/python3.10/dist-packages (from requests->pennylane) (3.10)\r\n",
      "Requirement already satisfied: urllib3<3,>=1.21.1 in /usr/local/lib/python3.10/dist-packages (from requests->pennylane) (2.3.0)\r\n",
      "Requirement already satisfied: certifi>=2017.4.17 in /usr/local/lib/python3.10/dist-packages (from requests->pennylane) (2025.1.31)\r\n",
      "Requirement already satisfied: wheel<1.0,>=0.23.0 in /usr/local/lib/python3.10/dist-packages (from astunparse->diastatic-malt->pennylane) (0.45.1)\r\n",
      "Requirement already satisfied: six<2.0,>=1.6.1 in /usr/local/lib/python3.10/dist-packages (from astunparse->diastatic-malt->pennylane) (1.17.0)\r\n",
      "Requirement already satisfied: intel-openmp>=2024 in /usr/local/lib/python3.10/dist-packages (from mkl->numpy->pennylane) (2024.2.0)\r\n",
      "Requirement already satisfied: tbb==2022.* in /usr/local/lib/python3.10/dist-packages (from mkl->numpy->pennylane) (2022.0.0)\r\n",
      "Requirement already satisfied: tcmlib==1.* in /usr/local/lib/python3.10/dist-packages (from tbb==2022.*->mkl->numpy->pennylane) (1.2.0)\r\n",
      "Requirement already satisfied: intel-cmplr-lib-rt in /usr/local/lib/python3.10/dist-packages (from mkl_umath->numpy->pennylane) (2024.2.0)\r\n",
      "Requirement already satisfied: intel-cmplr-lib-ur==2024.2.0 in /usr/local/lib/python3.10/dist-packages (from intel-openmp>=2024->mkl->numpy->pennylane) (2024.2.0)\r\n",
      "Downloading PennyLane-0.41.0-py3-none-any.whl (2.3 MB)\r\n",
      "\u001b[2K   \u001b[90m━━━━━━━━━━━━━━━━━━━━━━━━━━━━━━━━━━━━━━━━\u001b[0m \u001b[32m2.3/2.3 MB\u001b[0m \u001b[31m28.3 MB/s\u001b[0m eta \u001b[36m0:00:00\u001b[0m\r\n",
      "\u001b[?25hDownloading autoray-0.7.1-py3-none-any.whl (930 kB)\r\n",
      "\u001b[2K   \u001b[90m━━━━━━━━━━━━━━━━━━━━━━━━━━━━━━━━━━━━━━━━\u001b[0m \u001b[32m930.8/930.8 kB\u001b[0m \u001b[31m32.7 MB/s\u001b[0m eta \u001b[36m0:00:00\u001b[0m\r\n",
      "\u001b[?25hDownloading pennylane_lightning-0.41.0-cp310-cp310-manylinux_2_28_x86_64.whl (2.5 MB)\r\n",
      "\u001b[2K   \u001b[90m━━━━━━━━━━━━━━━━━━━━━━━━━━━━━━━━━━━━━━━━\u001b[0m \u001b[32m2.5/2.5 MB\u001b[0m \u001b[31m52.3 MB/s\u001b[0m eta \u001b[36m0:00:00\u001b[0m\r\n",
      "\u001b[?25hDownloading rustworkx-0.16.0-cp39-abi3-manylinux_2_17_x86_64.manylinux2014_x86_64.whl (2.1 MB)\r\n",
      "\u001b[2K   \u001b[90m━━━━━━━━━━━━━━━━━━━━━━━━━━━━━━━━━━━━━━━━\u001b[0m \u001b[32m2.1/2.1 MB\u001b[0m \u001b[31m49.3 MB/s\u001b[0m eta \u001b[36m0:00:00\u001b[0m\r\n",
      "\u001b[?25hDownloading appdirs-1.4.4-py2.py3-none-any.whl (9.6 kB)\r\n",
      "Downloading diastatic_malt-2.15.2-py3-none-any.whl (167 kB)\r\n",
      "\u001b[2K   \u001b[90m━━━━━━━━━━━━━━━━━━━━━━━━━━━━━━━━━━━━━━━━\u001b[0m \u001b[32m167.9/167.9 kB\u001b[0m \u001b[31m8.6 MB/s\u001b[0m eta \u001b[36m0:00:00\u001b[0m\r\n",
      "\u001b[?25hDownloading tomlkit-0.13.2-py3-none-any.whl (37 kB)\r\n",
      "Downloading scipy_openblas32-0.3.29.0.0-py3-none-manylinux_2_17_x86_64.manylinux2014_x86_64.whl (8.6 MB)\r\n",
      "\u001b[2K   \u001b[90m━━━━━━━━━━━━━━━━━━━━━━━━━━━━━━━━━━━━━━━━\u001b[0m \u001b[32m8.6/8.6 MB\u001b[0m \u001b[31m76.9 MB/s\u001b[0m eta \u001b[36m0:00:00\u001b[0m\r\n",
      "\u001b[?25hInstalling collected packages: appdirs, tomlkit, scipy-openblas32, autoray, diastatic-malt, rustworkx, pennylane-lightning, pennylane\r\n",
      "Successfully installed appdirs-1.4.4 autoray-0.7.1 diastatic-malt-2.15.2 pennylane-0.41.0 pennylane-lightning-0.41.0 rustworkx-0.16.0 scipy-openblas32-0.3.29.0.0 tomlkit-0.13.2\r\n"
     ]
    }
   ],
   "source": [
    "!pip install pennylane --upgrade"
   ]
  },
  {
   "cell_type": "code",
   "execution_count": 2,
   "id": "5f98fedd",
   "metadata": {
    "execution": {
     "iopub.execute_input": "2025-04-29T03:28:58.779972Z",
     "iopub.status.busy": "2025-04-29T03:28:58.779378Z",
     "iopub.status.idle": "2025-04-29T03:29:04.407811Z",
     "shell.execute_reply": "2025-04-29T03:29:04.406492Z"
    },
    "id": "FFJK-CEdMV_k",
    "papermill": {
     "duration": 5.637828,
     "end_time": "2025-04-29T03:29:04.409784",
     "exception": false,
     "start_time": "2025-04-29T03:28:58.771956",
     "status": "completed"
    },
    "tags": []
   },
   "outputs": [],
   "source": [
    "import pennylane as qml\n",
    "from pennylane import numpy as np\n",
    "from pennylane.optimize import NesterovMomentumOptimizer,GradientDescentOptimizer"
   ]
  },
  {
   "cell_type": "code",
   "execution_count": 3,
   "id": "dc10c059",
   "metadata": {
    "execution": {
     "iopub.execute_input": "2025-04-29T03:29:04.423990Z",
     "iopub.status.busy": "2025-04-29T03:29:04.423294Z",
     "iopub.status.idle": "2025-04-29T03:29:04.429183Z",
     "shell.execute_reply": "2025-04-29T03:29:04.428082Z"
    },
    "id": "smb0Dy5CN7yB",
    "papermill": {
     "duration": 0.014888,
     "end_time": "2025-04-29T03:29:04.430994",
     "exception": false,
     "start_time": "2025-04-29T03:29:04.416106",
     "status": "completed"
    },
    "tags": []
   },
   "outputs": [],
   "source": [
    "dev = qml.device(\"default.qubit\", wires=8)"
   ]
  },
  {
   "cell_type": "code",
   "execution_count": 4,
   "id": "b6fb5f9a",
   "metadata": {
    "execution": {
     "iopub.execute_input": "2025-04-29T03:29:04.444965Z",
     "iopub.status.busy": "2025-04-29T03:29:04.444486Z",
     "iopub.status.idle": "2025-04-29T03:29:04.450184Z",
     "shell.execute_reply": "2025-04-29T03:29:04.449022Z"
    },
    "id": "qUYC1E6rRtBI",
    "papermill": {
     "duration": 0.015401,
     "end_time": "2025-04-29T03:29:04.452641",
     "exception": false,
     "start_time": "2025-04-29T03:29:04.437240",
     "status": "completed"
    },
    "tags": []
   },
   "outputs": [],
   "source": [
    "def amplitude_encoding(x, wires):\n",
    "  qml.AmplitudeEmbedding(features=x, wires=wires, normalize=True)\n",
    "\n",
    "def amplitude_encoding_inverse(x, wires):\n",
    "  qml.adjoint(qml.AmplitudeEmbedding)(features=x, wires=wires, normalize=True)"
   ]
  },
  {
   "cell_type": "code",
   "execution_count": 5,
   "id": "b60e8ee2",
   "metadata": {
    "execution": {
     "iopub.execute_input": "2025-04-29T03:29:04.466711Z",
     "iopub.status.busy": "2025-04-29T03:29:04.466257Z",
     "iopub.status.idle": "2025-04-29T03:29:04.478448Z",
     "shell.execute_reply": "2025-04-29T03:29:04.477083Z"
    },
    "id": "PbL9i9kJUnl5",
    "outputId": "2b9e13ff-ce49-46a4-cd6b-bfc0f114c476",
    "papermill": {
     "duration": 0.021227,
     "end_time": "2025-04-29T03:29:04.480297",
     "exception": false,
     "start_time": "2025-04-29T03:29:04.459070",
     "status": "completed"
    },
    "tags": []
   },
   "outputs": [
    {
     "name": "stdout",
     "output_type": "stream",
     "text": [
      "0: ──H──RY(1.00)─╭●───────────╭●─────────────────────────────────╭●───────────╭●─┤  \n",
      "1: ──H──RY(2.00)─╰X──RZ(5.00)─╰X─╭●───────────╭●─────────────────│────────────│──┤  \n",
      "2: ──H──RY(3.00)─────────────────╰X──RZ(6.00)─╰X─╭●───────────╭●─│────────────│──┤  \n",
      "3: ──H──RY(4.00)─────────────────────────────────╰X──RZ(7.00)─╰X─╰X──RZ(8.00)─╰X─┤  \n"
     ]
    }
   ],
   "source": [
    "def qaoa_ansatz(number_qubit,start_wire, theta):\n",
    "  '''\n",
    "  theta_size = 2n\n",
    "  start_wires = 0 or 4\n",
    "  '''\n",
    "\n",
    "  for i in range(number_qubit):\n",
    "    qml.H(wires=[i+start_wire])\n",
    "    qml.RY(theta[i], wires=[i+start_wire])\n",
    "  for i in range(number_qubit):\n",
    "    c = i\n",
    "    if c == number_qubit-1:\n",
    "      f = number_qubit-1\n",
    "      c = 0\n",
    "    else:\n",
    "      f = c+1\n",
    "    qml.CNOT(wires=[c+start_wire,f+start_wire])\n",
    "    qml.RZ(theta[number_qubit+i], wires=[f+start_wire])\n",
    "    qml.CNOT(wires=[c+start_wire,f+start_wire])\n",
    "print(qml.draw(qaoa_ansatz)(4,0, [1,2,3,4,5,6,7,8]))\n"
   ]
  },
  {
   "cell_type": "code",
   "execution_count": 6,
   "id": "121e4033",
   "metadata": {
    "execution": {
     "iopub.execute_input": "2025-04-29T03:29:04.494430Z",
     "iopub.status.busy": "2025-04-29T03:29:04.494069Z",
     "iopub.status.idle": "2025-04-29T03:29:04.502371Z",
     "shell.execute_reply": "2025-04-29T03:29:04.501177Z"
    },
    "id": "pl9ghVmZFmiw",
    "outputId": "fd5bdc09-08d9-44a4-99cd-9c3351365f4c",
    "papermill": {
     "duration": 0.017566,
     "end_time": "2025-04-29T03:29:04.504339",
     "exception": false,
     "start_time": "2025-04-29T03:29:04.486773",
     "status": "completed"
    },
    "tags": []
   },
   "outputs": [
    {
     "name": "stdout",
     "output_type": "stream",
     "text": [
      "0: ──H──RY(1.00)─╭●────────────────────────────╭RY(8.00)─┤  \n",
      "1: ──H──RY(2.00)─╰RY(5.00)─╭●──────────────────│─────────┤  \n",
      "2: ──H──RY(3.00)───────────╰RY(6.00)─╭●────────│─────────┤  \n",
      "3: ──H──RY(4.00)─────────────────────╰RY(7.00)─╰●────────┤  \n"
     ]
    }
   ],
   "source": [
    "def hardware_effificent_ansatz(number_qubit, theta):\n",
    "  '''\n",
    "  theta_size = 2n\n",
    "  '''\n",
    "  for i in range(number_qubit):\n",
    "    qml.H(wires=[i])\n",
    "    qml.RY(theta[i], wires=[i])\n",
    "  for i in range(number_qubit):\n",
    "    c = i\n",
    "    if c == number_qubit-1:\n",
    "      f = 0\n",
    "    else:\n",
    "      f = c+1\n",
    "    qml.CRY(theta[number_qubit+i], wires=[c,f])\n",
    "print(qml.draw(hardware_effificent_ansatz)(4, [1,2,3,4,5,6,7,8]))"
   ]
  },
  {
   "cell_type": "code",
   "execution_count": 7,
   "id": "b7e71b5c",
   "metadata": {
    "execution": {
     "iopub.execute_input": "2025-04-29T03:29:04.518704Z",
     "iopub.status.busy": "2025-04-29T03:29:04.518207Z",
     "iopub.status.idle": "2025-04-29T03:29:04.526910Z",
     "shell.execute_reply": "2025-04-29T03:29:04.525657Z"
    },
    "id": "zTzQ25qrG7lb",
    "papermill": {
     "duration": 0.017939,
     "end_time": "2025-04-29T03:29:04.528763",
     "exception": false,
     "start_time": "2025-04-29T03:29:04.510824",
     "status": "completed"
    },
    "tags": []
   },
   "outputs": [],
   "source": [
    "@qml.qnode(dev)\n",
    "def full_circuit(x, weights):\n",
    "  '''\n",
    "  x: input\n",
    "  weights: [theta1, theta2, theta3, theta4]\n",
    "  '''\n",
    "  # step 1: initial state\n",
    "  # step 2: compute QKSAS\n",
    "  # first register\n",
    "  amplitude_encoding(x=x, wires=range(4))\n",
    "  qaoa_ansatz(number_qubit=4,start_wire=0, theta=weights[0])\n",
    "  # hardware_effificent_ansatz(number_qubit=3, theta=weights[0])  \n",
    "  amplitude_encoding_inverse(x=x, wires=range(4))\n",
    "  # qml.adjoint(hardware_effificent_ansatz)(number_qubit=3, theta=weights[1])\n",
    "  qml.adjoint(qaoa_ansatz)(number_qubit=4,start_wire=0, theta=weights[1])\n",
    "\n",
    "  # second register\n",
    "  amplitude_encoding(x=x, wires=range(4,8))\n",
    "  qaoa_ansatz(number_qubit=4,start_wire=3, theta=weights[2])\n",
    "\n",
    "  # step 3: apply DMP\n",
    "  # measure M1\n",
    "  m_10 = qml.measure(0)\n",
    "  m_11 = qml.measure(1)\n",
    "  m_12 = qml.measure(2)\n",
    "  m_13 = qml.measure(3)  \n",
    "\n",
    "  # conditional with wires 4->7, theta4\n",
    "  qml.cond(m_10, qml.RY)(weights[3][0], wires=4)\n",
    "  qml.cond(m_11, qml.RY)(weights[3][1], wires=5)\n",
    "  qml.cond(m_12, qml.RY)(weights[3][2], wires=6)\n",
    "  qml.cond(m_13, qml.RY)(weights[3][3], wires=7)\n",
    "\n",
    "  # step 4: measure M2 and return\n",
    "  return qml.expval(qml.PauliZ(4) @ qml.PauliZ(5) @ qml.PauliZ(6) @ qml.PauliZ(7))"
   ]
  },
  {
   "cell_type": "code",
   "execution_count": 8,
   "id": "4cefe1be",
   "metadata": {
    "execution": {
     "iopub.execute_input": "2025-04-29T03:29:04.543129Z",
     "iopub.status.busy": "2025-04-29T03:29:04.542740Z",
     "iopub.status.idle": "2025-04-29T03:29:04.548968Z",
     "shell.execute_reply": "2025-04-29T03:29:04.547617Z"
    },
    "id": "8IF6UlIrJAyH",
    "outputId": "fd0c5266-f75b-48fc-f103-66adec9fd51f",
    "papermill": {
     "duration": 0.015926,
     "end_time": "2025-04-29T03:29:04.551089",
     "exception": false,
     "start_time": "2025-04-29T03:29:04.535163",
     "status": "completed"
    },
    "tags": []
   },
   "outputs": [],
   "source": [
    "weights = 0.1 * np.random.randn(4, 8, requires_grad=True)\n",
    "params = (weights,)"
   ]
  },
  {
   "cell_type": "code",
   "execution_count": 9,
   "id": "e29027a1",
   "metadata": {
    "execution": {
     "iopub.execute_input": "2025-04-29T03:29:04.565124Z",
     "iopub.status.busy": "2025-04-29T03:29:04.564726Z",
     "iopub.status.idle": "2025-04-29T03:29:04.571451Z",
     "shell.execute_reply": "2025-04-29T03:29:04.570024Z"
    },
    "id": "qvlod-O2uSxx",
    "papermill": {
     "duration": 0.016324,
     "end_time": "2025-04-29T03:29:04.573783",
     "exception": false,
     "start_time": "2025-04-29T03:29:04.557459",
     "status": "completed"
    },
    "tags": []
   },
   "outputs": [],
   "source": [
    "def accuracy(labels, predictions):\n",
    "    acc = sum(abs(l - p) < 1e-5 for l, p in zip(labels, predictions))\n",
    "    acc = acc / len(labels)\n",
    "    return acc\n",
    "\n",
    "def cost(*args, **kwargs):\n",
    "    # Extract the parameters and data from *args and **kwargs\n",
    "    weights = args[0]  # Assuming the first argument is the parameters (usually a NumPy array)\n",
    "    X = kwargs.get('X', None)  # Get X from kwargs, default to None if not provided\n",
    "    Y = kwargs.get('Y', None)  # Get Y from kwargs, default to None if not provided\n",
    "\n",
    "    predictions = [full_circuit(x=x, weights=weights) for x in X]\n",
    "    return np.mean((Y - qml.math.stack(predictions)) ** 2)"
   ]
  },
  {
   "cell_type": "code",
   "execution_count": 10,
   "id": "73876362",
   "metadata": {
    "execution": {
     "iopub.execute_input": "2025-04-29T03:29:04.589233Z",
     "iopub.status.busy": "2025-04-29T03:29:04.588834Z",
     "iopub.status.idle": "2025-04-29T03:29:20.719641Z",
     "shell.execute_reply": "2025-04-29T03:29:20.718693Z"
    },
    "papermill": {
     "duration": 16.140697,
     "end_time": "2025-04-29T03:29:20.721365",
     "exception": false,
     "start_time": "2025-04-29T03:29:04.580668",
     "status": "completed"
    },
    "tags": []
   },
   "outputs": [
    {
     "name": "stderr",
     "output_type": "stream",
     "text": [
      "/usr/local/lib/python3.10/dist-packages/keras/src/layers/core/embedding.py:90: UserWarning: Argument `input_length` is deprecated. Just remove it.\n",
      "  warnings.warn(\n"
     ]
    },
    {
     "name": "stdout",
     "output_type": "stream",
     "text": [
      "\u001b[1m3/3\u001b[0m \u001b[32m━━━━━━━━━━━━━━━━━━━━\u001b[0m\u001b[37m\u001b[0m \u001b[1m0s\u001b[0m 14ms/step \n",
      "\u001b[1m1/1\u001b[0m \u001b[32m━━━━━━━━━━━━━━━━━━━━\u001b[0m\u001b[37m\u001b[0m \u001b[1m0s\u001b[0m 108ms/step\n",
      "\u001b[1m1/1\u001b[0m \u001b[32m━━━━━━━━━━━━━━━━━━━━\u001b[0m\u001b[37m\u001b[0m \u001b[1m0s\u001b[0m 104ms/step\n"
     ]
    }
   ],
   "source": [
    "#******************************************\n",
    "# Data import\n",
    "#******************************************\n",
    "\n",
    "# import train, dev and test datasets: the data entries are all strings of the form 'label sentence' \n",
    "# with the label in {0,1} and with the sentence of the form \"word1_POStag1 word2_POStag2 ...\"\n",
    "\n",
    "with open('/kaggle/input/mc-and-rp-dataset-for-quantum-computing-qnlp/mc_train_data.txt') as f:\n",
    "    training_data_raw = f.readlines()\n",
    "\n",
    "with open('/kaggle/input/mc-and-rp-dataset-for-quantum-computing-qnlp/mc_dev_data.txt') as f:\n",
    "    dev_data_raw = f.readlines()\n",
    "\n",
    "with open('/kaggle/input/mc-and-rp-dataset-for-quantum-computing-qnlp/mc_test_data.txt') as f:\n",
    "    testing_data_raw = f.readlines()\n",
    "#***************************************************************\n",
    "# Turn the raw input data into data structures convenient below\n",
    "#***************************************************************\n",
    "\n",
    "vocab = dict()          # dictionary to be filled with the vocabulary in the form { word : POStag }\n",
    "data = dict()           # dictionary to be filled with all the data (train, dev and test subsets); entries of the \n",
    "                        # form { sentence : label } with label encoding '1' as [1.0, 0.0] and '0' as [0.0, 1.0]\n",
    "training_data = []      # list of sentences in the train dataset as strings \"word1 word2 ...\"\n",
    "dev_data = []           # list of sentences in the dev dataset as strings \"word1 word2 ...\"\n",
    "testing_data = []       # list of sentences in the test dataset as strings \"word1 word2 ...\"\n",
    "training_data_label = []      # list of sentences in the train dataset as strings \"word1 word2 ...\"\n",
    "dev_data_label = []           # list of sentences in the dev dataset as strings \"word1 word2 ...\"\n",
    "testing_data_label = []\n",
    "# Go through the train data\n",
    "for sent in training_data_raw:\n",
    "    words = sent[2:].split() \n",
    "    sent_untagged = ''\n",
    "    for word in words:\n",
    "        word_untagged, tag = word.split('_')\n",
    "        vocab[word_untagged] = tag\n",
    "        sent_untagged += word_untagged + ' '\n",
    "    sentence = sent_untagged[:-1]\n",
    "    training_data.append(sentence)\n",
    "    label = 1.0 if sent[0] == '1' else -1.0\n",
    "    training_data_label.append(label)\n",
    "\n",
    "# Go through the dev data\n",
    "for sent in dev_data_raw:\n",
    "    words = sent[2:].split() \n",
    "    sent_untagged = ''\n",
    "    for word in words:\n",
    "        word_untagged, tag = word.split('_')\n",
    "        vocab[word_untagged] = tag\n",
    "        sent_untagged += word_untagged + ' '\n",
    "    sentence = sent_untagged[:-1]\n",
    "    dev_data.append(sentence)\n",
    "    label = 1.0 if sent[0] == '1' else -1.0\n",
    "    dev_data_label.append(label)\n",
    "    \n",
    "# Go through the test data\n",
    "for sent in testing_data_raw:\n",
    "    words = sent[2:].split() \n",
    "    sent_untagged = ''\n",
    "    for word in words:\n",
    "        word_untagged, tag = word.split('_')\n",
    "        vocab[word_untagged] = tag\n",
    "        sent_untagged += word_untagged + ' '\n",
    "    sentence = sent_untagged[:-1]\n",
    "    testing_data.append(sentence)\n",
    "    label = 1.0 if sent[0] == '1' else -1.0\n",
    "    testing_data_label.append(label)\n",
    "import tensorflow as tf\n",
    "from tensorflow.keras.preprocessing.text import Tokenizer\n",
    "from tensorflow.keras.preprocessing.sequence import pad_sequences\n",
    "from tensorflow.keras.models import Sequential\n",
    "from tensorflow.keras.layers import Embedding\n",
    "\n",
    "def embedding_sentece(data_list):\n",
    "    sentences = data_list\n",
    "    tokenizer = Tokenizer()\n",
    "    tokenizer.fit_on_texts(sentences)  \n",
    "    word_index = tokenizer.word_index  \n",
    "    vocab_size = len(word_index) + 1  # Số lượng từ vựng (+1 cho padding)\n",
    "    sequences = tokenizer.texts_to_sequences(sentences)\n",
    "\n",
    "    max_length = max(len(seq) for seq in sequences)  # Độ dài tối đa\n",
    "    padded_sequences = pad_sequences(sequences, maxlen=max_length, padding='post')\n",
    "    \n",
    "    embedding_dim = 4  # Chọn số chiều của vector embedding\n",
    "    \n",
    "    model = Sequential([\n",
    "        Embedding(input_dim=vocab_size, output_dim=embedding_dim, input_length=max_length)\n",
    "    ])\n",
    "    \n",
    "    output = model.predict(padded_sequences)\n",
    "    return output\n",
    "X = np.array(embedding_sentece(training_data), dtype='float64')\n",
    "Y = np.array(training_data_label)\n",
    "X_dev = np.array(embedding_sentece(dev_data), dtype='float64')\n",
    "Y_dev = np.array(dev_data_label)\n",
    "X_test = np.array(embedding_sentece(testing_data), dtype='float64')\n",
    "Y_test = np.array(testing_data_label)\n",
    "X = X.reshape(-1,16)\n",
    "X_dev = X_dev.reshape(-1,16)\n",
    "X_test = X_test.reshape(-1,16)"
   ]
  },
  {
   "cell_type": "code",
   "execution_count": 11,
   "id": "054dbeae",
   "metadata": {
    "execution": {
     "iopub.execute_input": "2025-04-29T03:29:20.736919Z",
     "iopub.status.busy": "2025-04-29T03:29:20.736132Z",
     "iopub.status.idle": "2025-04-29T03:29:20.742277Z",
     "shell.execute_reply": "2025-04-29T03:29:20.741257Z"
    },
    "id": "0wEjaLZEwW7l",
    "outputId": "16e78450-b24d-4cd8-e67d-c1dadf4c53aa",
    "papermill": {
     "duration": 0.015533,
     "end_time": "2025-04-29T03:29:20.743946",
     "exception": false,
     "start_time": "2025-04-29T03:29:20.728413",
     "status": "completed"
    },
    "tags": []
   },
   "outputs": [
    {
     "name": "stdout",
     "output_type": "stream",
     "text": [
      "(70, 16)\n",
      "(70,)\n"
     ]
    }
   ],
   "source": [
    "print(X.shape)\n",
    "print(Y.shape)"
   ]
  },
  {
   "cell_type": "code",
   "execution_count": 12,
   "id": "0db2cf68",
   "metadata": {
    "execution": {
     "iopub.execute_input": "2025-04-29T03:29:20.758648Z",
     "iopub.status.busy": "2025-04-29T03:29:20.758236Z",
     "iopub.status.idle": "2025-04-29T03:29:20.762697Z",
     "shell.execute_reply": "2025-04-29T03:29:20.761689Z"
    },
    "papermill": {
     "duration": 0.013528,
     "end_time": "2025-04-29T03:29:20.764294",
     "exception": false,
     "start_time": "2025-04-29T03:29:20.750766",
     "status": "completed"
    },
    "tags": []
   },
   "outputs": [],
   "source": [
    "X_batch = X\n",
    "Y_batch = Y\n",
    "X_test_batch = X_dev\n",
    "Y_test_batch = Y_dev"
   ]
  },
  {
   "cell_type": "code",
   "execution_count": 13,
   "id": "2518beda",
   "metadata": {
    "execution": {
     "iopub.execute_input": "2025-04-29T03:29:20.779557Z",
     "iopub.status.busy": "2025-04-29T03:29:20.779141Z",
     "iopub.status.idle": "2025-04-29T03:29:20.786508Z",
     "shell.execute_reply": "2025-04-29T03:29:20.785286Z"
    },
    "papermill": {
     "duration": 0.017355,
     "end_time": "2025-04-29T03:29:20.788606",
     "exception": false,
     "start_time": "2025-04-29T03:29:20.771251",
     "status": "completed"
    },
    "tags": []
   },
   "outputs": [
    {
     "name": "stdout",
     "output_type": "stream",
     "text": [
      "70\n",
      "70\n",
      "30\n",
      "30\n",
      "30\n",
      "30\n"
     ]
    }
   ],
   "source": [
    "print(len(X))\n",
    "print(len(Y))\n",
    "print(len(X_dev))\n",
    "print(len(Y_dev))\n",
    "print(len(X_test))\n",
    "print(len(Y_test))"
   ]
  },
  {
   "cell_type": "code",
   "execution_count": 14,
   "id": "65f73fb2",
   "metadata": {
    "execution": {
     "iopub.execute_input": "2025-04-29T03:29:20.803837Z",
     "iopub.status.busy": "2025-04-29T03:29:20.803416Z",
     "iopub.status.idle": "2025-04-29T03:29:20.810972Z",
     "shell.execute_reply": "2025-04-29T03:29:20.809948Z"
    },
    "id": "Z3lUbbMZvHvO",
    "papermill": {
     "duration": 0.017286,
     "end_time": "2025-04-29T03:29:20.812997",
     "exception": false,
     "start_time": "2025-04-29T03:29:20.795711",
     "status": "completed"
    },
    "tags": []
   },
   "outputs": [],
   "source": [
    "import matplotlib.pyplot as plt\n",
    "def draw_result(current_cost_list,acc_list,test_acc_list,epoch,lrate,n_layers=1):\n",
    "    fig, axs = plt.subplots(3, 1, figsize=(12, 10))\n",
    "    axs[0].plot(epoch, current_cost_list,label=f'loss_{lrate}')\n",
    "    axs[0].set_title(f'Loss {n_layers}')\n",
    "    axs[0].set_xlabel('Epoch')  # Set x-axis label\n",
    "    axs[0].set_ylabel('Cost Function')  # Set y-axis label\n",
    "    axs[0].legend()\n",
    "    axs[1].plot(epoch, acc_list, label=f'train_acc_{lrate}')\n",
    "    axs[1].set_title(f'Train acc {n_layers}')\n",
    "    axs[1].set_xlabel('Epoch')  # Set x-axis label\n",
    "    axs[1].set_ylabel('Train Accuraccy')  # Set y-axis label\n",
    "    axs[1].legend()\n",
    "    axs[2].plot(epoch, test_acc_list,label=f'test_acc_{lrate}')\n",
    "    axs[2].set_title(f'Test acc {n_layers}')\n",
    "    axs[2].set_xlabel('Epoch')  # Set x-axis label\n",
    "    axs[2].set_ylabel('Test Accuraccy')  # Set y-axis label\n",
    "    axs[2].legend()\n",
    "    fig.subplots_adjust(hspace=0.5)\n",
    "    fig.tight_layout()\n",
    "    plt.show()\n",
    "    fig.savefig(f\"/kaggle/working/chart_nlayer{n_layers}_lrate{lrate}.png\")"
   ]
  },
  {
   "cell_type": "code",
   "execution_count": 15,
   "id": "481c5057",
   "metadata": {
    "execution": {
     "iopub.execute_input": "2025-04-29T03:29:20.828261Z",
     "iopub.status.busy": "2025-04-29T03:29:20.827913Z",
     "iopub.status.idle": "2025-04-29T04:17:11.215111Z",
     "shell.execute_reply": "2025-04-29T04:17:11.213681Z"
    },
    "id": "JJygIvw0vdgm",
    "outputId": "ee75cb99-b575-4f33-b212-439c68287bff",
    "papermill": {
     "duration": 2870.397097,
     "end_time": "2025-04-29T04:17:11.217049",
     "exception": false,
     "start_time": "2025-04-29T03:29:20.819952",
     "status": "completed"
    },
    "tags": []
   },
   "outputs": [
    {
     "name": "stdout",
     "output_type": "stream",
     "text": [
      "Iter:    1 | Cost: 1.2342875 | Accuracy: 0.4428571 | Test Accuracy: 0.5333333 | Run Time: 19.3522592\n",
      "Iter:    2 | Cost: 1.1990694 | Accuracy: 0.4714286 | Test Accuracy: 0.5666667 | Run Time: 18.6579585\n",
      "Iter:    3 | Cost: 1.1299913 | Accuracy: 0.4714286 | Test Accuracy: 0.6333333 | Run Time: 20.0301011\n",
      "Iter:    4 | Cost: 1.0246550 | Accuracy: 0.5285714 | Test Accuracy: 0.6333333 | Run Time: 19.0194719\n",
      "Iter:    5 | Cost: 0.9119527 | Accuracy: 0.6142857 | Test Accuracy: 0.5333333 | Run Time: 18.9864800\n",
      "Iter:    6 | Cost: 0.8376416 | Accuracy: 0.6857143 | Test Accuracy: 0.4666667 | Run Time: 18.8268805\n",
      "Iter:    7 | Cost: 0.8215344 | Accuracy: 0.7428571 | Test Accuracy: 0.5666667 | Run Time: 18.7477651\n",
      "Iter:    8 | Cost: 0.8290343 | Accuracy: 0.7000000 | Test Accuracy: 0.6000000 | Run Time: 18.4827785\n",
      "Iter:    9 | Cost: 0.8335174 | Accuracy: 0.6714286 | Test Accuracy: 0.6000000 | Run Time: 19.2621691\n",
      "Iter:   10 | Cost: 0.8322539 | Accuracy: 0.6857143 | Test Accuracy: 0.6000000 | Run Time: 18.8756809\n",
      "Iter:   11 | Cost: 0.8274008 | Accuracy: 0.6857143 | Test Accuracy: 0.6333333 | Run Time: 18.9764760\n",
      "Iter:   12 | Cost: 0.8204907 | Accuracy: 0.7000000 | Test Accuracy: 0.6333333 | Run Time: 19.1177077\n",
      "Iter:   13 | Cost: 0.8127420 | Accuracy: 0.7142857 | Test Accuracy: 0.6000000 | Run Time: 18.9457467\n",
      "Iter:   14 | Cost: 0.8050831 | Accuracy: 0.7285714 | Test Accuracy: 0.6000000 | Run Time: 18.8362334\n",
      "Iter:   15 | Cost: 0.7980275 | Accuracy: 0.7285714 | Test Accuracy: 0.5666667 | Run Time: 18.7538247\n",
      "Iter:   16 | Cost: 0.7918593 | Accuracy: 0.7571429 | Test Accuracy: 0.5666667 | Run Time: 18.9944651\n",
      "Iter:   17 | Cost: 0.7866858 | Accuracy: 0.7857143 | Test Accuracy: 0.5666667 | Run Time: 19.0755711\n",
      "Iter:   18 | Cost: 0.7822881 | Accuracy: 0.7857143 | Test Accuracy: 0.5333333 | Run Time: 18.8147082\n",
      "Iter:   19 | Cost: 0.7781252 | Accuracy: 0.7857143 | Test Accuracy: 0.5333333 | Run Time: 18.9685099\n",
      "Iter:   20 | Cost: 0.7736025 | Accuracy: 0.7714286 | Test Accuracy: 0.5333333 | Run Time: 18.6813357\n",
      "Iter:   21 | Cost: 0.7684011 | Accuracy: 0.7571429 | Test Accuracy: 0.5666667 | Run Time: 19.0848906\n",
      "Iter:   22 | Cost: 0.7626729 | Accuracy: 0.7714286 | Test Accuracy: 0.5333333 | Run Time: 18.7341559\n",
      "Iter:   23 | Cost: 0.7570000 | Accuracy: 0.7857143 | Test Accuracy: 0.5000000 | Run Time: 19.2771478\n",
      "Iter:   24 | Cost: 0.7521213 | Accuracy: 0.7714286 | Test Accuracy: 0.5333333 | Run Time: 19.0058739\n",
      "Iter:   25 | Cost: 0.7485778 | Accuracy: 0.7571429 | Test Accuracy: 0.5666667 | Run Time: 19.0246193\n",
      "Iter:   26 | Cost: 0.7464665 | Accuracy: 0.7571429 | Test Accuracy: 0.5666667 | Run Time: 18.8659301\n",
      "Iter:   27 | Cost: 0.7453921 | Accuracy: 0.7428571 | Test Accuracy: 0.5666667 | Run Time: 19.0032139\n",
      "Iter:   28 | Cost: 0.7446358 | Accuracy: 0.7428571 | Test Accuracy: 0.5666667 | Run Time: 18.9446011\n",
      "Iter:   29 | Cost: 0.7434911 | Accuracy: 0.7428571 | Test Accuracy: 0.5666667 | Run Time: 20.8729644\n",
      "Iter:   30 | Cost: 0.7415742 | Accuracy: 0.7428571 | Test Accuracy: 0.5666667 | Run Time: 18.9397199\n",
      "Iter:   31 | Cost: 0.7389209 | Accuracy: 0.7571429 | Test Accuracy: 0.5666667 | Run Time: 19.0816746\n",
      "Iter:   32 | Cost: 0.7358577 | Accuracy: 0.7571429 | Test Accuracy: 0.5666667 | Run Time: 18.7769854\n",
      "Iter:   33 | Cost: 0.7327780 | Accuracy: 0.7714286 | Test Accuracy: 0.5666667 | Run Time: 18.8669386\n",
      "Iter:   34 | Cost: 0.7299658 | Accuracy: 0.7857143 | Test Accuracy: 0.5333333 | Run Time: 19.1192367\n",
      "Iter:   35 | Cost: 0.7275288 | Accuracy: 0.7857143 | Test Accuracy: 0.5333333 | Run Time: 19.3632536\n",
      "Iter:   36 | Cost: 0.7254272 | Accuracy: 0.8000000 | Test Accuracy: 0.5000000 | Run Time: 18.9676926\n",
      "Iter:   37 | Cost: 0.7235431 | Accuracy: 0.8000000 | Test Accuracy: 0.5000000 | Run Time: 18.9646003\n",
      "Iter:   38 | Cost: 0.7217459 | Accuracy: 0.8000000 | Test Accuracy: 0.5000000 | Run Time: 18.7378166\n",
      "Iter:   39 | Cost: 0.7199314 | Accuracy: 0.8142857 | Test Accuracy: 0.4666667 | Run Time: 19.0506968\n",
      "Iter:   40 | Cost: 0.7180351 | Accuracy: 0.8142857 | Test Accuracy: 0.4666667 | Run Time: 18.7751446\n",
      "Iter:   41 | Cost: 0.7160289 | Accuracy: 0.8000000 | Test Accuracy: 0.5000000 | Run Time: 19.4387231\n",
      "Iter:   42 | Cost: 0.7139118 | Accuracy: 0.8000000 | Test Accuracy: 0.5000000 | Run Time: 19.0173681\n",
      "Iter:   43 | Cost: 0.7117017 | Accuracy: 0.8142857 | Test Accuracy: 0.5000000 | Run Time: 18.9716253\n",
      "Iter:   44 | Cost: 0.7094300 | Accuracy: 0.8285714 | Test Accuracy: 0.5000000 | Run Time: 18.9910703\n",
      "Iter:   45 | Cost: 0.7071387 | Accuracy: 0.8285714 | Test Accuracy: 0.5000000 | Run Time: 18.7088776\n",
      "Iter:   46 | Cost: 0.7048780 | Accuracy: 0.8285714 | Test Accuracy: 0.5000000 | Run Time: 18.8343275\n",
      "Iter:   47 | Cost: 0.7027027 | Accuracy: 0.8285714 | Test Accuracy: 0.5000000 | Run Time: 19.5218256\n",
      "Iter:   48 | Cost: 0.7006688 | Accuracy: 0.8285714 | Test Accuracy: 0.5000000 | Run Time: 19.2251399\n",
      "Iter:   49 | Cost: 0.6988285 | Accuracy: 0.8428571 | Test Accuracy: 0.5000000 | Run Time: 19.1782684\n",
      "Iter:   50 | Cost: 0.6972255 | Accuracy: 0.8428571 | Test Accuracy: 0.5000000 | Run Time: 19.0650525\n",
      "Iter:   51 | Cost: 0.6958885 | Accuracy: 0.8428571 | Test Accuracy: 0.5000000 | Run Time: 19.5223968\n",
      "Iter:   52 | Cost: 0.6948262 | Accuracy: 0.8428571 | Test Accuracy: 0.5000000 | Run Time: 18.8719718\n",
      "Iter:   53 | Cost: 0.6940245 | Accuracy: 0.8428571 | Test Accuracy: 0.5000000 | Run Time: 19.2640331\n",
      "Iter:   54 | Cost: 0.6934467 | Accuracy: 0.8428571 | Test Accuracy: 0.5000000 | Run Time: 19.2098246\n",
      "Iter:   55 | Cost: 0.6930388 | Accuracy: 0.8428571 | Test Accuracy: 0.5000000 | Run Time: 19.1081166\n",
      "Iter:   56 | Cost: 0.6927384 | Accuracy: 0.8428571 | Test Accuracy: 0.5000000 | Run Time: 19.0775046\n",
      "Iter:   57 | Cost: 0.6924839 | Accuracy: 0.8428571 | Test Accuracy: 0.5000000 | Run Time: 19.2251403\n",
      "Iter:   58 | Cost: 0.6922242 | Accuracy: 0.8428571 | Test Accuracy: 0.5000000 | Run Time: 18.8072605\n",
      "Iter:   59 | Cost: 0.6919247 | Accuracy: 0.8428571 | Test Accuracy: 0.5000000 | Run Time: 19.3621058\n",
      "Iter:   60 | Cost: 0.6915691 | Accuracy: 0.8428571 | Test Accuracy: 0.5000000 | Run Time: 19.5295298\n",
      "Iter:   61 | Cost: 0.6911587 | Accuracy: 0.8428571 | Test Accuracy: 0.5000000 | Run Time: 19.4141645\n",
      "Iter:   62 | Cost: 0.6907074 | Accuracy: 0.8428571 | Test Accuracy: 0.5000000 | Run Time: 18.8251636\n",
      "Iter:   63 | Cost: 0.6902368 | Accuracy: 0.8428571 | Test Accuracy: 0.5000000 | Run Time: 18.9708831\n",
      "Iter:   64 | Cost: 0.6897699 | Accuracy: 0.8428571 | Test Accuracy: 0.5000000 | Run Time: 18.9393785\n",
      "Iter:   65 | Cost: 0.6893268 | Accuracy: 0.8428571 | Test Accuracy: 0.5000000 | Run Time: 19.5593643\n",
      "Iter:   66 | Cost: 0.6889220 | Accuracy: 0.8428571 | Test Accuracy: 0.5000000 | Run Time: 19.7372332\n",
      "Iter:   67 | Cost: 0.6885633 | Accuracy: 0.8428571 | Test Accuracy: 0.5000000 | Run Time: 19.4922500\n",
      "Iter:   68 | Cost: 0.6882522 | Accuracy: 0.8428571 | Test Accuracy: 0.5000000 | Run Time: 18.7343676\n",
      "Iter:   69 | Cost: 0.6879851 | Accuracy: 0.8428571 | Test Accuracy: 0.5000000 | Run Time: 19.0069528\n",
      "Iter:   70 | Cost: 0.6877556 | Accuracy: 0.8428571 | Test Accuracy: 0.5000000 | Run Time: 18.8673704\n",
      "Iter:   71 | Cost: 0.6875558 | Accuracy: 0.8428571 | Test Accuracy: 0.5000000 | Run Time: 19.1697354\n",
      "Iter:   72 | Cost: 0.6873778 | Accuracy: 0.8428571 | Test Accuracy: 0.5000000 | Run Time: 19.1755025\n",
      "Iter:   73 | Cost: 0.6872151 | Accuracy: 0.8428571 | Test Accuracy: 0.5000000 | Run Time: 19.2486589\n",
      "Iter:   74 | Cost: 0.6870627 | Accuracy: 0.8428571 | Test Accuracy: 0.5000000 | Run Time: 18.7853785\n",
      "Iter:   75 | Cost: 0.6869175 | Accuracy: 0.8428571 | Test Accuracy: 0.5000000 | Run Time: 19.1972892\n",
      "Iter:   76 | Cost: 0.6867779 | Accuracy: 0.8428571 | Test Accuracy: 0.5000000 | Run Time: 18.6558986\n",
      "Iter:   77 | Cost: 0.6866434 | Accuracy: 0.8428571 | Test Accuracy: 0.5000000 | Run Time: 19.3977315\n",
      "Iter:   78 | Cost: 0.6865147 | Accuracy: 0.8428571 | Test Accuracy: 0.5000000 | Run Time: 18.9421999\n",
      "Iter:   79 | Cost: 0.6863926 | Accuracy: 0.8428571 | Test Accuracy: 0.5000000 | Run Time: 19.1692367\n",
      "Iter:   80 | Cost: 0.6862780 | Accuracy: 0.8428571 | Test Accuracy: 0.5000000 | Run Time: 18.6374726\n",
      "Iter:   81 | Cost: 0.6861715 | Accuracy: 0.8428571 | Test Accuracy: 0.5000000 | Run Time: 18.7594402\n",
      "Iter:   82 | Cost: 0.6860735 | Accuracy: 0.8428571 | Test Accuracy: 0.5000000 | Run Time: 18.8091204\n",
      "Iter:   83 | Cost: 0.6859840 | Accuracy: 0.8428571 | Test Accuracy: 0.5000000 | Run Time: 19.1700149\n",
      "Iter:   84 | Cost: 0.6859027 | Accuracy: 0.8428571 | Test Accuracy: 0.5000000 | Run Time: 18.9454689\n",
      "Iter:   85 | Cost: 0.6858288 | Accuracy: 0.8428571 | Test Accuracy: 0.5000000 | Run Time: 19.1674988\n",
      "Iter:   86 | Cost: 0.6857616 | Accuracy: 0.8428571 | Test Accuracy: 0.5000000 | Run Time: 18.7589033\n",
      "Iter:   87 | Cost: 0.6857001 | Accuracy: 0.8428571 | Test Accuracy: 0.5000000 | Run Time: 19.0872748\n",
      "Iter:   88 | Cost: 0.6856435 | Accuracy: 0.8428571 | Test Accuracy: 0.5000000 | Run Time: 18.8766553\n",
      "Iter:   89 | Cost: 0.6855910 | Accuracy: 0.8428571 | Test Accuracy: 0.5000000 | Run Time: 19.0035338\n",
      "Iter:   90 | Cost: 0.6855417 | Accuracy: 0.8428571 | Test Accuracy: 0.5000000 | Run Time: 18.9971385\n",
      "Iter:   91 | Cost: 0.6854952 | Accuracy: 0.8428571 | Test Accuracy: 0.5000000 | Run Time: 19.1916411\n",
      "Iter:   92 | Cost: 0.6854510 | Accuracy: 0.8428571 | Test Accuracy: 0.5000000 | Run Time: 19.1731853\n",
      "Iter:   93 | Cost: 0.6854088 | Accuracy: 0.8428571 | Test Accuracy: 0.5000000 | Run Time: 18.9639394\n",
      "Iter:   94 | Cost: 0.6853684 | Accuracy: 0.8428571 | Test Accuracy: 0.5000000 | Run Time: 19.2049582\n",
      "Iter:   95 | Cost: 0.6853295 | Accuracy: 0.8428571 | Test Accuracy: 0.5000000 | Run Time: 19.1828389\n",
      "Iter:   96 | Cost: 0.6852922 | Accuracy: 0.8428571 | Test Accuracy: 0.5000000 | Run Time: 19.2767482\n",
      "Iter:   97 | Cost: 0.6852561 | Accuracy: 0.8428571 | Test Accuracy: 0.5000000 | Run Time: 20.8055632\n",
      "Iter:   98 | Cost: 0.6852214 | Accuracy: 0.8428571 | Test Accuracy: 0.5000000 | Run Time: 19.9700134\n",
      "Iter:   99 | Cost: 0.6851879 | Accuracy: 0.8428571 | Test Accuracy: 0.5000000 | Run Time: 19.2745371\n",
      "Iter:  100 | Cost: 0.6851556 | Accuracy: 0.8428571 | Test Accuracy: 0.5000000 | Run Time: 19.1365473\n",
      "Iter:  101 | Cost: 0.6851244 | Accuracy: 0.8428571 | Test Accuracy: 0.5000000 | Run Time: 19.4359007\n",
      "Iter:  102 | Cost: 0.6850942 | Accuracy: 0.8428571 | Test Accuracy: 0.5000000 | Run Time: 19.2078094\n",
      "Iter:  103 | Cost: 0.6850649 | Accuracy: 0.8428571 | Test Accuracy: 0.5000000 | Run Time: 19.3640401\n",
      "Iter:  104 | Cost: 0.6850366 | Accuracy: 0.8428571 | Test Accuracy: 0.5000000 | Run Time: 19.2242122\n",
      "Iter:  105 | Cost: 0.6850091 | Accuracy: 0.8428571 | Test Accuracy: 0.5000000 | Run Time: 19.1527557\n",
      "Iter:  106 | Cost: 0.6849826 | Accuracy: 0.8428571 | Test Accuracy: 0.5000000 | Run Time: 18.8638291\n",
      "Iter:  107 | Cost: 0.6849568 | Accuracy: 0.8428571 | Test Accuracy: 0.5000000 | Run Time: 19.2531931\n",
      "Iter:  108 | Cost: 0.6849319 | Accuracy: 0.8428571 | Test Accuracy: 0.5000000 | Run Time: 19.0223165\n",
      "Iter:  109 | Cost: 0.6849077 | Accuracy: 0.8428571 | Test Accuracy: 0.5000000 | Run Time: 19.3097470\n",
      "Iter:  110 | Cost: 0.6848844 | Accuracy: 0.8428571 | Test Accuracy: 0.5000000 | Run Time: 19.2297246\n",
      "Iter:  111 | Cost: 0.6848618 | Accuracy: 0.8428571 | Test Accuracy: 0.5000000 | Run Time: 19.3942711\n",
      "Iter:  112 | Cost: 0.6848400 | Accuracy: 0.8428571 | Test Accuracy: 0.5000000 | Run Time: 18.8135228\n",
      "Iter:  113 | Cost: 0.6848189 | Accuracy: 0.8428571 | Test Accuracy: 0.5000000 | Run Time: 19.8421204\n",
      "Iter:  114 | Cost: 0.6847985 | Accuracy: 0.8428571 | Test Accuracy: 0.5000000 | Run Time: 19.3064983\n",
      "Iter:  115 | Cost: 0.6847788 | Accuracy: 0.8428571 | Test Accuracy: 0.5000000 | Run Time: 19.3843362\n",
      "Iter:  116 | Cost: 0.6847598 | Accuracy: 0.8428571 | Test Accuracy: 0.5000000 | Run Time: 19.5469718\n",
      "Iter:  117 | Cost: 0.6847413 | Accuracy: 0.8428571 | Test Accuracy: 0.5000000 | Run Time: 19.4064820\n",
      "Iter:  118 | Cost: 0.6847234 | Accuracy: 0.8428571 | Test Accuracy: 0.5000000 | Run Time: 19.1526449\n",
      "Iter:  119 | Cost: 0.6847060 | Accuracy: 0.8428571 | Test Accuracy: 0.5000000 | Run Time: 19.3152678\n",
      "Iter:  120 | Cost: 0.6846892 | Accuracy: 0.8428571 | Test Accuracy: 0.5000000 | Run Time: 19.3560455\n",
      "Iter:  121 | Cost: 0.6846727 | Accuracy: 0.8428571 | Test Accuracy: 0.5000000 | Run Time: 19.0769403\n",
      "Iter:  122 | Cost: 0.6846567 | Accuracy: 0.8428571 | Test Accuracy: 0.5000000 | Run Time: 19.6348917\n",
      "Iter:  123 | Cost: 0.6846411 | Accuracy: 0.8428571 | Test Accuracy: 0.5000000 | Run Time: 19.7762465\n",
      "Iter:  124 | Cost: 0.6846259 | Accuracy: 0.8428571 | Test Accuracy: 0.5000000 | Run Time: 18.9709153\n",
      "Iter:  125 | Cost: 0.6846109 | Accuracy: 0.8428571 | Test Accuracy: 0.5000000 | Run Time: 19.4528227\n",
      "Iter:  126 | Cost: 0.6845963 | Accuracy: 0.8428571 | Test Accuracy: 0.5000000 | Run Time: 19.2095613\n",
      "Iter:  127 | Cost: 0.6845821 | Accuracy: 0.8428571 | Test Accuracy: 0.5000000 | Run Time: 19.6181228\n",
      "Iter:  128 | Cost: 0.6845681 | Accuracy: 0.8428571 | Test Accuracy: 0.5000000 | Run Time: 19.7077167\n",
      "Iter:  129 | Cost: 0.6845543 | Accuracy: 0.8428571 | Test Accuracy: 0.5000000 | Run Time: 19.2995834\n",
      "Iter:  130 | Cost: 0.6845409 | Accuracy: 0.8428571 | Test Accuracy: 0.5000000 | Run Time: 18.9697037\n",
      "Iter:  131 | Cost: 0.6845277 | Accuracy: 0.8428571 | Test Accuracy: 0.5000000 | Run Time: 19.4253359\n",
      "Iter:  132 | Cost: 0.6845148 | Accuracy: 0.8428571 | Test Accuracy: 0.5000000 | Run Time: 18.7664700\n",
      "Iter:  133 | Cost: 0.6845021 | Accuracy: 0.8428571 | Test Accuracy: 0.5000000 | Run Time: 19.2833898\n",
      "Iter:  134 | Cost: 0.6844896 | Accuracy: 0.8428571 | Test Accuracy: 0.5000000 | Run Time: 18.6555552\n",
      "Iter:  135 | Cost: 0.6844775 | Accuracy: 0.8428571 | Test Accuracy: 0.5000000 | Run Time: 19.3590569\n",
      "Iter:  136 | Cost: 0.6844655 | Accuracy: 0.8428571 | Test Accuracy: 0.5000000 | Run Time: 18.8580115\n",
      "Iter:  137 | Cost: 0.6844538 | Accuracy: 0.8428571 | Test Accuracy: 0.5000000 | Run Time: 18.9912040\n",
      "Iter:  138 | Cost: 0.6844424 | Accuracy: 0.8428571 | Test Accuracy: 0.5000000 | Run Time: 18.7786541\n",
      "Iter:  139 | Cost: 0.6844311 | Accuracy: 0.8428571 | Test Accuracy: 0.5000000 | Run Time: 18.6897044\n",
      "Iter:  140 | Cost: 0.6844202 | Accuracy: 0.8428571 | Test Accuracy: 0.5000000 | Run Time: 18.9686453\n",
      "Iter:  141 | Cost: 0.6844094 | Accuracy: 0.8428571 | Test Accuracy: 0.5000000 | Run Time: 19.1183298\n",
      "Iter:  142 | Cost: 0.6843989 | Accuracy: 0.8428571 | Test Accuracy: 0.5000000 | Run Time: 19.0579216\n",
      "Iter:  143 | Cost: 0.6843886 | Accuracy: 0.8428571 | Test Accuracy: 0.5000000 | Run Time: 19.2799258\n",
      "Iter:  144 | Cost: 0.6843786 | Accuracy: 0.8428571 | Test Accuracy: 0.5000000 | Run Time: 18.9251218\n",
      "Iter:  145 | Cost: 0.6843688 | Accuracy: 0.8428571 | Test Accuracy: 0.5000000 | Run Time: 19.2562943\n",
      "Iter:  146 | Cost: 0.6843592 | Accuracy: 0.8428571 | Test Accuracy: 0.5000000 | Run Time: 18.7987516\n",
      "Iter:  147 | Cost: 0.6843498 | Accuracy: 0.8428571 | Test Accuracy: 0.5000000 | Run Time: 19.0637622\n",
      "Iter:  148 | Cost: 0.6843407 | Accuracy: 0.8428571 | Test Accuracy: 0.5000000 | Run Time: 19.0910985\n",
      "Iter:  149 | Cost: 0.6843318 | Accuracy: 0.8428571 | Test Accuracy: 0.5000000 | Run Time: 19.1420777\n",
      "Iter:  150 | Cost: 0.6843231 | Accuracy: 0.8428571 | Test Accuracy: 0.5000000 | Run Time: 18.9298041\n"
     ]
    },
    {
     "data": {
      "image/png": "[encoded data removed]",
      "text/plain": [
       "<Figure size 1200x1000 with 3 Axes>"
      ]
     },
     "metadata": {},
     "output_type": "display_data"
    },
    {
     "name": "stdout",
     "output_type": "stream",
     "text": [
      "[[-1.23672813e+00 -8.67001805e-01  9.31304697e-01 -2.03039770e-01\n",
      "   6.43974558e-01  2.05366525e-01  3.65068991e-01 -1.11216709e-01]\n",
      " [-9.73088084e-01 -1.09002086e+00  1.07399221e+00  8.79083732e-01\n",
      "  -3.39353882e-01  2.32974634e-01 -1.40492078e-01 -7.89312051e-01]\n",
      " [-9.40620221e-01  1.55156677e+00 -1.55046343e+00 -1.89484520e+00\n",
      "   2.40103750e-02 -4.97646671e-03 -1.25421834e-04  1.81181644e-04]\n",
      " [ 3.03160117e-01  6.12443778e-01  1.12753372e+00 -9.69348113e-01\n",
      "   1.77854557e-01 -2.22511754e-02 -1.60783712e-04 -4.23248383e-02]]\n"
     ]
    }
   ],
   "source": [
    "import time\n",
    "learning_rate = [0.5]\n",
    "num_layers = [1]\n",
    "for n_layers in num_layers:\n",
    "    lrate = 0.5\n",
    "\n",
    "    opt = NesterovMomentumOptimizer(lrate)\n",
    "    current_cost_list = []\n",
    "    acc_list = []\n",
    "    test_acc_list = []\n",
    "    epoch = []\n",
    "    for it in range(150):\n",
    "        start_time = time.time()\n",
    "\n",
    "        # Update the weights by one optimizer step, using only a limited batch of data\n",
    "        gradient_value, current_cost = opt.compute_grad(objective_fn=cost, args=params, kwargs={\"X\": X, \"Y\": Y})\n",
    "        params = opt.apply_grad(grad=gradient_value, args=params)\n",
    "        current_cost_list.append(current_cost)\n",
    "        weights = params[0]\n",
    "        # Compute accuracy on train\n",
    "        predictions = [np.sign(full_circuit(x,weights)) for x in X]\n",
    "        acc = accuracy(Y, predictions)\n",
    "        acc_list.append(acc)\n",
    "\n",
    "        # Compute accuracy on test\n",
    "        predictions_test = [np.sign(full_circuit(x,weights,)) for x in X_dev]\n",
    "        test_acc = accuracy(Y_dev, predictions)\n",
    "        test_acc_list.append(test_acc)\n",
    "        epoch.append(it)\n",
    "\n",
    "        # Redraw the updated plot\n",
    "        end_time = time.time() - start_time\n",
    "        print(f\"Iter: {it+1:4d} | Cost: {current_cost:0.7f} | Accuracy: {acc:0.7f} | Test Accuracy: {test_acc:0.7f} | Run Time: {end_time:0.7f}\")\n",
    "    draw_result(current_cost_list,acc_list,test_acc_list,epoch,lrate,n_layers)\n",
    "    print(weights)"
   ]
  },
  {
   "cell_type": "code",
   "execution_count": 16,
   "id": "f22086b8",
   "metadata": {
    "execution": {
     "iopub.execute_input": "2025-04-29T04:17:11.253582Z",
     "iopub.status.busy": "2025-04-29T04:17:11.253155Z",
     "iopub.status.idle": "2025-04-29T04:17:13.766755Z",
     "shell.execute_reply": "2025-04-29T04:17:13.765369Z"
    },
    "id": "yxRI9AAM_sn8",
    "outputId": "ad1f52b8-5e88-4e3b-db2c-251f99651a8c",
    "papermill": {
     "duration": 2.53451,
     "end_time": "2025-04-29T04:17:13.768618",
     "exception": false,
     "start_time": "2025-04-29T04:17:11.234108",
     "status": "completed"
    },
    "tags": []
   },
   "outputs": [
    {
     "name": "stdout",
     "output_type": "stream",
     "text": [
      "Final test, accuracy_test: 0.6\n"
     ]
    }
   ],
   "source": [
    "# Compute accuracy\n",
    "weights = params[0]\n",
    "predictions = [np.sign(full_circuit(x,weights)) for x in X_test]\n",
    "acc = accuracy(Y_test, predictions)\n",
    "print(f\"Final test, accuracy_test: {acc}\")"
   ]
  },
  {
   "cell_type": "code",
   "execution_count": null,
   "id": "622f9636",
   "metadata": {
    "id": "yUI2mgpBIRYp",
    "papermill": {
     "duration": 0.017014,
     "end_time": "2025-04-29T04:17:13.802947",
     "exception": false,
     "start_time": "2025-04-29T04:17:13.785933",
     "status": "completed"
    },
    "tags": []
   },
   "outputs": [],
   "source": []
  }
 ],
 "metadata": {
  "colab": {
   "provenance": []
  },
  "kaggle": {
   "accelerator": "none",
   "dataSources": [
    {
     "datasetId": 6593060,
     "sourceId": 10648027,
     "sourceType": "datasetVersion"
    }
   ],
   "dockerImageVersionId": 30886,
   "isGpuEnabled": false,
   "isInternetEnabled": true,
   "language": "python",
   "sourceType": "notebook"
  },
  "kernelspec": {
   "display_name": "Python 3",
   "language": "python",
   "name": "python3"
  },
  "language_info": {
   "codemirror_mode": {
    "name": "ipython",
    "version": 3
   },
   "file_extension": ".py",
   "mimetype": "text/x-python",
   "name": "python",
   "nbconvert_exporter": "python",
   "pygments_lexer": "ipython3",
   "version": "3.10.12"
  },
  "papermill": {
   "default_parameters": {},
   "duration": 2911.630186,
   "end_time": "2025-04-29T04:17:15.852610",
   "environment_variables": {},
   "exception": null,
   "input_path": "__notebook__.ipynb",
   "output_path": "__notebook__.ipynb",
   "parameters": {},
   "start_time": "2025-04-29T03:28:44.222424",
   "version": "2.6.0"
  }
 },
 "nbformat": 4,
 "nbformat_minor": 5
}
