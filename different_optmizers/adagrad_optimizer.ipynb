{
 "cells": [
  {
   "cell_type": "code",
   "execution_count": 1,
   "id": "c92d0e7c",
   "metadata": {
    "execution": {
     "iopub.execute_input": "2025-02-10T15:16:58.799683Z",
     "iopub.status.busy": "2025-02-10T15:16:58.799163Z",
     "iopub.status.idle": "2025-02-10T15:17:09.264485Z",
     "shell.execute_reply": "2025-02-10T15:17:09.263233Z"
    },
    "id": "MbEyJMHaW9w7",
    "outputId": "8edd0afc-dd65-408c-b624-fea1e6874d8b",
    "papermill": {
     "duration": 10.47488,
     "end_time": "2025-02-10T15:17:09.266691",
     "exception": false,
     "start_time": "2025-02-10T15:16:58.791811",
     "status": "completed"
    },
    "tags": []
   },
   "outputs": [
    {
     "name": "stdout",
     "output_type": "stream",
     "text": [
      "Collecting pennylane\r\n",
      "  Downloading PennyLane-0.40.0-py3-none-any.whl.metadata (10 kB)\r\n",
      "Requirement already satisfied: numpy<2.1 in /usr/local/lib/python3.10/dist-packages (from pennylane) (1.26.4)\r\n",
      "Requirement already satisfied: scipy in /usr/local/lib/python3.10/dist-packages (from pennylane) (1.13.1)\r\n",
      "Requirement already satisfied: networkx in /usr/local/lib/python3.10/dist-packages (from pennylane) (3.4.2)\r\n",
      "Collecting rustworkx>=0.14.0 (from pennylane)\r\n",
      "  Downloading rustworkx-0.16.0-cp39-abi3-manylinux_2_17_x86_64.manylinux2014_x86_64.whl.metadata (10 kB)\r\n",
      "Requirement already satisfied: autograd in /usr/local/lib/python3.10/dist-packages (from pennylane) (1.7.0)\r\n",
      "Collecting tomlkit (from pennylane)\r\n",
      "  Downloading tomlkit-0.13.2-py3-none-any.whl.metadata (2.7 kB)\r\n",
      "Collecting appdirs (from pennylane)\r\n",
      "  Downloading appdirs-1.4.4-py2.py3-none-any.whl.metadata (9.0 kB)\r\n",
      "Collecting autoray>=0.6.11 (from pennylane)\r\n",
      "  Downloading autoray-0.7.0-py3-none-any.whl.metadata (5.8 kB)\r\n",
      "Requirement already satisfied: cachetools in /usr/local/lib/python3.10/dist-packages (from pennylane) (5.5.0)\r\n",
      "Collecting pennylane-lightning>=0.40 (from pennylane)\r\n",
      "  Downloading PennyLane_Lightning-0.40.0-cp310-cp310-manylinux_2_28_x86_64.whl.metadata (27 kB)\r\n",
      "Requirement already satisfied: requests in /usr/local/lib/python3.10/dist-packages (from pennylane) (2.32.3)\r\n",
      "Requirement already satisfied: typing-extensions in /usr/local/lib/python3.10/dist-packages (from pennylane) (4.12.2)\r\n",
      "Requirement already satisfied: packaging in /usr/local/lib/python3.10/dist-packages (from pennylane) (24.2)\r\n",
      "Collecting diastatic-malt (from pennylane)\r\n",
      "  Downloading diastatic_malt-2.15.2-py3-none-any.whl.metadata (2.6 kB)\r\n",
      "Requirement already satisfied: mkl_fft in /usr/local/lib/python3.10/dist-packages (from numpy<2.1->pennylane) (1.3.8)\r\n",
      "Requirement already satisfied: mkl_random in /usr/local/lib/python3.10/dist-packages (from numpy<2.1->pennylane) (1.2.4)\r\n",
      "Requirement already satisfied: mkl_umath in /usr/local/lib/python3.10/dist-packages (from numpy<2.1->pennylane) (0.1.1)\r\n",
      "Requirement already satisfied: mkl in /usr/local/lib/python3.10/dist-packages (from numpy<2.1->pennylane) (2025.0.1)\r\n",
      "Requirement already satisfied: tbb4py in /usr/local/lib/python3.10/dist-packages (from numpy<2.1->pennylane) (2022.0.0)\r\n",
      "Requirement already satisfied: mkl-service in /usr/local/lib/python3.10/dist-packages (from numpy<2.1->pennylane) (2.4.1)\r\n",
      "Collecting scipy-openblas32>=0.3.26 (from pennylane-lightning>=0.40->pennylane)\r\n",
      "  Downloading scipy_openblas32-0.3.29.0.0-py3-none-manylinux_2_17_x86_64.manylinux2014_x86_64.whl.metadata (56 kB)\r\n",
      "\u001b[2K     \u001b[90m━━━━━━━━━━━━━━━━━━━━━━━━━━━━━━━━━━━━━━━━\u001b[0m \u001b[32m56.1/56.1 kB\u001b[0m \u001b[31m3.1 MB/s\u001b[0m eta \u001b[36m0:00:00\u001b[0m\r\n",
      "\u001b[?25hRequirement already satisfied: astunparse in /usr/local/lib/python3.10/dist-packages (from diastatic-malt->pennylane) (1.6.3)\r\n",
      "Requirement already satisfied: gast in /usr/local/lib/python3.10/dist-packages (from diastatic-malt->pennylane) (0.6.0)\r\n",
      "Requirement already satisfied: termcolor in /usr/local/lib/python3.10/dist-packages (from diastatic-malt->pennylane) (2.5.0)\r\n",
      "Requirement already satisfied: charset-normalizer<4,>=2 in /usr/local/lib/python3.10/dist-packages (from requests->pennylane) (3.4.1)\r\n",
      "Requirement already satisfied: idna<4,>=2.5 in /usr/local/lib/python3.10/dist-packages (from requests->pennylane) (3.10)\r\n",
      "Requirement already satisfied: urllib3<3,>=1.21.1 in /usr/local/lib/python3.10/dist-packages (from requests->pennylane) (2.3.0)\r\n",
      "Requirement already satisfied: certifi>=2017.4.17 in /usr/local/lib/python3.10/dist-packages (from requests->pennylane) (2025.1.31)\r\n",
      "Requirement already satisfied: wheel<1.0,>=0.23.0 in /usr/local/lib/python3.10/dist-packages (from astunparse->diastatic-malt->pennylane) (0.45.1)\r\n",
      "Requirement already satisfied: six<2.0,>=1.6.1 in /usr/local/lib/python3.10/dist-packages (from astunparse->diastatic-malt->pennylane) (1.17.0)\r\n",
      "Requirement already satisfied: intel-openmp>=2024 in /usr/local/lib/python3.10/dist-packages (from mkl->numpy<2.1->pennylane) (2024.2.0)\r\n",
      "Requirement already satisfied: tbb==2022.* in /usr/local/lib/python3.10/dist-packages (from mkl->numpy<2.1->pennylane) (2022.0.0)\r\n",
      "Requirement already satisfied: tcmlib==1.* in /usr/local/lib/python3.10/dist-packages (from tbb==2022.*->mkl->numpy<2.1->pennylane) (1.2.0)\r\n",
      "Requirement already satisfied: intel-cmplr-lib-rt in /usr/local/lib/python3.10/dist-packages (from mkl_umath->numpy<2.1->pennylane) (2024.2.0)\r\n",
      "Requirement already satisfied: intel-cmplr-lib-ur==2024.2.0 in /usr/local/lib/python3.10/dist-packages (from intel-openmp>=2024->mkl->numpy<2.1->pennylane) (2024.2.0)\r\n",
      "Downloading PennyLane-0.40.0-py3-none-any.whl (2.0 MB)\r\n",
      "\u001b[2K   \u001b[90m━━━━━━━━━━━━━━━━━━━━━━━━━━━━━━━━━━━━━━━━\u001b[0m \u001b[32m2.0/2.0 MB\u001b[0m \u001b[31m54.2 MB/s\u001b[0m eta \u001b[36m0:00:00\u001b[0m\r\n",
      "\u001b[?25hDownloading autoray-0.7.0-py3-none-any.whl (930 kB)\r\n",
      "\u001b[2K   \u001b[90m━━━━━━━━━━━━━━━━━━━━━━━━━━━━━━━━━━━━━━━━\u001b[0m \u001b[32m930.0/930.0 kB\u001b[0m \u001b[31m37.1 MB/s\u001b[0m eta \u001b[36m0:00:00\u001b[0m\r\n",
      "\u001b[?25hDownloading PennyLane_Lightning-0.40.0-cp310-cp310-manylinux_2_28_x86_64.whl (2.4 MB)\r\n",
      "\u001b[2K   \u001b[90m━━━━━━━━━━━━━━━━━━━━━━━━━━━━━━━━━━━━━━━━\u001b[0m \u001b[32m2.4/2.4 MB\u001b[0m \u001b[31m52.9 MB/s\u001b[0m eta \u001b[36m0:00:00\u001b[0m\r\n",
      "\u001b[?25hDownloading rustworkx-0.16.0-cp39-abi3-manylinux_2_17_x86_64.manylinux2014_x86_64.whl (2.1 MB)\r\n",
      "\u001b[2K   \u001b[90m━━━━━━━━━━━━━━━━━━━━━━━━━━━━━━━━━━━━━━━━\u001b[0m \u001b[32m2.1/2.1 MB\u001b[0m \u001b[31m23.5 MB/s\u001b[0m eta \u001b[36m0:00:00\u001b[0m\r\n",
      "\u001b[?25hDownloading appdirs-1.4.4-py2.py3-none-any.whl (9.6 kB)\r\n",
      "Downloading diastatic_malt-2.15.2-py3-none-any.whl (167 kB)\r\n",
      "\u001b[2K   \u001b[90m━━━━━━━━━━━━━━━━━━━━━━━━━━━━━━━━━━━━━━━━\u001b[0m \u001b[32m167.9/167.9 kB\u001b[0m \u001b[31m8.7 MB/s\u001b[0m eta \u001b[36m0:00:00\u001b[0m\r\n",
      "\u001b[?25hDownloading tomlkit-0.13.2-py3-none-any.whl (37 kB)\r\n",
      "Downloading scipy_openblas32-0.3.29.0.0-py3-none-manylinux_2_17_x86_64.manylinux2014_x86_64.whl (8.6 MB)\r\n",
      "\u001b[2K   \u001b[90m━━━━━━━━━━━━━━━━━━━━━━━━━━━━━━━━━━━━━━━━\u001b[0m \u001b[32m8.6/8.6 MB\u001b[0m \u001b[31m77.7 MB/s\u001b[0m eta \u001b[36m0:00:00\u001b[0m\r\n",
      "\u001b[?25hInstalling collected packages: appdirs, tomlkit, scipy-openblas32, autoray, diastatic-malt, rustworkx, pennylane-lightning, pennylane\r\n",
      "Successfully installed appdirs-1.4.4 autoray-0.7.0 diastatic-malt-2.15.2 pennylane-0.40.0 pennylane-lightning-0.40.0 rustworkx-0.16.0 scipy-openblas32-0.3.29.0.0 tomlkit-0.13.2\r\n"
     ]
    }
   ],
   "source": [
    "!pip install pennylane --upgrade"
   ]
  },
  {
   "cell_type": "code",
   "execution_count": 2,
   "id": "690a11fb",
   "metadata": {
    "execution": {
     "iopub.execute_input": "2025-02-10T15:17:09.283012Z",
     "iopub.status.busy": "2025-02-10T15:17:09.282632Z",
     "iopub.status.idle": "2025-02-10T15:17:28.278106Z",
     "shell.execute_reply": "2025-02-10T15:17:28.276985Z"
    },
    "id": "u1g8haeSUioZ",
    "papermill": {
     "duration": 19.005385,
     "end_time": "2025-02-10T15:17:28.280016",
     "exception": false,
     "start_time": "2025-02-10T15:17:09.274631",
     "status": "completed"
    },
    "tags": []
   },
   "outputs": [],
   "source": [
    "import pennylane as qml\n",
    "from pennylane import numpy as np\n",
    "from pennylane.optimize import NesterovMomentumOptimizer, GradientDescentOptimizer, MomentumOptimizer,AdagradOptimizer\n",
    "import tensorflow as tf"
   ]
  },
  {
   "cell_type": "code",
   "execution_count": 3,
   "id": "c9edd561",
   "metadata": {
    "execution": {
     "iopub.execute_input": "2025-02-10T15:17:28.296191Z",
     "iopub.status.busy": "2025-02-10T15:17:28.295465Z",
     "iopub.status.idle": "2025-02-10T15:17:29.078016Z",
     "shell.execute_reply": "2025-02-10T15:17:29.077093Z"
    },
    "papermill": {
     "duration": 0.792568,
     "end_time": "2025-02-10T15:17:29.079773",
     "exception": false,
     "start_time": "2025-02-10T15:17:28.287205",
     "status": "completed"
    },
    "tags": []
   },
   "outputs": [
    {
     "name": "stderr",
     "output_type": "stream",
     "text": [
      "/usr/local/lib/python3.10/dist-packages/keras/src/layers/core/embedding.py:90: UserWarning: Argument `input_length` is deprecated. Just remove it.\n",
      "  warnings.warn(\n"
     ]
    },
    {
     "name": "stdout",
     "output_type": "stream",
     "text": [
      "\u001b[1m3/3\u001b[0m \u001b[32m━━━━━━━━━━━━━━━━━━━━\u001b[0m\u001b[37m\u001b[0m \u001b[1m0s\u001b[0m 17ms/step \n",
      "\u001b[1m1/1\u001b[0m \u001b[32m━━━━━━━━━━━━━━━━━━━━\u001b[0m\u001b[37m\u001b[0m \u001b[1m0s\u001b[0m 129ms/step\n",
      "\u001b[1m1/1\u001b[0m \u001b[32m━━━━━━━━━━━━━━━━━━━━\u001b[0m\u001b[37m\u001b[0m \u001b[1m0s\u001b[0m 102ms/step\n"
     ]
    }
   ],
   "source": [
    "#******************************************\n",
    "# Data import\n",
    "#******************************************\n",
    "\n",
    "# import train, dev and test datasets: the data entries are all strings of the form 'label sentence' \n",
    "# with the label in {0,1} and with the sentence of the form \"word1_POStag1 word2_POStag2 ...\"\n",
    "\n",
    "with open('/kaggle/input/mc-and-rp-dataset-for-quantum-computing-qnlp/mc_train_data.txt') as f:\n",
    "    training_data_raw = f.readlines()\n",
    "\n",
    "with open('/kaggle/input/mc-and-rp-dataset-for-quantum-computing-qnlp/mc_dev_data.txt') as f:\n",
    "    dev_data_raw = f.readlines()\n",
    "\n",
    "with open('/kaggle/input/mc-and-rp-dataset-for-quantum-computing-qnlp/mc_test_data.txt') as f:\n",
    "    testing_data_raw = f.readlines()\n",
    "#***************************************************************\n",
    "# Turn the raw input data into data structures convenient below\n",
    "#***************************************************************\n",
    "\n",
    "vocab = dict()          # dictionary to be filled with the vocabulary in the form { word : POStag }\n",
    "data = dict()           # dictionary to be filled with all the data (train, dev and test subsets); entries of the \n",
    "                        # form { sentence : label } with label encoding '1' as [1.0, 0.0] and '0' as [0.0, 1.0]\n",
    "training_data = []      # list of sentences in the train dataset as strings \"word1 word2 ...\"\n",
    "dev_data = []           # list of sentences in the dev dataset as strings \"word1 word2 ...\"\n",
    "testing_data = []       # list of sentences in the test dataset as strings \"word1 word2 ...\"\n",
    "training_data_label = []      # list of sentences in the train dataset as strings \"word1 word2 ...\"\n",
    "dev_data_label = []           # list of sentences in the dev dataset as strings \"word1 word2 ...\"\n",
    "testing_data_label = []\n",
    "# Go through the train data\n",
    "for sent in training_data_raw:\n",
    "    words = sent[2:].split() \n",
    "    sent_untagged = ''\n",
    "    for word in words:\n",
    "        word_untagged, tag = word.split('_')\n",
    "        vocab[word_untagged] = tag\n",
    "        sent_untagged += word_untagged + ' '\n",
    "    sentence = sent_untagged[:-1]\n",
    "    training_data.append(sentence)\n",
    "    label = 1.0 if sent[0] == '1' else -1.0\n",
    "    training_data_label.append(label)\n",
    "\n",
    "# Go through the dev data\n",
    "for sent in dev_data_raw:\n",
    "    words = sent[2:].split() \n",
    "    sent_untagged = ''\n",
    "    for word in words:\n",
    "        word_untagged, tag = word.split('_')\n",
    "        vocab[word_untagged] = tag\n",
    "        sent_untagged += word_untagged + ' '\n",
    "    sentence = sent_untagged[:-1]\n",
    "    dev_data.append(sentence)\n",
    "    label = 1.0 if sent[0] == '1' else -1.0\n",
    "    dev_data_label.append(label)\n",
    "    \n",
    "# Go through the test data\n",
    "for sent in testing_data_raw:\n",
    "    words = sent[2:].split() \n",
    "    sent_untagged = ''\n",
    "    for word in words:\n",
    "        word_untagged, tag = word.split('_')\n",
    "        vocab[word_untagged] = tag\n",
    "        sent_untagged += word_untagged + ' '\n",
    "    sentence = sent_untagged[:-1]\n",
    "    testing_data.append(sentence)\n",
    "    label = 1.0 if sent[0] == '1' else -1.0\n",
    "    testing_data_label.append(label)\n",
    "import tensorflow as tf\n",
    "from tensorflow.keras.preprocessing.text import Tokenizer\n",
    "from tensorflow.keras.preprocessing.sequence import pad_sequences\n",
    "from tensorflow.keras.models import Sequential\n",
    "from tensorflow.keras.layers import Embedding\n",
    "\n",
    "def embedding_sentece(data_list):\n",
    "    sentences = data_list\n",
    "    tokenizer = Tokenizer()\n",
    "    tokenizer.fit_on_texts(sentences)  \n",
    "    word_index = tokenizer.word_index  \n",
    "    vocab_size = len(word_index) + 1  # Số lượng từ vựng (+1 cho padding)\n",
    "    sequences = tokenizer.texts_to_sequences(sentences)\n",
    "\n",
    "    max_length = max(len(seq) for seq in sequences)  # Độ dài tối đa\n",
    "    padded_sequences = pad_sequences(sequences, maxlen=max_length, padding='post')\n",
    "    \n",
    "    embedding_dim = 4  # Chọn số chiều của vector embedding\n",
    "    \n",
    "    model = Sequential([\n",
    "        Embedding(input_dim=vocab_size, output_dim=embedding_dim, input_length=max_length)\n",
    "    ])\n",
    "    \n",
    "    output = model.predict(padded_sequences)\n",
    "    return output\n",
    "X = np.array(embedding_sentece(training_data), dtype='float64')\n",
    "Y = np.array(training_data_label)\n",
    "X_dev = np.array(embedding_sentece(dev_data), dtype='float64')\n",
    "Y_dev = np.array(dev_data_label)\n",
    "X_test = np.array(embedding_sentece(testing_data), dtype='float64')\n",
    "Y_test = np.array(testing_data_label)\n",
    "X = X.reshape(-1,16)\n",
    "X_dev = X_dev.reshape(-1,16)\n",
    "X_test = X_test.reshape(-1,16)"
   ]
  },
  {
   "cell_type": "code",
   "execution_count": 4,
   "id": "61aa941d",
   "metadata": {
    "execution": {
     "iopub.execute_input": "2025-02-10T15:17:29.096053Z",
     "iopub.status.busy": "2025-02-10T15:17:29.095689Z",
     "iopub.status.idle": "2025-02-10T15:17:29.099790Z",
     "shell.execute_reply": "2025-02-10T15:17:29.098803Z"
    },
    "papermill": {
     "duration": 0.014227,
     "end_time": "2025-02-10T15:17:29.101580",
     "exception": false,
     "start_time": "2025-02-10T15:17:29.087353",
     "status": "completed"
    },
    "tags": []
   },
   "outputs": [],
   "source": [
    "X = X[:50]\n",
    "Y = Y[:50]"
   ]
  },
  {
   "cell_type": "code",
   "execution_count": 5,
   "id": "95ab797d",
   "metadata": {
    "execution": {
     "iopub.execute_input": "2025-02-10T15:17:29.117604Z",
     "iopub.status.busy": "2025-02-10T15:17:29.117229Z",
     "iopub.status.idle": "2025-02-10T15:17:29.123098Z",
     "shell.execute_reply": "2025-02-10T15:17:29.122184Z"
    },
    "id": "9ZrZHnIeXGAD",
    "papermill": {
     "duration": 0.015814,
     "end_time": "2025-02-10T15:17:29.124882",
     "exception": false,
     "start_time": "2025-02-10T15:17:29.109068",
     "status": "completed"
    },
    "tags": []
   },
   "outputs": [],
   "source": [
    "dev = qml.device('default.qubit', wires=17)\n",
    "\n",
    "def state_preparation(f=None):\n",
    "    qml.AmplitudeEmbedding(features=f, wires=[0,1,2,3], normalize=True)\n",
    "    qml.AmplitudeEmbedding(features=f, wires=[4,5,6,7], normalize=True)\n",
    "    qml.AmplitudeEmbedding(features=f, wires=[8,9,10,11], normalize=True)"
   ]
  },
  {
   "cell_type": "code",
   "execution_count": 6,
   "id": "2c9907e2",
   "metadata": {
    "execution": {
     "iopub.execute_input": "2025-02-10T15:17:29.140498Z",
     "iopub.status.busy": "2025-02-10T15:17:29.140104Z",
     "iopub.status.idle": "2025-02-10T15:17:29.145757Z",
     "shell.execute_reply": "2025-02-10T15:17:29.144709Z"
    },
    "id": "2JL2UMuZ56Sm",
    "papermill": {
     "duration": 0.015051,
     "end_time": "2025-02-10T15:17:29.147264",
     "exception": false,
     "start_time": "2025-02-10T15:17:29.132213",
     "status": "completed"
    },
    "tags": []
   },
   "outputs": [],
   "source": [
    "def unitary_embedding(theta_list: list):\n",
    "  '''\n",
    "  theta_list: list of theta\n",
    "  '''\n",
    "  for i in range(len(theta_list)):\n",
    "    qml.RY(theta_list[i], wires=[i])\n",
    "  for i in range(len(theta_list)-1):\n",
    "    c = i\n",
    "    if c == len(theta_list)-1:\n",
    "      f = 0\n",
    "    else:\n",
    "      f = c+1\n",
    "    qml.CNOT(wires=[c,f])"
   ]
  },
  {
   "cell_type": "code",
   "execution_count": 7,
   "id": "26ac5c66",
   "metadata": {
    "execution": {
     "iopub.execute_input": "2025-02-10T15:17:29.162888Z",
     "iopub.status.busy": "2025-02-10T15:17:29.162547Z",
     "iopub.status.idle": "2025-02-10T15:17:29.167109Z",
     "shell.execute_reply": "2025-02-10T15:17:29.166254Z"
    },
    "papermill": {
     "duration": 0.014218,
     "end_time": "2025-02-10T15:17:29.168852",
     "exception": false,
     "start_time": "2025-02-10T15:17:29.154634",
     "status": "completed"
    },
    "tags": []
   },
   "outputs": [],
   "source": [
    "def combine_unitary_embedding(number_layer, theta_list):\n",
    "  '''\n",
    "  len(theta_list) = number_layer\n",
    "  theta_list elem = \n",
    "  '''\n",
    "  for i in range(len(theta_list[0])):\n",
    "    qml.H(wires=[i])\n",
    "  for layer in range(number_layer):\n",
    "    unitary_embedding(theta_list[layer])"
   ]
  },
  {
   "cell_type": "code",
   "execution_count": 8,
   "id": "d189918b",
   "metadata": {
    "execution": {
     "iopub.execute_input": "2025-02-10T15:17:29.184602Z",
     "iopub.status.busy": "2025-02-10T15:17:29.184167Z",
     "iopub.status.idle": "2025-02-10T15:17:29.188984Z",
     "shell.execute_reply": "2025-02-10T15:17:29.187888Z"
    },
    "id": "z5cGe_yzARyc",
    "papermill": {
     "duration": 0.014612,
     "end_time": "2025-02-10T15:17:29.190725",
     "exception": false,
     "start_time": "2025-02-10T15:17:29.176113",
     "status": "completed"
    },
    "tags": []
   },
   "outputs": [],
   "source": [
    "def barbell_operation(wires_1, wires_2):\n",
    "  '''\n",
    "  swap Q to second register group\n",
    "  '''\n",
    "  for i, j in zip(wires_1, wires_2):\n",
    "    qml.SWAP(wires=[i,j])"
   ]
  },
  {
   "cell_type": "code",
   "execution_count": 9,
   "id": "9400edc0",
   "metadata": {
    "execution": {
     "iopub.execute_input": "2025-02-10T15:17:29.206783Z",
     "iopub.status.busy": "2025-02-10T15:17:29.206278Z",
     "iopub.status.idle": "2025-02-10T15:17:29.212314Z",
     "shell.execute_reply": "2025-02-10T15:17:29.211370Z"
    },
    "id": "NmCq3kW7ct4E",
    "papermill": {
     "duration": 0.016078,
     "end_time": "2025-02-10T15:17:29.214123",
     "exception": false,
     "start_time": "2025-02-10T15:17:29.198045",
     "status": "completed"
    },
    "tags": []
   },
   "outputs": [],
   "source": [
    "def QLS_module(wires_control_1, wires_control_2, wires_result):\n",
    "  for i, j, k in zip(wires_control_1, wires_control_2, wires_result):\n",
    "    qml.Toffoli(wires=[i,j,k])\n",
    "  for i in range(len(wires_result)-2):\n",
    "    qml.CNOT(wires=[wires_result[i],wires_result[i+1]])"
   ]
  },
  {
   "cell_type": "code",
   "execution_count": 10,
   "id": "99a36de1",
   "metadata": {
    "execution": {
     "iopub.execute_input": "2025-02-10T15:17:29.229787Z",
     "iopub.status.busy": "2025-02-10T15:17:29.229398Z",
     "iopub.status.idle": "2025-02-10T15:17:29.233850Z",
     "shell.execute_reply": "2025-02-10T15:17:29.232713Z"
    },
    "id": "utSeMaEAdBmB",
    "outputId": "7eeb8e85-3cee-437e-90a1-008a2eee9fd3",
    "papermill": {
     "duration": 0.014222,
     "end_time": "2025-02-10T15:17:29.235694",
     "exception": false,
     "start_time": "2025-02-10T15:17:29.221472",
     "status": "completed"
    },
    "tags": []
   },
   "outputs": [],
   "source": [
    "def multicontrol_slice(wires_qls, wires_q):\n",
    "  for i in wires_q:\n",
    "    qml.MultiControlledX(wires=[*wires_qls,i])\n",
    "# print(qml.draw(multicontrol_slice)([12,13,14,15], [0,1,2,3]))"
   ]
  },
  {
   "cell_type": "code",
   "execution_count": 11,
   "id": "a106ffc7",
   "metadata": {
    "execution": {
     "iopub.execute_input": "2025-02-10T15:17:29.251583Z",
     "iopub.status.busy": "2025-02-10T15:17:29.251164Z",
     "iopub.status.idle": "2025-02-10T15:17:29.256201Z",
     "shell.execute_reply": "2025-02-10T15:17:29.255217Z"
    },
    "papermill": {
     "duration": 0.01471,
     "end_time": "2025-02-10T15:17:29.257764",
     "exception": false,
     "start_time": "2025-02-10T15:17:29.243054",
     "status": "completed"
    },
    "tags": []
   },
   "outputs": [],
   "source": [
    "def swap_test_layer(wires_1, wires_2, controll_wires):\n",
    "    qml.H(wires=controll_wires)\n",
    "    for w1, w2 in zip(wires_1, wires_2):\n",
    "        qml.CSWAP(wires=[controll_wires,w1,w2])\n",
    "    qml.H(wires=controll_wires)"
   ]
  },
  {
   "cell_type": "code",
   "execution_count": 12,
   "id": "617e6c6e",
   "metadata": {
    "execution": {
     "iopub.execute_input": "2025-02-10T15:17:29.273480Z",
     "iopub.status.busy": "2025-02-10T15:17:29.273072Z",
     "iopub.status.idle": "2025-02-10T15:17:29.280691Z",
     "shell.execute_reply": "2025-02-10T15:17:29.279668Z"
    },
    "id": "UYCqcjbzdy_y",
    "papermill": {
     "duration": 0.017318,
     "end_time": "2025-02-10T15:17:29.282331",
     "exception": false,
     "start_time": "2025-02-10T15:17:29.265013",
     "status": "completed"
    },
    "tags": []
   },
   "outputs": [],
   "source": [
    "# define circuit and start train and implement\n",
    "@qml.qnode(dev)\n",
    "def full_circuit(x, weights,parameters, num_layers=1):\n",
    "  '''\n",
    "  weight = [theta_q, theta_k, theta_v]\n",
    "  3x4\n",
    "  theta_q: 4x1\n",
    "  theta_k: 4x1\n",
    "  theta_v: 4x1\n",
    "\n",
    "  '''\n",
    "  state_preparation(f=x)\n",
    "  # step 1: prepare Q\n",
    "  combine_unitary_embedding(number_layer=num_layers, theta_list=weights[0])\n",
    "  # step 2: swap Q and register\n",
    "  wires_1 = [0,1,2,3]\n",
    "  wires_2 = [4,5,6,7]\n",
    "  barbell_operation(wires_1, wires_2)\n",
    "\n",
    "  # step 3: prepare K\n",
    "  combine_unitary_embedding(number_layer=num_layers, theta_list=weights[1])\n",
    "\n",
    "  # step 4: swap K\n",
    "  wires_1 = [0,1,2,3]\n",
    "  wires_2 = [8,9,10,11]\n",
    "  barbell_operation(wires_1, wires_2)\n",
    "\n",
    "  # step 5: QLS Module\n",
    "  wires_control_1, wires_control_2, wires_result = [0,1,2,3], [4,5,6,7], [12,13,14,15]\n",
    "  QLS_module(wires_control_1, wires_control_2, wires_result)\n",
    "\n",
    "\n",
    "  #step 6: prepare V\n",
    "  combine_unitary_embedding(number_layer=num_layers, theta_list=weights[2])\n",
    "\n",
    "  # step 7: the entanglement compression operation\n",
    "  # do nothing if n == 1\n",
    "\n",
    "  # step 8: slicing operation\n",
    "  wires_qls, wires_q = [12,13,14,15], [4,5,6,7]\n",
    "  multicontrol_slice(wires_qls, wires_q)\n",
    "\n",
    "  # step 8.2: swap test operation\n",
    "  # wires_qls, wires_q = [12,13,14,15], [0,1,2,3]\n",
    "  # controll_qubit = 16\n",
    "  # swap_test_layer(wires_qls, wires_q, controll_qubit)\n",
    "  # step8.3: another QNN\n",
    "  qml.StronglyEntanglingLayers(weights=parameters, wires=range(8))\n",
    "  # step 9: meseaurement\n",
    "  observable = qml.PauliZ(0)\n",
    "  return qml.expval(observable)"
   ]
  },
  {
   "cell_type": "code",
   "execution_count": 13,
   "id": "5746f2f3",
   "metadata": {
    "execution": {
     "iopub.execute_input": "2025-02-10T15:17:29.298508Z",
     "iopub.status.busy": "2025-02-10T15:17:29.298119Z",
     "iopub.status.idle": "2025-02-10T15:17:29.304995Z",
     "shell.execute_reply": "2025-02-10T15:17:29.304015Z"
    },
    "papermill": {
     "duration": 0.016906,
     "end_time": "2025-02-10T15:17:29.306598",
     "exception": false,
     "start_time": "2025-02-10T15:17:29.289692",
     "status": "completed"
    },
    "tags": []
   },
   "outputs": [
    {
     "name": "stdout",
     "output_type": "stream",
     "text": [
      "(16, 8, 3)\n"
     ]
    }
   ],
   "source": [
    "# test circuit\n",
    "shape = qml.StronglyEntanglingLayers.shape(n_layers=16, n_wires=8)\n",
    "parameters = np.random.random(size=shape)\n",
    "print(parameters.shape)\n",
    "n_layers = 1\n",
    "weights = 0.01 * np.random.randn(3,n_layers,4, requires_grad=True)\n",
    "params = (weights, parameters)"
   ]
  },
  {
   "cell_type": "code",
   "execution_count": 14,
   "id": "ed3d311d",
   "metadata": {
    "execution": {
     "iopub.execute_input": "2025-02-10T15:17:29.322358Z",
     "iopub.status.busy": "2025-02-10T15:17:29.321984Z",
     "iopub.status.idle": "2025-02-10T15:17:29.326234Z",
     "shell.execute_reply": "2025-02-10T15:17:29.325231Z"
    },
    "papermill": {
     "duration": 0.014173,
     "end_time": "2025-02-10T15:17:29.328072",
     "exception": false,
     "start_time": "2025-02-10T15:17:29.313899",
     "status": "completed"
    },
    "tags": []
   },
   "outputs": [],
   "source": [
    "X_batch = X\n",
    "Y_batch = Y\n",
    "X_test_batch = X_test\n",
    "Y_test_batch = Y_test"
   ]
  },
  {
   "cell_type": "markdown",
   "id": "dcd2f2a6",
   "metadata": {
    "id": "nxeZNr8QqsNy",
    "papermill": {
     "duration": 0.006905,
     "end_time": "2025-02-10T15:17:29.342344",
     "exception": false,
     "start_time": "2025-02-10T15:17:29.335439",
     "status": "completed"
    },
    "tags": []
   },
   "source": [
    "<h1> Cost Function and Opimizer </h1>"
   ]
  },
  {
   "cell_type": "code",
   "execution_count": 15,
   "id": "910222fe",
   "metadata": {
    "execution": {
     "iopub.execute_input": "2025-02-10T15:17:29.358099Z",
     "iopub.status.busy": "2025-02-10T15:17:29.357752Z",
     "iopub.status.idle": "2025-02-10T15:17:29.364008Z",
     "shell.execute_reply": "2025-02-10T15:17:29.363036Z"
    },
    "id": "rKOPEtF0iKhj",
    "papermill": {
     "duration": 0.016481,
     "end_time": "2025-02-10T15:17:29.366042",
     "exception": false,
     "start_time": "2025-02-10T15:17:29.349561",
     "status": "completed"
    },
    "tags": []
   },
   "outputs": [],
   "source": [
    "def accuracy(labels, predictions):\n",
    "    acc = sum(abs(l - p) < 1e-5 for l, p in zip(labels, predictions))\n",
    "    acc = acc / len(labels)\n",
    "    return acc\n",
    "    \n",
    "def cost(*args, **kwargs):\n",
    "    # Extract the parameters and data from *args and **kwargs\n",
    "    weights = args[0]  # Assuming the first argument is the parameters (usually a NumPy array)\n",
    "    parameters = args[1]\n",
    "    X = kwargs.get('X', None)  # Get X from kwargs, default to None if not provided\n",
    "    Y = kwargs.get('Y', None)  # Get Y from kwargs, default to None if not provided\n",
    "    predictions = [full_circuit(x=x, weights=weights,parameters=parameters) for x in X]\n",
    "    return np.mean((Y - qml.math.stack(predictions)) ** 2)"
   ]
  },
  {
   "cell_type": "code",
   "execution_count": 16,
   "id": "b57a9cee",
   "metadata": {
    "execution": {
     "iopub.execute_input": "2025-02-10T15:17:29.381986Z",
     "iopub.status.busy": "2025-02-10T15:17:29.381649Z",
     "iopub.status.idle": "2025-02-10T15:17:29.387549Z",
     "shell.execute_reply": "2025-02-10T15:17:29.386186Z"
    },
    "papermill": {
     "duration": 0.01563,
     "end_time": "2025-02-10T15:17:29.389147",
     "exception": false,
     "start_time": "2025-02-10T15:17:29.373517",
     "status": "completed"
    },
    "tags": []
   },
   "outputs": [
    {
     "name": "stdout",
     "output_type": "stream",
     "text": [
      "50\n",
      "50\n",
      "30\n",
      "30\n"
     ]
    }
   ],
   "source": [
    "print(len(X))\n",
    "print(len(Y))\n",
    "print(len(X_test))\n",
    "print(len(Y_test))"
   ]
  },
  {
   "cell_type": "code",
   "execution_count": 17,
   "id": "3382657a",
   "metadata": {
    "execution": {
     "iopub.execute_input": "2025-02-10T15:17:29.405161Z",
     "iopub.status.busy": "2025-02-10T15:17:29.404795Z",
     "iopub.status.idle": "2025-02-10T15:17:29.412152Z",
     "shell.execute_reply": "2025-02-10T15:17:29.411067Z"
    },
    "papermill": {
     "duration": 0.017185,
     "end_time": "2025-02-10T15:17:29.413814",
     "exception": false,
     "start_time": "2025-02-10T15:17:29.396629",
     "status": "completed"
    },
    "tags": []
   },
   "outputs": [],
   "source": [
    "import matplotlib.pyplot as plt\n",
    "def draw_result(current_cost_list,acc_list,test_acc_list,epoch,lrate,n_layers=1):\n",
    "    fig, axs = plt.subplots(3, 1, figsize=(12, 10))\n",
    "    axs[0].plot(epoch, current_cost_list,label=f'loss_{lrate}')\n",
    "    axs[0].set_title(f'Loss {n_layers}')\n",
    "    axs[0].set_xlabel('Epoch')  # Set x-axis label\n",
    "    axs[0].set_ylabel('Cost Function')  # Set y-axis label\n",
    "    axs[0].legend()\n",
    "    axs[1].plot(epoch, acc_list, label=f'train_acc_{lrate}')\n",
    "    axs[1].set_title(f'Train acc {n_layers}')\n",
    "    axs[1].set_xlabel('Epoch')  # Set x-axis label\n",
    "    axs[1].set_ylabel('Train Accuraccy')  # Set y-axis label\n",
    "    axs[1].legend()\n",
    "    axs[2].plot(epoch, test_acc_list,label=f'test_acc_{lrate}')\n",
    "    axs[2].set_title(f'Test acc {n_layers}')\n",
    "    axs[2].set_xlabel('Epoch')  # Set x-axis label\n",
    "    axs[2].set_ylabel('Test Accuraccy')  # Set y-axis label\n",
    "    axs[2].legend()\n",
    "    fig.subplots_adjust(hspace=0.5)\n",
    "    fig.tight_layout()\n",
    "    plt.show()\n",
    "    fig.savefig(f\"/kaggle/working/chart_nlayer{n_layers}_lrate{lrate}.png\")"
   ]
  },
  {
   "cell_type": "code",
   "execution_count": 18,
   "id": "07edec1e",
   "metadata": {
    "execution": {
     "iopub.execute_input": "2025-02-10T15:17:29.429988Z",
     "iopub.status.busy": "2025-02-10T15:17:29.429627Z",
     "iopub.status.idle": "2025-02-10T15:17:29.435607Z",
     "shell.execute_reply": "2025-02-10T15:17:29.434532Z"
    },
    "papermill": {
     "duration": 0.015985,
     "end_time": "2025-02-10T15:17:29.437226",
     "exception": false,
     "start_time": "2025-02-10T15:17:29.421241",
     "status": "completed"
    },
    "tags": []
   },
   "outputs": [],
   "source": [
    "def make_drop_out_parameter(parameter, drop_rate):\n",
    "    '''\n",
    "    caculate gradient based on dropped gate\n",
    "    update gradient without dropped gate\n",
    "    update on true parameter\n",
    "    '''\n",
    "    param_shape = parameter.shape\n",
    "    total_elem = param_shape[0] * param_shape[1]\n",
    "    num_selected = int(drop_rate * total_elem)  # 30% of 64 = 19\n",
    "    \n",
    "    # Flatten the matrix, randomly select 19 indices\n",
    "    flat_indices = np.random.choice(total_elem, num_selected, replace=False)\n",
    "    \n",
    "    # Create a mask of zeros and set selected positions to 1\n",
    "    index_matrix = np.zeros(total_elem, dtype=bool)\n",
    "    index_matrix[flat_indices] = True\n",
    "    index_matrix = index_matrix.reshape(param_shape[0], param_shape[1])  # Reshape back to 8×8\n",
    "    masked_matrix = np.ones(param_shape, dtype=int)  # Initialize with zeros\n",
    "    masked_matrix[index_matrix,:] = 0  # Set every second row to 1\n",
    "    dropped_param = parameter * masked_matrix\n",
    "    return dropped_param, masked_matrix"
   ]
  },
  {
   "cell_type": "code",
   "execution_count": 19,
   "id": "7a467851",
   "metadata": {
    "execution": {
     "iopub.execute_input": "2025-02-10T15:17:29.453171Z",
     "iopub.status.busy": "2025-02-10T15:17:29.452814Z",
     "iopub.status.idle": "2025-02-10T15:17:29.460906Z",
     "shell.execute_reply": "2025-02-10T15:17:29.459904Z"
    },
    "papermill": {
     "duration": 0.017667,
     "end_time": "2025-02-10T15:17:29.462450",
     "exception": false,
     "start_time": "2025-02-10T15:17:29.444783",
     "status": "completed"
    },
    "tags": []
   },
   "outputs": [
    {
     "data": {
      "text/plain": [
       "tensor([[[-0.00796987,  0.01068265, -0.00628298,  0.00501085]],\n",
       "\n",
       "        [[-0.01010417, -0.0035427 ,  0.01951988, -0.01656777]],\n",
       "\n",
       "        [[ 0.00203564, -0.00349103,  0.01679702,  0.01185322]]], requires_grad=True)"
      ]
     },
     "execution_count": 19,
     "metadata": {},
     "output_type": "execute_result"
    }
   ],
   "source": [
    "params[0]"
   ]
  },
  {
   "cell_type": "code",
   "execution_count": 20,
   "id": "22c964d7",
   "metadata": {
    "execution": {
     "iopub.execute_input": "2025-02-10T15:17:29.478692Z",
     "iopub.status.busy": "2025-02-10T15:17:29.478271Z",
     "iopub.status.idle": "2025-02-10T15:17:48.596685Z",
     "shell.execute_reply": "2025-02-10T15:17:48.595687Z"
    },
    "papermill": {
     "duration": 19.128896,
     "end_time": "2025-02-10T15:17:48.598739",
     "exception": false,
     "start_time": "2025-02-10T15:17:29.469843",
     "status": "completed"
    },
    "tags": []
   },
   "outputs": [],
   "source": [
    "current_cost = cost(params[0],params[1], X=X, Y=Y)"
   ]
  },
  {
   "cell_type": "code",
   "execution_count": 21,
   "id": "fc08869f",
   "metadata": {
    "execution": {
     "iopub.execute_input": "2025-02-10T15:17:48.615866Z",
     "iopub.status.busy": "2025-02-10T15:17:48.615465Z",
     "iopub.status.idle": "2025-02-10T21:12:23.410762Z",
     "shell.execute_reply": "2025-02-10T21:12:23.409351Z"
    },
    "id": "GPXyMxbnsbXv",
    "outputId": "918de71a-c54e-4f74-d877-f6b1bb0e6aed",
    "papermill": {
     "duration": 21274.808267,
     "end_time": "2025-02-10T21:12:23.414912",
     "exception": false,
     "start_time": "2025-02-10T15:17:48.606645",
     "status": "completed"
    },
    "tags": []
   },
   "outputs": [
    {
     "name": "stdout",
     "output_type": "stream",
     "text": [
      "number layers: 1\n",
      "Iter:    1 | Cost: 0.9908389 | Accuracy: 0.6800000 | Test Accuracy: 0.5666667 | Run Time: 148.8426433\n",
      "Iter:    2 | Cost: 1.0180254 | Accuracy: 0.3600000 | Test Accuracy: 0.3333333 | Run Time: 154.2958112\n",
      "Iter:    3 | Cost: 1.0250138 | Accuracy: 0.2800000 | Test Accuracy: 0.3666667 | Run Time: 143.7187834\n",
      "Iter:    4 | Cost: 1.0187399 | Accuracy: 0.3800000 | Test Accuracy: 0.5666667 | Run Time: 136.5920987\n",
      "Iter:    5 | Cost: 1.0112844 | Accuracy: 0.3800000 | Test Accuracy: 0.6666667 | Run Time: 137.2959821\n",
      "Iter:    6 | Cost: 1.0174761 | Accuracy: 0.4000000 | Test Accuracy: 0.4333333 | Run Time: 150.6591983\n",
      "Iter:    7 | Cost: 1.0139557 | Accuracy: 0.3400000 | Test Accuracy: 0.6000000 | Run Time: 155.8143623\n",
      "Iter:    8 | Cost: 0.9924931 | Accuracy: 0.6400000 | Test Accuracy: 0.3333333 | Run Time: 137.5504911\n",
      "Iter:    9 | Cost: 1.0055808 | Accuracy: 0.3400000 | Test Accuracy: 0.4333333 | Run Time: 136.1065421\n",
      "Iter:   10 | Cost: 0.9952647 | Accuracy: 0.5600000 | Test Accuracy: 0.3333333 | Run Time: 149.7660267\n",
      "Iter:   11 | Cost: 1.0017910 | Accuracy: 0.4800000 | Test Accuracy: 0.5333333 | Run Time: 152.4225848\n",
      "Iter:   12 | Cost: 0.9887270 | Accuracy: 0.5200000 | Test Accuracy: 0.3333333 | Run Time: 137.8906605\n",
      "Iter:   13 | Cost: 0.9712540 | Accuracy: 0.7400000 | Test Accuracy: 0.4000000 | Run Time: 137.3703661\n",
      "Iter:   14 | Cost: 0.9686501 | Accuracy: 0.6800000 | Test Accuracy: 0.5333333 | Run Time: 146.8657675\n",
      "Iter:   15 | Cost: 0.9695739 | Accuracy: 0.7400000 | Test Accuracy: 0.4666667 | Run Time: 162.0783777\n",
      "Iter:   16 | Cost: 0.9437518 | Accuracy: 0.8200000 | Test Accuracy: 0.3333333 | Run Time: 136.1068952\n",
      "Iter:   17 | Cost: 0.9420597 | Accuracy: 0.8600000 | Test Accuracy: 0.4000000 | Run Time: 137.8089101\n",
      "Iter:   18 | Cost: 0.9637385 | Accuracy: 0.6600000 | Test Accuracy: 0.5000000 | Run Time: 138.2585549\n",
      "Iter:   19 | Cost: 0.9248108 | Accuracy: 0.9600000 | Test Accuracy: 0.5666667 | Run Time: 150.9716637\n",
      "Iter:   20 | Cost: 0.9297555 | Accuracy: 0.9000000 | Test Accuracy: 0.4333333 | Run Time: 153.6662672\n",
      "Iter:   21 | Cost: 0.9323994 | Accuracy: 0.8400000 | Test Accuracy: 0.4333333 | Run Time: 138.6399279\n",
      "Iter:   22 | Cost: 0.9321640 | Accuracy: 0.9400000 | Test Accuracy: 0.5333333 | Run Time: 138.4874883\n",
      "Iter:   23 | Cost: 0.9628739 | Accuracy: 0.7400000 | Test Accuracy: 0.4666667 | Run Time: 151.5137641\n",
      "Iter:   24 | Cost: 0.9213134 | Accuracy: 0.8800000 | Test Accuracy: 0.5333333 | Run Time: 154.3513732\n",
      "Iter:   25 | Cost: 0.8989477 | Accuracy: 0.8600000 | Test Accuracy: 0.4333333 | Run Time: 135.6604879\n",
      "Iter:   26 | Cost: 0.8954771 | Accuracy: 0.8600000 | Test Accuracy: 0.4333333 | Run Time: 138.0331721\n",
      "Iter:   27 | Cost: 0.8953797 | Accuracy: 0.8800000 | Test Accuracy: 0.3666667 | Run Time: 138.1657565\n",
      "Iter:   28 | Cost: 0.8959947 | Accuracy: 0.8600000 | Test Accuracy: 0.5000000 | Run Time: 159.8332546\n",
      "Iter:   29 | Cost: 0.8811135 | Accuracy: 0.9000000 | Test Accuracy: 0.4333333 | Run Time: 137.2354112\n",
      "Iter:   30 | Cost: 0.8752164 | Accuracy: 0.9200000 | Test Accuracy: 0.4333333 | Run Time: 138.2637012\n",
      "Iter:   31 | Cost: 0.8887676 | Accuracy: 0.9600000 | Test Accuracy: 0.4333333 | Run Time: 136.2848172\n",
      "Iter:   32 | Cost: 0.8722528 | Accuracy: 0.9000000 | Test Accuracy: 0.4666667 | Run Time: 146.9415829\n",
      "Iter:   33 | Cost: 0.8532656 | Accuracy: 0.9400000 | Test Accuracy: 0.4666667 | Run Time: 146.9109337\n",
      "Iter:   34 | Cost: 0.8567776 | Accuracy: 0.8800000 | Test Accuracy: 0.4000000 | Run Time: 134.1981285\n",
      "Iter:   35 | Cost: 0.8648021 | Accuracy: 0.9600000 | Test Accuracy: 0.5000000 | Run Time: 136.5848722\n",
      "Iter:   36 | Cost: 0.8557663 | Accuracy: 0.8800000 | Test Accuracy: 0.4000000 | Run Time: 135.5472894\n",
      "Iter:   37 | Cost: 0.8515762 | Accuracy: 0.9400000 | Test Accuracy: 0.5000000 | Run Time: 155.0768342\n",
      "Iter:   38 | Cost: 0.8564254 | Accuracy: 0.9600000 | Test Accuracy: 0.4666667 | Run Time: 135.8519683\n",
      "Iter:   39 | Cost: 0.8335906 | Accuracy: 0.9600000 | Test Accuracy: 0.4666667 | Run Time: 135.3818996\n",
      "Iter:   40 | Cost: 0.8567555 | Accuracy: 0.9800000 | Test Accuracy: 0.4666667 | Run Time: 134.6044922\n",
      "Iter:   41 | Cost: 0.8428379 | Accuracy: 0.9400000 | Test Accuracy: 0.4666667 | Run Time: 144.2334642\n",
      "Iter:   42 | Cost: 0.8515290 | Accuracy: 0.9400000 | Test Accuracy: 0.4333333 | Run Time: 147.8401227\n",
      "Iter:   43 | Cost: 0.8581046 | Accuracy: 0.9000000 | Test Accuracy: 0.4333333 | Run Time: 135.1160803\n",
      "Iter:   44 | Cost: 0.8436036 | Accuracy: 0.9400000 | Test Accuracy: 0.4000000 | Run Time: 141.7738638\n",
      "Iter:   45 | Cost: 0.8260514 | Accuracy: 0.9200000 | Test Accuracy: 0.4333333 | Run Time: 140.4590559\n",
      "Iter:   46 | Cost: 0.8321097 | Accuracy: 0.9400000 | Test Accuracy: 0.4000000 | Run Time: 158.2247615\n",
      "Iter:   47 | Cost: 0.8245843 | Accuracy: 0.9600000 | Test Accuracy: 0.4666667 | Run Time: 136.9339545\n",
      "Iter:   48 | Cost: 0.8377010 | Accuracy: 0.9600000 | Test Accuracy: 0.4333333 | Run Time: 141.2619412\n",
      "Iter:   49 | Cost: 0.8110697 | Accuracy: 0.9400000 | Test Accuracy: 0.4666667 | Run Time: 135.7310095\n",
      "Iter:   50 | Cost: 0.8205258 | Accuracy: 0.9600000 | Test Accuracy: 0.4333333 | Run Time: 145.6703517\n",
      "Iter:   51 | Cost: 0.8018958 | Accuracy: 0.9800000 | Test Accuracy: 0.4666667 | Run Time: 137.0978181\n",
      "Iter:   52 | Cost: 0.8071253 | Accuracy: 0.9400000 | Test Accuracy: 0.4333333 | Run Time: 135.7205095\n",
      "Iter:   53 | Cost: 0.8072796 | Accuracy: 0.9800000 | Test Accuracy: 0.4666667 | Run Time: 135.2472107\n",
      "Iter:   54 | Cost: 0.8121591 | Accuracy: 0.9200000 | Test Accuracy: 0.4333333 | Run Time: 150.3450389\n",
      "Iter:   55 | Cost: 0.8190928 | Accuracy: 0.9800000 | Test Accuracy: 0.4666667 | Run Time: 154.4397993\n",
      "Iter:   56 | Cost: 0.8150994 | Accuracy: 0.9400000 | Test Accuracy: 0.4666667 | Run Time: 139.2183261\n",
      "Iter:   57 | Cost: 0.8161450 | Accuracy: 0.9600000 | Test Accuracy: 0.4333333 | Run Time: 137.9000480\n",
      "Iter:   58 | Cost: 0.8092316 | Accuracy: 0.9400000 | Test Accuracy: 0.4666667 | Run Time: 152.5029964\n",
      "Iter:   59 | Cost: 0.8115633 | Accuracy: 0.9600000 | Test Accuracy: 0.4333333 | Run Time: 151.3214097\n",
      "Iter:   60 | Cost: 0.7991532 | Accuracy: 0.9600000 | Test Accuracy: 0.4666667 | Run Time: 139.9921088\n",
      "Iter:   61 | Cost: 0.7991335 | Accuracy: 0.9600000 | Test Accuracy: 0.4333333 | Run Time: 140.4844372\n",
      "Iter:   62 | Cost: 0.7941670 | Accuracy: 0.9600000 | Test Accuracy: 0.4666667 | Run Time: 138.5181935\n",
      "Iter:   63 | Cost: 0.7892820 | Accuracy: 0.9600000 | Test Accuracy: 0.4333333 | Run Time: 159.7874975\n",
      "Iter:   64 | Cost: 0.7891236 | Accuracy: 0.9600000 | Test Accuracy: 0.4666667 | Run Time: 137.4216471\n",
      "Iter:   65 | Cost: 0.7810695 | Accuracy: 0.9800000 | Test Accuracy: 0.4666667 | Run Time: 138.7342033\n",
      "Iter:   66 | Cost: 0.7808785 | Accuracy: 0.9600000 | Test Accuracy: 0.4666667 | Run Time: 139.6620247\n",
      "Iter:   67 | Cost: 0.7736152 | Accuracy: 0.9800000 | Test Accuracy: 0.4666667 | Run Time: 149.8435886\n",
      "Iter:   68 | Cost: 0.7730755 | Accuracy: 0.9600000 | Test Accuracy: 0.4666667 | Run Time: 151.9162283\n",
      "Iter:   69 | Cost: 0.7683469 | Accuracy: 0.9800000 | Test Accuracy: 0.4666667 | Run Time: 138.7710507\n",
      "Iter:   70 | Cost: 0.7677438 | Accuracy: 0.9600000 | Test Accuracy: 0.4666667 | Run Time: 137.4724407\n",
      "Iter:   71 | Cost: 0.7656832 | Accuracy: 0.9800000 | Test Accuracy: 0.4666667 | Run Time: 150.5078011\n",
      "Iter:   72 | Cost: 0.7653014 | Accuracy: 0.9600000 | Test Accuracy: 0.4666667 | Run Time: 153.1928740\n",
      "Iter:   73 | Cost: 0.7649827 | Accuracy: 0.9800000 | Test Accuracy: 0.4666667 | Run Time: 139.8139930\n",
      "Iter:   74 | Cost: 0.7652385 | Accuracy: 0.9600000 | Test Accuracy: 0.4666667 | Run Time: 137.4009392\n",
      "Iter:   75 | Cost: 0.7645275 | Accuracy: 0.9800000 | Test Accuracy: 0.4666667 | Run Time: 137.3220382\n",
      "Iter:   76 | Cost: 0.7660477 | Accuracy: 0.9600000 | Test Accuracy: 0.4666667 | Run Time: 154.6182241\n",
      "Iter:   77 | Cost: 0.7638254 | Accuracy: 0.9800000 | Test Accuracy: 0.4666667 | Run Time: 137.4477794\n",
      "Iter:   78 | Cost: 0.7669606 | Accuracy: 0.9800000 | Test Accuracy: 0.4666667 | Run Time: 136.2493362\n",
      "Iter:   79 | Cost: 0.7648158 | Accuracy: 0.9800000 | Test Accuracy: 0.4666667 | Run Time: 135.9336355\n",
      "Iter:   80 | Cost: 0.7687622 | Accuracy: 0.9600000 | Test Accuracy: 0.4333333 | Run Time: 152.1251135\n",
      "Iter:   81 | Cost: 0.7674051 | Accuracy: 0.9800000 | Test Accuracy: 0.4666667 | Run Time: 152.9204795\n",
      "Iter:   82 | Cost: 0.7696413 | Accuracy: 0.9600000 | Test Accuracy: 0.4333333 | Run Time: 137.5732312\n",
      "Iter:   83 | Cost: 0.7666064 | Accuracy: 0.9600000 | Test Accuracy: 0.4666667 | Run Time: 136.4140904\n",
      "Iter:   84 | Cost: 0.7661619 | Accuracy: 0.9600000 | Test Accuracy: 0.4333333 | Run Time: 148.8878527\n",
      "Iter:   85 | Cost: 0.7615439 | Accuracy: 0.9600000 | Test Accuracy: 0.4666667 | Run Time: 151.2085071\n",
      "Iter:   86 | Cost: 0.7606964 | Accuracy: 0.9600000 | Test Accuracy: 0.4333333 | Run Time: 136.9501221\n",
      "Iter:   87 | Cost: 0.7564662 | Accuracy: 0.9600000 | Test Accuracy: 0.4666667 | Run Time: 136.2694781\n",
      "Iter:   88 | Cost: 0.7560990 | Accuracy: 0.9400000 | Test Accuracy: 0.4000000 | Run Time: 135.6515019\n",
      "Iter:   89 | Cost: 0.7525704 | Accuracy: 0.9600000 | Test Accuracy: 0.4666667 | Run Time: 152.2771173\n",
      "Iter:   90 | Cost: 0.7523868 | Accuracy: 0.9400000 | Test Accuracy: 0.4000000 | Run Time: 142.9649351\n",
      "Iter:   91 | Cost: 0.7494473 | Accuracy: 0.9600000 | Test Accuracy: 0.4666667 | Run Time: 138.2717242\n",
      "Iter:   92 | Cost: 0.7493557 | Accuracy: 0.9400000 | Test Accuracy: 0.4000000 | Run Time: 145.6110649\n",
      "Iter:   93 | Cost: 0.7470841 | Accuracy: 0.9800000 | Test Accuracy: 0.4666667 | Run Time: 138.5467224\n",
      "Iter:   94 | Cost: 0.7470913 | Accuracy: 0.9400000 | Test Accuracy: 0.4000000 | Run Time: 140.2201622\n",
      "Iter:   95 | Cost: 0.7454322 | Accuracy: 0.9800000 | Test Accuracy: 0.4666667 | Run Time: 141.2256532\n",
      "Iter:   96 | Cost: 0.7454329 | Accuracy: 0.9600000 | Test Accuracy: 0.4333333 | Run Time: 138.7686088\n",
      "Iter:   97 | Cost: 0.7441502 | Accuracy: 0.9800000 | Test Accuracy: 0.4666667 | Run Time: 137.4104047\n",
      "Iter:   98 | Cost: 0.7441600 | Accuracy: 0.9600000 | Test Accuracy: 0.4333333 | Run Time: 139.8552198\n",
      "Iter:   99 | Cost: 0.7430999 | Accuracy: 0.9800000 | Test Accuracy: 0.4666667 | Run Time: 139.3113153\n",
      "Iter:  100 | Cost: 0.7432674 | Accuracy: 0.9600000 | Test Accuracy: 0.4333333 | Run Time: 136.7053866\n",
      "Iter:  101 | Cost: 0.7423671 | Accuracy: 0.9800000 | Test Accuracy: 0.4666667 | Run Time: 138.7099719\n",
      "Iter:  102 | Cost: 0.7425878 | Accuracy: 0.9600000 | Test Accuracy: 0.4333333 | Run Time: 138.8213799\n",
      "Iter:  103 | Cost: 0.7416853 | Accuracy: 0.9800000 | Test Accuracy: 0.4666667 | Run Time: 137.3785694\n",
      "Iter:  104 | Cost: 0.7416241 | Accuracy: 0.9600000 | Test Accuracy: 0.4333333 | Run Time: 141.2448580\n",
      "Iter:  105 | Cost: 0.7405353 | Accuracy: 0.9600000 | Test Accuracy: 0.4333333 | Run Time: 137.3839555\n",
      "Iter:  106 | Cost: 0.7400114 | Accuracy: 0.9600000 | Test Accuracy: 0.4333333 | Run Time: 136.6917415\n",
      "Iter:  107 | Cost: 0.7385944 | Accuracy: 0.9600000 | Test Accuracy: 0.4333333 | Run Time: 143.0464618\n",
      "Iter:  108 | Cost: 0.7375442 | Accuracy: 0.9600000 | Test Accuracy: 0.4333333 | Run Time: 141.2201159\n",
      "Iter:  109 | Cost: 0.7357376 | Accuracy: 0.9600000 | Test Accuracy: 0.4333333 | Run Time: 146.8790224\n",
      "Iter:  110 | Cost: 0.7342152 | Accuracy: 0.9600000 | Test Accuracy: 0.4333333 | Run Time: 138.8075218\n",
      "Iter:  111 | Cost: 0.7322067 | Accuracy: 0.9800000 | Test Accuracy: 0.4666667 | Run Time: 139.3508723\n",
      "Iter:  112 | Cost: 0.7304875 | Accuracy: 0.9600000 | Test Accuracy: 0.4333333 | Run Time: 137.9571505\n",
      "Iter:  113 | Cost: 0.7285505 | Accuracy: 0.9800000 | Test Accuracy: 0.4666667 | Run Time: 139.3025365\n",
      "Iter:  114 | Cost: 0.7269091 | Accuracy: 0.9600000 | Test Accuracy: 0.4333333 | Run Time: 137.7484527\n",
      "Iter:  115 | Cost: 0.7251714 | Accuracy: 0.9800000 | Test Accuracy: 0.4666667 | Run Time: 137.0787458\n",
      "Iter:  116 | Cost: 0.7237215 | Accuracy: 0.9600000 | Test Accuracy: 0.4333333 | Run Time: 140.1290517\n",
      "Iter:  117 | Cost: 0.7221911 | Accuracy: 0.9800000 | Test Accuracy: 0.4666667 | Run Time: 139.7563481\n",
      "Iter:  118 | Cost: 0.7209397 | Accuracy: 0.9600000 | Test Accuracy: 0.4333333 | Run Time: 138.5482171\n",
      "Iter:  119 | Cost: 0.7196038 | Accuracy: 0.9800000 | Test Accuracy: 0.4666667 | Run Time: 138.2475247\n",
      "Iter:  120 | Cost: 0.7185357 | Accuracy: 0.9600000 | Test Accuracy: 0.4333333 | Run Time: 139.2592821\n",
      "Iter:  121 | Cost: 0.7174075 | Accuracy: 0.9800000 | Test Accuracy: 0.4666667 | Run Time: 137.9751892\n",
      "Iter:  122 | Cost: 0.7165299 | Accuracy: 0.9600000 | Test Accuracy: 0.4333333 | Run Time: 137.9748533\n",
      "Iter:  123 | Cost: 0.7156514 | Accuracy: 0.9800000 | Test Accuracy: 0.4666667 | Run Time: 139.2986417\n",
      "Iter:  124 | Cost: 0.7150058 | Accuracy: 0.9600000 | Test Accuracy: 0.4333333 | Run Time: 139.2347713\n",
      "Iter:  125 | Cost: 0.7144258 | Accuracy: 0.9800000 | Test Accuracy: 0.4666667 | Run Time: 138.1006322\n",
      "Iter:  126 | Cost: 0.7140605 | Accuracy: 0.9600000 | Test Accuracy: 0.4333333 | Run Time: 139.8889952\n",
      "Iter:  127 | Cost: 0.7137843 | Accuracy: 0.9800000 | Test Accuracy: 0.4666667 | Run Time: 136.9211845\n",
      "Iter:  128 | Cost: 0.7136874 | Accuracy: 0.9600000 | Test Accuracy: 0.4333333 | Run Time: 148.5265565\n",
      "Iter:  129 | Cost: 0.7136110 | Accuracy: 0.9800000 | Test Accuracy: 0.4666667 | Run Time: 138.7155292\n",
      "Iter:  130 | Cost: 0.7136503 | Accuracy: 0.9600000 | Test Accuracy: 0.4333333 | Run Time: 138.5338972\n",
      "Iter:  131 | Cost: 0.7135520 | Accuracy: 0.9800000 | Test Accuracy: 0.4666667 | Run Time: 136.6114888\n",
      "Iter:  132 | Cost: 0.7135165 | Accuracy: 0.9600000 | Test Accuracy: 0.4333333 | Run Time: 139.8532512\n",
      "Iter:  133 | Cost: 0.7131788 | Accuracy: 0.9800000 | Test Accuracy: 0.4666667 | Run Time: 135.9620032\n",
      "Iter:  134 | Cost: 0.7129264 | Accuracy: 0.9600000 | Test Accuracy: 0.4333333 | Run Time: 137.1714110\n",
      "Iter:  135 | Cost: 0.7122924 | Accuracy: 0.9800000 | Test Accuracy: 0.4666667 | Run Time: 140.2547097\n",
      "Iter:  136 | Cost: 0.7118359 | Accuracy: 0.9600000 | Test Accuracy: 0.4333333 | Run Time: 137.2976971\n",
      "Iter:  137 | Cost: 0.7110167 | Accuracy: 0.9800000 | Test Accuracy: 0.4666667 | Run Time: 140.8259690\n",
      "Iter:  138 | Cost: 0.7104634 | Accuracy: 0.9600000 | Test Accuracy: 0.4333333 | Run Time: 138.9390681\n",
      "Iter:  139 | Cost: 0.7096223 | Accuracy: 0.9800000 | Test Accuracy: 0.4666667 | Run Time: 139.7387390\n",
      "Iter:  140 | Cost: 0.7090798 | Accuracy: 0.9600000 | Test Accuracy: 0.4333333 | Run Time: 140.1226943\n",
      "Iter:  141 | Cost: 0.7083434 | Accuracy: 0.9800000 | Test Accuracy: 0.4666667 | Run Time: 139.5325553\n",
      "Iter:  142 | Cost: 0.7078785 | Accuracy: 0.9600000 | Test Accuracy: 0.4333333 | Run Time: 152.2868266\n",
      "Iter:  143 | Cost: 0.7073161 | Accuracy: 0.9800000 | Test Accuracy: 0.4666667 | Run Time: 141.6746283\n",
      "Iter:  144 | Cost: 0.7069551 | Accuracy: 0.9600000 | Test Accuracy: 0.4333333 | Run Time: 140.4478602\n",
      "Iter:  145 | Cost: 0.7065871 | Accuracy: 0.9800000 | Test Accuracy: 0.4666667 | Run Time: 138.4254637\n",
      "Iter:  146 | Cost: 0.7063254 | Accuracy: 0.9600000 | Test Accuracy: 0.4333333 | Run Time: 144.1114447\n",
      "Iter:  147 | Cost: 0.7061318 | Accuracy: 0.9800000 | Test Accuracy: 0.4666667 | Run Time: 142.4054334\n",
      "Iter:  148 | Cost: 0.7059395 | Accuracy: 0.9600000 | Test Accuracy: 0.4333333 | Run Time: 139.1677792\n",
      "Iter:  149 | Cost: 0.7058645 | Accuracy: 0.9800000 | Test Accuracy: 0.4666667 | Run Time: 138.2415543\n",
      "Iter:  150 | Cost: 0.7056921 | Accuracy: 0.9600000 | Test Accuracy: 0.4333333 | Run Time: 140.8256607\n"
     ]
    },
    {
     "data": {
      "image/png": "[encoded data removed]",
      "text/plain": [
       "<Figure size 1200x1000 with 3 Axes>"
      ]
     },
     "metadata": {},
     "output_type": "display_data"
    },
    {
     "name": "stdout",
     "output_type": "stream",
     "text": [
      "[[[-1.41852629  0.31231805  2.04704859  0.06215998]]\n",
      "\n",
      " [[-0.01010417 -0.0035427   0.01951988 -0.01656777]]\n",
      "\n",
      " [[ 0.42682126  0.42849339  0.06884026  0.23518069]]]\n"
     ]
    }
   ],
   "source": [
    "import time\n",
    "learning_rate = [0.5]\n",
    "num_layers = [1]\n",
    "for n_layers in num_layers:\n",
    "    lrate = 0.5\n",
    "    print(\"number layers:\", n_layers)\n",
    "\n",
    "    opt = AdagradOptimizer(stepsize=lrate)\n",
    "    current_cost_list = []\n",
    "    acc_list = []\n",
    "    test_acc_list = []\n",
    "    epoch = []\n",
    "    for it in range(150):\n",
    "        start_time = time.time()\n",
    "        # apply drop out\n",
    "        dropped_parameters, masked_matrix = make_drop_out_parameter(params[1], 0.0)\n",
    "        dropped_params = (params[0], dropped_parameters)\n",
    "        gradient_value, current_cost = opt.compute_grad(objective_fn=cost, args=dropped_params, kwargs={\"X\": X, \"Y\": Y})\n",
    "        dropped_gradient = (gradient_value[0], gradient_value[1] * masked_matrix)\n",
    "        params = opt.apply_grad(grad=dropped_gradient, args=params)\n",
    "        current_cost = cost(params[0],params[1], X=X, Y=Y)\n",
    "        current_cost_list.append(current_cost)\n",
    "        weights = params[0]\n",
    "        parameters = params[1]\n",
    "        # Compute accuracy on train\n",
    "        predictions = [np.sign(full_circuit(x,weights,parameters=parameters,num_layers=n_layers)) for x in X_batch]\n",
    "        acc = accuracy(Y_batch, predictions)\n",
    "        acc_list.append(acc)\n",
    "        \n",
    "        # Compute accuracy on test\n",
    "        predictions_test = [np.sign(full_circuit(x,weights,parameters=parameters, num_layers=n_layers)) for x in X_test_batch]\n",
    "        test_acc = accuracy(Y_test_batch, predictions)\n",
    "        test_acc_list.append(test_acc)\n",
    "        epoch.append(it)\n",
    "        \n",
    "        # Redraw the updated plot\n",
    "        end_time = time.time() - start_time\n",
    "        print(f\"Iter: {it+1:4d} | Cost: {current_cost:0.7f} | Accuracy: {acc:0.7f} | Test Accuracy: {test_acc:0.7f} | Run Time: {end_time:0.7f}\")   \n",
    "    draw_result(current_cost_list,acc_list,test_acc_list,epoch,lrate,n_layers)\n",
    "    print(weights)"
   ]
  },
  {
   "cell_type": "code",
   "execution_count": 22,
   "id": "5081bebf",
   "metadata": {
    "execution": {
     "iopub.execute_input": "2025-02-10T21:12:23.460276Z",
     "iopub.status.busy": "2025-02-10T21:12:23.459894Z",
     "iopub.status.idle": "2025-02-10T21:12:35.107220Z",
     "shell.execute_reply": "2025-02-10T21:12:35.106098Z"
    },
    "id": "flb82L4ZBY6x",
    "papermill": {
     "duration": 11.67175,
     "end_time": "2025-02-10T21:12:35.109051",
     "exception": false,
     "start_time": "2025-02-10T21:12:23.437301",
     "status": "completed"
    },
    "tags": []
   },
   "outputs": [
    {
     "name": "stdout",
     "output_type": "stream",
     "text": [
      "Final test, accuracy_test: 0.36666666666666664\n"
     ]
    }
   ],
   "source": [
    "# Compute accuracy\n",
    "weights = params[0]\n",
    "parameters = params[1]\n",
    "predictions = [np.sign(full_circuit(x,weights,parameters, 1)) for x in X_test]\n",
    "acc = accuracy(Y_test, predictions)\n",
    "print(f\"Final test, accuracy_test: {acc}\")"
   ]
  }
 ],
 "metadata": {
  "colab": {
   "provenance": []
  },
  "kaggle": {
   "accelerator": "none",
   "dataSources": [
    {
     "datasetId": 6593060,
     "sourceId": 10648027,
     "sourceType": "datasetVersion"
    }
   ],
   "dockerImageVersionId": 30886,
   "isGpuEnabled": false,
   "isInternetEnabled": true,
   "language": "python",
   "sourceType": "notebook"
  },
  "kernelspec": {
   "display_name": "Python 3",
   "language": "python",
   "name": "python3"
  },
  "language_info": {
   "codemirror_mode": {
    "name": "ipython",
    "version": 3
   },
   "file_extension": ".py",
   "mimetype": "text/x-python",
   "name": "python",
   "nbconvert_exporter": "python",
   "pygments_lexer": "ipython3",
   "version": "3.10.12"
  },
  "papermill": {
   "default_parameters": {},
   "duration": 21342.835853,
   "end_time": "2025-02-10T21:12:38.749341",
   "environment_variables": {},
   "exception": null,
   "input_path": "__notebook__.ipynb",
   "output_path": "__notebook__.ipynb",
   "parameters": {},
   "start_time": "2025-02-10T15:16:55.913488",
   "version": "2.6.0"
  }
 },
 "nbformat": 4,
 "nbformat_minor": 5
}
