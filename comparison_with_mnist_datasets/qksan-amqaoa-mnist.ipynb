{
 "cells": [
  {
   "cell_type": "code",
   "execution_count": 1,
   "id": "3abd71b9",
   "metadata": {
    "execution": {
     "iopub.execute_input": "2025-02-08T10:56:24.661675Z",
     "iopub.status.busy": "2025-02-08T10:56:24.661226Z",
     "iopub.status.idle": "2025-02-08T10:56:34.147998Z",
     "shell.execute_reply": "2025-02-08T10:56:34.146765Z"
    },
    "id": "fFqvK319LrYK",
    "outputId": "7a236944-aeb9-42e1-8ea9-4f5a4d6a23ec",
    "papermill": {
     "duration": 9.495236,
     "end_time": "2025-02-08T10:56:34.150094",
     "exception": false,
     "start_time": "2025-02-08T10:56:24.654858",
     "status": "completed"
    },
    "tags": []
   },
   "outputs": [
    {
     "name": "stdout",
     "output_type": "stream",
     "text": [
      "Collecting pennylane\r\n",
      "  Downloading PennyLane-0.40.0-py3-none-any.whl.metadata (10 kB)\r\n",
      "Requirement already satisfied: numpy<2.1 in /usr/local/lib/python3.10/dist-packages (from pennylane) (1.26.4)\r\n",
      "Requirement already satisfied: scipy in /usr/local/lib/python3.10/dist-packages (from pennylane) (1.13.1)\r\n",
      "Requirement already satisfied: networkx in /usr/local/lib/python3.10/dist-packages (from pennylane) (3.4.2)\r\n",
      "Collecting rustworkx>=0.14.0 (from pennylane)\r\n",
      "  Downloading rustworkx-0.16.0-cp39-abi3-manylinux_2_17_x86_64.manylinux2014_x86_64.whl.metadata (10 kB)\r\n",
      "Requirement already satisfied: autograd in /usr/local/lib/python3.10/dist-packages (from pennylane) (1.7.0)\r\n",
      "Collecting tomlkit (from pennylane)\r\n",
      "  Downloading tomlkit-0.13.2-py3-none-any.whl.metadata (2.7 kB)\r\n",
      "Collecting appdirs (from pennylane)\r\n",
      "  Downloading appdirs-1.4.4-py2.py3-none-any.whl.metadata (9.0 kB)\r\n",
      "Collecting autoray>=0.6.11 (from pennylane)\r\n",
      "  Downloading autoray-0.7.0-py3-none-any.whl.metadata (5.8 kB)\r\n",
      "Requirement already satisfied: cachetools in /usr/local/lib/python3.10/dist-packages (from pennylane) (5.5.0)\r\n",
      "Collecting pennylane-lightning>=0.40 (from pennylane)\r\n",
      "  Downloading PennyLane_Lightning-0.40.0-cp310-cp310-manylinux_2_28_x86_64.whl.metadata (27 kB)\r\n",
      "Requirement already satisfied: requests in /usr/local/lib/python3.10/dist-packages (from pennylane) (2.32.3)\r\n",
      "Requirement already satisfied: typing-extensions in /usr/local/lib/python3.10/dist-packages (from pennylane) (4.12.2)\r\n",
      "Requirement already satisfied: packaging in /usr/local/lib/python3.10/dist-packages (from pennylane) (24.2)\r\n",
      "Collecting diastatic-malt (from pennylane)\r\n",
      "  Downloading diastatic_malt-2.15.2-py3-none-any.whl.metadata (2.6 kB)\r\n",
      "Requirement already satisfied: mkl_fft in /usr/local/lib/python3.10/dist-packages (from numpy<2.1->pennylane) (1.3.8)\r\n",
      "Requirement already satisfied: mkl_random in /usr/local/lib/python3.10/dist-packages (from numpy<2.1->pennylane) (1.2.4)\r\n",
      "Requirement already satisfied: mkl_umath in /usr/local/lib/python3.10/dist-packages (from numpy<2.1->pennylane) (0.1.1)\r\n",
      "Requirement already satisfied: mkl in /usr/local/lib/python3.10/dist-packages (from numpy<2.1->pennylane) (2025.0.1)\r\n",
      "Requirement already satisfied: tbb4py in /usr/local/lib/python3.10/dist-packages (from numpy<2.1->pennylane) (2022.0.0)\r\n",
      "Requirement already satisfied: mkl-service in /usr/local/lib/python3.10/dist-packages (from numpy<2.1->pennylane) (2.4.1)\r\n",
      "Collecting scipy-openblas32>=0.3.26 (from pennylane-lightning>=0.40->pennylane)\r\n",
      "  Downloading scipy_openblas32-0.3.29.0.0-py3-none-manylinux_2_17_x86_64.manylinux2014_x86_64.whl.metadata (56 kB)\r\n",
      "\u001b[2K     \u001b[90m━━━━━━━━━━━━━━━━━━━━━━━━━━━━━━━━━━━━━━━━\u001b[0m \u001b[32m56.1/56.1 kB\u001b[0m \u001b[31m2.4 MB/s\u001b[0m eta \u001b[36m0:00:00\u001b[0m\r\n",
      "\u001b[?25hRequirement already satisfied: astunparse in /usr/local/lib/python3.10/dist-packages (from diastatic-malt->pennylane) (1.6.3)\r\n",
      "Requirement already satisfied: gast in /usr/local/lib/python3.10/dist-packages (from diastatic-malt->pennylane) (0.6.0)\r\n",
      "Requirement already satisfied: termcolor in /usr/local/lib/python3.10/dist-packages (from diastatic-malt->pennylane) (2.5.0)\r\n",
      "Requirement already satisfied: charset-normalizer<4,>=2 in /usr/local/lib/python3.10/dist-packages (from requests->pennylane) (3.4.1)\r\n",
      "Requirement already satisfied: idna<4,>=2.5 in /usr/local/lib/python3.10/dist-packages (from requests->pennylane) (3.10)\r\n",
      "Requirement already satisfied: urllib3<3,>=1.21.1 in /usr/local/lib/python3.10/dist-packages (from requests->pennylane) (2.3.0)\r\n",
      "Requirement already satisfied: certifi>=2017.4.17 in /usr/local/lib/python3.10/dist-packages (from requests->pennylane) (2025.1.31)\r\n",
      "Requirement already satisfied: wheel<1.0,>=0.23.0 in /usr/local/lib/python3.10/dist-packages (from astunparse->diastatic-malt->pennylane) (0.45.1)\r\n",
      "Requirement already satisfied: six<2.0,>=1.6.1 in /usr/local/lib/python3.10/dist-packages (from astunparse->diastatic-malt->pennylane) (1.17.0)\r\n",
      "Requirement already satisfied: intel-openmp>=2024 in /usr/local/lib/python3.10/dist-packages (from mkl->numpy<2.1->pennylane) (2024.2.0)\r\n",
      "Requirement already satisfied: tbb==2022.* in /usr/local/lib/python3.10/dist-packages (from mkl->numpy<2.1->pennylane) (2022.0.0)\r\n",
      "Requirement already satisfied: tcmlib==1.* in /usr/local/lib/python3.10/dist-packages (from tbb==2022.*->mkl->numpy<2.1->pennylane) (1.2.0)\r\n",
      "Requirement already satisfied: intel-cmplr-lib-rt in /usr/local/lib/python3.10/dist-packages (from mkl_umath->numpy<2.1->pennylane) (2024.2.0)\r\n",
      "Requirement already satisfied: intel-cmplr-lib-ur==2024.2.0 in /usr/local/lib/python3.10/dist-packages (from intel-openmp>=2024->mkl->numpy<2.1->pennylane) (2024.2.0)\r\n",
      "Downloading PennyLane-0.40.0-py3-none-any.whl (2.0 MB)\r\n",
      "\u001b[2K   \u001b[90m━━━━━━━━━━━━━━━━━━━━━━━━━━━━━━━━━━━━━━━━\u001b[0m \u001b[32m2.0/2.0 MB\u001b[0m \u001b[31m36.6 MB/s\u001b[0m eta \u001b[36m0:00:00\u001b[0m\r\n",
      "\u001b[?25hDownloading autoray-0.7.0-py3-none-any.whl (930 kB)\r\n",
      "\u001b[2K   \u001b[90m━━━━━━━━━━━━━━━━━━━━━━━━━━━━━━━━━━━━━━━━\u001b[0m \u001b[32m930.0/930.0 kB\u001b[0m \u001b[31m30.8 MB/s\u001b[0m eta \u001b[36m0:00:00\u001b[0m\r\n",
      "\u001b[?25hDownloading PennyLane_Lightning-0.40.0-cp310-cp310-manylinux_2_28_x86_64.whl (2.4 MB)\r\n",
      "\u001b[2K   \u001b[90m━━━━━━━━━━━━━━━━━━━━━━━━━━━━━━━━━━━━━━━━\u001b[0m \u001b[32m2.4/2.4 MB\u001b[0m \u001b[31m60.8 MB/s\u001b[0m eta \u001b[36m0:00:00\u001b[0m\r\n",
      "\u001b[?25hDownloading rustworkx-0.16.0-cp39-abi3-manylinux_2_17_x86_64.manylinux2014_x86_64.whl (2.1 MB)\r\n",
      "\u001b[2K   \u001b[90m━━━━━━━━━━━━━━━━━━━━━━━━━━━━━━━━━━━━━━━━\u001b[0m \u001b[32m2.1/2.1 MB\u001b[0m \u001b[31m55.2 MB/s\u001b[0m eta \u001b[36m0:00:00\u001b[0m\r\n",
      "\u001b[?25hDownloading appdirs-1.4.4-py2.py3-none-any.whl (9.6 kB)\r\n",
      "Downloading diastatic_malt-2.15.2-py3-none-any.whl (167 kB)\r\n",
      "\u001b[2K   \u001b[90m━━━━━━━━━━━━━━━━━━━━━━━━━━━━━━━━━━━━━━━━\u001b[0m \u001b[32m167.9/167.9 kB\u001b[0m \u001b[31m7.4 MB/s\u001b[0m eta \u001b[36m0:00:00\u001b[0m\r\n",
      "\u001b[?25hDownloading tomlkit-0.13.2-py3-none-any.whl (37 kB)\r\n",
      "Downloading scipy_openblas32-0.3.29.0.0-py3-none-manylinux_2_17_x86_64.manylinux2014_x86_64.whl (8.6 MB)\r\n",
      "\u001b[2K   \u001b[90m━━━━━━━━━━━━━━━━━━━━━━━━━━━━━━━━━━━━━━━━\u001b[0m \u001b[32m8.6/8.6 MB\u001b[0m \u001b[31m78.0 MB/s\u001b[0m eta \u001b[36m0:00:00\u001b[0m\r\n",
      "\u001b[?25hInstalling collected packages: appdirs, tomlkit, scipy-openblas32, autoray, diastatic-malt, rustworkx, pennylane-lightning, pennylane\r\n",
      "Successfully installed appdirs-1.4.4 autoray-0.7.0 diastatic-malt-2.15.2 pennylane-0.40.0 pennylane-lightning-0.40.0 rustworkx-0.16.0 scipy-openblas32-0.3.29.0.0 tomlkit-0.13.2\r\n"
     ]
    }
   ],
   "source": [
    "!pip install pennylane --upgrade"
   ]
  },
  {
   "cell_type": "code",
   "execution_count": 2,
   "id": "942c4e5d",
   "metadata": {
    "execution": {
     "iopub.execute_input": "2025-02-08T10:56:34.163729Z",
     "iopub.status.busy": "2025-02-08T10:56:34.163369Z",
     "iopub.status.idle": "2025-02-08T10:56:40.054589Z",
     "shell.execute_reply": "2025-02-08T10:56:40.053619Z"
    },
    "id": "FFJK-CEdMV_k",
    "papermill": {
     "duration": 5.900059,
     "end_time": "2025-02-08T10:56:40.056573",
     "exception": false,
     "start_time": "2025-02-08T10:56:34.156514",
     "status": "completed"
    },
    "tags": []
   },
   "outputs": [],
   "source": [
    "import pennylane as qml\n",
    "from pennylane import numpy as np\n",
    "from pennylane.optimize import NesterovMomentumOptimizer,GradientDescentOptimizer"
   ]
  },
  {
   "cell_type": "code",
   "execution_count": 3,
   "id": "fa5958a6",
   "metadata": {
    "execution": {
     "iopub.execute_input": "2025-02-08T10:56:40.071187Z",
     "iopub.status.busy": "2025-02-08T10:56:40.070518Z",
     "iopub.status.idle": "2025-02-08T10:56:40.076334Z",
     "shell.execute_reply": "2025-02-08T10:56:40.075358Z"
    },
    "id": "smb0Dy5CN7yB",
    "papermill": {
     "duration": 0.015387,
     "end_time": "2025-02-08T10:56:40.078116",
     "exception": false,
     "start_time": "2025-02-08T10:56:40.062729",
     "status": "completed"
    },
    "tags": []
   },
   "outputs": [],
   "source": [
    "dev = qml.device(\"default.qubit\", wires=6)"
   ]
  },
  {
   "cell_type": "code",
   "execution_count": 4,
   "id": "50b5a376",
   "metadata": {
    "execution": {
     "iopub.execute_input": "2025-02-08T10:56:40.090857Z",
     "iopub.status.busy": "2025-02-08T10:56:40.090515Z",
     "iopub.status.idle": "2025-02-08T10:56:40.095245Z",
     "shell.execute_reply": "2025-02-08T10:56:40.094272Z"
    },
    "id": "qUYC1E6rRtBI",
    "papermill": {
     "duration": 0.012907,
     "end_time": "2025-02-08T10:56:40.096896",
     "exception": false,
     "start_time": "2025-02-08T10:56:40.083989",
     "status": "completed"
    },
    "tags": []
   },
   "outputs": [],
   "source": [
    "def amplitude_encoding(x, wires):\n",
    "  qml.AmplitudeEmbedding(features=x, wires=wires, normalize=True)\n",
    "\n",
    "def amplitude_encoding_inverse(x, wires):\n",
    "  qml.adjoint(qml.AmplitudeEmbedding)(features=x, wires=wires, normalize=True)"
   ]
  },
  {
   "cell_type": "code",
   "execution_count": 5,
   "id": "f730a839",
   "metadata": {
    "execution": {
     "iopub.execute_input": "2025-02-08T10:56:40.109825Z",
     "iopub.status.busy": "2025-02-08T10:56:40.109462Z",
     "iopub.status.idle": "2025-02-08T10:56:40.115877Z",
     "shell.execute_reply": "2025-02-08T10:56:40.114929Z"
    },
    "id": "PbL9i9kJUnl5",
    "outputId": "2b9e13ff-ce49-46a4-cd6b-bfc0f114c476",
    "papermill": {
     "duration": 0.014932,
     "end_time": "2025-02-08T10:56:40.117755",
     "exception": false,
     "start_time": "2025-02-08T10:56:40.102823",
     "status": "completed"
    },
    "tags": []
   },
   "outputs": [],
   "source": [
    "def qaoa_ansatz(number_qubit,start_wire, theta):\n",
    "  '''\n",
    "  theta_size = 2n\n",
    "  start_wires = 0 or 4\n",
    "  '''\n",
    "\n",
    "  for i in range(number_qubit):\n",
    "    qml.H(wires=[i+start_wire])\n",
    "    qml.RY(theta[i], wires=[i+start_wire])\n",
    "  for i in range(number_qubit):\n",
    "    c = i\n",
    "    if c == number_qubit-1:\n",
    "      f = number_qubit-1\n",
    "      c = 0\n",
    "    else:\n",
    "      f = c+1\n",
    "    qml.CNOT(wires=[c+start_wire,f+start_wire])\n",
    "    qml.RZ(theta[number_qubit+i], wires=[f+start_wire])\n",
    "    qml.CNOT(wires=[c+start_wire,f+start_wire])\n",
    "# print(qml.draw(qaoa_ansatz)(3,3, [1,2,3,4,5,6,7,8]))\n"
   ]
  },
  {
   "cell_type": "code",
   "execution_count": 6,
   "id": "e02d350a",
   "metadata": {
    "execution": {
     "iopub.execute_input": "2025-02-08T10:56:40.130846Z",
     "iopub.status.busy": "2025-02-08T10:56:40.130492Z",
     "iopub.status.idle": "2025-02-08T10:56:40.136130Z",
     "shell.execute_reply": "2025-02-08T10:56:40.135070Z"
    },
    "id": "pl9ghVmZFmiw",
    "outputId": "fd5bdc09-08d9-44a4-99cd-9c3351365f4c",
    "papermill": {
     "duration": 0.014433,
     "end_time": "2025-02-08T10:56:40.138087",
     "exception": false,
     "start_time": "2025-02-08T10:56:40.123654",
     "status": "completed"
    },
    "tags": []
   },
   "outputs": [],
   "source": [
    "def hardware_effificent_ansatz(number_qubit, theta):\n",
    "  '''\n",
    "  theta_size = 2n\n",
    "  '''\n",
    "  for i in range(number_qubit):\n",
    "    qml.H(wires=[i])\n",
    "    qml.RY(theta[i], wires=[i])\n",
    "  for i in range(number_qubit):\n",
    "    c = i\n",
    "    if c == number_qubit-1:\n",
    "      f = 0\n",
    "    else:\n",
    "      f = c+1\n",
    "    qml.CRY(theta[number_qubit+i], wires=[c,f])\n",
    "# print(qml.draw(hardware_effificent_ansatz)(4, [1,2,3,4,5,6,7,8]))"
   ]
  },
  {
   "cell_type": "code",
   "execution_count": 7,
   "id": "cc9c04b7",
   "metadata": {
    "execution": {
     "iopub.execute_input": "2025-02-08T10:56:40.151325Z",
     "iopub.status.busy": "2025-02-08T10:56:40.150932Z",
     "iopub.status.idle": "2025-02-08T10:56:40.158708Z",
     "shell.execute_reply": "2025-02-08T10:56:40.157575Z"
    },
    "id": "zTzQ25qrG7lb",
    "papermill": {
     "duration": 0.016337,
     "end_time": "2025-02-08T10:56:40.160555",
     "exception": false,
     "start_time": "2025-02-08T10:56:40.144218",
     "status": "completed"
    },
    "tags": []
   },
   "outputs": [],
   "source": [
    "@qml.qnode(dev)\n",
    "def full_circuit(x, weights):\n",
    "  '''\n",
    "  x: input\n",
    "  weights: [theta1, theta2, theta3, theta4]\n",
    "  '''\n",
    "  # step 1: initial state\n",
    "  # step 2: compute QKSAS\n",
    "  # first register\n",
    "  amplitude_encoding(x=x, wires=range(3))\n",
    "  qaoa_ansatz(number_qubit=3,start_wire=0, theta=weights[0])\n",
    "  amplitude_encoding_inverse(x=x, wires=range(3))\n",
    "  qml.adjoint(qaoa_ansatz)(number_qubit=3,start_wire=0, theta=weights[1])\n",
    "\n",
    "  # second register\n",
    "  amplitude_encoding(x=x, wires=range(3,6))\n",
    "  qaoa_ansatz(number_qubit=3,start_wire=3, theta=weights[2])\n",
    "\n",
    "  # step 3: apply DMP\n",
    "  # measure M1\n",
    "  m_10 = qml.measure(0)\n",
    "  m_11 = qml.measure(1)\n",
    "  m_12 = qml.measure(2)\n",
    "\n",
    "  # conditional with wires 3->5, theta4\n",
    "  qml.cond(m_10, qml.RY)(weights[3][0], wires=3)\n",
    "  qml.cond(m_11, qml.RY)(weights[3][1], wires=4)\n",
    "  qml.cond(m_12, qml.RY)(weights[3][2], wires=5)\n",
    "\n",
    "  # step 4: measure M2 and return\n",
    "  return qml.expval(qml.PauliZ(3) @ qml.PauliZ(4) @ qml.PauliZ(5))\n"
   ]
  },
  {
   "cell_type": "code",
   "execution_count": 8,
   "id": "ae3f045c",
   "metadata": {
    "execution": {
     "iopub.execute_input": "2025-02-08T10:56:40.173597Z",
     "iopub.status.busy": "2025-02-08T10:56:40.173210Z",
     "iopub.status.idle": "2025-02-08T10:56:40.178502Z",
     "shell.execute_reply": "2025-02-08T10:56:40.177615Z"
    },
    "id": "8IF6UlIrJAyH",
    "outputId": "fd0c5266-f75b-48fc-f103-66adec9fd51f",
    "papermill": {
     "duration": 0.013527,
     "end_time": "2025-02-08T10:56:40.180065",
     "exception": false,
     "start_time": "2025-02-08T10:56:40.166538",
     "status": "completed"
    },
    "tags": []
   },
   "outputs": [],
   "source": [
    "weights = 0.1 * np.random.randn(4, 6, requires_grad=True)\n",
    "params = (weights,)"
   ]
  },
  {
   "cell_type": "code",
   "execution_count": 9,
   "id": "843f4039",
   "metadata": {
    "execution": {
     "iopub.execute_input": "2025-02-08T10:56:40.193014Z",
     "iopub.status.busy": "2025-02-08T10:56:40.192675Z",
     "iopub.status.idle": "2025-02-08T10:56:40.198570Z",
     "shell.execute_reply": "2025-02-08T10:56:40.197617Z"
    },
    "id": "qvlod-O2uSxx",
    "papermill": {
     "duration": 0.014393,
     "end_time": "2025-02-08T10:56:40.200329",
     "exception": false,
     "start_time": "2025-02-08T10:56:40.185936",
     "status": "completed"
    },
    "tags": []
   },
   "outputs": [],
   "source": [
    "def accuracy(labels, predictions):\n",
    "    acc = sum(abs(l - p) < 1e-5 for l, p in zip(labels, predictions))\n",
    "    acc = acc / len(labels)\n",
    "    return acc\n",
    "\n",
    "def cost(*args, **kwargs):\n",
    "    # Extract the parameters and data from *args and **kwargs\n",
    "    weights = args[0]  # Assuming the first argument is the parameters (usually a NumPy array)\n",
    "    X = kwargs.get('X', None)  # Get X from kwargs, default to None if not provided\n",
    "    Y = kwargs.get('Y', None)  # Get Y from kwargs, default to None if not provided\n",
    "\n",
    "    predictions = [full_circuit(x=x, weights=weights) for x in X]\n",
    "    return np.mean((Y - qml.math.stack(predictions)) ** 2)"
   ]
  },
  {
   "cell_type": "code",
   "execution_count": 10,
   "id": "e109d4a8",
   "metadata": {
    "execution": {
     "iopub.execute_input": "2025-02-08T10:56:40.213231Z",
     "iopub.status.busy": "2025-02-08T10:56:40.212846Z",
     "iopub.status.idle": "2025-02-08T10:56:49.462519Z",
     "shell.execute_reply": "2025-02-08T10:56:49.460307Z"
    },
    "id": "M66nFDJhwlxr",
    "papermill": {
     "duration": 9.259761,
     "end_time": "2025-02-08T10:56:49.466019",
     "exception": false,
     "start_time": "2025-02-08T10:56:40.206258",
     "status": "completed"
    },
    "tags": []
   },
   "outputs": [],
   "source": [
    "ds= qml.data.load(\"other\", name=\"downscaled-mnist\")"
   ]
  },
  {
   "cell_type": "code",
   "execution_count": 11,
   "id": "37127561",
   "metadata": {
    "execution": {
     "iopub.execute_input": "2025-02-08T10:56:49.488400Z",
     "iopub.status.busy": "2025-02-08T10:56:49.487179Z",
     "iopub.status.idle": "2025-02-08T10:57:49.509351Z",
     "shell.execute_reply": "2025-02-08T10:57:49.507958Z"
    },
    "id": "xzWBFbdgAAp6",
    "papermill": {
     "duration": 60.03354,
     "end_time": "2025-02-08T10:57:49.511879",
     "exception": false,
     "start_time": "2025-02-08T10:56:49.478339",
     "status": "completed"
    },
    "tags": []
   },
   "outputs": [],
   "source": [
    "X_test = np.array(ds[0].test[\"8\"][\"inputs\"])\n",
    "Y_test = np.array(ds[0].test[\"8\"][\"labels\"])\n",
    "X = np.array(ds[0].train[\"8\"][\"inputs\"])\n",
    "Y = np.array(ds[0].train[\"8\"][\"labels\"])"
   ]
  },
  {
   "cell_type": "code",
   "execution_count": 12,
   "id": "26a99b5c",
   "metadata": {
    "execution": {
     "iopub.execute_input": "2025-02-08T10:57:49.529376Z",
     "iopub.status.busy": "2025-02-08T10:57:49.528978Z",
     "iopub.status.idle": "2025-02-08T10:57:49.533766Z",
     "shell.execute_reply": "2025-02-08T10:57:49.532571Z"
    },
    "id": "Chgxhw7PvXAb",
    "papermill": {
     "duration": 0.013705,
     "end_time": "2025-02-08T10:57:49.535432",
     "exception": false,
     "start_time": "2025-02-08T10:57:49.521727",
     "status": "completed"
    },
    "tags": []
   },
   "outputs": [],
   "source": [
    "X = X[:500]\n",
    "Y = Y[:500]\n",
    "X_test = X_test[:50]\n",
    "Y_test = Y_test[:50]"
   ]
  },
  {
   "cell_type": "code",
   "execution_count": 13,
   "id": "14a1a971",
   "metadata": {
    "execution": {
     "iopub.execute_input": "2025-02-08T10:57:49.550919Z",
     "iopub.status.busy": "2025-02-08T10:57:49.550528Z",
     "iopub.status.idle": "2025-02-08T10:57:49.556632Z",
     "shell.execute_reply": "2025-02-08T10:57:49.555284Z"
    },
    "id": "0wEjaLZEwW7l",
    "outputId": "16e78450-b24d-4cd8-e67d-c1dadf4c53aa",
    "papermill": {
     "duration": 0.014956,
     "end_time": "2025-02-08T10:57:49.558552",
     "exception": false,
     "start_time": "2025-02-08T10:57:49.543596",
     "status": "completed"
    },
    "tags": []
   },
   "outputs": [
    {
     "name": "stdout",
     "output_type": "stream",
     "text": [
      "(500, 8)\n",
      "(500,)\n"
     ]
    }
   ],
   "source": [
    "print(X.shape)\n",
    "print(Y.shape)"
   ]
  },
  {
   "cell_type": "code",
   "execution_count": 14,
   "id": "815dedb7",
   "metadata": {
    "execution": {
     "iopub.execute_input": "2025-02-08T10:57:49.571578Z",
     "iopub.status.busy": "2025-02-08T10:57:49.571208Z",
     "iopub.status.idle": "2025-02-08T10:57:49.579004Z",
     "shell.execute_reply": "2025-02-08T10:57:49.577794Z"
    },
    "id": "Z3lUbbMZvHvO",
    "papermill": {
     "duration": 0.016299,
     "end_time": "2025-02-08T10:57:49.580748",
     "exception": false,
     "start_time": "2025-02-08T10:57:49.564449",
     "status": "completed"
    },
    "tags": []
   },
   "outputs": [],
   "source": [
    "import matplotlib.pyplot as plt\n",
    "def draw_result(current_cost_list,acc_list,test_acc_list,epoch,lrate,n_layers=1):\n",
    "    fig, axs = plt.subplots(3, 1, figsize=(12, 10))\n",
    "    axs[0].plot(epoch, current_cost_list,label=f'loss_{lrate}')\n",
    "    axs[0].set_title(f'Loss {n_layers}')\n",
    "    axs[0].set_xlabel('Epoch')  # Set x-axis label\n",
    "    axs[0].set_ylabel('Cost Function')  # Set y-axis label\n",
    "    axs[0].legend()\n",
    "    axs[1].plot(epoch, acc_list, label=f'train_acc_{lrate}')\n",
    "    axs[1].set_title(f'Train acc {n_layers}')\n",
    "    axs[1].set_xlabel('Epoch')  # Set x-axis label\n",
    "    axs[1].set_ylabel('Train Accuraccy')  # Set y-axis label\n",
    "    axs[1].legend()\n",
    "    axs[2].plot(epoch, test_acc_list,label=f'test_acc_{lrate}')\n",
    "    axs[2].set_title(f'Test acc {n_layers}')\n",
    "    axs[2].set_xlabel('Epoch')  # Set x-axis label\n",
    "    axs[2].set_ylabel('Test Accuraccy')  # Set y-axis label\n",
    "    axs[2].legend()\n",
    "    fig.subplots_adjust(hspace=0.5)\n",
    "    fig.tight_layout()\n",
    "    plt.show()\n",
    "    fig.savefig(f\"/kaggle/working/chart_nlayer{n_layers}_lrate{lrate}.png\")"
   ]
  },
  {
   "cell_type": "code",
   "execution_count": 15,
   "id": "826f8557",
   "metadata": {
    "execution": {
     "iopub.execute_input": "2025-02-08T10:57:49.593792Z",
     "iopub.status.busy": "2025-02-08T10:57:49.593382Z",
     "iopub.status.idle": "2025-02-08T13:55:08.109163Z",
     "shell.execute_reply": "2025-02-08T13:55:08.108016Z"
    },
    "id": "JJygIvw0vdgm",
    "outputId": "ee75cb99-b575-4f33-b212-439c68287bff",
    "papermill": {
     "duration": 10638.524296,
     "end_time": "2025-02-08T13:55:08.111071",
     "exception": false,
     "start_time": "2025-02-08T10:57:49.586775",
     "status": "completed"
    },
    "tags": []
   },
   "outputs": [
    {
     "name": "stdout",
     "output_type": "stream",
     "text": [
      "number layers: 1\n",
      "Iter:    1 | Cost: 1.3938928 | Accuracy: 0.4700000 | Test Accuracy: 0.5600000 | Run Time: 71.8483984\n",
      "Iter:    2 | Cost: 1.1788750 | Accuracy: 0.5300000 | Test Accuracy: 0.5400000 | Run Time: 70.8423057\n",
      "Iter:    3 | Cost: 0.9911953 | Accuracy: 0.6020000 | Test Accuracy: 0.5000000 | Run Time: 71.1421702\n",
      "Iter:    4 | Cost: 0.9680487 | Accuracy: 0.6140000 | Test Accuracy: 0.4800000 | Run Time: 72.0187900\n",
      "Iter:    5 | Cost: 0.9727583 | Accuracy: 0.6340000 | Test Accuracy: 0.4400000 | Run Time: 70.2973692\n",
      "Iter:    6 | Cost: 0.9837425 | Accuracy: 0.6300000 | Test Accuracy: 0.4600000 | Run Time: 72.8595285\n",
      "Iter:    7 | Cost: 0.9973599 | Accuracy: 0.5980000 | Test Accuracy: 0.4800000 | Run Time: 70.9649487\n",
      "Iter:    8 | Cost: 1.0034364 | Accuracy: 0.5860000 | Test Accuracy: 0.4600000 | Run Time: 71.5387404\n",
      "Iter:    9 | Cost: 0.9942656 | Accuracy: 0.5840000 | Test Accuracy: 0.4600000 | Run Time: 71.9907928\n",
      "Iter:   10 | Cost: 0.9699921 | Accuracy: 0.6020000 | Test Accuracy: 0.4400000 | Run Time: 69.2248588\n",
      "Iter:   11 | Cost: 0.9375307 | Accuracy: 0.6380000 | Test Accuracy: 0.4000000 | Run Time: 71.9887002\n",
      "Iter:   12 | Cost: 0.9067899 | Accuracy: 0.6580000 | Test Accuracy: 0.4400000 | Run Time: 71.8221400\n",
      "Iter:   13 | Cost: 0.8890190 | Accuracy: 0.6680000 | Test Accuracy: 0.4200000 | Run Time: 70.7073622\n",
      "Iter:   14 | Cost: 0.8882333 | Accuracy: 0.6560000 | Test Accuracy: 0.4000000 | Run Time: 70.1051040\n",
      "Iter:   15 | Cost: 0.8889045 | Accuracy: 0.6480000 | Test Accuracy: 0.3800000 | Run Time: 71.6985357\n",
      "Iter:   16 | Cost: 0.8789946 | Accuracy: 0.6580000 | Test Accuracy: 0.3600000 | Run Time: 71.0619469\n",
      "Iter:   17 | Cost: 0.8633136 | Accuracy: 0.6640000 | Test Accuracy: 0.3400000 | Run Time: 71.4667299\n",
      "Iter:   18 | Cost: 0.8486113 | Accuracy: 0.6800000 | Test Accuracy: 0.3800000 | Run Time: 72.0273764\n",
      "Iter:   19 | Cost: 0.8358706 | Accuracy: 0.6820000 | Test Accuracy: 0.4000000 | Run Time: 72.6554999\n",
      "Iter:   20 | Cost: 0.8233619 | Accuracy: 0.6880000 | Test Accuracy: 0.4200000 | Run Time: 70.7427235\n",
      "Iter:   21 | Cost: 0.8103136 | Accuracy: 0.6940000 | Test Accuracy: 0.4200000 | Run Time: 72.7385743\n",
      "Iter:   22 | Cost: 0.7973734 | Accuracy: 0.6880000 | Test Accuracy: 0.4200000 | Run Time: 70.7766051\n",
      "Iter:   23 | Cost: 0.7851892 | Accuracy: 0.6960000 | Test Accuracy: 0.4400000 | Run Time: 71.7292109\n",
      "Iter:   24 | Cost: 0.7736315 | Accuracy: 0.7200000 | Test Accuracy: 0.4800000 | Run Time: 70.6682336\n",
      "Iter:   25 | Cost: 0.7625814 | Accuracy: 0.7260000 | Test Accuracy: 0.5000000 | Run Time: 71.6551936\n",
      "Iter:   26 | Cost: 0.7526634 | Accuracy: 0.7380000 | Test Accuracy: 0.5200000 | Run Time: 70.7098484\n",
      "Iter:   27 | Cost: 0.7446373 | Accuracy: 0.7480000 | Test Accuracy: 0.5000000 | Run Time: 72.3692093\n",
      "Iter:   28 | Cost: 0.7384602 | Accuracy: 0.7500000 | Test Accuracy: 0.5000000 | Run Time: 70.1737428\n",
      "Iter:   29 | Cost: 0.7333138 | Accuracy: 0.7480000 | Test Accuracy: 0.4600000 | Run Time: 71.7856603\n",
      "Iter:   30 | Cost: 0.7283570 | Accuracy: 0.7600000 | Test Accuracy: 0.4600000 | Run Time: 70.7548566\n",
      "Iter:   31 | Cost: 0.7233021 | Accuracy: 0.7520000 | Test Accuracy: 0.4600000 | Run Time: 71.3177843\n",
      "Iter:   32 | Cost: 0.7183863 | Accuracy: 0.7520000 | Test Accuracy: 0.4800000 | Run Time: 70.7419767\n",
      "Iter:   33 | Cost: 0.7139255 | Accuracy: 0.7480000 | Test Accuracy: 0.4600000 | Run Time: 70.0962200\n",
      "Iter:   34 | Cost: 0.7099412 | Accuracy: 0.7440000 | Test Accuracy: 0.4600000 | Run Time: 69.6145098\n",
      "Iter:   35 | Cost: 0.7061695 | Accuracy: 0.7440000 | Test Accuracy: 0.4600000 | Run Time: 70.8220611\n",
      "Iter:   36 | Cost: 0.7023323 | Accuracy: 0.7440000 | Test Accuracy: 0.4600000 | Run Time: 71.7634737\n",
      "Iter:   37 | Cost: 0.6983630 | Accuracy: 0.7440000 | Test Accuracy: 0.4800000 | Run Time: 69.6420865\n",
      "Iter:   38 | Cost: 0.6944258 | Accuracy: 0.7400000 | Test Accuracy: 0.4800000 | Run Time: 71.7446785\n",
      "Iter:   39 | Cost: 0.6907821 | Accuracy: 0.7480000 | Test Accuracy: 0.5000000 | Run Time: 72.7169287\n",
      "Iter:   40 | Cost: 0.6876396 | Accuracy: 0.7460000 | Test Accuracy: 0.4800000 | Run Time: 72.8041148\n",
      "Iter:   41 | Cost: 0.6850733 | Accuracy: 0.7400000 | Test Accuracy: 0.5000000 | Run Time: 70.0035553\n",
      "Iter:   42 | Cost: 0.6830238 | Accuracy: 0.7480000 | Test Accuracy: 0.5000000 | Run Time: 70.2990487\n",
      "Iter:   43 | Cost: 0.6813451 | Accuracy: 0.7460000 | Test Accuracy: 0.5000000 | Run Time: 72.7476819\n",
      "Iter:   44 | Cost: 0.6798679 | Accuracy: 0.7480000 | Test Accuracy: 0.5000000 | Run Time: 71.7089467\n",
      "Iter:   45 | Cost: 0.6784602 | Accuracy: 0.7520000 | Test Accuracy: 0.5200000 | Run Time: 70.6128073\n",
      "Iter:   46 | Cost: 0.6770655 | Accuracy: 0.7540000 | Test Accuracy: 0.5000000 | Run Time: 70.5457661\n",
      "Iter:   47 | Cost: 0.6757078 | Accuracy: 0.7540000 | Test Accuracy: 0.5000000 | Run Time: 71.8568978\n",
      "Iter:   48 | Cost: 0.6744647 | Accuracy: 0.7620000 | Test Accuracy: 0.5000000 | Run Time: 70.5451415\n",
      "Iter:   49 | Cost: 0.6734224 | Accuracy: 0.7640000 | Test Accuracy: 0.5000000 | Run Time: 71.0132422\n",
      "Iter:   50 | Cost: 0.6726343 | Accuracy: 0.7620000 | Test Accuracy: 0.5000000 | Run Time: 69.9632435\n",
      "Iter:   51 | Cost: 0.6721014 | Accuracy: 0.7560000 | Test Accuracy: 0.5000000 | Run Time: 70.4053385\n",
      "Iter:   52 | Cost: 0.6717779 | Accuracy: 0.7560000 | Test Accuracy: 0.5000000 | Run Time: 71.0744982\n",
      "Iter:   53 | Cost: 0.6715933 | Accuracy: 0.7560000 | Test Accuracy: 0.5000000 | Run Time: 71.1529191\n",
      "Iter:   54 | Cost: 0.6714770 | Accuracy: 0.7560000 | Test Accuracy: 0.5000000 | Run Time: 71.9611387\n",
      "Iter:   55 | Cost: 0.6713743 | Accuracy: 0.7540000 | Test Accuracy: 0.5000000 | Run Time: 70.5996714\n",
      "Iter:   56 | Cost: 0.6712512 | Accuracy: 0.7500000 | Test Accuracy: 0.5000000 | Run Time: 71.0438910\n",
      "Iter:   57 | Cost: 0.6710923 | Accuracy: 0.7520000 | Test Accuracy: 0.4800000 | Run Time: 70.9362650\n",
      "Iter:   58 | Cost: 0.6708954 | Accuracy: 0.7540000 | Test Accuracy: 0.4800000 | Run Time: 68.7435079\n",
      "Iter:   59 | Cost: 0.6706661 | Accuracy: 0.7520000 | Test Accuracy: 0.4800000 | Run Time: 71.0047281\n",
      "Iter:   60 | Cost: 0.6704141 | Accuracy: 0.7540000 | Test Accuracy: 0.5000000 | Run Time: 70.9422472\n",
      "Iter:   61 | Cost: 0.6701507 | Accuracy: 0.7540000 | Test Accuracy: 0.5000000 | Run Time: 71.0683889\n",
      "Iter:   62 | Cost: 0.6698863 | Accuracy: 0.7560000 | Test Accuracy: 0.5000000 | Run Time: 69.1591926\n",
      "Iter:   63 | Cost: 0.6696298 | Accuracy: 0.7560000 | Test Accuracy: 0.5000000 | Run Time: 69.9545372\n",
      "Iter:   64 | Cost: 0.6693868 | Accuracy: 0.7560000 | Test Accuracy: 0.5000000 | Run Time: 71.1926932\n",
      "Iter:   65 | Cost: 0.6691603 | Accuracy: 0.7540000 | Test Accuracy: 0.5000000 | Run Time: 71.3068044\n",
      "Iter:   66 | Cost: 0.6689506 | Accuracy: 0.7560000 | Test Accuracy: 0.5000000 | Run Time: 70.1642501\n",
      "Iter:   67 | Cost: 0.6687566 | Accuracy: 0.7560000 | Test Accuracy: 0.5000000 | Run Time: 69.7373106\n",
      "Iter:   68 | Cost: 0.6685761 | Accuracy: 0.7500000 | Test Accuracy: 0.5000000 | Run Time: 71.6155360\n",
      "Iter:   69 | Cost: 0.6684066 | Accuracy: 0.7500000 | Test Accuracy: 0.5000000 | Run Time: 70.2717001\n",
      "Iter:   70 | Cost: 0.6682461 | Accuracy: 0.7500000 | Test Accuracy: 0.5000000 | Run Time: 69.4570112\n",
      "Iter:   71 | Cost: 0.6680931 | Accuracy: 0.7500000 | Test Accuracy: 0.5000000 | Run Time: 71.1959410\n",
      "Iter:   72 | Cost: 0.6679466 | Accuracy: 0.7540000 | Test Accuracy: 0.5000000 | Run Time: 71.8207295\n",
      "Iter:   73 | Cost: 0.6678062 | Accuracy: 0.7540000 | Test Accuracy: 0.5000000 | Run Time: 69.6806409\n",
      "Iter:   74 | Cost: 0.6676720 | Accuracy: 0.7540000 | Test Accuracy: 0.4800000 | Run Time: 71.1329231\n",
      "Iter:   75 | Cost: 0.6675444 | Accuracy: 0.7500000 | Test Accuracy: 0.4800000 | Run Time: 71.0800829\n",
      "Iter:   76 | Cost: 0.6674237 | Accuracy: 0.7500000 | Test Accuracy: 0.4800000 | Run Time: 69.9903998\n",
      "Iter:   77 | Cost: 0.6673103 | Accuracy: 0.7500000 | Test Accuracy: 0.4800000 | Run Time: 70.3074114\n",
      "Iter:   78 | Cost: 0.6672042 | Accuracy: 0.7500000 | Test Accuracy: 0.4800000 | Run Time: 71.3370287\n",
      "Iter:   79 | Cost: 0.6671052 | Accuracy: 0.7500000 | Test Accuracy: 0.4800000 | Run Time: 70.3076010\n",
      "Iter:   80 | Cost: 0.6670127 | Accuracy: 0.7480000 | Test Accuracy: 0.4800000 | Run Time: 70.1279633\n",
      "Iter:   81 | Cost: 0.6669260 | Accuracy: 0.7480000 | Test Accuracy: 0.4800000 | Run Time: 71.7324762\n",
      "Iter:   82 | Cost: 0.6668441 | Accuracy: 0.7500000 | Test Accuracy: 0.4800000 | Run Time: 72.5047469\n",
      "Iter:   83 | Cost: 0.6667663 | Accuracy: 0.7500000 | Test Accuracy: 0.4800000 | Run Time: 69.4150882\n",
      "Iter:   84 | Cost: 0.6666917 | Accuracy: 0.7520000 | Test Accuracy: 0.4800000 | Run Time: 70.0296028\n",
      "Iter:   85 | Cost: 0.6666197 | Accuracy: 0.7520000 | Test Accuracy: 0.4800000 | Run Time: 71.7656415\n",
      "Iter:   86 | Cost: 0.6665499 | Accuracy: 0.7520000 | Test Accuracy: 0.4800000 | Run Time: 70.3284800\n",
      "Iter:   87 | Cost: 0.6664820 | Accuracy: 0.7520000 | Test Accuracy: 0.4800000 | Run Time: 69.2160039\n",
      "Iter:   88 | Cost: 0.6664157 | Accuracy: 0.7520000 | Test Accuracy: 0.4800000 | Run Time: 70.9669721\n",
      "Iter:   89 | Cost: 0.6663510 | Accuracy: 0.7520000 | Test Accuracy: 0.4800000 | Run Time: 70.6797163\n",
      "Iter:   90 | Cost: 0.6662878 | Accuracy: 0.7520000 | Test Accuracy: 0.4800000 | Run Time: 68.7317920\n",
      "Iter:   91 | Cost: 0.6662262 | Accuracy: 0.7500000 | Test Accuracy: 0.4800000 | Run Time: 70.7781298\n",
      "Iter:   92 | Cost: 0.6661660 | Accuracy: 0.7480000 | Test Accuracy: 0.4800000 | Run Time: 71.3256719\n",
      "Iter:   93 | Cost: 0.6661074 | Accuracy: 0.7500000 | Test Accuracy: 0.4800000 | Run Time: 70.5022576\n",
      "Iter:   94 | Cost: 0.6660502 | Accuracy: 0.7500000 | Test Accuracy: 0.4800000 | Run Time: 70.2922328\n",
      "Iter:   95 | Cost: 0.6659946 | Accuracy: 0.7500000 | Test Accuracy: 0.4800000 | Run Time: 71.9332879\n",
      "Iter:   96 | Cost: 0.6659404 | Accuracy: 0.7500000 | Test Accuracy: 0.4800000 | Run Time: 70.2654808\n",
      "Iter:   97 | Cost: 0.6658877 | Accuracy: 0.7500000 | Test Accuracy: 0.4800000 | Run Time: 70.4013658\n",
      "Iter:   98 | Cost: 0.6658364 | Accuracy: 0.7500000 | Test Accuracy: 0.4800000 | Run Time: 71.3689299\n",
      "Iter:   99 | Cost: 0.6657866 | Accuracy: 0.7500000 | Test Accuracy: 0.4800000 | Run Time: 72.1232634\n",
      "Iter:  100 | Cost: 0.6657382 | Accuracy: 0.7500000 | Test Accuracy: 0.4800000 | Run Time: 70.1486237\n",
      "Iter:  101 | Cost: 0.6656912 | Accuracy: 0.7500000 | Test Accuracy: 0.4800000 | Run Time: 69.6713421\n",
      "Iter:  102 | Cost: 0.6656454 | Accuracy: 0.7500000 | Test Accuracy: 0.4800000 | Run Time: 71.2157006\n",
      "Iter:  103 | Cost: 0.6656008 | Accuracy: 0.7500000 | Test Accuracy: 0.4800000 | Run Time: 70.0054171\n",
      "Iter:  104 | Cost: 0.6655574 | Accuracy: 0.7500000 | Test Accuracy: 0.4800000 | Run Time: 70.7833433\n",
      "Iter:  105 | Cost: 0.6655150 | Accuracy: 0.7500000 | Test Accuracy: 0.4800000 | Run Time: 71.7380581\n",
      "Iter:  106 | Cost: 0.6654735 | Accuracy: 0.7480000 | Test Accuracy: 0.4800000 | Run Time: 72.2306843\n",
      "Iter:  107 | Cost: 0.6654329 | Accuracy: 0.7480000 | Test Accuracy: 0.4800000 | Run Time: 69.6333070\n",
      "Iter:  108 | Cost: 0.6653930 | Accuracy: 0.7480000 | Test Accuracy: 0.4800000 | Run Time: 71.2248197\n",
      "Iter:  109 | Cost: 0.6653539 | Accuracy: 0.7480000 | Test Accuracy: 0.4800000 | Run Time: 73.9326246\n",
      "Iter:  110 | Cost: 0.6653153 | Accuracy: 0.7500000 | Test Accuracy: 0.5000000 | Run Time: 70.9814444\n",
      "Iter:  111 | Cost: 0.6652772 | Accuracy: 0.7500000 | Test Accuracy: 0.5000000 | Run Time: 71.0432456\n",
      "Iter:  112 | Cost: 0.6652396 | Accuracy: 0.7500000 | Test Accuracy: 0.5000000 | Run Time: 71.8185291\n",
      "Iter:  113 | Cost: 0.6652025 | Accuracy: 0.7500000 | Test Accuracy: 0.5000000 | Run Time: 69.6162095\n",
      "Iter:  114 | Cost: 0.6651658 | Accuracy: 0.7480000 | Test Accuracy: 0.5000000 | Run Time: 69.8389430\n",
      "Iter:  115 | Cost: 0.6651294 | Accuracy: 0.7480000 | Test Accuracy: 0.5000000 | Run Time: 71.4253743\n",
      "Iter:  116 | Cost: 0.6650933 | Accuracy: 0.7480000 | Test Accuracy: 0.5000000 | Run Time: 71.4002268\n",
      "Iter:  117 | Cost: 0.6650576 | Accuracy: 0.7480000 | Test Accuracy: 0.5000000 | Run Time: 69.6654344\n",
      "Iter:  118 | Cost: 0.6650222 | Accuracy: 0.7480000 | Test Accuracy: 0.5000000 | Run Time: 70.7981441\n",
      "Iter:  119 | Cost: 0.6649871 | Accuracy: 0.7480000 | Test Accuracy: 0.5000000 | Run Time: 71.6339998\n",
      "Iter:  120 | Cost: 0.6649524 | Accuracy: 0.7480000 | Test Accuracy: 0.5000000 | Run Time: 70.0490115\n",
      "Iter:  121 | Cost: 0.6649180 | Accuracy: 0.7460000 | Test Accuracy: 0.5000000 | Run Time: 70.3258772\n",
      "Iter:  122 | Cost: 0.6648839 | Accuracy: 0.7460000 | Test Accuracy: 0.5000000 | Run Time: 71.4707673\n",
      "Iter:  123 | Cost: 0.6648502 | Accuracy: 0.7440000 | Test Accuracy: 0.5000000 | Run Time: 72.0086415\n",
      "Iter:  124 | Cost: 0.6648168 | Accuracy: 0.7440000 | Test Accuracy: 0.5000000 | Run Time: 69.3558738\n",
      "Iter:  125 | Cost: 0.6647838 | Accuracy: 0.7440000 | Test Accuracy: 0.5000000 | Run Time: 70.6233201\n",
      "Iter:  126 | Cost: 0.6647512 | Accuracy: 0.7420000 | Test Accuracy: 0.5000000 | Run Time: 71.4228067\n",
      "Iter:  127 | Cost: 0.6647189 | Accuracy: 0.7420000 | Test Accuracy: 0.5000000 | Run Time: 70.5792079\n",
      "Iter:  128 | Cost: 0.6646871 | Accuracy: 0.7420000 | Test Accuracy: 0.5000000 | Run Time: 70.5778642\n",
      "Iter:  129 | Cost: 0.6646558 | Accuracy: 0.7420000 | Test Accuracy: 0.5000000 | Run Time: 72.0717545\n",
      "Iter:  130 | Cost: 0.6646249 | Accuracy: 0.7420000 | Test Accuracy: 0.5000000 | Run Time: 69.9721918\n",
      "Iter:  131 | Cost: 0.6645945 | Accuracy: 0.7400000 | Test Accuracy: 0.5000000 | Run Time: 70.9817445\n",
      "Iter:  132 | Cost: 0.6645646 | Accuracy: 0.7400000 | Test Accuracy: 0.5000000 | Run Time: 71.9773164\n",
      "Iter:  133 | Cost: 0.6645353 | Accuracy: 0.7400000 | Test Accuracy: 0.5000000 | Run Time: 71.5969374\n",
      "Iter:  134 | Cost: 0.6645065 | Accuracy: 0.7400000 | Test Accuracy: 0.5000000 | Run Time: 69.1054418\n",
      "Iter:  135 | Cost: 0.6644783 | Accuracy: 0.7400000 | Test Accuracy: 0.5000000 | Run Time: 69.9683650\n",
      "Iter:  136 | Cost: 0.6644507 | Accuracy: 0.7400000 | Test Accuracy: 0.5000000 | Run Time: 71.4130509\n",
      "Iter:  137 | Cost: 0.6644238 | Accuracy: 0.7400000 | Test Accuracy: 0.5000000 | Run Time: 70.3305953\n",
      "Iter:  138 | Cost: 0.6643975 | Accuracy: 0.7400000 | Test Accuracy: 0.5000000 | Run Time: 69.6803024\n",
      "Iter:  139 | Cost: 0.6643719 | Accuracy: 0.7400000 | Test Accuracy: 0.5000000 | Run Time: 70.4099298\n",
      "Iter:  140 | Cost: 0.6643469 | Accuracy: 0.7400000 | Test Accuracy: 0.5000000 | Run Time: 71.2389207\n",
      "Iter:  141 | Cost: 0.6643227 | Accuracy: 0.7400000 | Test Accuracy: 0.5000000 | Run Time: 68.9657044\n",
      "Iter:  142 | Cost: 0.6642992 | Accuracy: 0.7400000 | Test Accuracy: 0.5000000 | Run Time: 70.3098059\n",
      "Iter:  143 | Cost: 0.6642765 | Accuracy: 0.7420000 | Test Accuracy: 0.5000000 | Run Time: 71.2673264\n",
      "Iter:  144 | Cost: 0.6642545 | Accuracy: 0.7420000 | Test Accuracy: 0.5000000 | Run Time: 70.0182841\n",
      "Iter:  145 | Cost: 0.6642333 | Accuracy: 0.7420000 | Test Accuracy: 0.5000000 | Run Time: 70.4195240\n",
      "Iter:  146 | Cost: 0.6642128 | Accuracy: 0.7420000 | Test Accuracy: 0.5000000 | Run Time: 71.3203995\n",
      "Iter:  147 | Cost: 0.6641931 | Accuracy: 0.7420000 | Test Accuracy: 0.5000000 | Run Time: 70.8812141\n",
      "Iter:  148 | Cost: 0.6641741 | Accuracy: 0.7420000 | Test Accuracy: 0.5000000 | Run Time: 71.8776586\n",
      "Iter:  149 | Cost: 0.6641559 | Accuracy: 0.7420000 | Test Accuracy: 0.5000000 | Run Time: 72.5363719\n",
      "Iter:  150 | Cost: 0.6641385 | Accuracy: 0.7440000 | Test Accuracy: 0.5000000 | Run Time: 71.8092513\n"
     ]
    },
    {
     "data": {
      "image/png": "[encoded data removed]",
      "text/plain": [
       "<Figure size 1200x1000 with 3 Axes>"
      ]
     },
     "metadata": {},
     "output_type": "display_data"
    },
    {
     "name": "stdout",
     "output_type": "stream",
     "text": [
      "[[-1.52663092 -1.25672026 -0.57408132 -0.19055687 -0.03866313  0.07237764]\n",
      " [ 1.47519339 -1.41563275 -1.33985349 -0.04489547  0.00542313  0.35226881]\n",
      " [-0.09212578 -1.72802204 -0.47842716 -1.56938796 -1.57110362  1.57041643]\n",
      " [ 0.5793151   0.33603668 -1.32835159  0.01021147 -0.02582939  0.01960097]]\n"
     ]
    }
   ],
   "source": [
    "import time\n",
    "learning_rate = [0.5]\n",
    "num_layers = [1]\n",
    "for n_layers in num_layers:\n",
    "    lrate = 0.5\n",
    "    print(\"number layers:\", n_layers)\n",
    "\n",
    "    opt = NesterovMomentumOptimizer(lrate)\n",
    "    current_cost_list = []\n",
    "    acc_list = []\n",
    "    test_acc_list = []\n",
    "    epoch = []\n",
    "    for it in range(150):\n",
    "        start_time = time.time()\n",
    "\n",
    "        # Update the weights by one optimizer step, using only a limited batch of data\n",
    "        gradient_value, current_cost = opt.compute_grad(objective_fn=cost, args=params, kwargs={\"X\": X, \"Y\": Y})\n",
    "        params = opt.apply_grad(grad=gradient_value, args=params)\n",
    "        current_cost_list.append(current_cost)\n",
    "        weights = params[0]\n",
    "        # Compute accuracy on train\n",
    "        predictions = [np.sign(full_circuit(x,weights)) for x in X]\n",
    "        acc = accuracy(Y, predictions)\n",
    "        acc_list.append(acc)\n",
    "\n",
    "        # Compute accuracy on test\n",
    "        predictions_test = [np.sign(full_circuit(x,weights,)) for x in X_test]\n",
    "        test_acc = accuracy(Y_test, predictions)\n",
    "        test_acc_list.append(test_acc)\n",
    "        epoch.append(it)\n",
    "\n",
    "        # Redraw the updated plot\n",
    "        end_time = time.time() - start_time\n",
    "        print(f\"Iter: {it+1:4d} | Cost: {current_cost:0.7f} | Accuracy: {acc:0.7f} | Test Accuracy: {test_acc:0.7f} | Run Time: {end_time:0.7f}\")\n",
    "    draw_result(current_cost_list,acc_list,test_acc_list,epoch,lrate,n_layers)\n",
    "    print(weights)"
   ]
  },
  {
   "cell_type": "code",
   "execution_count": 16,
   "id": "6b016aea",
   "metadata": {
    "execution": {
     "iopub.execute_input": "2025-02-08T13:55:08.144633Z",
     "iopub.status.busy": "2025-02-08T13:55:08.144262Z",
     "iopub.status.idle": "2025-02-08T13:55:10.484564Z",
     "shell.execute_reply": "2025-02-08T13:55:10.483234Z"
    },
    "id": "yxRI9AAM_sn8",
    "outputId": "ad1f52b8-5e88-4e3b-db2c-251f99651a8c",
    "papermill": {
     "duration": 2.359322,
     "end_time": "2025-02-08T13:55:10.486542",
     "exception": false,
     "start_time": "2025-02-08T13:55:08.127220",
     "status": "completed"
    },
    "tags": []
   },
   "outputs": [
    {
     "name": "stdout",
     "output_type": "stream",
     "text": [
      "Final test, accuracy_test: 0.78\n"
     ]
    }
   ],
   "source": [
    "# Compute accuracy\n",
    "weights = params[0]\n",
    "predictions = [np.sign(full_circuit(x,weights)) for x in X_test]\n",
    "acc = accuracy(Y_test, predictions)\n",
    "print(f\"Final test, accuracy_test: {acc}\")"
   ]
  },
  {
   "cell_type": "code",
   "execution_count": null,
   "id": "5ef40138",
   "metadata": {
    "id": "yUI2mgpBIRYp",
    "papermill": {
     "duration": 0.015925,
     "end_time": "2025-02-08T13:55:10.518547",
     "exception": false,
     "start_time": "2025-02-08T13:55:10.502622",
     "status": "completed"
    },
    "tags": []
   },
   "outputs": [],
   "source": []
  }
 ],
 "metadata": {
  "colab": {
   "provenance": []
  },
  "kaggle": {
   "accelerator": "none",
   "dataSources": [
    {
     "datasetId": 6593060,
     "sourceId": 10648027,
     "sourceType": "datasetVersion"
    }
   ],
   "dockerImageVersionId": 30886,
   "isGpuEnabled": false,
   "isInternetEnabled": true,
   "language": "python",
   "sourceType": "notebook"
  },
  "kernelspec": {
   "display_name": "Python 3",
   "language": "python",
   "name": "python3"
  },
  "language_info": {
   "codemirror_mode": {
    "name": "ipython",
    "version": 3
   },
   "file_extension": ".py",
   "mimetype": "text/x-python",
   "name": "python",
   "nbconvert_exporter": "python",
   "pygments_lexer": "ipython3",
   "version": "3.10.12"
  },
  "papermill": {
   "default_parameters": {},
   "duration": 10731.702695,
   "end_time": "2025-02-08T13:55:13.472916",
   "environment_variables": {},
   "exception": null,
   "input_path": "__notebook__.ipynb",
   "output_path": "__notebook__.ipynb",
   "parameters": {},
   "start_time": "2025-02-08T10:56:21.770221",
   "version": "2.6.0"
  }
 },
 "nbformat": 4,
 "nbformat_minor": 5
}
