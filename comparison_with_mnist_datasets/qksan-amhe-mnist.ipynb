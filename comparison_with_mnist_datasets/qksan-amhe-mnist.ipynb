{
 "cells": [
  {
   "cell_type": "code",
   "execution_count": 1,
   "id": "d8de6ee8",
   "metadata": {
    "execution": {
     "iopub.execute_input": "2025-02-08T11:12:26.398074Z",
     "iopub.status.busy": "2025-02-08T11:12:26.397532Z",
     "iopub.status.idle": "2025-02-08T11:12:36.820306Z",
     "shell.execute_reply": "2025-02-08T11:12:36.818744Z"
    },
    "id": "fFqvK319LrYK",
    "outputId": "7a236944-aeb9-42e1-8ea9-4f5a4d6a23ec",
    "papermill": {
     "duration": 10.431144,
     "end_time": "2025-02-08T11:12:36.822724",
     "exception": false,
     "start_time": "2025-02-08T11:12:26.391580",
     "status": "completed"
    },
    "tags": []
   },
   "outputs": [
    {
     "name": "stdout",
     "output_type": "stream",
     "text": [
      "Collecting pennylane\r\n",
      "  Downloading PennyLane-0.40.0-py3-none-any.whl.metadata (10 kB)\r\n",
      "Requirement already satisfied: numpy<2.1 in /usr/local/lib/python3.10/dist-packages (from pennylane) (1.26.4)\r\n",
      "Requirement already satisfied: scipy in /usr/local/lib/python3.10/dist-packages (from pennylane) (1.13.1)\r\n",
      "Requirement already satisfied: networkx in /usr/local/lib/python3.10/dist-packages (from pennylane) (3.4.2)\r\n",
      "Collecting rustworkx>=0.14.0 (from pennylane)\r\n",
      "  Downloading rustworkx-0.16.0-cp39-abi3-manylinux_2_17_x86_64.manylinux2014_x86_64.whl.metadata (10 kB)\r\n",
      "Requirement already satisfied: autograd in /usr/local/lib/python3.10/dist-packages (from pennylane) (1.7.0)\r\n",
      "Collecting tomlkit (from pennylane)\r\n",
      "  Downloading tomlkit-0.13.2-py3-none-any.whl.metadata (2.7 kB)\r\n",
      "Collecting appdirs (from pennylane)\r\n",
      "  Downloading appdirs-1.4.4-py2.py3-none-any.whl.metadata (9.0 kB)\r\n",
      "Collecting autoray>=0.6.11 (from pennylane)\r\n",
      "  Downloading autoray-0.7.0-py3-none-any.whl.metadata (5.8 kB)\r\n",
      "Requirement already satisfied: cachetools in /usr/local/lib/python3.10/dist-packages (from pennylane) (5.5.0)\r\n",
      "Collecting pennylane-lightning>=0.40 (from pennylane)\r\n",
      "  Downloading PennyLane_Lightning-0.40.0-cp310-cp310-manylinux_2_28_x86_64.whl.metadata (27 kB)\r\n",
      "Requirement already satisfied: requests in /usr/local/lib/python3.10/dist-packages (from pennylane) (2.32.3)\r\n",
      "Requirement already satisfied: typing-extensions in /usr/local/lib/python3.10/dist-packages (from pennylane) (4.12.2)\r\n",
      "Requirement already satisfied: packaging in /usr/local/lib/python3.10/dist-packages (from pennylane) (24.2)\r\n",
      "Collecting diastatic-malt (from pennylane)\r\n",
      "  Downloading diastatic_malt-2.15.2-py3-none-any.whl.metadata (2.6 kB)\r\n",
      "Requirement already satisfied: mkl_fft in /usr/local/lib/python3.10/dist-packages (from numpy<2.1->pennylane) (1.3.8)\r\n",
      "Requirement already satisfied: mkl_random in /usr/local/lib/python3.10/dist-packages (from numpy<2.1->pennylane) (1.2.4)\r\n",
      "Requirement already satisfied: mkl_umath in /usr/local/lib/python3.10/dist-packages (from numpy<2.1->pennylane) (0.1.1)\r\n",
      "Requirement already satisfied: mkl in /usr/local/lib/python3.10/dist-packages (from numpy<2.1->pennylane) (2025.0.1)\r\n",
      "Requirement already satisfied: tbb4py in /usr/local/lib/python3.10/dist-packages (from numpy<2.1->pennylane) (2022.0.0)\r\n",
      "Requirement already satisfied: mkl-service in /usr/local/lib/python3.10/dist-packages (from numpy<2.1->pennylane) (2.4.1)\r\n",
      "Collecting scipy-openblas32>=0.3.26 (from pennylane-lightning>=0.40->pennylane)\r\n",
      "  Downloading scipy_openblas32-0.3.29.0.0-py3-none-manylinux_2_17_x86_64.manylinux2014_x86_64.whl.metadata (56 kB)\r\n",
      "\u001b[2K     \u001b[90m━━━━━━━━━━━━━━━━━━━━━━━━━━━━━━━━━━━━━━━━\u001b[0m \u001b[32m56.1/56.1 kB\u001b[0m \u001b[31m2.4 MB/s\u001b[0m eta \u001b[36m0:00:00\u001b[0m\r\n",
      "\u001b[?25hRequirement already satisfied: astunparse in /usr/local/lib/python3.10/dist-packages (from diastatic-malt->pennylane) (1.6.3)\r\n",
      "Requirement already satisfied: gast in /usr/local/lib/python3.10/dist-packages (from diastatic-malt->pennylane) (0.6.0)\r\n",
      "Requirement already satisfied: termcolor in /usr/local/lib/python3.10/dist-packages (from diastatic-malt->pennylane) (2.5.0)\r\n",
      "Requirement already satisfied: charset-normalizer<4,>=2 in /usr/local/lib/python3.10/dist-packages (from requests->pennylane) (3.4.1)\r\n",
      "Requirement already satisfied: idna<4,>=2.5 in /usr/local/lib/python3.10/dist-packages (from requests->pennylane) (3.10)\r\n",
      "Requirement already satisfied: urllib3<3,>=1.21.1 in /usr/local/lib/python3.10/dist-packages (from requests->pennylane) (2.3.0)\r\n",
      "Requirement already satisfied: certifi>=2017.4.17 in /usr/local/lib/python3.10/dist-packages (from requests->pennylane) (2025.1.31)\r\n",
      "Requirement already satisfied: wheel<1.0,>=0.23.0 in /usr/local/lib/python3.10/dist-packages (from astunparse->diastatic-malt->pennylane) (0.45.1)\r\n",
      "Requirement already satisfied: six<2.0,>=1.6.1 in /usr/local/lib/python3.10/dist-packages (from astunparse->diastatic-malt->pennylane) (1.17.0)\r\n",
      "Requirement already satisfied: intel-openmp>=2024 in /usr/local/lib/python3.10/dist-packages (from mkl->numpy<2.1->pennylane) (2024.2.0)\r\n",
      "Requirement already satisfied: tbb==2022.* in /usr/local/lib/python3.10/dist-packages (from mkl->numpy<2.1->pennylane) (2022.0.0)\r\n",
      "Requirement already satisfied: tcmlib==1.* in /usr/local/lib/python3.10/dist-packages (from tbb==2022.*->mkl->numpy<2.1->pennylane) (1.2.0)\r\n",
      "Requirement already satisfied: intel-cmplr-lib-rt in /usr/local/lib/python3.10/dist-packages (from mkl_umath->numpy<2.1->pennylane) (2024.2.0)\r\n",
      "Requirement already satisfied: intel-cmplr-lib-ur==2024.2.0 in /usr/local/lib/python3.10/dist-packages (from intel-openmp>=2024->mkl->numpy<2.1->pennylane) (2024.2.0)\r\n",
      "Downloading PennyLane-0.40.0-py3-none-any.whl (2.0 MB)\r\n",
      "\u001b[2K   \u001b[90m━━━━━━━━━━━━━━━━━━━━━━━━━━━━━━━━━━━━━━━━\u001b[0m \u001b[32m2.0/2.0 MB\u001b[0m \u001b[31m26.9 MB/s\u001b[0m eta \u001b[36m0:00:00\u001b[0m\r\n",
      "\u001b[?25hDownloading autoray-0.7.0-py3-none-any.whl (930 kB)\r\n",
      "\u001b[2K   \u001b[90m━━━━━━━━━━━━━━━━━━━━━━━━━━━━━━━━━━━━━━━━\u001b[0m \u001b[32m930.0/930.0 kB\u001b[0m \u001b[31m29.4 MB/s\u001b[0m eta \u001b[36m0:00:00\u001b[0m\r\n",
      "\u001b[?25hDownloading PennyLane_Lightning-0.40.0-cp310-cp310-manylinux_2_28_x86_64.whl (2.4 MB)\r\n",
      "\u001b[2K   \u001b[90m━━━━━━━━━━━━━━━━━━━━━━━━━━━━━━━━━━━━━━━━\u001b[0m \u001b[32m2.4/2.4 MB\u001b[0m \u001b[31m51.2 MB/s\u001b[0m eta \u001b[36m0:00:00\u001b[0m\r\n",
      "\u001b[?25hDownloading rustworkx-0.16.0-cp39-abi3-manylinux_2_17_x86_64.manylinux2014_x86_64.whl (2.1 MB)\r\n",
      "\u001b[2K   \u001b[90m━━━━━━━━━━━━━━━━━━━━━━━━━━━━━━━━━━━━━━━━\u001b[0m \u001b[32m2.1/2.1 MB\u001b[0m \u001b[31m52.8 MB/s\u001b[0m eta \u001b[36m0:00:00\u001b[0m\r\n",
      "\u001b[?25hDownloading appdirs-1.4.4-py2.py3-none-any.whl (9.6 kB)\r\n",
      "Downloading diastatic_malt-2.15.2-py3-none-any.whl (167 kB)\r\n",
      "\u001b[2K   \u001b[90m━━━━━━━━━━━━━━━━━━━━━━━━━━━━━━━━━━━━━━━━\u001b[0m \u001b[32m167.9/167.9 kB\u001b[0m \u001b[31m6.1 MB/s\u001b[0m eta \u001b[36m0:00:00\u001b[0m\r\n",
      "\u001b[?25hDownloading tomlkit-0.13.2-py3-none-any.whl (37 kB)\r\n",
      "Downloading scipy_openblas32-0.3.29.0.0-py3-none-manylinux_2_17_x86_64.manylinux2014_x86_64.whl (8.6 MB)\r\n",
      "\u001b[2K   \u001b[90m━━━━━━━━━━━━━━━━━━━━━━━━━━━━━━━━━━━━━━━━\u001b[0m \u001b[32m8.6/8.6 MB\u001b[0m \u001b[31m77.4 MB/s\u001b[0m eta \u001b[36m0:00:00\u001b[0m\r\n",
      "\u001b[?25hInstalling collected packages: appdirs, tomlkit, scipy-openblas32, autoray, diastatic-malt, rustworkx, pennylane-lightning, pennylane\r\n",
      "Successfully installed appdirs-1.4.4 autoray-0.7.0 diastatic-malt-2.15.2 pennylane-0.40.0 pennylane-lightning-0.40.0 rustworkx-0.16.0 scipy-openblas32-0.3.29.0.0 tomlkit-0.13.2\r\n"
     ]
    }
   ],
   "source": [
    "!pip install pennylane --upgrade"
   ]
  },
  {
   "cell_type": "code",
   "execution_count": 2,
   "id": "c840d96d",
   "metadata": {
    "execution": {
     "iopub.execute_input": "2025-02-08T11:12:36.837054Z",
     "iopub.status.busy": "2025-02-08T11:12:36.836614Z",
     "iopub.status.idle": "2025-02-08T11:12:43.494843Z",
     "shell.execute_reply": "2025-02-08T11:12:43.493057Z"
    },
    "id": "FFJK-CEdMV_k",
    "papermill": {
     "duration": 6.667751,
     "end_time": "2025-02-08T11:12:43.496932",
     "exception": false,
     "start_time": "2025-02-08T11:12:36.829181",
     "status": "completed"
    },
    "tags": []
   },
   "outputs": [],
   "source": [
    "import pennylane as qml\n",
    "from pennylane import numpy as np\n",
    "from pennylane.optimize import NesterovMomentumOptimizer,GradientDescentOptimizer"
   ]
  },
  {
   "cell_type": "code",
   "execution_count": 3,
   "id": "46d6ebe9",
   "metadata": {
    "execution": {
     "iopub.execute_input": "2025-02-08T11:12:43.510942Z",
     "iopub.status.busy": "2025-02-08T11:12:43.510248Z",
     "iopub.status.idle": "2025-02-08T11:12:43.516870Z",
     "shell.execute_reply": "2025-02-08T11:12:43.515751Z"
    },
    "id": "smb0Dy5CN7yB",
    "papermill": {
     "duration": 0.015429,
     "end_time": "2025-02-08T11:12:43.518595",
     "exception": false,
     "start_time": "2025-02-08T11:12:43.503166",
     "status": "completed"
    },
    "tags": []
   },
   "outputs": [],
   "source": [
    "dev = qml.device(\"default.qubit\", wires=6)"
   ]
  },
  {
   "cell_type": "code",
   "execution_count": 4,
   "id": "eb12c6d6",
   "metadata": {
    "execution": {
     "iopub.execute_input": "2025-02-08T11:12:43.532367Z",
     "iopub.status.busy": "2025-02-08T11:12:43.531994Z",
     "iopub.status.idle": "2025-02-08T11:12:43.537215Z",
     "shell.execute_reply": "2025-02-08T11:12:43.536040Z"
    },
    "id": "qUYC1E6rRtBI",
    "papermill": {
     "duration": 0.014181,
     "end_time": "2025-02-08T11:12:43.539153",
     "exception": false,
     "start_time": "2025-02-08T11:12:43.524972",
     "status": "completed"
    },
    "tags": []
   },
   "outputs": [],
   "source": [
    "def amplitude_encoding(x, wires):\n",
    "  qml.AmplitudeEmbedding(features=x, wires=wires, normalize=True)\n",
    "\n",
    "def amplitude_encoding_inverse(x, wires):\n",
    "  qml.adjoint(qml.AmplitudeEmbedding)(features=x, wires=wires, normalize=True)"
   ]
  },
  {
   "cell_type": "code",
   "execution_count": 5,
   "id": "af7020f8",
   "metadata": {
    "execution": {
     "iopub.execute_input": "2025-02-08T11:12:43.552721Z",
     "iopub.status.busy": "2025-02-08T11:12:43.552351Z",
     "iopub.status.idle": "2025-02-08T11:12:43.559005Z",
     "shell.execute_reply": "2025-02-08T11:12:43.557836Z"
    },
    "id": "PbL9i9kJUnl5",
    "outputId": "2b9e13ff-ce49-46a4-cd6b-bfc0f114c476",
    "papermill": {
     "duration": 0.015829,
     "end_time": "2025-02-08T11:12:43.561182",
     "exception": false,
     "start_time": "2025-02-08T11:12:43.545353",
     "status": "completed"
    },
    "tags": []
   },
   "outputs": [],
   "source": [
    "def qaoa_ansatz(number_qubit,start_wire, theta):\n",
    "  '''\n",
    "  theta_size = 2n\n",
    "  start_wires = 0 or 4\n",
    "  '''\n",
    "\n",
    "  for i in range(number_qubit):\n",
    "    qml.H(wires=[i+start_wire])\n",
    "    qml.RY(theta[i], wires=[i+start_wire])\n",
    "  for i in range(number_qubit):\n",
    "    c = i\n",
    "    if c == number_qubit-1:\n",
    "      f = number_qubit-1\n",
    "      c = 0\n",
    "    else:\n",
    "      f = c+1\n",
    "    qml.CNOT(wires=[c+start_wire,f+start_wire])\n",
    "    qml.RZ(theta[number_qubit+i], wires=[f+start_wire])\n",
    "    qml.CNOT(wires=[c+start_wire,f+start_wire])\n",
    "# print(qml.draw(qaoa_ansatz)(3,3, [1,2,3,4,5,6,7,8]))\n"
   ]
  },
  {
   "cell_type": "code",
   "execution_count": 6,
   "id": "a54de84b",
   "metadata": {
    "execution": {
     "iopub.execute_input": "2025-02-08T11:12:43.576746Z",
     "iopub.status.busy": "2025-02-08T11:12:43.576368Z",
     "iopub.status.idle": "2025-02-08T11:12:43.582107Z",
     "shell.execute_reply": "2025-02-08T11:12:43.580990Z"
    },
    "id": "pl9ghVmZFmiw",
    "outputId": "fd5bdc09-08d9-44a4-99cd-9c3351365f4c",
    "papermill": {
     "duration": 0.015941,
     "end_time": "2025-02-08T11:12:43.583724",
     "exception": false,
     "start_time": "2025-02-08T11:12:43.567783",
     "status": "completed"
    },
    "tags": []
   },
   "outputs": [],
   "source": [
    "def hardware_effificent_ansatz(number_qubit, theta):\n",
    "  '''\n",
    "  theta_size = 2n\n",
    "  '''\n",
    "  for i in range(number_qubit):\n",
    "    qml.H(wires=[i])\n",
    "    qml.RY(theta[i], wires=[i])\n",
    "  for i in range(number_qubit):\n",
    "    c = i\n",
    "    if c == number_qubit-1:\n",
    "      f = 0\n",
    "    else:\n",
    "      f = c+1\n",
    "    qml.CRY(theta[number_qubit+i], wires=[c,f])\n",
    "# print(qml.draw(hardware_effificent_ansatz)(4, [1,2,3,4,5,6,7,8]))"
   ]
  },
  {
   "cell_type": "code",
   "execution_count": 7,
   "id": "176bea55",
   "metadata": {
    "execution": {
     "iopub.execute_input": "2025-02-08T11:12:43.597302Z",
     "iopub.status.busy": "2025-02-08T11:12:43.596944Z",
     "iopub.status.idle": "2025-02-08T11:12:43.604734Z",
     "shell.execute_reply": "2025-02-08T11:12:43.603527Z"
    },
    "id": "zTzQ25qrG7lb",
    "papermill": {
     "duration": 0.016522,
     "end_time": "2025-02-08T11:12:43.606516",
     "exception": false,
     "start_time": "2025-02-08T11:12:43.589994",
     "status": "completed"
    },
    "tags": []
   },
   "outputs": [],
   "source": [
    "@qml.qnode(dev)\n",
    "def full_circuit(x, weights):\n",
    "  '''\n",
    "  x: input\n",
    "  weights: [theta1, theta2, theta3, theta4]\n",
    "  '''\n",
    "  # step 1: initial state\n",
    "  # step 2: compute QKSAS\n",
    "  # first register\n",
    "  amplitude_encoding(x=x, wires=range(3))\n",
    "  # qaoa_ansatz(number_qubit=3,start_wire=0, theta=weights[0])\n",
    "  hardware_effificent_ansatz(number_qubit=3, theta=weights[0])  \n",
    "  amplitude_encoding_inverse(x=x, wires=range(3))\n",
    "  qml.adjoint(hardware_effificent_ansatz)(number_qubit=3, theta=weights[1])\n",
    "  # qml.adjoint(qaoa_ansatz)(number_qubit=3,start_wire=0, theta=weights[1])\n",
    "\n",
    "  # second register\n",
    "  amplitude_encoding(x=x, wires=range(3,6))\n",
    "  qaoa_ansatz(number_qubit=3,start_wire=3, theta=weights[2])\n",
    "\n",
    "  # step 3: apply DMP\n",
    "  # measure M1\n",
    "  m_10 = qml.measure(0)\n",
    "  m_11 = qml.measure(1)\n",
    "  m_12 = qml.measure(2)\n",
    "\n",
    "  # conditional with wires 3->5, theta4\n",
    "  qml.cond(m_10, qml.RY)(weights[3][0], wires=3)\n",
    "  qml.cond(m_11, qml.RY)(weights[3][1], wires=4)\n",
    "  qml.cond(m_12, qml.RY)(weights[3][2], wires=5)\n",
    "\n",
    "  # step 4: measure M2 and return\n",
    "  return qml.expval(qml.PauliZ(3) @ qml.PauliZ(4) @ qml.PauliZ(5))\n"
   ]
  },
  {
   "cell_type": "code",
   "execution_count": 8,
   "id": "45100e42",
   "metadata": {
    "execution": {
     "iopub.execute_input": "2025-02-08T11:12:43.620210Z",
     "iopub.status.busy": "2025-02-08T11:12:43.619830Z",
     "iopub.status.idle": "2025-02-08T11:12:43.625920Z",
     "shell.execute_reply": "2025-02-08T11:12:43.624781Z"
    },
    "id": "8IF6UlIrJAyH",
    "outputId": "fd0c5266-f75b-48fc-f103-66adec9fd51f",
    "papermill": {
     "duration": 0.015019,
     "end_time": "2025-02-08T11:12:43.627828",
     "exception": false,
     "start_time": "2025-02-08T11:12:43.612809",
     "status": "completed"
    },
    "tags": []
   },
   "outputs": [],
   "source": [
    "weights = 0.1 * np.random.randn(4, 6, requires_grad=True)\n",
    "params = (weights,)"
   ]
  },
  {
   "cell_type": "code",
   "execution_count": 9,
   "id": "cf84ccbe",
   "metadata": {
    "execution": {
     "iopub.execute_input": "2025-02-08T11:12:43.641432Z",
     "iopub.status.busy": "2025-02-08T11:12:43.641045Z",
     "iopub.status.idle": "2025-02-08T11:12:43.647455Z",
     "shell.execute_reply": "2025-02-08T11:12:43.646231Z"
    },
    "id": "qvlod-O2uSxx",
    "papermill": {
     "duration": 0.015905,
     "end_time": "2025-02-08T11:12:43.649869",
     "exception": false,
     "start_time": "2025-02-08T11:12:43.633964",
     "status": "completed"
    },
    "tags": []
   },
   "outputs": [],
   "source": [
    "def accuracy(labels, predictions):\n",
    "    acc = sum(abs(l - p) < 1e-5 for l, p in zip(labels, predictions))\n",
    "    acc = acc / len(labels)\n",
    "    return acc\n",
    "\n",
    "def cost(*args, **kwargs):\n",
    "    # Extract the parameters and data from *args and **kwargs\n",
    "    weights = args[0]  # Assuming the first argument is the parameters (usually a NumPy array)\n",
    "    X = kwargs.get('X', None)  # Get X from kwargs, default to None if not provided\n",
    "    Y = kwargs.get('Y', None)  # Get Y from kwargs, default to None if not provided\n",
    "\n",
    "    predictions = [full_circuit(x=x, weights=weights) for x in X]\n",
    "    return np.mean((Y - qml.math.stack(predictions)) ** 2)"
   ]
  },
  {
   "cell_type": "code",
   "execution_count": 10,
   "id": "a45940d7",
   "metadata": {
    "execution": {
     "iopub.execute_input": "2025-02-08T11:12:43.663406Z",
     "iopub.status.busy": "2025-02-08T11:12:43.663011Z",
     "iopub.status.idle": "2025-02-08T11:12:54.559752Z",
     "shell.execute_reply": "2025-02-08T11:12:54.558391Z"
    },
    "id": "M66nFDJhwlxr",
    "papermill": {
     "duration": 10.905822,
     "end_time": "2025-02-08T11:12:54.561849",
     "exception": false,
     "start_time": "2025-02-08T11:12:43.656027",
     "status": "completed"
    },
    "tags": []
   },
   "outputs": [],
   "source": [
    "ds= qml.data.load(\"other\", name=\"downscaled-mnist\")"
   ]
  },
  {
   "cell_type": "code",
   "execution_count": 11,
   "id": "aca04cd1",
   "metadata": {
    "execution": {
     "iopub.execute_input": "2025-02-08T11:12:54.577191Z",
     "iopub.status.busy": "2025-02-08T11:12:54.576363Z",
     "iopub.status.idle": "2025-02-08T11:13:55.111570Z",
     "shell.execute_reply": "2025-02-08T11:13:55.110297Z"
    },
    "id": "xzWBFbdgAAp6",
    "papermill": {
     "duration": 60.544737,
     "end_time": "2025-02-08T11:13:55.113825",
     "exception": false,
     "start_time": "2025-02-08T11:12:54.569088",
     "status": "completed"
    },
    "tags": []
   },
   "outputs": [],
   "source": [
    "X_test = np.array(ds[0].test[\"8\"][\"inputs\"])\n",
    "Y_test = np.array(ds[0].test[\"8\"][\"labels\"])\n",
    "X = np.array(ds[0].train[\"8\"][\"inputs\"])\n",
    "Y = np.array(ds[0].train[\"8\"][\"labels\"])"
   ]
  },
  {
   "cell_type": "code",
   "execution_count": 12,
   "id": "a0e1aeab",
   "metadata": {
    "execution": {
     "iopub.execute_input": "2025-02-08T11:13:55.127389Z",
     "iopub.status.busy": "2025-02-08T11:13:55.127043Z",
     "iopub.status.idle": "2025-02-08T11:13:55.131582Z",
     "shell.execute_reply": "2025-02-08T11:13:55.130600Z"
    },
    "id": "Chgxhw7PvXAb",
    "papermill": {
     "duration": 0.013254,
     "end_time": "2025-02-08T11:13:55.133340",
     "exception": false,
     "start_time": "2025-02-08T11:13:55.120086",
     "status": "completed"
    },
    "tags": []
   },
   "outputs": [],
   "source": [
    "X = X[:500]\n",
    "Y = Y[:500]\n",
    "X_test = X_test[:50]\n",
    "Y_test = Y_test[:50]"
   ]
  },
  {
   "cell_type": "code",
   "execution_count": 13,
   "id": "35deee4a",
   "metadata": {
    "execution": {
     "iopub.execute_input": "2025-02-08T11:13:55.146781Z",
     "iopub.status.busy": "2025-02-08T11:13:55.146364Z",
     "iopub.status.idle": "2025-02-08T11:13:55.151924Z",
     "shell.execute_reply": "2025-02-08T11:13:55.150911Z"
    },
    "id": "0wEjaLZEwW7l",
    "outputId": "16e78450-b24d-4cd8-e67d-c1dadf4c53aa",
    "papermill": {
     "duration": 0.014274,
     "end_time": "2025-02-08T11:13:55.153611",
     "exception": false,
     "start_time": "2025-02-08T11:13:55.139337",
     "status": "completed"
    },
    "tags": []
   },
   "outputs": [
    {
     "name": "stdout",
     "output_type": "stream",
     "text": [
      "(500, 8)\n",
      "(500,)\n"
     ]
    }
   ],
   "source": [
    "print(X.shape)\n",
    "print(Y.shape)"
   ]
  },
  {
   "cell_type": "code",
   "execution_count": 14,
   "id": "eb82eeb8",
   "metadata": {
    "execution": {
     "iopub.execute_input": "2025-02-08T11:13:55.166932Z",
     "iopub.status.busy": "2025-02-08T11:13:55.166458Z",
     "iopub.status.idle": "2025-02-08T11:13:55.174124Z",
     "shell.execute_reply": "2025-02-08T11:13:55.173064Z"
    },
    "id": "Z3lUbbMZvHvO",
    "papermill": {
     "duration": 0.016277,
     "end_time": "2025-02-08T11:13:55.176026",
     "exception": false,
     "start_time": "2025-02-08T11:13:55.159749",
     "status": "completed"
    },
    "tags": []
   },
   "outputs": [],
   "source": [
    "import matplotlib.pyplot as plt\n",
    "def draw_result(current_cost_list,acc_list,test_acc_list,epoch,lrate,n_layers=1):\n",
    "    fig, axs = plt.subplots(3, 1, figsize=(12, 10))\n",
    "    axs[0].plot(epoch, current_cost_list,label=f'loss_{lrate}')\n",
    "    axs[0].set_title(f'Loss {n_layers}')\n",
    "    axs[0].set_xlabel('Epoch')  # Set x-axis label\n",
    "    axs[0].set_ylabel('Cost Function')  # Set y-axis label\n",
    "    axs[0].legend()\n",
    "    axs[1].plot(epoch, acc_list, label=f'train_acc_{lrate}')\n",
    "    axs[1].set_title(f'Train acc {n_layers}')\n",
    "    axs[1].set_xlabel('Epoch')  # Set x-axis label\n",
    "    axs[1].set_ylabel('Train Accuraccy')  # Set y-axis label\n",
    "    axs[1].legend()\n",
    "    axs[2].plot(epoch, test_acc_list,label=f'test_acc_{lrate}')\n",
    "    axs[2].set_title(f'Test acc {n_layers}')\n",
    "    axs[2].set_xlabel('Epoch')  # Set x-axis label\n",
    "    axs[2].set_ylabel('Test Accuraccy')  # Set y-axis label\n",
    "    axs[2].legend()\n",
    "    fig.subplots_adjust(hspace=0.5)\n",
    "    fig.tight_layout()\n",
    "    plt.show()\n",
    "    fig.savefig(f\"/kaggle/working/chart_nlayer{n_layers}_lrate{lrate}.png\")"
   ]
  },
  {
   "cell_type": "code",
   "execution_count": 15,
   "id": "11932130",
   "metadata": {
    "execution": {
     "iopub.execute_input": "2025-02-08T11:13:55.189914Z",
     "iopub.status.busy": "2025-02-08T11:13:55.189465Z",
     "iopub.status.idle": "2025-02-08T14:12:21.283638Z",
     "shell.execute_reply": "2025-02-08T14:12:21.282547Z"
    },
    "id": "JJygIvw0vdgm",
    "outputId": "ee75cb99-b575-4f33-b212-439c68287bff",
    "papermill": {
     "duration": 10706.103359,
     "end_time": "2025-02-08T14:12:21.285637",
     "exception": false,
     "start_time": "2025-02-08T11:13:55.182278",
     "status": "completed"
    },
    "tags": []
   },
   "outputs": [
    {
     "name": "stdout",
     "output_type": "stream",
     "text": [
      "number layers: 1\n",
      "Iter:    1 | Cost: 1.2927780 | Accuracy: 0.5080000 | Test Accuracy: 0.5200000 | Run Time: 72.0707068\n",
      "Iter:    2 | Cost: 1.0757897 | Accuracy: 0.5860000 | Test Accuracy: 0.4800000 | Run Time: 71.6200843\n",
      "Iter:    3 | Cost: 0.9608847 | Accuracy: 0.6080000 | Test Accuracy: 0.4800000 | Run Time: 71.8287389\n",
      "Iter:    4 | Cost: 0.9550416 | Accuracy: 0.6200000 | Test Accuracy: 0.4400000 | Run Time: 70.8619502\n",
      "Iter:    5 | Cost: 0.9670403 | Accuracy: 0.6220000 | Test Accuracy: 0.4400000 | Run Time: 71.5705178\n",
      "Iter:    6 | Cost: 0.9723295 | Accuracy: 0.6380000 | Test Accuracy: 0.4000000 | Run Time: 71.0320835\n",
      "Iter:    7 | Cost: 0.9658471 | Accuracy: 0.6360000 | Test Accuracy: 0.4400000 | Run Time: 71.6992805\n",
      "Iter:    8 | Cost: 0.9521752 | Accuracy: 0.6360000 | Test Accuracy: 0.3800000 | Run Time: 71.2022996\n",
      "Iter:    9 | Cost: 0.9347208 | Accuracy: 0.6420000 | Test Accuracy: 0.4200000 | Run Time: 72.1710081\n",
      "Iter:   10 | Cost: 0.9134602 | Accuracy: 0.6540000 | Test Accuracy: 0.4200000 | Run Time: 69.0980422\n",
      "Iter:   11 | Cost: 0.8924199 | Accuracy: 0.6600000 | Test Accuracy: 0.4200000 | Run Time: 73.0983436\n",
      "Iter:   12 | Cost: 0.8812660 | Accuracy: 0.6660000 | Test Accuracy: 0.3800000 | Run Time: 74.1531525\n",
      "Iter:   13 | Cost: 0.8789369 | Accuracy: 0.6520000 | Test Accuracy: 0.3400000 | Run Time: 69.7151811\n",
      "Iter:   14 | Cost: 0.8744972 | Accuracy: 0.6560000 | Test Accuracy: 0.3800000 | Run Time: 70.2911067\n",
      "Iter:   15 | Cost: 0.8656768 | Accuracy: 0.6680000 | Test Accuracy: 0.4000000 | Run Time: 73.0284400\n",
      "Iter:   16 | Cost: 0.8562494 | Accuracy: 0.6620000 | Test Accuracy: 0.4000000 | Run Time: 73.3674350\n",
      "Iter:   17 | Cost: 0.8484149 | Accuracy: 0.6740000 | Test Accuracy: 0.3800000 | Run Time: 71.9542525\n",
      "Iter:   18 | Cost: 0.8419630 | Accuracy: 0.6880000 | Test Accuracy: 0.4200000 | Run Time: 72.0986574\n",
      "Iter:   19 | Cost: 0.8361843 | Accuracy: 0.6800000 | Test Accuracy: 0.4000000 | Run Time: 72.3322961\n",
      "Iter:   20 | Cost: 0.8309350 | Accuracy: 0.6800000 | Test Accuracy: 0.4000000 | Run Time: 71.6222863\n",
      "Iter:   21 | Cost: 0.8262876 | Accuracy: 0.6780000 | Test Accuracy: 0.4000000 | Run Time: 71.1336060\n",
      "Iter:   22 | Cost: 0.8219390 | Accuracy: 0.6720000 | Test Accuracy: 0.4000000 | Run Time: 74.5751436\n",
      "Iter:   23 | Cost: 0.8173076 | Accuracy: 0.6720000 | Test Accuracy: 0.4000000 | Run Time: 74.4283421\n",
      "Iter:   24 | Cost: 0.8120478 | Accuracy: 0.6740000 | Test Accuracy: 0.3800000 | Run Time: 72.0434785\n",
      "Iter:   25 | Cost: 0.8063331 | Accuracy: 0.6780000 | Test Accuracy: 0.4000000 | Run Time: 72.8390510\n",
      "Iter:   26 | Cost: 0.8007264 | Accuracy: 0.6820000 | Test Accuracy: 0.4000000 | Run Time: 73.0854523\n",
      "Iter:   27 | Cost: 0.7958386 | Accuracy: 0.6840000 | Test Accuracy: 0.4400000 | Run Time: 73.1211166\n",
      "Iter:   28 | Cost: 0.7920350 | Accuracy: 0.6900000 | Test Accuracy: 0.4400000 | Run Time: 72.1474273\n",
      "Iter:   29 | Cost: 0.7893244 | Accuracy: 0.6960000 | Test Accuracy: 0.4400000 | Run Time: 71.4207377\n",
      "Iter:   30 | Cost: 0.7874188 | Accuracy: 0.6960000 | Test Accuracy: 0.4600000 | Run Time: 70.5290935\n",
      "Iter:   31 | Cost: 0.7858832 | Accuracy: 0.7000000 | Test Accuracy: 0.4600000 | Run Time: 71.2036784\n",
      "Iter:   32 | Cost: 0.7842992 | Accuracy: 0.7040000 | Test Accuracy: 0.4600000 | Run Time: 69.8192141\n",
      "Iter:   33 | Cost: 0.7823864 | Accuracy: 0.7060000 | Test Accuracy: 0.4600000 | Run Time: 71.2950830\n",
      "Iter:   34 | Cost: 0.7800513 | Accuracy: 0.7020000 | Test Accuracy: 0.4400000 | Run Time: 71.1923437\n",
      "Iter:   35 | Cost: 0.7773590 | Accuracy: 0.7060000 | Test Accuracy: 0.4400000 | Run Time: 70.6072431\n",
      "Iter:   36 | Cost: 0.7744528 | Accuracy: 0.7000000 | Test Accuracy: 0.4400000 | Run Time: 70.6318166\n",
      "Iter:   37 | Cost: 0.7714639 | Accuracy: 0.6980000 | Test Accuracy: 0.4200000 | Run Time: 70.8102584\n",
      "Iter:   38 | Cost: 0.7684510 | Accuracy: 0.7020000 | Test Accuracy: 0.4400000 | Run Time: 71.7189965\n",
      "Iter:   39 | Cost: 0.7653924 | Accuracy: 0.7040000 | Test Accuracy: 0.4400000 | Run Time: 75.2891927\n",
      "Iter:   40 | Cost: 0.7622220 | Accuracy: 0.7060000 | Test Accuracy: 0.4400000 | Run Time: 71.9542894\n",
      "Iter:   41 | Cost: 0.7588820 | Accuracy: 0.7080000 | Test Accuracy: 0.4400000 | Run Time: 71.3971398\n",
      "Iter:   42 | Cost: 0.7553628 | Accuracy: 0.7080000 | Test Accuracy: 0.4600000 | Run Time: 72.2527919\n",
      "Iter:   43 | Cost: 0.7517139 | Accuracy: 0.7080000 | Test Accuracy: 0.4800000 | Run Time: 69.8138177\n",
      "Iter:   44 | Cost: 0.7480303 | Accuracy: 0.7100000 | Test Accuracy: 0.4800000 | Run Time: 72.1026559\n",
      "Iter:   45 | Cost: 0.7444235 | Accuracy: 0.7140000 | Test Accuracy: 0.4600000 | Run Time: 71.5979817\n",
      "Iter:   46 | Cost: 0.7409946 | Accuracy: 0.7180000 | Test Accuracy: 0.4600000 | Run Time: 69.8499269\n",
      "Iter:   47 | Cost: 0.7378163 | Accuracy: 0.7180000 | Test Accuracy: 0.4600000 | Run Time: 70.2175612\n",
      "Iter:   48 | Cost: 0.7349280 | Accuracy: 0.7200000 | Test Accuracy: 0.4400000 | Run Time: 70.8603086\n",
      "Iter:   49 | Cost: 0.7323397 | Accuracy: 0.7200000 | Test Accuracy: 0.4400000 | Run Time: 72.2589476\n",
      "Iter:   50 | Cost: 0.7300403 | Accuracy: 0.7080000 | Test Accuracy: 0.4400000 | Run Time: 70.4840581\n",
      "Iter:   51 | Cost: 0.7280061 | Accuracy: 0.7100000 | Test Accuracy: 0.4400000 | Run Time: 71.0993631\n",
      "Iter:   52 | Cost: 0.7262082 | Accuracy: 0.7200000 | Test Accuracy: 0.4400000 | Run Time: 71.4399304\n",
      "Iter:   53 | Cost: 0.7246178 | Accuracy: 0.7200000 | Test Accuracy: 0.4400000 | Run Time: 71.0940685\n",
      "Iter:   54 | Cost: 0.7232096 | Accuracy: 0.7220000 | Test Accuracy: 0.4600000 | Run Time: 69.2698536\n",
      "Iter:   55 | Cost: 0.7219640 | Accuracy: 0.7160000 | Test Accuracy: 0.4600000 | Run Time: 72.2056537\n",
      "Iter:   56 | Cost: 0.7208657 | Accuracy: 0.7200000 | Test Accuracy: 0.4600000 | Run Time: 70.6499927\n",
      "Iter:   57 | Cost: 0.7199019 | Accuracy: 0.7280000 | Test Accuracy: 0.4800000 | Run Time: 68.8996611\n",
      "Iter:   58 | Cost: 0.7190588 | Accuracy: 0.7300000 | Test Accuracy: 0.4800000 | Run Time: 70.3960590\n",
      "Iter:   59 | Cost: 0.7183197 | Accuracy: 0.7360000 | Test Accuracy: 0.4800000 | Run Time: 71.7855322\n",
      "Iter:   60 | Cost: 0.7176638 | Accuracy: 0.7420000 | Test Accuracy: 0.4800000 | Run Time: 70.8387330\n",
      "Iter:   61 | Cost: 0.7170674 | Accuracy: 0.7460000 | Test Accuracy: 0.4800000 | Run Time: 70.5379601\n",
      "Iter:   62 | Cost: 0.7165066 | Accuracy: 0.7460000 | Test Accuracy: 0.4800000 | Run Time: 71.4104266\n",
      "Iter:   63 | Cost: 0.7159604 | Accuracy: 0.7400000 | Test Accuracy: 0.4600000 | Run Time: 70.7132266\n",
      "Iter:   64 | Cost: 0.7154130 | Accuracy: 0.7420000 | Test Accuracy: 0.4400000 | Run Time: 70.9949214\n",
      "Iter:   65 | Cost: 0.7148549 | Accuracy: 0.7400000 | Test Accuracy: 0.4400000 | Run Time: 69.8314538\n",
      "Iter:   66 | Cost: 0.7142822 | Accuracy: 0.7380000 | Test Accuracy: 0.4400000 | Run Time: 71.8759143\n",
      "Iter:   67 | Cost: 0.7136957 | Accuracy: 0.7380000 | Test Accuracy: 0.4400000 | Run Time: 70.6908379\n",
      "Iter:   68 | Cost: 0.7130985 | Accuracy: 0.7380000 | Test Accuracy: 0.4400000 | Run Time: 69.3661840\n",
      "Iter:   69 | Cost: 0.7124943 | Accuracy: 0.7360000 | Test Accuracy: 0.4400000 | Run Time: 71.2648487\n",
      "Iter:   70 | Cost: 0.7118862 | Accuracy: 0.7340000 | Test Accuracy: 0.4400000 | Run Time: 70.6001537\n",
      "Iter:   71 | Cost: 0.7112764 | Accuracy: 0.7380000 | Test Accuracy: 0.4400000 | Run Time: 71.0419176\n",
      "Iter:   72 | Cost: 0.7106659 | Accuracy: 0.7380000 | Test Accuracy: 0.4400000 | Run Time: 70.4478874\n",
      "Iter:   73 | Cost: 0.7100552 | Accuracy: 0.7360000 | Test Accuracy: 0.4400000 | Run Time: 70.5313332\n",
      "Iter:   74 | Cost: 0.7094446 | Accuracy: 0.7360000 | Test Accuracy: 0.4400000 | Run Time: 70.0023031\n",
      "Iter:   75 | Cost: 0.7088343 | Accuracy: 0.7360000 | Test Accuracy: 0.4400000 | Run Time: 70.7735512\n",
      "Iter:   76 | Cost: 0.7082250 | Accuracy: 0.7400000 | Test Accuracy: 0.4400000 | Run Time: 69.0988991\n",
      "Iter:   77 | Cost: 0.7076177 | Accuracy: 0.7420000 | Test Accuracy: 0.4400000 | Run Time: 70.5651495\n",
      "Iter:   78 | Cost: 0.7070136 | Accuracy: 0.7460000 | Test Accuracy: 0.4200000 | Run Time: 71.0719066\n",
      "Iter:   79 | Cost: 0.7064139 | Accuracy: 0.7460000 | Test Accuracy: 0.4200000 | Run Time: 70.7530150\n",
      "Iter:   80 | Cost: 0.7058199 | Accuracy: 0.7460000 | Test Accuracy: 0.4200000 | Run Time: 69.8938458\n",
      "Iter:   81 | Cost: 0.7052328 | Accuracy: 0.7420000 | Test Accuracy: 0.4200000 | Run Time: 70.1277356\n",
      "Iter:   82 | Cost: 0.7046534 | Accuracy: 0.7400000 | Test Accuracy: 0.4200000 | Run Time: 71.2730925\n",
      "Iter:   83 | Cost: 0.7040826 | Accuracy: 0.7380000 | Test Accuracy: 0.4200000 | Run Time: 70.4957764\n",
      "Iter:   84 | Cost: 0.7035207 | Accuracy: 0.7380000 | Test Accuracy: 0.4400000 | Run Time: 70.2410786\n",
      "Iter:   85 | Cost: 0.7029683 | Accuracy: 0.7360000 | Test Accuracy: 0.4400000 | Run Time: 70.1643658\n",
      "Iter:   86 | Cost: 0.7024255 | Accuracy: 0.7400000 | Test Accuracy: 0.4400000 | Run Time: 70.8815064\n",
      "Iter:   87 | Cost: 0.7018926 | Accuracy: 0.7360000 | Test Accuracy: 0.4400000 | Run Time: 68.7883234\n",
      "Iter:   88 | Cost: 0.7013698 | Accuracy: 0.7340000 | Test Accuracy: 0.4400000 | Run Time: 71.9054408\n",
      "Iter:   89 | Cost: 0.7008575 | Accuracy: 0.7360000 | Test Accuracy: 0.4400000 | Run Time: 75.0008619\n",
      "Iter:   90 | Cost: 0.7003561 | Accuracy: 0.7380000 | Test Accuracy: 0.4400000 | Run Time: 76.0407178\n",
      "Iter:   91 | Cost: 0.6998663 | Accuracy: 0.7380000 | Test Accuracy: 0.4400000 | Run Time: 72.7621026\n",
      "Iter:   92 | Cost: 0.6993889 | Accuracy: 0.7420000 | Test Accuracy: 0.4400000 | Run Time: 73.3151886\n",
      "Iter:   93 | Cost: 0.6989247 | Accuracy: 0.7420000 | Test Accuracy: 0.4400000 | Run Time: 72.3547728\n",
      "Iter:   94 | Cost: 0.6984751 | Accuracy: 0.7440000 | Test Accuracy: 0.4400000 | Run Time: 70.4806302\n",
      "Iter:   95 | Cost: 0.6980410 | Accuracy: 0.7500000 | Test Accuracy: 0.4400000 | Run Time: 71.2697496\n",
      "Iter:   96 | Cost: 0.6976239 | Accuracy: 0.7520000 | Test Accuracy: 0.4200000 | Run Time: 72.4381056\n",
      "Iter:   97 | Cost: 0.6972249 | Accuracy: 0.7560000 | Test Accuracy: 0.4200000 | Run Time: 69.2425544\n",
      "Iter:   98 | Cost: 0.6968451 | Accuracy: 0.7580000 | Test Accuracy: 0.4200000 | Run Time: 70.7925797\n",
      "Iter:   99 | Cost: 0.6964857 | Accuracy: 0.7580000 | Test Accuracy: 0.4200000 | Run Time: 72.3009651\n",
      "Iter:  100 | Cost: 0.6961472 | Accuracy: 0.7580000 | Test Accuracy: 0.4200000 | Run Time: 71.4625711\n",
      "Iter:  101 | Cost: 0.6958302 | Accuracy: 0.7600000 | Test Accuracy: 0.4200000 | Run Time: 69.6009502\n",
      "Iter:  102 | Cost: 0.6955349 | Accuracy: 0.7580000 | Test Accuracy: 0.4200000 | Run Time: 72.1069920\n",
      "Iter:  103 | Cost: 0.6952610 | Accuracy: 0.7560000 | Test Accuracy: 0.4200000 | Run Time: 70.9962938\n",
      "Iter:  104 | Cost: 0.6950081 | Accuracy: 0.7540000 | Test Accuracy: 0.4200000 | Run Time: 70.5182686\n",
      "Iter:  105 | Cost: 0.6947753 | Accuracy: 0.7580000 | Test Accuracy: 0.4200000 | Run Time: 71.4427810\n",
      "Iter:  106 | Cost: 0.6945616 | Accuracy: 0.7580000 | Test Accuracy: 0.4200000 | Run Time: 70.8413734\n",
      "Iter:  107 | Cost: 0.6943656 | Accuracy: 0.7620000 | Test Accuracy: 0.4200000 | Run Time: 71.4276507\n",
      "Iter:  108 | Cost: 0.6941858 | Accuracy: 0.7620000 | Test Accuracy: 0.4200000 | Run Time: 71.9076555\n",
      "Iter:  109 | Cost: 0.6940208 | Accuracy: 0.7620000 | Test Accuracy: 0.4200000 | Run Time: 70.0837562\n",
      "Iter:  110 | Cost: 0.6938688 | Accuracy: 0.7620000 | Test Accuracy: 0.4200000 | Run Time: 71.6373539\n",
      "Iter:  111 | Cost: 0.6937285 | Accuracy: 0.7620000 | Test Accuracy: 0.4200000 | Run Time: 70.6859984\n",
      "Iter:  112 | Cost: 0.6935982 | Accuracy: 0.7620000 | Test Accuracy: 0.4200000 | Run Time: 71.9698431\n",
      "Iter:  113 | Cost: 0.6934766 | Accuracy: 0.7580000 | Test Accuracy: 0.4200000 | Run Time: 72.6757920\n",
      "Iter:  114 | Cost: 0.6933624 | Accuracy: 0.7600000 | Test Accuracy: 0.4200000 | Run Time: 70.9208424\n",
      "Iter:  115 | Cost: 0.6932547 | Accuracy: 0.7600000 | Test Accuracy: 0.4200000 | Run Time: 74.0083811\n",
      "Iter:  116 | Cost: 0.6931525 | Accuracy: 0.7600000 | Test Accuracy: 0.4200000 | Run Time: 73.4044750\n",
      "Iter:  117 | Cost: 0.6930551 | Accuracy: 0.7620000 | Test Accuracy: 0.4200000 | Run Time: 71.7227869\n",
      "Iter:  118 | Cost: 0.6929618 | Accuracy: 0.7620000 | Test Accuracy: 0.4200000 | Run Time: 70.6500318\n",
      "Iter:  119 | Cost: 0.6928722 | Accuracy: 0.7620000 | Test Accuracy: 0.4200000 | Run Time: 72.6367180\n",
      "Iter:  120 | Cost: 0.6927859 | Accuracy: 0.7620000 | Test Accuracy: 0.4200000 | Run Time: 70.4562523\n",
      "Iter:  121 | Cost: 0.6927028 | Accuracy: 0.7620000 | Test Accuracy: 0.4200000 | Run Time: 71.3281949\n",
      "Iter:  122 | Cost: 0.6926227 | Accuracy: 0.7620000 | Test Accuracy: 0.4200000 | Run Time: 71.3336964\n",
      "Iter:  123 | Cost: 0.6925455 | Accuracy: 0.7620000 | Test Accuracy: 0.4200000 | Run Time: 70.9897568\n",
      "Iter:  124 | Cost: 0.6924710 | Accuracy: 0.7620000 | Test Accuracy: 0.4200000 | Run Time: 71.0021811\n",
      "Iter:  125 | Cost: 0.6923994 | Accuracy: 0.7620000 | Test Accuracy: 0.4200000 | Run Time: 71.8196170\n",
      "Iter:  126 | Cost: 0.6923305 | Accuracy: 0.7600000 | Test Accuracy: 0.4200000 | Run Time: 71.7016428\n",
      "Iter:  127 | Cost: 0.6922643 | Accuracy: 0.7620000 | Test Accuracy: 0.4200000 | Run Time: 71.5482676\n",
      "Iter:  128 | Cost: 0.6922009 | Accuracy: 0.7620000 | Test Accuracy: 0.4200000 | Run Time: 69.5358632\n",
      "Iter:  129 | Cost: 0.6921402 | Accuracy: 0.7620000 | Test Accuracy: 0.4200000 | Run Time: 72.8984976\n",
      "Iter:  130 | Cost: 0.6920822 | Accuracy: 0.7620000 | Test Accuracy: 0.4200000 | Run Time: 71.7015333\n",
      "Iter:  131 | Cost: 0.6920268 | Accuracy: 0.7660000 | Test Accuracy: 0.4200000 | Run Time: 69.5073483\n",
      "Iter:  132 | Cost: 0.6919741 | Accuracy: 0.7640000 | Test Accuracy: 0.4200000 | Run Time: 70.7197840\n",
      "Iter:  133 | Cost: 0.6919239 | Accuracy: 0.7640000 | Test Accuracy: 0.4200000 | Run Time: 72.7534277\n",
      "Iter:  134 | Cost: 0.6918761 | Accuracy: 0.7640000 | Test Accuracy: 0.4200000 | Run Time: 71.2620347\n",
      "Iter:  135 | Cost: 0.6918308 | Accuracy: 0.7640000 | Test Accuracy: 0.4200000 | Run Time: 70.8951480\n",
      "Iter:  136 | Cost: 0.6917878 | Accuracy: 0.7620000 | Test Accuracy: 0.4200000 | Run Time: 72.1814849\n",
      "Iter:  137 | Cost: 0.6917470 | Accuracy: 0.7640000 | Test Accuracy: 0.4200000 | Run Time: 71.7998323\n",
      "Iter:  138 | Cost: 0.6917084 | Accuracy: 0.7660000 | Test Accuracy: 0.4200000 | Run Time: 71.6686020\n",
      "Iter:  139 | Cost: 0.6916718 | Accuracy: 0.7660000 | Test Accuracy: 0.4200000 | Run Time: 70.3874824\n",
      "Iter:  140 | Cost: 0.6916371 | Accuracy: 0.7660000 | Test Accuracy: 0.4200000 | Run Time: 72.2689974\n",
      "Iter:  141 | Cost: 0.6916044 | Accuracy: 0.7660000 | Test Accuracy: 0.4200000 | Run Time: 71.7364416\n",
      "Iter:  142 | Cost: 0.6915734 | Accuracy: 0.7680000 | Test Accuracy: 0.4200000 | Run Time: 71.1324553\n",
      "Iter:  143 | Cost: 0.6915442 | Accuracy: 0.7680000 | Test Accuracy: 0.4200000 | Run Time: 71.5703874\n",
      "Iter:  144 | Cost: 0.6915165 | Accuracy: 0.7680000 | Test Accuracy: 0.4200000 | Run Time: 68.8996735\n",
      "Iter:  145 | Cost: 0.6914904 | Accuracy: 0.7680000 | Test Accuracy: 0.4200000 | Run Time: 70.9506025\n",
      "Iter:  146 | Cost: 0.6914658 | Accuracy: 0.7680000 | Test Accuracy: 0.4200000 | Run Time: 70.2625303\n",
      "Iter:  147 | Cost: 0.6914425 | Accuracy: 0.7680000 | Test Accuracy: 0.4200000 | Run Time: 70.3715205\n",
      "Iter:  148 | Cost: 0.6914205 | Accuracy: 0.7680000 | Test Accuracy: 0.4200000 | Run Time: 70.9584918\n",
      "Iter:  149 | Cost: 0.6913998 | Accuracy: 0.7680000 | Test Accuracy: 0.4200000 | Run Time: 73.6470537\n",
      "Iter:  150 | Cost: 0.6913803 | Accuracy: 0.7660000 | Test Accuracy: 0.4200000 | Run Time: 72.3030982\n"
     ]
    },
    {
     "data": {
      "image/png": "[encoded data removed]",
      "text/plain": [
       "<Figure size 1200x1000 with 3 Axes>"
      ]
     },
     "metadata": {},
     "output_type": "display_data"
    },
    {
     "name": "stdout",
     "output_type": "stream",
     "text": [
      "[[-1.98735146 -1.78641061 -0.74622312  1.81110275  0.646238   -0.56219424]\n",
      " [-0.64306142  0.65846495 -0.23618763 -0.45835181 -0.1563012   1.49108959]\n",
      " [-0.38371214 -3.7531174   0.89614826  0.00638464  0.00929563 -0.01012353]\n",
      " [ 1.32637433  1.61085061 -0.32569042  0.09098369 -0.06005362  0.00857254]]\n"
     ]
    }
   ],
   "source": [
    "import time\n",
    "learning_rate = [0.5]\n",
    "num_layers = [1]\n",
    "for n_layers in num_layers:\n",
    "    lrate = 0.5\n",
    "    print(\"number layers:\", n_layers)\n",
    "\n",
    "    opt = NesterovMomentumOptimizer(lrate)\n",
    "    current_cost_list = []\n",
    "    acc_list = []\n",
    "    test_acc_list = []\n",
    "    epoch = []\n",
    "    for it in range(150):\n",
    "        start_time = time.time()\n",
    "\n",
    "        # Update the weights by one optimizer step, using only a limited batch of data\n",
    "        gradient_value, current_cost = opt.compute_grad(objective_fn=cost, args=params, kwargs={\"X\": X, \"Y\": Y})\n",
    "        params = opt.apply_grad(grad=gradient_value, args=params)\n",
    "        current_cost_list.append(current_cost)\n",
    "        weights = params[0]\n",
    "        # Compute accuracy on train\n",
    "        predictions = [np.sign(full_circuit(x,weights)) for x in X]\n",
    "        acc = accuracy(Y, predictions)\n",
    "        acc_list.append(acc)\n",
    "\n",
    "        # Compute accuracy on test\n",
    "        predictions_test = [np.sign(full_circuit(x,weights,)) for x in X_test]\n",
    "        test_acc = accuracy(Y_test, predictions)\n",
    "        test_acc_list.append(test_acc)\n",
    "        epoch.append(it)\n",
    "\n",
    "        # Redraw the updated plot\n",
    "        end_time = time.time() - start_time\n",
    "        print(f\"Iter: {it+1:4d} | Cost: {current_cost:0.7f} | Accuracy: {acc:0.7f} | Test Accuracy: {test_acc:0.7f} | Run Time: {end_time:0.7f}\")\n",
    "    draw_result(current_cost_list,acc_list,test_acc_list,epoch,lrate,n_layers)\n",
    "    print(weights)"
   ]
  },
  {
   "cell_type": "code",
   "execution_count": 16,
   "id": "20c8e513",
   "metadata": {
    "execution": {
     "iopub.execute_input": "2025-02-08T14:12:21.321000Z",
     "iopub.status.busy": "2025-02-08T14:12:21.320456Z",
     "iopub.status.idle": "2025-02-08T14:12:23.653916Z",
     "shell.execute_reply": "2025-02-08T14:12:23.652719Z"
    },
    "id": "yxRI9AAM_sn8",
    "outputId": "ad1f52b8-5e88-4e3b-db2c-251f99651a8c",
    "papermill": {
     "duration": 2.353956,
     "end_time": "2025-02-08T14:12:23.656154",
     "exception": false,
     "start_time": "2025-02-08T14:12:21.302198",
     "status": "completed"
    },
    "tags": []
   },
   "outputs": [
    {
     "name": "stdout",
     "output_type": "stream",
     "text": [
      "Final test, accuracy_test: 0.62\n"
     ]
    }
   ],
   "source": [
    "# Compute accuracy\n",
    "weights = params[0]\n",
    "predictions = [np.sign(full_circuit(x,weights)) for x in X_test]\n",
    "acc = accuracy(Y_test, predictions)\n",
    "print(f\"Final test, accuracy_test: {acc}\")"
   ]
  },
  {
   "cell_type": "code",
   "execution_count": null,
   "id": "0fa7381b",
   "metadata": {
    "id": "yUI2mgpBIRYp",
    "papermill": {
     "duration": 0.016469,
     "end_time": "2025-02-08T14:12:23.689422",
     "exception": false,
     "start_time": "2025-02-08T14:12:23.672953",
     "status": "completed"
    },
    "tags": []
   },
   "outputs": [],
   "source": []
  }
 ],
 "metadata": {
  "colab": {
   "provenance": []
  },
  "kaggle": {
   "accelerator": "none",
   "dataSources": [
    {
     "datasetId": 6593060,
     "sourceId": 10648027,
     "sourceType": "datasetVersion"
    }
   ],
   "dockerImageVersionId": 30886,
   "isGpuEnabled": false,
   "isInternetEnabled": true,
   "language": "python",
   "sourceType": "notebook"
  },
  "kernelspec": {
   "display_name": "Python 3",
   "language": "python",
   "name": "python3"
  },
  "language_info": {
   "codemirror_mode": {
    "name": "ipython",
    "version": 3
   },
   "file_extension": ".py",
   "mimetype": "text/x-python",
   "name": "python",
   "nbconvert_exporter": "python",
   "pygments_lexer": "ipython3",
   "version": "3.10.12"
  },
  "papermill": {
   "default_parameters": {},
   "duration": 10803.385876,
   "end_time": "2025-02-08T14:12:26.643827",
   "environment_variables": {},
   "exception": null,
   "input_path": "__notebook__.ipynb",
   "output_path": "__notebook__.ipynb",
   "parameters": {},
   "start_time": "2025-02-08T11:12:23.257951",
   "version": "2.6.0"
  }
 },
 "nbformat": 4,
 "nbformat_minor": 5
}
