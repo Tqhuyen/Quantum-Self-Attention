{
 "cells": [
  {
   "cell_type": "code",
   "execution_count": 1,
   "id": "4a8ef36a",
   "metadata": {
    "execution": {
     "iopub.execute_input": "2025-02-10T15:15:22.371549Z",
     "iopub.status.busy": "2025-02-10T15:15:22.371225Z",
     "iopub.status.idle": "2025-02-10T15:15:31.490058Z",
     "shell.execute_reply": "2025-02-10T15:15:31.488835Z"
    },
    "id": "MbEyJMHaW9w7",
    "outputId": "8edd0afc-dd65-408c-b624-fea1e6874d8b",
    "papermill": {
     "duration": 9.127919,
     "end_time": "2025-02-10T15:15:31.492081",
     "exception": false,
     "start_time": "2025-02-10T15:15:22.364162",
     "status": "completed"
    },
    "tags": []
   },
   "outputs": [
    {
     "name": "stdout",
     "output_type": "stream",
     "text": [
      "Collecting pennylane\r\n",
      "  Downloading PennyLane-0.40.0-py3-none-any.whl.metadata (10 kB)\r\n",
      "Requirement already satisfied: numpy<2.1 in /usr/local/lib/python3.10/dist-packages (from pennylane) (1.26.4)\r\n",
      "Requirement already satisfied: scipy in /usr/local/lib/python3.10/dist-packages (from pennylane) (1.13.1)\r\n",
      "Requirement already satisfied: networkx in /usr/local/lib/python3.10/dist-packages (from pennylane) (3.4.2)\r\n",
      "Collecting rustworkx>=0.14.0 (from pennylane)\r\n",
      "  Downloading rustworkx-0.16.0-cp39-abi3-manylinux_2_17_x86_64.manylinux2014_x86_64.whl.metadata (10 kB)\r\n",
      "Requirement already satisfied: autograd in /usr/local/lib/python3.10/dist-packages (from pennylane) (1.7.0)\r\n",
      "Collecting tomlkit (from pennylane)\r\n",
      "  Downloading tomlkit-0.13.2-py3-none-any.whl.metadata (2.7 kB)\r\n",
      "Collecting appdirs (from pennylane)\r\n",
      "  Downloading appdirs-1.4.4-py2.py3-none-any.whl.metadata (9.0 kB)\r\n",
      "Collecting autoray>=0.6.11 (from pennylane)\r\n",
      "  Downloading autoray-0.7.0-py3-none-any.whl.metadata (5.8 kB)\r\n",
      "Requirement already satisfied: cachetools in /usr/local/lib/python3.10/dist-packages (from pennylane) (5.5.0)\r\n",
      "Collecting pennylane-lightning>=0.40 (from pennylane)\r\n",
      "  Downloading PennyLane_Lightning-0.40.0-cp310-cp310-manylinux_2_28_x86_64.whl.metadata (27 kB)\r\n",
      "Requirement already satisfied: requests in /usr/local/lib/python3.10/dist-packages (from pennylane) (2.32.3)\r\n",
      "Requirement already satisfied: typing-extensions in /usr/local/lib/python3.10/dist-packages (from pennylane) (4.12.2)\r\n",
      "Requirement already satisfied: packaging in /usr/local/lib/python3.10/dist-packages (from pennylane) (24.2)\r\n",
      "Collecting diastatic-malt (from pennylane)\r\n",
      "  Downloading diastatic_malt-2.15.2-py3-none-any.whl.metadata (2.6 kB)\r\n",
      "Requirement already satisfied: mkl_fft in /usr/local/lib/python3.10/dist-packages (from numpy<2.1->pennylane) (1.3.8)\r\n",
      "Requirement already satisfied: mkl_random in /usr/local/lib/python3.10/dist-packages (from numpy<2.1->pennylane) (1.2.4)\r\n",
      "Requirement already satisfied: mkl_umath in /usr/local/lib/python3.10/dist-packages (from numpy<2.1->pennylane) (0.1.1)\r\n",
      "Requirement already satisfied: mkl in /usr/local/lib/python3.10/dist-packages (from numpy<2.1->pennylane) (2025.0.1)\r\n",
      "Requirement already satisfied: tbb4py in /usr/local/lib/python3.10/dist-packages (from numpy<2.1->pennylane) (2022.0.0)\r\n",
      "Requirement already satisfied: mkl-service in /usr/local/lib/python3.10/dist-packages (from numpy<2.1->pennylane) (2.4.1)\r\n",
      "Collecting scipy-openblas32>=0.3.26 (from pennylane-lightning>=0.40->pennylane)\r\n",
      "  Downloading scipy_openblas32-0.3.29.0.0-py3-none-manylinux_2_17_x86_64.manylinux2014_x86_64.whl.metadata (56 kB)\r\n",
      "\u001b[2K     \u001b[90m━━━━━━━━━━━━━━━━━━━━━━━━━━━━━━━━━━━━━━━━\u001b[0m \u001b[32m56.1/56.1 kB\u001b[0m \u001b[31m2.3 MB/s\u001b[0m eta \u001b[36m0:00:00\u001b[0m\r\n",
      "\u001b[?25hRequirement already satisfied: astunparse in /usr/local/lib/python3.10/dist-packages (from diastatic-malt->pennylane) (1.6.3)\r\n",
      "Requirement already satisfied: gast in /usr/local/lib/python3.10/dist-packages (from diastatic-malt->pennylane) (0.6.0)\r\n",
      "Requirement already satisfied: termcolor in /usr/local/lib/python3.10/dist-packages (from diastatic-malt->pennylane) (2.5.0)\r\n",
      "Requirement already satisfied: charset-normalizer<4,>=2 in /usr/local/lib/python3.10/dist-packages (from requests->pennylane) (3.4.1)\r\n",
      "Requirement already satisfied: idna<4,>=2.5 in /usr/local/lib/python3.10/dist-packages (from requests->pennylane) (3.10)\r\n",
      "Requirement already satisfied: urllib3<3,>=1.21.1 in /usr/local/lib/python3.10/dist-packages (from requests->pennylane) (2.3.0)\r\n",
      "Requirement already satisfied: certifi>=2017.4.17 in /usr/local/lib/python3.10/dist-packages (from requests->pennylane) (2025.1.31)\r\n",
      "Requirement already satisfied: wheel<1.0,>=0.23.0 in /usr/local/lib/python3.10/dist-packages (from astunparse->diastatic-malt->pennylane) (0.45.1)\r\n",
      "Requirement already satisfied: six<2.0,>=1.6.1 in /usr/local/lib/python3.10/dist-packages (from astunparse->diastatic-malt->pennylane) (1.17.0)\r\n",
      "Requirement already satisfied: intel-openmp>=2024 in /usr/local/lib/python3.10/dist-packages (from mkl->numpy<2.1->pennylane) (2024.2.0)\r\n",
      "Requirement already satisfied: tbb==2022.* in /usr/local/lib/python3.10/dist-packages (from mkl->numpy<2.1->pennylane) (2022.0.0)\r\n",
      "Requirement already satisfied: tcmlib==1.* in /usr/local/lib/python3.10/dist-packages (from tbb==2022.*->mkl->numpy<2.1->pennylane) (1.2.0)\r\n",
      "Requirement already satisfied: intel-cmplr-lib-rt in /usr/local/lib/python3.10/dist-packages (from mkl_umath->numpy<2.1->pennylane) (2024.2.0)\r\n",
      "Requirement already satisfied: intel-cmplr-lib-ur==2024.2.0 in /usr/local/lib/python3.10/dist-packages (from intel-openmp>=2024->mkl->numpy<2.1->pennylane) (2024.2.0)\r\n",
      "Downloading PennyLane-0.40.0-py3-none-any.whl (2.0 MB)\r\n",
      "\u001b[2K   \u001b[90m━━━━━━━━━━━━━━━━━━━━━━━━━━━━━━━━━━━━━━━━\u001b[0m \u001b[32m2.0/2.0 MB\u001b[0m \u001b[31m49.0 MB/s\u001b[0m eta \u001b[36m0:00:00\u001b[0m\r\n",
      "\u001b[?25hDownloading autoray-0.7.0-py3-none-any.whl (930 kB)\r\n",
      "\u001b[2K   \u001b[90m━━━━━━━━━━━━━━━━━━━━━━━━━━━━━━━━━━━━━━━━\u001b[0m \u001b[32m930.0/930.0 kB\u001b[0m \u001b[31m36.4 MB/s\u001b[0m eta \u001b[36m0:00:00\u001b[0m\r\n",
      "\u001b[?25hDownloading PennyLane_Lightning-0.40.0-cp310-cp310-manylinux_2_28_x86_64.whl (2.4 MB)\r\n",
      "\u001b[2K   \u001b[90m━━━━━━━━━━━━━━━━━━━━━━━━━━━━━━━━━━━━━━━━\u001b[0m \u001b[32m2.4/2.4 MB\u001b[0m \u001b[31m48.7 MB/s\u001b[0m eta \u001b[36m0:00:00\u001b[0m\r\n",
      "\u001b[?25hDownloading rustworkx-0.16.0-cp39-abi3-manylinux_2_17_x86_64.manylinux2014_x86_64.whl (2.1 MB)\r\n",
      "\u001b[2K   \u001b[90m━━━━━━━━━━━━━━━━━━━━━━━━━━━━━━━━━━━━━━━━\u001b[0m \u001b[32m2.1/2.1 MB\u001b[0m \u001b[31m57.8 MB/s\u001b[0m eta \u001b[36m0:00:00\u001b[0m\r\n",
      "\u001b[?25hDownloading appdirs-1.4.4-py2.py3-none-any.whl (9.6 kB)\r\n",
      "Downloading diastatic_malt-2.15.2-py3-none-any.whl (167 kB)\r\n",
      "\u001b[2K   \u001b[90m━━━━━━━━━━━━━━━━━━━━━━━━━━━━━━━━━━━━━━━━\u001b[0m \u001b[32m167.9/167.9 kB\u001b[0m \u001b[31m10.0 MB/s\u001b[0m eta \u001b[36m0:00:00\u001b[0m\r\n",
      "\u001b[?25hDownloading tomlkit-0.13.2-py3-none-any.whl (37 kB)\r\n",
      "Downloading scipy_openblas32-0.3.29.0.0-py3-none-manylinux_2_17_x86_64.manylinux2014_x86_64.whl (8.6 MB)\r\n",
      "\u001b[2K   \u001b[90m━━━━━━━━━━━━━━━━━━━━━━━━━━━━━━━━━━━━━━━━\u001b[0m \u001b[32m8.6/8.6 MB\u001b[0m \u001b[31m72.8 MB/s\u001b[0m eta \u001b[36m0:00:00\u001b[0m\r\n",
      "\u001b[?25hInstalling collected packages: appdirs, tomlkit, scipy-openblas32, autoray, diastatic-malt, rustworkx, pennylane-lightning, pennylane\r\n",
      "Successfully installed appdirs-1.4.4 autoray-0.7.0 diastatic-malt-2.15.2 pennylane-0.40.0 pennylane-lightning-0.40.0 rustworkx-0.16.0 scipy-openblas32-0.3.29.0.0 tomlkit-0.13.2\r\n"
     ]
    }
   ],
   "source": [
    "!pip install pennylane --upgrade"
   ]
  },
  {
   "cell_type": "code",
   "execution_count": 2,
   "id": "7867462d",
   "metadata": {
    "execution": {
     "iopub.execute_input": "2025-02-10T15:15:31.507647Z",
     "iopub.status.busy": "2025-02-10T15:15:31.507284Z",
     "iopub.status.idle": "2025-02-10T15:15:50.615879Z",
     "shell.execute_reply": "2025-02-10T15:15:50.614699Z"
    },
    "id": "u1g8haeSUioZ",
    "papermill": {
     "duration": 19.118558,
     "end_time": "2025-02-10T15:15:50.617947",
     "exception": false,
     "start_time": "2025-02-10T15:15:31.499389",
     "status": "completed"
    },
    "tags": []
   },
   "outputs": [],
   "source": [
    "import pennylane as qml\n",
    "from pennylane import numpy as np\n",
    "from pennylane.optimize import NesterovMomentumOptimizer, GradientDescentOptimizer, MomentumOptimizer\n",
    "import tensorflow as tf"
   ]
  },
  {
   "cell_type": "code",
   "execution_count": 3,
   "id": "98068c74",
   "metadata": {
    "execution": {
     "iopub.execute_input": "2025-02-10T15:15:50.633463Z",
     "iopub.status.busy": "2025-02-10T15:15:50.632711Z",
     "iopub.status.idle": "2025-02-10T15:15:51.404525Z",
     "shell.execute_reply": "2025-02-10T15:15:51.403624Z"
    },
    "papermill": {
     "duration": 0.781268,
     "end_time": "2025-02-10T15:15:51.406283",
     "exception": false,
     "start_time": "2025-02-10T15:15:50.625015",
     "status": "completed"
    },
    "tags": []
   },
   "outputs": [
    {
     "name": "stderr",
     "output_type": "stream",
     "text": [
      "/usr/local/lib/python3.10/dist-packages/keras/src/layers/core/embedding.py:90: UserWarning: Argument `input_length` is deprecated. Just remove it.\n",
      "  warnings.warn(\n"
     ]
    },
    {
     "name": "stdout",
     "output_type": "stream",
     "text": [
      "\u001b[1m3/3\u001b[0m \u001b[32m━━━━━━━━━━━━━━━━━━━━\u001b[0m\u001b[37m\u001b[0m \u001b[1m0s\u001b[0m 15ms/step \n",
      "\u001b[1m1/1\u001b[0m \u001b[32m━━━━━━━━━━━━━━━━━━━━\u001b[0m\u001b[37m\u001b[0m \u001b[1m0s\u001b[0m 100ms/step\n",
      "\u001b[1m1/1\u001b[0m \u001b[32m━━━━━━━━━━━━━━━━━━━━\u001b[0m\u001b[37m\u001b[0m \u001b[1m0s\u001b[0m 100ms/step\n"
     ]
    }
   ],
   "source": [
    "#******************************************\n",
    "# Data import\n",
    "#******************************************\n",
    "\n",
    "# import train, dev and test datasets: the data entries are all strings of the form 'label sentence' \n",
    "# with the label in {0,1} and with the sentence of the form \"word1_POStag1 word2_POStag2 ...\"\n",
    "\n",
    "with open('/kaggle/input/mc-and-rp-dataset-for-quantum-computing-qnlp/mc_train_data.txt') as f:\n",
    "    training_data_raw = f.readlines()\n",
    "\n",
    "with open('/kaggle/input/mc-and-rp-dataset-for-quantum-computing-qnlp/mc_dev_data.txt') as f:\n",
    "    dev_data_raw = f.readlines()\n",
    "\n",
    "with open('/kaggle/input/mc-and-rp-dataset-for-quantum-computing-qnlp/mc_test_data.txt') as f:\n",
    "    testing_data_raw = f.readlines()\n",
    "#***************************************************************\n",
    "# Turn the raw input data into data structures convenient below\n",
    "#***************************************************************\n",
    "\n",
    "vocab = dict()          # dictionary to be filled with the vocabulary in the form { word : POStag }\n",
    "data = dict()           # dictionary to be filled with all the data (train, dev and test subsets); entries of the \n",
    "                        # form { sentence : label } with label encoding '1' as [1.0, 0.0] and '0' as [0.0, 1.0]\n",
    "training_data = []      # list of sentences in the train dataset as strings \"word1 word2 ...\"\n",
    "dev_data = []           # list of sentences in the dev dataset as strings \"word1 word2 ...\"\n",
    "testing_data = []       # list of sentences in the test dataset as strings \"word1 word2 ...\"\n",
    "training_data_label = []      # list of sentences in the train dataset as strings \"word1 word2 ...\"\n",
    "dev_data_label = []           # list of sentences in the dev dataset as strings \"word1 word2 ...\"\n",
    "testing_data_label = []\n",
    "# Go through the train data\n",
    "for sent in training_data_raw:\n",
    "    words = sent[2:].split() \n",
    "    sent_untagged = ''\n",
    "    for word in words:\n",
    "        word_untagged, tag = word.split('_')\n",
    "        vocab[word_untagged] = tag\n",
    "        sent_untagged += word_untagged + ' '\n",
    "    sentence = sent_untagged[:-1]\n",
    "    training_data.append(sentence)\n",
    "    label = 1.0 if sent[0] == '1' else -1.0\n",
    "    training_data_label.append(label)\n",
    "\n",
    "# Go through the dev data\n",
    "for sent in dev_data_raw:\n",
    "    words = sent[2:].split() \n",
    "    sent_untagged = ''\n",
    "    for word in words:\n",
    "        word_untagged, tag = word.split('_')\n",
    "        vocab[word_untagged] = tag\n",
    "        sent_untagged += word_untagged + ' '\n",
    "    sentence = sent_untagged[:-1]\n",
    "    dev_data.append(sentence)\n",
    "    label = 1.0 if sent[0] == '1' else -1.0\n",
    "    dev_data_label.append(label)\n",
    "    \n",
    "# Go through the test data\n",
    "for sent in testing_data_raw:\n",
    "    words = sent[2:].split() \n",
    "    sent_untagged = ''\n",
    "    for word in words:\n",
    "        word_untagged, tag = word.split('_')\n",
    "        vocab[word_untagged] = tag\n",
    "        sent_untagged += word_untagged + ' '\n",
    "    sentence = sent_untagged[:-1]\n",
    "    testing_data.append(sentence)\n",
    "    label = 1.0 if sent[0] == '1' else -1.0\n",
    "    testing_data_label.append(label)\n",
    "import tensorflow as tf\n",
    "from tensorflow.keras.preprocessing.text import Tokenizer\n",
    "from tensorflow.keras.preprocessing.sequence import pad_sequences\n",
    "from tensorflow.keras.models import Sequential\n",
    "from tensorflow.keras.layers import Embedding\n",
    "\n",
    "def embedding_sentece(data_list):\n",
    "    sentences = data_list\n",
    "    tokenizer = Tokenizer()\n",
    "    tokenizer.fit_on_texts(sentences)  \n",
    "    word_index = tokenizer.word_index  \n",
    "    vocab_size = len(word_index) + 1  # Số lượng từ vựng (+1 cho padding)\n",
    "    sequences = tokenizer.texts_to_sequences(sentences)\n",
    "\n",
    "    max_length = max(len(seq) for seq in sequences)  # Độ dài tối đa\n",
    "    padded_sequences = pad_sequences(sequences, maxlen=max_length, padding='post')\n",
    "    \n",
    "    embedding_dim = 4  # Chọn số chiều của vector embedding\n",
    "    \n",
    "    model = Sequential([\n",
    "        Embedding(input_dim=vocab_size, output_dim=embedding_dim, input_length=max_length)\n",
    "    ])\n",
    "    \n",
    "    output = model.predict(padded_sequences)\n",
    "    return output\n",
    "X = np.array(embedding_sentece(training_data), dtype='float64')\n",
    "Y = np.array(training_data_label)\n",
    "X_dev = np.array(embedding_sentece(dev_data), dtype='float64')\n",
    "Y_dev = np.array(dev_data_label)\n",
    "X_test = np.array(embedding_sentece(testing_data), dtype='float64')\n",
    "Y_test = np.array(testing_data_label)\n",
    "X = X.reshape(-1,16)\n",
    "X_dev = X_dev.reshape(-1,16)\n",
    "X_test = X_test.reshape(-1,16)"
   ]
  },
  {
   "cell_type": "code",
   "execution_count": 4,
   "id": "b36bbb72",
   "metadata": {
    "execution": {
     "iopub.execute_input": "2025-02-10T15:15:51.421845Z",
     "iopub.status.busy": "2025-02-10T15:15:51.421466Z",
     "iopub.status.idle": "2025-02-10T15:15:51.425902Z",
     "shell.execute_reply": "2025-02-10T15:15:51.424780Z"
    },
    "papermill": {
     "duration": 0.014182,
     "end_time": "2025-02-10T15:15:51.427798",
     "exception": false,
     "start_time": "2025-02-10T15:15:51.413616",
     "status": "completed"
    },
    "tags": []
   },
   "outputs": [],
   "source": [
    "X = X[:50]\n",
    "Y = Y[:50]"
   ]
  },
  {
   "cell_type": "code",
   "execution_count": 5,
   "id": "1018efb2",
   "metadata": {
    "execution": {
     "iopub.execute_input": "2025-02-10T15:15:51.443159Z",
     "iopub.status.busy": "2025-02-10T15:15:51.442818Z",
     "iopub.status.idle": "2025-02-10T15:15:51.448861Z",
     "shell.execute_reply": "2025-02-10T15:15:51.447803Z"
    },
    "id": "9ZrZHnIeXGAD",
    "papermill": {
     "duration": 0.015547,
     "end_time": "2025-02-10T15:15:51.450418",
     "exception": false,
     "start_time": "2025-02-10T15:15:51.434871",
     "status": "completed"
    },
    "tags": []
   },
   "outputs": [],
   "source": [
    "dev = qml.device('default.qubit', wires=17)\n",
    "\n",
    "def state_preparation(f=None):\n",
    "    qml.AmplitudeEmbedding(features=f, wires=[0,1,2,3], normalize=True)\n",
    "    qml.AmplitudeEmbedding(features=f, wires=[4,5,6,7], normalize=True)\n",
    "    qml.AmplitudeEmbedding(features=f, wires=[8,9,10,11], normalize=True)"
   ]
  },
  {
   "cell_type": "code",
   "execution_count": 6,
   "id": "5db2c1fe",
   "metadata": {
    "execution": {
     "iopub.execute_input": "2025-02-10T15:15:51.466204Z",
     "iopub.status.busy": "2025-02-10T15:15:51.465862Z",
     "iopub.status.idle": "2025-02-10T15:15:51.471280Z",
     "shell.execute_reply": "2025-02-10T15:15:51.470369Z"
    },
    "id": "2JL2UMuZ56Sm",
    "papermill": {
     "duration": 0.015182,
     "end_time": "2025-02-10T15:15:51.472966",
     "exception": false,
     "start_time": "2025-02-10T15:15:51.457784",
     "status": "completed"
    },
    "tags": []
   },
   "outputs": [],
   "source": [
    "def unitary_embedding(theta_list: list):\n",
    "  '''\n",
    "  theta_list: list of theta\n",
    "  '''\n",
    "  for i in range(len(theta_list)):\n",
    "    qml.RY(theta_list[i], wires=[i])\n",
    "  for i in range(len(theta_list)-1):\n",
    "    c = i\n",
    "    if c == len(theta_list)-1:\n",
    "      f = 0\n",
    "    else:\n",
    "      f = c+1\n",
    "    qml.CNOT(wires=[c,f])"
   ]
  },
  {
   "cell_type": "code",
   "execution_count": 7,
   "id": "8c37fd14",
   "metadata": {
    "execution": {
     "iopub.execute_input": "2025-02-10T15:15:51.488513Z",
     "iopub.status.busy": "2025-02-10T15:15:51.488064Z",
     "iopub.status.idle": "2025-02-10T15:15:51.492930Z",
     "shell.execute_reply": "2025-02-10T15:15:51.491942Z"
    },
    "papermill": {
     "duration": 0.014579,
     "end_time": "2025-02-10T15:15:51.494693",
     "exception": false,
     "start_time": "2025-02-10T15:15:51.480114",
     "status": "completed"
    },
    "tags": []
   },
   "outputs": [],
   "source": [
    "def combine_unitary_embedding(number_layer, theta_list):\n",
    "  '''\n",
    "  len(theta_list) = number_layer\n",
    "  theta_list elem = \n",
    "  '''\n",
    "  for i in range(len(theta_list[0])):\n",
    "    qml.H(wires=[i])\n",
    "  for layer in range(number_layer):\n",
    "    unitary_embedding(theta_list[layer])"
   ]
  },
  {
   "cell_type": "code",
   "execution_count": 8,
   "id": "1440948c",
   "metadata": {
    "execution": {
     "iopub.execute_input": "2025-02-10T15:15:51.510370Z",
     "iopub.status.busy": "2025-02-10T15:15:51.509968Z",
     "iopub.status.idle": "2025-02-10T15:15:51.514518Z",
     "shell.execute_reply": "2025-02-10T15:15:51.513547Z"
    },
    "id": "z5cGe_yzARyc",
    "papermill": {
     "duration": 0.014291,
     "end_time": "2025-02-10T15:15:51.516190",
     "exception": false,
     "start_time": "2025-02-10T15:15:51.501899",
     "status": "completed"
    },
    "tags": []
   },
   "outputs": [],
   "source": [
    "def barbell_operation(wires_1, wires_2):\n",
    "  '''\n",
    "  swap Q to second register group\n",
    "  '''\n",
    "  for i, j in zip(wires_1, wires_2):\n",
    "    qml.SWAP(wires=[i,j])"
   ]
  },
  {
   "cell_type": "code",
   "execution_count": 9,
   "id": "abf15c7c",
   "metadata": {
    "execution": {
     "iopub.execute_input": "2025-02-10T15:15:51.532358Z",
     "iopub.status.busy": "2025-02-10T15:15:51.532002Z",
     "iopub.status.idle": "2025-02-10T15:15:51.537631Z",
     "shell.execute_reply": "2025-02-10T15:15:51.536351Z"
    },
    "id": "NmCq3kW7ct4E",
    "papermill": {
     "duration": 0.015693,
     "end_time": "2025-02-10T15:15:51.539456",
     "exception": false,
     "start_time": "2025-02-10T15:15:51.523763",
     "status": "completed"
    },
    "tags": []
   },
   "outputs": [],
   "source": [
    "def QLS_module(wires_control_1, wires_control_2, wires_result):\n",
    "  for i, j, k in zip(wires_control_1, wires_control_2, wires_result):\n",
    "    qml.Toffoli(wires=[i,j,k])\n",
    "  for i in range(len(wires_result)-2):\n",
    "    qml.CNOT(wires=[wires_result[i],wires_result[i+1]])"
   ]
  },
  {
   "cell_type": "code",
   "execution_count": 10,
   "id": "5da3ba6d",
   "metadata": {
    "execution": {
     "iopub.execute_input": "2025-02-10T15:15:51.554834Z",
     "iopub.status.busy": "2025-02-10T15:15:51.554403Z",
     "iopub.status.idle": "2025-02-10T15:15:51.558830Z",
     "shell.execute_reply": "2025-02-10T15:15:51.557819Z"
    },
    "id": "utSeMaEAdBmB",
    "outputId": "7eeb8e85-3cee-437e-90a1-008a2eee9fd3",
    "papermill": {
     "duration": 0.013792,
     "end_time": "2025-02-10T15:15:51.560426",
     "exception": false,
     "start_time": "2025-02-10T15:15:51.546634",
     "status": "completed"
    },
    "tags": []
   },
   "outputs": [],
   "source": [
    "def multicontrol_slice(wires_qls, wires_q):\n",
    "  for i in wires_q:\n",
    "    qml.MultiControlledX(wires=[*wires_qls,i])\n",
    "# print(qml.draw(multicontrol_slice)([12,13,14,15], [0,1,2,3]))"
   ]
  },
  {
   "cell_type": "code",
   "execution_count": 11,
   "id": "16094370",
   "metadata": {
    "execution": {
     "iopub.execute_input": "2025-02-10T15:15:51.575832Z",
     "iopub.status.busy": "2025-02-10T15:15:51.575428Z",
     "iopub.status.idle": "2025-02-10T15:15:51.580492Z",
     "shell.execute_reply": "2025-02-10T15:15:51.579418Z"
    },
    "papermill": {
     "duration": 0.014491,
     "end_time": "2025-02-10T15:15:51.582053",
     "exception": false,
     "start_time": "2025-02-10T15:15:51.567562",
     "status": "completed"
    },
    "tags": []
   },
   "outputs": [],
   "source": [
    "def swap_test_layer(wires_1, wires_2, controll_wires):\n",
    "    qml.H(wires=controll_wires)\n",
    "    for w1, w2 in zip(wires_1, wires_2):\n",
    "        qml.CSWAP(wires=[controll_wires,w1,w2])\n",
    "    qml.H(wires=controll_wires)"
   ]
  },
  {
   "cell_type": "code",
   "execution_count": 12,
   "id": "83afad49",
   "metadata": {
    "execution": {
     "iopub.execute_input": "2025-02-10T15:15:51.597098Z",
     "iopub.status.busy": "2025-02-10T15:15:51.596772Z",
     "iopub.status.idle": "2025-02-10T15:15:51.604375Z",
     "shell.execute_reply": "2025-02-10T15:15:51.603378Z"
    },
    "id": "UYCqcjbzdy_y",
    "papermill": {
     "duration": 0.01693,
     "end_time": "2025-02-10T15:15:51.606010",
     "exception": false,
     "start_time": "2025-02-10T15:15:51.589080",
     "status": "completed"
    },
    "tags": []
   },
   "outputs": [],
   "source": [
    "# define circuit and start train and implement\n",
    "@qml.qnode(dev)\n",
    "def full_circuit(x, weights,parameters, num_layers=1):\n",
    "  '''\n",
    "  weight = [theta_q, theta_k, theta_v]\n",
    "  3x4\n",
    "  theta_q: 4x1\n",
    "  theta_k: 4x1\n",
    "  theta_v: 4x1\n",
    "\n",
    "  '''\n",
    "  state_preparation(f=x)\n",
    "  # step 1: prepare Q\n",
    "  combine_unitary_embedding(number_layer=num_layers, theta_list=weights[0])\n",
    "  # step 2: swap Q and register\n",
    "  wires_1 = [0,1,2,3]\n",
    "  wires_2 = [4,5,6,7]\n",
    "  barbell_operation(wires_1, wires_2)\n",
    "\n",
    "  # step 3: prepare K\n",
    "  combine_unitary_embedding(number_layer=num_layers, theta_list=weights[1])\n",
    "\n",
    "  # step 4: swap K\n",
    "  wires_1 = [0,1,2,3]\n",
    "  wires_2 = [8,9,10,11]\n",
    "  barbell_operation(wires_1, wires_2)\n",
    "\n",
    "  # step 5: QLS Module\n",
    "  wires_control_1, wires_control_2, wires_result = [0,1,2,3], [4,5,6,7], [12,13,14,15]\n",
    "  QLS_module(wires_control_1, wires_control_2, wires_result)\n",
    "\n",
    "\n",
    "  #step 6: prepare V\n",
    "  combine_unitary_embedding(number_layer=num_layers, theta_list=weights[2])\n",
    "\n",
    "  # step 7: the entanglement compression operation\n",
    "  # do nothing if n == 1\n",
    "\n",
    "  # step 8: slicing operation\n",
    "  wires_qls, wires_q = [12,13,14,15], [4,5,6,7]\n",
    "  multicontrol_slice(wires_qls, wires_q)\n",
    "\n",
    "  # step 8.2: swap test operation\n",
    "  # wires_qls, wires_q = [12,13,14,15], [0,1,2,3]\n",
    "  # controll_qubit = 16\n",
    "  # swap_test_layer(wires_qls, wires_q, controll_qubit)\n",
    "  # step8.3: another QNN\n",
    "  qml.StronglyEntanglingLayers(weights=parameters, wires=range(8))\n",
    "  # step 9: meseaurement\n",
    "  observable = qml.PauliZ(0)\n",
    "  return qml.expval(observable)"
   ]
  },
  {
   "cell_type": "code",
   "execution_count": 13,
   "id": "aca13abc",
   "metadata": {
    "execution": {
     "iopub.execute_input": "2025-02-10T15:15:51.621760Z",
     "iopub.status.busy": "2025-02-10T15:15:51.621360Z",
     "iopub.status.idle": "2025-02-10T15:15:51.628636Z",
     "shell.execute_reply": "2025-02-10T15:15:51.627335Z"
    },
    "papermill": {
     "duration": 0.017293,
     "end_time": "2025-02-10T15:15:51.630241",
     "exception": false,
     "start_time": "2025-02-10T15:15:51.612948",
     "status": "completed"
    },
    "tags": []
   },
   "outputs": [
    {
     "name": "stdout",
     "output_type": "stream",
     "text": [
      "(16, 8, 3)\n"
     ]
    }
   ],
   "source": [
    "# test circuit\n",
    "shape = qml.StronglyEntanglingLayers.shape(n_layers=16, n_wires=8)\n",
    "parameters = np.random.random(size=shape)\n",
    "print(parameters.shape)\n",
    "n_layers = 1\n",
    "weights = 0.01 * np.random.randn(3,n_layers,4, requires_grad=True)\n",
    "params = (weights, parameters)"
   ]
  },
  {
   "cell_type": "code",
   "execution_count": 14,
   "id": "77299006",
   "metadata": {
    "execution": {
     "iopub.execute_input": "2025-02-10T15:15:51.645756Z",
     "iopub.status.busy": "2025-02-10T15:15:51.645349Z",
     "iopub.status.idle": "2025-02-10T15:15:51.649744Z",
     "shell.execute_reply": "2025-02-10T15:15:51.648701Z"
    },
    "papermill": {
     "duration": 0.014191,
     "end_time": "2025-02-10T15:15:51.651450",
     "exception": false,
     "start_time": "2025-02-10T15:15:51.637259",
     "status": "completed"
    },
    "tags": []
   },
   "outputs": [],
   "source": [
    "X_batch = X\n",
    "Y_batch = Y\n",
    "X_test_batch = X_test\n",
    "Y_test_batch = Y_test"
   ]
  },
  {
   "cell_type": "markdown",
   "id": "61bf0171",
   "metadata": {
    "id": "nxeZNr8QqsNy",
    "papermill": {
     "duration": 0.00674,
     "end_time": "2025-02-10T15:15:51.665221",
     "exception": false,
     "start_time": "2025-02-10T15:15:51.658481",
     "status": "completed"
    },
    "tags": []
   },
   "source": [
    "<h1> Cost Function and Opimizer </h1>"
   ]
  },
  {
   "cell_type": "code",
   "execution_count": 15,
   "id": "f8f61634",
   "metadata": {
    "execution": {
     "iopub.execute_input": "2025-02-10T15:15:51.680289Z",
     "iopub.status.busy": "2025-02-10T15:15:51.679945Z",
     "iopub.status.idle": "2025-02-10T15:15:51.685666Z",
     "shell.execute_reply": "2025-02-10T15:15:51.684774Z"
    },
    "id": "rKOPEtF0iKhj",
    "papermill": {
     "duration": 0.015268,
     "end_time": "2025-02-10T15:15:51.687341",
     "exception": false,
     "start_time": "2025-02-10T15:15:51.672073",
     "status": "completed"
    },
    "tags": []
   },
   "outputs": [],
   "source": [
    "def accuracy(labels, predictions):\n",
    "    acc = sum(abs(l - p) < 1e-5 for l, p in zip(labels, predictions))\n",
    "    acc = acc / len(labels)\n",
    "    return acc\n",
    "    \n",
    "def cost(*args, **kwargs):\n",
    "    # Extract the parameters and data from *args and **kwargs\n",
    "    weights = args[0]  # Assuming the first argument is the parameters (usually a NumPy array)\n",
    "    parameters = args[1]\n",
    "    X = kwargs.get('X', None)  # Get X from kwargs, default to None if not provided\n",
    "    Y = kwargs.get('Y', None)  # Get Y from kwargs, default to None if not provided\n",
    "    predictions = [full_circuit(x=x, weights=weights,parameters=parameters) for x in X]\n",
    "    return np.mean((Y - qml.math.stack(predictions)) ** 2)"
   ]
  },
  {
   "cell_type": "code",
   "execution_count": 16,
   "id": "bb996b07",
   "metadata": {
    "execution": {
     "iopub.execute_input": "2025-02-10T15:15:51.702685Z",
     "iopub.status.busy": "2025-02-10T15:15:51.702320Z",
     "iopub.status.idle": "2025-02-10T15:15:51.708213Z",
     "shell.execute_reply": "2025-02-10T15:15:51.707348Z"
    },
    "papermill": {
     "duration": 0.015525,
     "end_time": "2025-02-10T15:15:51.709792",
     "exception": false,
     "start_time": "2025-02-10T15:15:51.694267",
     "status": "completed"
    },
    "tags": []
   },
   "outputs": [
    {
     "name": "stdout",
     "output_type": "stream",
     "text": [
      "50\n",
      "50\n",
      "30\n",
      "30\n"
     ]
    }
   ],
   "source": [
    "print(len(X))\n",
    "print(len(Y))\n",
    "print(len(X_test))\n",
    "print(len(Y_test))"
   ]
  },
  {
   "cell_type": "code",
   "execution_count": 17,
   "id": "a2f317a5",
   "metadata": {
    "execution": {
     "iopub.execute_input": "2025-02-10T15:15:51.725244Z",
     "iopub.status.busy": "2025-02-10T15:15:51.724911Z",
     "iopub.status.idle": "2025-02-10T15:15:51.732155Z",
     "shell.execute_reply": "2025-02-10T15:15:51.731103Z"
    },
    "papermill": {
     "duration": 0.016714,
     "end_time": "2025-02-10T15:15:51.733762",
     "exception": false,
     "start_time": "2025-02-10T15:15:51.717048",
     "status": "completed"
    },
    "tags": []
   },
   "outputs": [],
   "source": [
    "import matplotlib.pyplot as plt\n",
    "def draw_result(current_cost_list,acc_list,test_acc_list,epoch,lrate,n_layers=1):\n",
    "    fig, axs = plt.subplots(3, 1, figsize=(12, 10))\n",
    "    axs[0].plot(epoch, current_cost_list,label=f'loss_{lrate}')\n",
    "    axs[0].set_title(f'Loss {n_layers}')\n",
    "    axs[0].set_xlabel('Epoch')  # Set x-axis label\n",
    "    axs[0].set_ylabel('Cost Function')  # Set y-axis label\n",
    "    axs[0].legend()\n",
    "    axs[1].plot(epoch, acc_list, label=f'train_acc_{lrate}')\n",
    "    axs[1].set_title(f'Train acc {n_layers}')\n",
    "    axs[1].set_xlabel('Epoch')  # Set x-axis label\n",
    "    axs[1].set_ylabel('Train Accuraccy')  # Set y-axis label\n",
    "    axs[1].legend()\n",
    "    axs[2].plot(epoch, test_acc_list,label=f'test_acc_{lrate}')\n",
    "    axs[2].set_title(f'Test acc {n_layers}')\n",
    "    axs[2].set_xlabel('Epoch')  # Set x-axis label\n",
    "    axs[2].set_ylabel('Test Accuraccy')  # Set y-axis label\n",
    "    axs[2].legend()\n",
    "    fig.subplots_adjust(hspace=0.5)\n",
    "    fig.tight_layout()\n",
    "    plt.show()\n",
    "    fig.savefig(f\"/kaggle/working/chart_nlayer{n_layers}_lrate{lrate}.png\")"
   ]
  },
  {
   "cell_type": "code",
   "execution_count": 18,
   "id": "5de17725",
   "metadata": {
    "execution": {
     "iopub.execute_input": "2025-02-10T15:15:51.749415Z",
     "iopub.status.busy": "2025-02-10T15:15:51.748993Z",
     "iopub.status.idle": "2025-02-10T15:15:51.754825Z",
     "shell.execute_reply": "2025-02-10T15:15:51.753919Z"
    },
    "papermill": {
     "duration": 0.015472,
     "end_time": "2025-02-10T15:15:51.756393",
     "exception": false,
     "start_time": "2025-02-10T15:15:51.740921",
     "status": "completed"
    },
    "tags": []
   },
   "outputs": [],
   "source": [
    "def make_drop_out_parameter(parameter, drop_rate):\n",
    "    '''\n",
    "    caculate gradient based on dropped gate\n",
    "    update gradient without dropped gate\n",
    "    update on true parameter\n",
    "    '''\n",
    "    param_shape = parameter.shape\n",
    "    total_elem = param_shape[0] * param_shape[1]\n",
    "    num_selected = int(drop_rate * total_elem)  # 30% of 64 = 19\n",
    "    \n",
    "    # Flatten the matrix, randomly select 19 indices\n",
    "    flat_indices = np.random.choice(total_elem, num_selected, replace=False)\n",
    "    \n",
    "    # Create a mask of zeros and set selected positions to 1\n",
    "    index_matrix = np.zeros(total_elem, dtype=bool)\n",
    "    index_matrix[flat_indices] = True\n",
    "    index_matrix = index_matrix.reshape(param_shape[0], param_shape[1])  # Reshape back to 8×8\n",
    "    masked_matrix = np.ones(param_shape, dtype=int)  # Initialize with zeros\n",
    "    masked_matrix[index_matrix,:] = 0  # Set every second row to 1\n",
    "    dropped_param = parameter * masked_matrix\n",
    "    return dropped_param, masked_matrix"
   ]
  },
  {
   "cell_type": "code",
   "execution_count": 19,
   "id": "b729462f",
   "metadata": {
    "execution": {
     "iopub.execute_input": "2025-02-10T15:15:51.772246Z",
     "iopub.status.busy": "2025-02-10T15:15:51.771867Z",
     "iopub.status.idle": "2025-02-10T15:15:51.779827Z",
     "shell.execute_reply": "2025-02-10T15:15:51.778918Z"
    },
    "papermill": {
     "duration": 0.017703,
     "end_time": "2025-02-10T15:15:51.781320",
     "exception": false,
     "start_time": "2025-02-10T15:15:51.763617",
     "status": "completed"
    },
    "tags": []
   },
   "outputs": [
    {
     "data": {
      "text/plain": [
       "tensor([[[-0.00432095,  0.02142852, -0.01284662,  0.02020107]],\n",
       "\n",
       "        [[ 0.00765362, -0.01377284, -0.00122712, -0.02257756]],\n",
       "\n",
       "        [[ 0.01490356, -0.00190573, -0.00689316,  0.00254546]]], requires_grad=True)"
      ]
     },
     "execution_count": 19,
     "metadata": {},
     "output_type": "execute_result"
    }
   ],
   "source": [
    "params[0]"
   ]
  },
  {
   "cell_type": "code",
   "execution_count": 20,
   "id": "cd47ac32",
   "metadata": {
    "execution": {
     "iopub.execute_input": "2025-02-10T15:15:51.797593Z",
     "iopub.status.busy": "2025-02-10T15:15:51.797173Z",
     "iopub.status.idle": "2025-02-10T15:16:10.870946Z",
     "shell.execute_reply": "2025-02-10T15:16:10.869697Z"
    },
    "papermill": {
     "duration": 19.08433,
     "end_time": "2025-02-10T15:16:10.873125",
     "exception": false,
     "start_time": "2025-02-10T15:15:51.788795",
     "status": "completed"
    },
    "tags": []
   },
   "outputs": [],
   "source": [
    "current_cost = cost(params[0],params[1], X=X, Y=Y)"
   ]
  },
  {
   "cell_type": "code",
   "execution_count": 21,
   "id": "f8565db8",
   "metadata": {
    "execution": {
     "iopub.execute_input": "2025-02-10T15:16:10.889503Z",
     "iopub.status.busy": "2025-02-10T15:16:10.889095Z",
     "iopub.status.idle": "2025-02-10T21:18:24.367180Z",
     "shell.execute_reply": "2025-02-10T21:18:24.365685Z"
    },
    "id": "GPXyMxbnsbXv",
    "outputId": "918de71a-c54e-4f74-d877-f6b1bb0e6aed",
    "papermill": {
     "duration": 21733.490011,
     "end_time": "2025-02-10T21:18:24.370855",
     "exception": false,
     "start_time": "2025-02-10T15:16:10.880844",
     "status": "completed"
    },
    "tags": []
   },
   "outputs": [
    {
     "name": "stdout",
     "output_type": "stream",
     "text": [
      "number layers: 1\n",
      "Iter:    1 | Cost: 1.0076415 | Accuracy: 0.4600000 | Test Accuracy: 0.7000000 | Run Time: 149.6142035\n",
      "Iter:    2 | Cost: 0.9896231 | Accuracy: 0.5600000 | Test Accuracy: 0.6333333 | Run Time: 149.9429867\n",
      "Iter:    3 | Cost: 0.9656900 | Accuracy: 0.7800000 | Test Accuracy: 0.5333333 | Run Time: 141.0356479\n",
      "Iter:    4 | Cost: 0.9399255 | Accuracy: 0.8800000 | Test Accuracy: 0.4666667 | Run Time: 138.8610253\n",
      "Iter:    5 | Cost: 0.9169372 | Accuracy: 0.8800000 | Test Accuracy: 0.4666667 | Run Time: 138.5311821\n",
      "Iter:    6 | Cost: 0.8996133 | Accuracy: 0.9000000 | Test Accuracy: 0.5000000 | Run Time: 151.2084594\n",
      "Iter:    7 | Cost: 0.8879797 | Accuracy: 0.9200000 | Test Accuracy: 0.5000000 | Run Time: 149.9106195\n",
      "Iter:    8 | Cost: 0.8800739 | Accuracy: 0.9200000 | Test Accuracy: 0.5000000 | Run Time: 140.0533965\n",
      "Iter:    9 | Cost: 0.8736397 | Accuracy: 0.9000000 | Test Accuracy: 0.4666667 | Run Time: 139.7530992\n",
      "Iter:   10 | Cost: 0.8671478 | Accuracy: 0.8800000 | Test Accuracy: 0.4666667 | Run Time: 150.5158529\n",
      "Iter:   11 | Cost: 0.8598473 | Accuracy: 0.9000000 | Test Accuracy: 0.4666667 | Run Time: 147.4254413\n",
      "Iter:   12 | Cost: 0.8516203 | Accuracy: 0.9000000 | Test Accuracy: 0.4666667 | Run Time: 139.3946474\n",
      "Iter:   13 | Cost: 0.8430537 | Accuracy: 0.9000000 | Test Accuracy: 0.4666667 | Run Time: 139.0277247\n",
      "Iter:   14 | Cost: 0.8352549 | Accuracy: 0.9000000 | Test Accuracy: 0.4666667 | Run Time: 139.6244981\n",
      "Iter:   15 | Cost: 0.8291311 | Accuracy: 0.9200000 | Test Accuracy: 0.5000000 | Run Time: 149.8847744\n",
      "Iter:   16 | Cost: 0.8246987 | Accuracy: 0.9200000 | Test Accuracy: 0.5000000 | Run Time: 140.2901282\n",
      "Iter:   17 | Cost: 0.8210842 | Accuracy: 0.9200000 | Test Accuracy: 0.5000000 | Run Time: 141.2474895\n",
      "Iter:   18 | Cost: 0.8171961 | Accuracy: 0.9200000 | Test Accuracy: 0.5000000 | Run Time: 140.6573701\n",
      "Iter:   19 | Cost: 0.8124992 | Accuracy: 0.9400000 | Test Accuracy: 0.5000000 | Run Time: 157.7832146\n",
      "Iter:   20 | Cost: 0.8073007 | Accuracy: 0.9400000 | Test Accuracy: 0.5000000 | Run Time: 149.8108683\n",
      "Iter:   21 | Cost: 0.8023648 | Accuracy: 0.9600000 | Test Accuracy: 0.5000000 | Run Time: 140.3739541\n",
      "Iter:   22 | Cost: 0.7982314 | Accuracy: 0.9600000 | Test Accuracy: 0.5000000 | Run Time: 140.2911146\n",
      "Iter:   23 | Cost: 0.7948575 | Accuracy: 0.9600000 | Test Accuracy: 0.5000000 | Run Time: 159.9379735\n",
      "Iter:   24 | Cost: 0.7918180 | Accuracy: 0.9600000 | Test Accuracy: 0.5000000 | Run Time: 160.2685766\n",
      "Iter:   25 | Cost: 0.7887362 | Accuracy: 0.9600000 | Test Accuracy: 0.5000000 | Run Time: 141.1981316\n",
      "Iter:   26 | Cost: 0.7855364 | Accuracy: 0.9600000 | Test Accuracy: 0.5000000 | Run Time: 141.8249137\n",
      "Iter:   27 | Cost: 0.7824151 | Accuracy: 0.9400000 | Test Accuracy: 0.5000000 | Run Time: 143.4445128\n",
      "Iter:   28 | Cost: 0.7796532 | Accuracy: 0.9400000 | Test Accuracy: 0.5000000 | Run Time: 158.8231046\n",
      "Iter:   29 | Cost: 0.7774192 | Accuracy: 0.9400000 | Test Accuracy: 0.5000000 | Run Time: 142.5188456\n",
      "Iter:   30 | Cost: 0.7756623 | Accuracy: 0.9400000 | Test Accuracy: 0.5000000 | Run Time: 142.0273395\n",
      "Iter:   31 | Cost: 0.7741453 | Accuracy: 0.9400000 | Test Accuracy: 0.5000000 | Run Time: 141.2719653\n",
      "Iter:   32 | Cost: 0.7725928 | Accuracy: 0.9400000 | Test Accuracy: 0.5000000 | Run Time: 157.3806596\n",
      "Iter:   33 | Cost: 0.7708483 | Accuracy: 0.9400000 | Test Accuracy: 0.5000000 | Run Time: 142.8606942\n",
      "Iter:   34 | Cost: 0.7689225 | Accuracy: 0.9400000 | Test Accuracy: 0.5000000 | Run Time: 140.9441092\n",
      "Iter:   35 | Cost: 0.7669197 | Accuracy: 0.9400000 | Test Accuracy: 0.5000000 | Run Time: 141.2535238\n",
      "Iter:   36 | Cost: 0.7649327 | Accuracy: 0.9400000 | Test Accuracy: 0.5000000 | Run Time: 153.8253868\n",
      "Iter:   37 | Cost: 0.7629952 | Accuracy: 0.9600000 | Test Accuracy: 0.5333333 | Run Time: 148.1856215\n",
      "Iter:   38 | Cost: 0.7610994 | Accuracy: 0.9600000 | Test Accuracy: 0.5333333 | Run Time: 143.2416489\n",
      "Iter:   39 | Cost: 0.7592322 | Accuracy: 0.9600000 | Test Accuracy: 0.5333333 | Run Time: 140.6064670\n",
      "Iter:   40 | Cost: 0.7573947 | Accuracy: 0.9600000 | Test Accuracy: 0.5333333 | Run Time: 152.8909051\n",
      "Iter:   41 | Cost: 0.7556020 | Accuracy: 0.9400000 | Test Accuracy: 0.5000000 | Run Time: 147.5289938\n",
      "Iter:   42 | Cost: 0.7538738 | Accuracy: 0.9400000 | Test Accuracy: 0.5000000 | Run Time: 140.3347437\n",
      "Iter:   43 | Cost: 0.7522244 | Accuracy: 0.9400000 | Test Accuracy: 0.5000000 | Run Time: 140.5167382\n",
      "Iter:   44 | Cost: 0.7506558 | Accuracy: 0.9400000 | Test Accuracy: 0.5000000 | Run Time: 142.4905541\n",
      "Iter:   45 | Cost: 0.7491575 | Accuracy: 0.9400000 | Test Accuracy: 0.5000000 | Run Time: 160.6472969\n",
      "Iter:   46 | Cost: 0.7477116 | Accuracy: 0.9400000 | Test Accuracy: 0.5000000 | Run Time: 140.5216563\n",
      "Iter:   47 | Cost: 0.7463014 | Accuracy: 0.9400000 | Test Accuracy: 0.5000000 | Run Time: 144.1372664\n",
      "Iter:   48 | Cost: 0.7449220 | Accuracy: 0.9400000 | Test Accuracy: 0.5000000 | Run Time: 140.7570941\n",
      "Iter:   49 | Cost: 0.7435875 | Accuracy: 0.9400000 | Test Accuracy: 0.5000000 | Run Time: 152.4919159\n",
      "Iter:   50 | Cost: 0.7423256 | Accuracy: 0.9400000 | Test Accuracy: 0.5000000 | Run Time: 149.0127242\n",
      "Iter:   51 | Cost: 0.7411591 | Accuracy: 0.9400000 | Test Accuracy: 0.5000000 | Run Time: 141.7553260\n",
      "Iter:   52 | Cost: 0.7400863 | Accuracy: 0.9400000 | Test Accuracy: 0.5000000 | Run Time: 138.9265826\n",
      "Iter:   53 | Cost: 0.7390749 | Accuracy: 0.9400000 | Test Accuracy: 0.5000000 | Run Time: 154.4907432\n",
      "Iter:   54 | Cost: 0.7380796 | Accuracy: 0.9400000 | Test Accuracy: 0.5000000 | Run Time: 148.3472946\n",
      "Iter:   55 | Cost: 0.7370697 | Accuracy: 0.9400000 | Test Accuracy: 0.5000000 | Run Time: 142.1178114\n",
      "Iter:   56 | Cost: 0.7360469 | Accuracy: 0.9400000 | Test Accuracy: 0.5000000 | Run Time: 141.9546645\n",
      "Iter:   57 | Cost: 0.7350432 | Accuracy: 0.9400000 | Test Accuracy: 0.5000000 | Run Time: 140.5681772\n",
      "Iter:   58 | Cost: 0.7340977 | Accuracy: 0.9400000 | Test Accuracy: 0.5000000 | Run Time: 159.2322154\n",
      "Iter:   59 | Cost: 0.7332323 | Accuracy: 0.9400000 | Test Accuracy: 0.5000000 | Run Time: 141.4068837\n",
      "Iter:   60 | Cost: 0.7324393 | Accuracy: 0.9400000 | Test Accuracy: 0.5000000 | Run Time: 142.1362135\n",
      "Iter:   61 | Cost: 0.7316888 | Accuracy: 0.9400000 | Test Accuracy: 0.5000000 | Run Time: 142.9688947\n",
      "Iter:   62 | Cost: 0.7309470 | Accuracy: 0.9400000 | Test Accuracy: 0.5000000 | Run Time: 154.5517533\n",
      "Iter:   63 | Cost: 0.7301929 | Accuracy: 0.9400000 | Test Accuracy: 0.5000000 | Run Time: 149.1996267\n",
      "Iter:   64 | Cost: 0.7294234 | Accuracy: 0.9200000 | Test Accuracy: 0.5000000 | Run Time: 143.0385990\n",
      "Iter:   65 | Cost: 0.7286468 | Accuracy: 0.9200000 | Test Accuracy: 0.5000000 | Run Time: 142.2592547\n",
      "Iter:   66 | Cost: 0.7278732 | Accuracy: 0.9200000 | Test Accuracy: 0.5000000 | Run Time: 153.0992570\n",
      "Iter:   67 | Cost: 0.7271096 | Accuracy: 0.9200000 | Test Accuracy: 0.5000000 | Run Time: 147.0371327\n",
      "Iter:   68 | Cost: 0.7263600 | Accuracy: 0.9200000 | Test Accuracy: 0.5000000 | Run Time: 140.8038931\n",
      "Iter:   69 | Cost: 0.7256285 | Accuracy: 0.9200000 | Test Accuracy: 0.5000000 | Run Time: 140.1451414\n",
      "Iter:   70 | Cost: 0.7249211 | Accuracy: 0.9200000 | Test Accuracy: 0.5000000 | Run Time: 141.3231122\n",
      "Iter:   71 | Cost: 0.7242443 | Accuracy: 0.9200000 | Test Accuracy: 0.5000000 | Run Time: 158.1660058\n",
      "Iter:   72 | Cost: 0.7236028 | Accuracy: 0.9200000 | Test Accuracy: 0.5000000 | Run Time: 142.9976058\n",
      "Iter:   73 | Cost: 0.7229978 | Accuracy: 0.9200000 | Test Accuracy: 0.5000000 | Run Time: 140.7325115\n",
      "Iter:   74 | Cost: 0.7224278 | Accuracy: 0.9200000 | Test Accuracy: 0.5000000 | Run Time: 148.0967743\n",
      "Iter:   75 | Cost: 0.7218899 | Accuracy: 0.9200000 | Test Accuracy: 0.5000000 | Run Time: 155.7170215\n",
      "Iter:   76 | Cost: 0.7213808 | Accuracy: 0.9200000 | Test Accuracy: 0.5000000 | Run Time: 148.1408389\n",
      "Iter:   77 | Cost: 0.7208975 | Accuracy: 0.9200000 | Test Accuracy: 0.5000000 | Run Time: 146.8614957\n",
      "Iter:   78 | Cost: 0.7204372 | Accuracy: 0.9400000 | Test Accuracy: 0.5333333 | Run Time: 141.6079218\n",
      "Iter:   79 | Cost: 0.7199973 | Accuracy: 0.9400000 | Test Accuracy: 0.5333333 | Run Time: 154.3646314\n",
      "Iter:   80 | Cost: 0.7195755 | Accuracy: 0.9400000 | Test Accuracy: 0.5333333 | Run Time: 149.9404626\n",
      "Iter:   81 | Cost: 0.7191706 | Accuracy: 0.9400000 | Test Accuracy: 0.5333333 | Run Time: 143.0067966\n",
      "Iter:   82 | Cost: 0.7187813 | Accuracy: 0.9400000 | Test Accuracy: 0.5333333 | Run Time: 140.7313044\n",
      "Iter:   83 | Cost: 0.7184061 | Accuracy: 0.9400000 | Test Accuracy: 0.5333333 | Run Time: 140.9314656\n",
      "Iter:   84 | Cost: 0.7180424 | Accuracy: 0.9400000 | Test Accuracy: 0.5333333 | Run Time: 160.3229902\n",
      "Iter:   85 | Cost: 0.7176876 | Accuracy: 0.9400000 | Test Accuracy: 0.5333333 | Run Time: 140.3222549\n",
      "Iter:   86 | Cost: 0.7173394 | Accuracy: 0.9400000 | Test Accuracy: 0.5333333 | Run Time: 139.8399789\n",
      "Iter:   87 | Cost: 0.7169964 | Accuracy: 0.9400000 | Test Accuracy: 0.5333333 | Run Time: 150.8352244\n",
      "Iter:   88 | Cost: 0.7166589 | Accuracy: 0.9400000 | Test Accuracy: 0.5333333 | Run Time: 150.2921612\n",
      "Iter:   89 | Cost: 0.7163273 | Accuracy: 0.9400000 | Test Accuracy: 0.5333333 | Run Time: 142.6695449\n",
      "Iter:   90 | Cost: 0.7160019 | Accuracy: 0.9400000 | Test Accuracy: 0.5333333 | Run Time: 141.2038746\n",
      "Iter:   91 | Cost: 0.7156824 | Accuracy: 0.9400000 | Test Accuracy: 0.5333333 | Run Time: 141.8299260\n",
      "Iter:   92 | Cost: 0.7153678 | Accuracy: 0.9400000 | Test Accuracy: 0.5333333 | Run Time: 140.6116846\n",
      "Iter:   93 | Cost: 0.7150566 | Accuracy: 0.9400000 | Test Accuracy: 0.5333333 | Run Time: 140.8283296\n",
      "Iter:   94 | Cost: 0.7147479 | Accuracy: 0.9400000 | Test Accuracy: 0.5333333 | Run Time: 139.7024939\n",
      "Iter:   95 | Cost: 0.7144408 | Accuracy: 0.9400000 | Test Accuracy: 0.5333333 | Run Time: 140.9679630\n",
      "Iter:   96 | Cost: 0.7141344 | Accuracy: 0.9400000 | Test Accuracy: 0.5333333 | Run Time: 141.4919324\n",
      "Iter:   97 | Cost: 0.7138282 | Accuracy: 0.9400000 | Test Accuracy: 0.5333333 | Run Time: 144.9970558\n",
      "Iter:   98 | Cost: 0.7135215 | Accuracy: 0.9400000 | Test Accuracy: 0.5333333 | Run Time: 140.8461142\n",
      "Iter:   99 | Cost: 0.7132138 | Accuracy: 0.9400000 | Test Accuracy: 0.5333333 | Run Time: 148.0473359\n",
      "Iter:  100 | Cost: 0.7129054 | Accuracy: 0.9400000 | Test Accuracy: 0.5333333 | Run Time: 141.0134599\n",
      "Iter:  101 | Cost: 0.7125971 | Accuracy: 0.9400000 | Test Accuracy: 0.5333333 | Run Time: 141.1284740\n",
      "Iter:  102 | Cost: 0.7122902 | Accuracy: 0.9400000 | Test Accuracy: 0.5333333 | Run Time: 140.6517756\n",
      "Iter:  103 | Cost: 0.7119863 | Accuracy: 0.9400000 | Test Accuracy: 0.5333333 | Run Time: 139.5870945\n",
      "Iter:  104 | Cost: 0.7116870 | Accuracy: 0.9600000 | Test Accuracy: 0.5333333 | Run Time: 143.0240991\n",
      "Iter:  105 | Cost: 0.7113933 | Accuracy: 0.9600000 | Test Accuracy: 0.5333333 | Run Time: 142.1830904\n",
      "Iter:  106 | Cost: 0.7111060 | Accuracy: 0.9600000 | Test Accuracy: 0.5333333 | Run Time: 141.4318745\n",
      "Iter:  107 | Cost: 0.7108250 | Accuracy: 0.9600000 | Test Accuracy: 0.5333333 | Run Time: 142.4686234\n",
      "Iter:  108 | Cost: 0.7105503 | Accuracy: 0.9600000 | Test Accuracy: 0.5333333 | Run Time: 144.0508034\n",
      "Iter:  109 | Cost: 0.7102816 | Accuracy: 0.9600000 | Test Accuracy: 0.5333333 | Run Time: 142.5781713\n",
      "Iter:  110 | Cost: 0.7100185 | Accuracy: 0.9600000 | Test Accuracy: 0.5333333 | Run Time: 143.1119797\n",
      "Iter:  111 | Cost: 0.7097608 | Accuracy: 0.9600000 | Test Accuracy: 0.5333333 | Run Time: 144.1885898\n",
      "Iter:  112 | Cost: 0.7095081 | Accuracy: 0.9600000 | Test Accuracy: 0.5333333 | Run Time: 142.8005135\n",
      "Iter:  113 | Cost: 0.7092601 | Accuracy: 0.9800000 | Test Accuracy: 0.5333333 | Run Time: 142.7205353\n",
      "Iter:  114 | Cost: 0.7090162 | Accuracy: 0.9800000 | Test Accuracy: 0.5333333 | Run Time: 159.6449327\n",
      "Iter:  115 | Cost: 0.7087760 | Accuracy: 0.9800000 | Test Accuracy: 0.5333333 | Run Time: 140.9030607\n",
      "Iter:  116 | Cost: 0.7085391 | Accuracy: 0.9800000 | Test Accuracy: 0.5333333 | Run Time: 141.2914410\n",
      "Iter:  117 | Cost: 0.7083050 | Accuracy: 0.9800000 | Test Accuracy: 0.5333333 | Run Time: 141.9102099\n",
      "Iter:  118 | Cost: 0.7080735 | Accuracy: 0.9800000 | Test Accuracy: 0.5333333 | Run Time: 141.5386996\n",
      "Iter:  119 | Cost: 0.7078445 | Accuracy: 0.9800000 | Test Accuracy: 0.5333333 | Run Time: 143.0854917\n",
      "Iter:  120 | Cost: 0.7076179 | Accuracy: 0.9800000 | Test Accuracy: 0.5333333 | Run Time: 142.0345361\n",
      "Iter:  121 | Cost: 0.7073936 | Accuracy: 0.9800000 | Test Accuracy: 0.5333333 | Run Time: 141.1807683\n",
      "Iter:  122 | Cost: 0.7071718 | Accuracy: 0.9800000 | Test Accuracy: 0.5333333 | Run Time: 143.7341611\n",
      "Iter:  123 | Cost: 0.7069525 | Accuracy: 0.9800000 | Test Accuracy: 0.5333333 | Run Time: 144.7894745\n",
      "Iter:  124 | Cost: 0.7067358 | Accuracy: 0.9800000 | Test Accuracy: 0.5333333 | Run Time: 141.3124807\n",
      "Iter:  125 | Cost: 0.7065217 | Accuracy: 0.9800000 | Test Accuracy: 0.5333333 | Run Time: 142.3933063\n",
      "Iter:  126 | Cost: 0.7063102 | Accuracy: 0.9800000 | Test Accuracy: 0.5333333 | Run Time: 142.4257751\n",
      "Iter:  127 | Cost: 0.7061013 | Accuracy: 0.9800000 | Test Accuracy: 0.5333333 | Run Time: 141.3169043\n",
      "Iter:  128 | Cost: 0.7058949 | Accuracy: 0.9800000 | Test Accuracy: 0.5333333 | Run Time: 142.9745755\n",
      "Iter:  129 | Cost: 0.7056910 | Accuracy: 0.9800000 | Test Accuracy: 0.5333333 | Run Time: 161.0136039\n",
      "Iter:  130 | Cost: 0.7054895 | Accuracy: 0.9800000 | Test Accuracy: 0.5333333 | Run Time: 142.8171051\n",
      "Iter:  131 | Cost: 0.7052904 | Accuracy: 0.9800000 | Test Accuracy: 0.5333333 | Run Time: 141.4763737\n",
      "Iter:  132 | Cost: 0.7050935 | Accuracy: 0.9800000 | Test Accuracy: 0.5333333 | Run Time: 141.9361253\n",
      "Iter:  133 | Cost: 0.7048988 | Accuracy: 0.9800000 | Test Accuracy: 0.5333333 | Run Time: 142.0447047\n",
      "Iter:  134 | Cost: 0.7047062 | Accuracy: 0.9800000 | Test Accuracy: 0.5333333 | Run Time: 142.9254334\n",
      "Iter:  135 | Cost: 0.7045157 | Accuracy: 0.9800000 | Test Accuracy: 0.5333333 | Run Time: 144.2574687\n",
      "Iter:  136 | Cost: 0.7043270 | Accuracy: 0.9800000 | Test Accuracy: 0.5333333 | Run Time: 142.0825105\n",
      "Iter:  137 | Cost: 0.7041402 | Accuracy: 0.9800000 | Test Accuracy: 0.5333333 | Run Time: 143.3301518\n",
      "Iter:  138 | Cost: 0.7039550 | Accuracy: 0.9800000 | Test Accuracy: 0.5333333 | Run Time: 143.5521076\n",
      "Iter:  139 | Cost: 0.7037714 | Accuracy: 0.9800000 | Test Accuracy: 0.5333333 | Run Time: 141.6454372\n",
      "Iter:  140 | Cost: 0.7035893 | Accuracy: 0.9800000 | Test Accuracy: 0.5333333 | Run Time: 143.0847685\n",
      "Iter:  141 | Cost: 0.7034085 | Accuracy: 0.9800000 | Test Accuracy: 0.5333333 | Run Time: 144.3131738\n",
      "Iter:  142 | Cost: 0.7032289 | Accuracy: 0.9800000 | Test Accuracy: 0.5333333 | Run Time: 142.9424469\n",
      "Iter:  143 | Cost: 0.7030505 | Accuracy: 0.9800000 | Test Accuracy: 0.5333333 | Run Time: 144.7469320\n",
      "Iter:  144 | Cost: 0.7028730 | Accuracy: 0.9800000 | Test Accuracy: 0.5333333 | Run Time: 163.6158290\n",
      "Iter:  145 | Cost: 0.7026965 | Accuracy: 0.9800000 | Test Accuracy: 0.5333333 | Run Time: 146.0935924\n",
      "Iter:  146 | Cost: 0.7025206 | Accuracy: 0.9800000 | Test Accuracy: 0.5333333 | Run Time: 143.2004018\n",
      "Iter:  147 | Cost: 0.7023453 | Accuracy: 0.9800000 | Test Accuracy: 0.5333333 | Run Time: 141.7737014\n",
      "Iter:  148 | Cost: 0.7021704 | Accuracy: 0.9800000 | Test Accuracy: 0.5333333 | Run Time: 141.9172356\n",
      "Iter:  149 | Cost: 0.7019957 | Accuracy: 0.9800000 | Test Accuracy: 0.5333333 | Run Time: 141.9763770\n",
      "Iter:  150 | Cost: 0.7018210 | Accuracy: 0.9800000 | Test Accuracy: 0.5333333 | Run Time: 142.4402230\n"
     ]
    },
    {
     "data": {
      "image/png": "[encoded data removed]",
      "text/plain": [
       "<Figure size 1200x1000 with 3 Axes>"
      ]
     },
     "metadata": {},
     "output_type": "display_data"
    },
    {
     "name": "stdout",
     "output_type": "stream",
     "text": [
      "[[[ 0.67931907  0.31853655  0.41084824  0.42676732]]\n",
      "\n",
      " [[ 0.00765362 -0.01377284 -0.00122712 -0.02257756]]\n",
      "\n",
      " [[ 0.25261964 -0.32307781 -0.15928716  0.16249774]]]\n"
     ]
    }
   ],
   "source": [
    "import time\n",
    "learning_rate = [0.5]\n",
    "num_layers = [1]\n",
    "for n_layers in num_layers:\n",
    "    lrate = 0.5\n",
    "    print(\"number layers:\", n_layers)\n",
    "\n",
    "    opt = MomentumOptimizer(lrate)\n",
    "    current_cost_list = []\n",
    "    acc_list = []\n",
    "    test_acc_list = []\n",
    "    epoch = []\n",
    "    for it in range(150):\n",
    "        start_time = time.time()\n",
    "        # apply drop out\n",
    "        dropped_parameters, masked_matrix = make_drop_out_parameter(params[1], 0.0)\n",
    "        dropped_params = (params[0], dropped_parameters)\n",
    "        gradient_value, current_cost = opt.compute_grad(objective_fn=cost, args=dropped_params, kwargs={\"X\": X, \"Y\": Y})\n",
    "        dropped_gradient = (gradient_value[0], gradient_value[1] * masked_matrix)\n",
    "        params = opt.apply_grad(grad=dropped_gradient, args=params)\n",
    "        current_cost = cost(params[0],params[1], X=X, Y=Y)\n",
    "        current_cost_list.append(current_cost)\n",
    "        weights = params[0]\n",
    "        parameters = params[1]\n",
    "        # Compute accuracy on train\n",
    "        predictions = [np.sign(full_circuit(x,weights,parameters=parameters,num_layers=n_layers)) for x in X_batch]\n",
    "        acc = accuracy(Y_batch, predictions)\n",
    "        acc_list.append(acc)\n",
    "        \n",
    "        # Compute accuracy on test\n",
    "        predictions_test = [np.sign(full_circuit(x,weights,parameters=parameters, num_layers=n_layers)) for x in X_test_batch]\n",
    "        test_acc = accuracy(Y_test_batch, predictions)\n",
    "        test_acc_list.append(test_acc)\n",
    "        epoch.append(it)\n",
    "        \n",
    "        # Redraw the updated plot\n",
    "        end_time = time.time() - start_time\n",
    "        print(f\"Iter: {it+1:4d} | Cost: {current_cost:0.7f} | Accuracy: {acc:0.7f} | Test Accuracy: {test_acc:0.7f} | Run Time: {end_time:0.7f}\")   \n",
    "    draw_result(current_cost_list,acc_list,test_acc_list,epoch,lrate,n_layers)\n",
    "    print(weights)"
   ]
  },
  {
   "cell_type": "code",
   "execution_count": 22,
   "id": "36a918b7",
   "metadata": {
    "execution": {
     "iopub.execute_input": "2025-02-10T21:18:24.410760Z",
     "iopub.status.busy": "2025-02-10T21:18:24.410355Z",
     "iopub.status.idle": "2025-02-10T21:18:35.785773Z",
     "shell.execute_reply": "2025-02-10T21:18:35.784157Z"
    },
    "id": "flb82L4ZBY6x",
    "papermill": {
     "duration": 11.398074,
     "end_time": "2025-02-10T21:18:35.787698",
     "exception": false,
     "start_time": "2025-02-10T21:18:24.389624",
     "status": "completed"
    },
    "tags": []
   },
   "outputs": [
    {
     "name": "stdout",
     "output_type": "stream",
     "text": [
      "Final test, accuracy_test: 0.43333333333333335\n"
     ]
    }
   ],
   "source": [
    "# Compute accuracy\n",
    "weights = params[0]\n",
    "parameters = params[1]\n",
    "predictions = [np.sign(full_circuit(x,weights,parameters, 1)) for x in X_test]\n",
    "acc = accuracy(Y_test, predictions)\n",
    "print(f\"Final test, accuracy_test: {acc}\")"
   ]
  }
 ],
 "metadata": {
  "colab": {
   "provenance": []
  },
  "kaggle": {
   "accelerator": "none",
   "dataSources": [
    {
     "datasetId": 6593060,
     "sourceId": 10648027,
     "sourceType": "datasetVersion"
    }
   ],
   "dockerImageVersionId": 30886,
   "isGpuEnabled": false,
   "isInternetEnabled": true,
   "language": "python",
   "sourceType": "notebook"
  },
  "kernelspec": {
   "display_name": "Python 3",
   "language": "python",
   "name": "python3"
  },
  "language_info": {
   "codemirror_mode": {
    "name": "ipython",
    "version": 3
   },
   "file_extension": ".py",
   "mimetype": "text/x-python",
   "name": "python",
   "nbconvert_exporter": "python",
   "pygments_lexer": "ipython3",
   "version": "3.10.12"
  },
  "papermill": {
   "default_parameters": {},
   "duration": 21800.253613,
   "end_time": "2025-02-10T21:18:39.830443",
   "environment_variables": {},
   "exception": null,
   "input_path": "__notebook__.ipynb",
   "output_path": "__notebook__.ipynb",
   "parameters": {},
   "start_time": "2025-02-10T15:15:19.576830",
   "version": "2.6.0"
  }
 },
 "nbformat": 4,
 "nbformat_minor": 5
}
