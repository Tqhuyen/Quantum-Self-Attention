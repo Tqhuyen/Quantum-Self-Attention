{
 "cells": [
  {
   "cell_type": "code",
   "execution_count": 1,
   "id": "18e15f5a",
   "metadata": {
    "execution": {
     "iopub.execute_input": "2025-03-24T16:02:06.449348Z",
     "iopub.status.busy": "2025-03-24T16:02:06.448902Z",
     "iopub.status.idle": "2025-03-24T16:02:16.114536Z",
     "shell.execute_reply": "2025-03-24T16:02:16.113435Z"
    },
    "id": "MbEyJMHaW9w7",
    "outputId": "8edd0afc-dd65-408c-b624-fea1e6874d8b",
    "papermill": {
     "duration": 9.674971,
     "end_time": "2025-03-24T16:02:16.116565",
     "exception": false,
     "start_time": "2025-03-24T16:02:06.441594",
     "status": "completed"
    },
    "tags": []
   },
   "outputs": [
    {
     "name": "stdout",
     "output_type": "stream",
     "text": [
      "Collecting pennylane\r\n",
      "  Downloading PennyLane-0.40.0-py3-none-any.whl.metadata (10 kB)\r\n",
      "Requirement already satisfied: numpy<2.1 in /usr/local/lib/python3.10/dist-packages (from pennylane) (1.26.4)\r\n",
      "Requirement already satisfied: scipy in /usr/local/lib/python3.10/dist-packages (from pennylane) (1.13.1)\r\n",
      "Requirement already satisfied: networkx in /usr/local/lib/python3.10/dist-packages (from pennylane) (3.4.2)\r\n",
      "Collecting rustworkx>=0.14.0 (from pennylane)\r\n",
      "  Downloading rustworkx-0.16.0-cp39-abi3-manylinux_2_17_x86_64.manylinux2014_x86_64.whl.metadata (10 kB)\r\n",
      "Requirement already satisfied: autograd in /usr/local/lib/python3.10/dist-packages (from pennylane) (1.7.0)\r\n",
      "Collecting tomlkit (from pennylane)\r\n",
      "  Downloading tomlkit-0.13.2-py3-none-any.whl.metadata (2.7 kB)\r\n",
      "Collecting appdirs (from pennylane)\r\n",
      "  Downloading appdirs-1.4.4-py2.py3-none-any.whl.metadata (9.0 kB)\r\n",
      "Collecting autoray>=0.6.11 (from pennylane)\r\n",
      "  Downloading autoray-0.7.1-py3-none-any.whl.metadata (5.8 kB)\r\n",
      "Requirement already satisfied: cachetools in /usr/local/lib/python3.10/dist-packages (from pennylane) (5.5.0)\r\n",
      "Collecting pennylane-lightning>=0.40 (from pennylane)\r\n",
      "  Downloading PennyLane_Lightning-0.40.0-cp310-cp310-manylinux_2_28_x86_64.whl.metadata (27 kB)\r\n",
      "Requirement already satisfied: requests in /usr/local/lib/python3.10/dist-packages (from pennylane) (2.32.3)\r\n",
      "Requirement already satisfied: typing-extensions in /usr/local/lib/python3.10/dist-packages (from pennylane) (4.12.2)\r\n",
      "Requirement already satisfied: packaging in /usr/local/lib/python3.10/dist-packages (from pennylane) (24.2)\r\n",
      "Collecting diastatic-malt (from pennylane)\r\n",
      "  Downloading diastatic_malt-2.15.2-py3-none-any.whl.metadata (2.6 kB)\r\n",
      "Requirement already satisfied: mkl_fft in /usr/local/lib/python3.10/dist-packages (from numpy<2.1->pennylane) (1.3.8)\r\n",
      "Requirement already satisfied: mkl_random in /usr/local/lib/python3.10/dist-packages (from numpy<2.1->pennylane) (1.2.4)\r\n",
      "Requirement already satisfied: mkl_umath in /usr/local/lib/python3.10/dist-packages (from numpy<2.1->pennylane) (0.1.1)\r\n",
      "Requirement already satisfied: mkl in /usr/local/lib/python3.10/dist-packages (from numpy<2.1->pennylane) (2025.0.1)\r\n",
      "Requirement already satisfied: tbb4py in /usr/local/lib/python3.10/dist-packages (from numpy<2.1->pennylane) (2022.0.0)\r\n",
      "Requirement already satisfied: mkl-service in /usr/local/lib/python3.10/dist-packages (from numpy<2.1->pennylane) (2.4.1)\r\n",
      "Collecting scipy-openblas32>=0.3.26 (from pennylane-lightning>=0.40->pennylane)\r\n",
      "  Downloading scipy_openblas32-0.3.29.0.0-py3-none-manylinux_2_17_x86_64.manylinux2014_x86_64.whl.metadata (56 kB)\r\n",
      "\u001b[2K     \u001b[90m━━━━━━━━━━━━━━━━━━━━━━━━━━━━━━━━━━━━━━━━\u001b[0m \u001b[32m56.1/56.1 kB\u001b[0m \u001b[31m2.8 MB/s\u001b[0m eta \u001b[36m0:00:00\u001b[0m\r\n",
      "\u001b[?25hRequirement already satisfied: astunparse in /usr/local/lib/python3.10/dist-packages (from diastatic-malt->pennylane) (1.6.3)\r\n",
      "Requirement already satisfied: gast in /usr/local/lib/python3.10/dist-packages (from diastatic-malt->pennylane) (0.6.0)\r\n",
      "Requirement already satisfied: termcolor in /usr/local/lib/python3.10/dist-packages (from diastatic-malt->pennylane) (2.5.0)\r\n",
      "Requirement already satisfied: charset-normalizer<4,>=2 in /usr/local/lib/python3.10/dist-packages (from requests->pennylane) (3.4.1)\r\n",
      "Requirement already satisfied: idna<4,>=2.5 in /usr/local/lib/python3.10/dist-packages (from requests->pennylane) (3.10)\r\n",
      "Requirement already satisfied: urllib3<3,>=1.21.1 in /usr/local/lib/python3.10/dist-packages (from requests->pennylane) (2.3.0)\r\n",
      "Requirement already satisfied: certifi>=2017.4.17 in /usr/local/lib/python3.10/dist-packages (from requests->pennylane) (2025.1.31)\r\n",
      "Requirement already satisfied: wheel<1.0,>=0.23.0 in /usr/local/lib/python3.10/dist-packages (from astunparse->diastatic-malt->pennylane) (0.45.1)\r\n",
      "Requirement already satisfied: six<2.0,>=1.6.1 in /usr/local/lib/python3.10/dist-packages (from astunparse->diastatic-malt->pennylane) (1.17.0)\r\n",
      "Requirement already satisfied: intel-openmp>=2024 in /usr/local/lib/python3.10/dist-packages (from mkl->numpy<2.1->pennylane) (2024.2.0)\r\n",
      "Requirement already satisfied: tbb==2022.* in /usr/local/lib/python3.10/dist-packages (from mkl->numpy<2.1->pennylane) (2022.0.0)\r\n",
      "Requirement already satisfied: tcmlib==1.* in /usr/local/lib/python3.10/dist-packages (from tbb==2022.*->mkl->numpy<2.1->pennylane) (1.2.0)\r\n",
      "Requirement already satisfied: intel-cmplr-lib-rt in /usr/local/lib/python3.10/dist-packages (from mkl_umath->numpy<2.1->pennylane) (2024.2.0)\r\n",
      "Requirement already satisfied: intel-cmplr-lib-ur==2024.2.0 in /usr/local/lib/python3.10/dist-packages (from intel-openmp>=2024->mkl->numpy<2.1->pennylane) (2024.2.0)\r\n",
      "Downloading PennyLane-0.40.0-py3-none-any.whl (2.0 MB)\r\n",
      "\u001b[2K   \u001b[90m━━━━━━━━━━━━━━━━━━━━━━━━━━━━━━━━━━━━━━━━\u001b[0m \u001b[32m2.0/2.0 MB\u001b[0m \u001b[31m25.1 MB/s\u001b[0m eta \u001b[36m0:00:00\u001b[0m\r\n",
      "\u001b[?25hDownloading autoray-0.7.1-py3-none-any.whl (930 kB)\r\n",
      "\u001b[2K   \u001b[90m━━━━━━━━━━━━━━━━━━━━━━━━━━━━━━━━━━━━━━━━\u001b[0m \u001b[32m930.8/930.8 kB\u001b[0m \u001b[31m39.7 MB/s\u001b[0m eta \u001b[36m0:00:00\u001b[0m\r\n",
      "\u001b[?25hDownloading PennyLane_Lightning-0.40.0-cp310-cp310-manylinux_2_28_x86_64.whl (2.4 MB)\r\n",
      "\u001b[2K   \u001b[90m━━━━━━━━━━━━━━━━━━━━━━━━━━━━━━━━━━━━━━━━\u001b[0m \u001b[32m2.4/2.4 MB\u001b[0m \u001b[31m64.5 MB/s\u001b[0m eta \u001b[36m0:00:00\u001b[0m\r\n",
      "\u001b[?25hDownloading rustworkx-0.16.0-cp39-abi3-manylinux_2_17_x86_64.manylinux2014_x86_64.whl (2.1 MB)\r\n",
      "\u001b[2K   \u001b[90m━━━━━━━━━━━━━━━━━━━━━━━━━━━━━━━━━━━━━━━━\u001b[0m \u001b[32m2.1/2.1 MB\u001b[0m \u001b[31m57.3 MB/s\u001b[0m eta \u001b[36m0:00:00\u001b[0m\r\n",
      "\u001b[?25hDownloading appdirs-1.4.4-py2.py3-none-any.whl (9.6 kB)\r\n",
      "Downloading diastatic_malt-2.15.2-py3-none-any.whl (167 kB)\r\n",
      "\u001b[2K   \u001b[90m━━━━━━━━━━━━━━━━━━━━━━━━━━━━━━━━━━━━━━━━\u001b[0m \u001b[32m167.9/167.9 kB\u001b[0m \u001b[31m9.4 MB/s\u001b[0m eta \u001b[36m0:00:00\u001b[0m\r\n",
      "\u001b[?25hDownloading tomlkit-0.13.2-py3-none-any.whl (37 kB)\r\n",
      "Downloading scipy_openblas32-0.3.29.0.0-py3-none-manylinux_2_17_x86_64.manylinux2014_x86_64.whl (8.6 MB)\r\n",
      "\u001b[2K   \u001b[90m━━━━━━━━━━━━━━━━━━━━━━━━━━━━━━━━━━━━━━━━\u001b[0m \u001b[32m8.6/8.6 MB\u001b[0m \u001b[31m99.4 MB/s\u001b[0m eta \u001b[36m0:00:00\u001b[0m\r\n",
      "\u001b[?25hInstalling collected packages: appdirs, tomlkit, scipy-openblas32, autoray, diastatic-malt, rustworkx, pennylane-lightning, pennylane\r\n",
      "Successfully installed appdirs-1.4.4 autoray-0.7.1 diastatic-malt-2.15.2 pennylane-0.40.0 pennylane-lightning-0.40.0 rustworkx-0.16.0 scipy-openblas32-0.3.29.0.0 tomlkit-0.13.2\r\n"
     ]
    }
   ],
   "source": [
    "!pip install pennylane --upgrade"
   ]
  },
  {
   "cell_type": "code",
   "execution_count": 2,
   "id": "1bc8761b",
   "metadata": {
    "execution": {
     "iopub.execute_input": "2025-03-24T16:02:16.132595Z",
     "iopub.status.busy": "2025-03-24T16:02:16.132234Z",
     "iopub.status.idle": "2025-03-24T16:02:34.995586Z",
     "shell.execute_reply": "2025-03-24T16:02:34.994569Z"
    },
    "id": "u1g8haeSUioZ",
    "papermill": {
     "duration": 18.873646,
     "end_time": "2025-03-24T16:02:34.997813",
     "exception": false,
     "start_time": "2025-03-24T16:02:16.124167",
     "status": "completed"
    },
    "tags": []
   },
   "outputs": [],
   "source": [
    "import pennylane as qml\n",
    "from pennylane import numpy as np\n",
    "from pennylane.optimize import NesterovMomentumOptimizer\n",
    "import tensorflow as tf"
   ]
  },
  {
   "cell_type": "code",
   "execution_count": 3,
   "id": "993dbc2a",
   "metadata": {
    "execution": {
     "iopub.execute_input": "2025-03-24T16:02:35.015080Z",
     "iopub.status.busy": "2025-03-24T16:02:35.014295Z",
     "iopub.status.idle": "2025-03-24T16:02:35.765897Z",
     "shell.execute_reply": "2025-03-24T16:02:35.764870Z"
    },
    "papermill": {
     "duration": 0.761898,
     "end_time": "2025-03-24T16:02:35.767703",
     "exception": false,
     "start_time": "2025-03-24T16:02:35.005805",
     "status": "completed"
    },
    "tags": []
   },
   "outputs": [
    {
     "name": "stderr",
     "output_type": "stream",
     "text": [
      "/usr/local/lib/python3.10/dist-packages/keras/src/layers/core/embedding.py:90: UserWarning: Argument `input_length` is deprecated. Just remove it.\n",
      "  warnings.warn(\n"
     ]
    },
    {
     "name": "stdout",
     "output_type": "stream",
     "text": [
      "\u001b[1m3/3\u001b[0m \u001b[32m━━━━━━━━━━━━━━━━━━━━\u001b[0m\u001b[37m\u001b[0m \u001b[1m0s\u001b[0m 15ms/step \n",
      "\u001b[1m1/1\u001b[0m \u001b[32m━━━━━━━━━━━━━━━━━━━━\u001b[0m\u001b[37m\u001b[0m \u001b[1m0s\u001b[0m 114ms/step\n",
      "\u001b[1m1/1\u001b[0m \u001b[32m━━━━━━━━━━━━━━━━━━━━\u001b[0m\u001b[37m\u001b[0m \u001b[1m0s\u001b[0m 102ms/step\n"
     ]
    }
   ],
   "source": [
    "#******************************************\n",
    "# Data import\n",
    "#******************************************\n",
    "\n",
    "# import train, dev and test datasets: the data entries are all strings of the form 'label sentence' \n",
    "# with the label in {0,1} and with the sentence of the form \"word1_POStag1 word2_POStag2 ...\"\n",
    "\n",
    "with open('/kaggle/input/mc-and-rp-dataset-for-quantum-computing-qnlp/mc_train_data.txt') as f:\n",
    "    training_data_raw = f.readlines()\n",
    "\n",
    "with open('/kaggle/input/mc-and-rp-dataset-for-quantum-computing-qnlp/mc_dev_data.txt') as f:\n",
    "    dev_data_raw = f.readlines()\n",
    "\n",
    "with open('/kaggle/input/mc-and-rp-dataset-for-quantum-computing-qnlp/mc_test_data.txt') as f:\n",
    "    testing_data_raw = f.readlines()\n",
    "#***************************************************************\n",
    "# Turn the raw input data into data structures convenient below\n",
    "#***************************************************************\n",
    "\n",
    "vocab = dict()          # dictionary to be filled with the vocabulary in the form { word : POStag }\n",
    "data = dict()           # dictionary to be filled with all the data (train, dev and test subsets); entries of the \n",
    "                        # form { sentence : label } with label encoding '1' as [1.0, 0.0] and '0' as [0.0, 1.0]\n",
    "training_data = []      # list of sentences in the train dataset as strings \"word1 word2 ...\"\n",
    "dev_data = []           # list of sentences in the dev dataset as strings \"word1 word2 ...\"\n",
    "testing_data = []       # list of sentences in the test dataset as strings \"word1 word2 ...\"\n",
    "training_data_label = []      # list of sentences in the train dataset as strings \"word1 word2 ...\"\n",
    "dev_data_label = []           # list of sentences in the dev dataset as strings \"word1 word2 ...\"\n",
    "testing_data_label = []\n",
    "# Go through the train data\n",
    "for sent in training_data_raw:\n",
    "    words = sent[2:].split() \n",
    "    sent_untagged = ''\n",
    "    for word in words:\n",
    "        word_untagged, tag = word.split('_')\n",
    "        vocab[word_untagged] = tag\n",
    "        sent_untagged += word_untagged + ' '\n",
    "    sentence = sent_untagged[:-1]\n",
    "    training_data.append(sentence)\n",
    "    label = 1.0 if sent[0] == '1' else -1.0\n",
    "    training_data_label.append(label)\n",
    "\n",
    "# Go through the dev data\n",
    "for sent in dev_data_raw:\n",
    "    words = sent[2:].split() \n",
    "    sent_untagged = ''\n",
    "    for word in words:\n",
    "        word_untagged, tag = word.split('_')\n",
    "        vocab[word_untagged] = tag\n",
    "        sent_untagged += word_untagged + ' '\n",
    "    sentence = sent_untagged[:-1]\n",
    "    dev_data.append(sentence)\n",
    "    label = 1.0 if sent[0] == '1' else -1.0\n",
    "    dev_data_label.append(label)\n",
    "    \n",
    "# Go through the test data\n",
    "for sent in testing_data_raw:\n",
    "    words = sent[2:].split() \n",
    "    sent_untagged = ''\n",
    "    for word in words:\n",
    "        word_untagged, tag = word.split('_')\n",
    "        vocab[word_untagged] = tag\n",
    "        sent_untagged += word_untagged + ' '\n",
    "    sentence = sent_untagged[:-1]\n",
    "    testing_data.append(sentence)\n",
    "    label = 1.0 if sent[0] == '1' else -1.0\n",
    "    testing_data_label.append(label)\n",
    "import tensorflow as tf\n",
    "from tensorflow.keras.preprocessing.text import Tokenizer\n",
    "from tensorflow.keras.preprocessing.sequence import pad_sequences\n",
    "from tensorflow.keras.models import Sequential\n",
    "from tensorflow.keras.layers import Embedding\n",
    "\n",
    "def embedding_sentece(data_list):\n",
    "    sentences = data_list\n",
    "    tokenizer = Tokenizer()\n",
    "    tokenizer.fit_on_texts(sentences)  \n",
    "    word_index = tokenizer.word_index  \n",
    "    vocab_size = len(word_index) + 1  # Số lượng từ vựng (+1 cho padding)\n",
    "    sequences = tokenizer.texts_to_sequences(sentences)\n",
    "\n",
    "    max_length = max(len(seq) for seq in sequences)  # Độ dài tối đa\n",
    "    padded_sequences = pad_sequences(sequences, maxlen=max_length, padding='post')\n",
    "    \n",
    "    embedding_dim = 4  # Chọn số chiều của vector embedding\n",
    "    \n",
    "    model = Sequential([\n",
    "        Embedding(input_dim=vocab_size, output_dim=embedding_dim, input_length=max_length)\n",
    "    ])\n",
    "    \n",
    "    output = model.predict(padded_sequences)\n",
    "    return output\n",
    "X = np.array(embedding_sentece(training_data), dtype='float64')\n",
    "Y = np.array(training_data_label)\n",
    "X_dev = np.array(embedding_sentece(dev_data), dtype='float64')\n",
    "Y_dev = np.array(dev_data_label)\n",
    "X_test = np.array(embedding_sentece(testing_data), dtype='float64')\n",
    "Y_test = np.array(testing_data_label)\n",
    "X = X.reshape(-1,16)\n",
    "X_dev = X_dev.reshape(-1,16)\n",
    "X_test = X_test.reshape(-1,16)"
   ]
  },
  {
   "cell_type": "code",
   "execution_count": 4,
   "id": "70e1cc03",
   "metadata": {
    "execution": {
     "iopub.execute_input": "2025-03-24T16:02:35.784596Z",
     "iopub.status.busy": "2025-03-24T16:02:35.784211Z",
     "iopub.status.idle": "2025-03-24T16:02:35.788370Z",
     "shell.execute_reply": "2025-03-24T16:02:35.787375Z"
    },
    "papermill": {
     "duration": 0.014335,
     "end_time": "2025-03-24T16:02:35.790013",
     "exception": false,
     "start_time": "2025-03-24T16:02:35.775678",
     "status": "completed"
    },
    "tags": []
   },
   "outputs": [],
   "source": [
    "X = X[:50]\n",
    "Y = Y[:50]"
   ]
  },
  {
   "cell_type": "code",
   "execution_count": 5,
   "id": "f23de3d9",
   "metadata": {
    "execution": {
     "iopub.execute_input": "2025-03-24T16:02:35.805876Z",
     "iopub.status.busy": "2025-03-24T16:02:35.805481Z",
     "iopub.status.idle": "2025-03-24T16:02:35.811891Z",
     "shell.execute_reply": "2025-03-24T16:02:35.810539Z"
    },
    "id": "9ZrZHnIeXGAD",
    "papermill": {
     "duration": 0.016152,
     "end_time": "2025-03-24T16:02:35.813544",
     "exception": false,
     "start_time": "2025-03-24T16:02:35.797392",
     "status": "completed"
    },
    "tags": []
   },
   "outputs": [],
   "source": [
    "dev = qml.device('default.qubit', wires=17)\n",
    "\n",
    "def state_preparation(f=None):\n",
    "    qml.AmplitudeEmbedding(features=f, wires=[0,1,2,3], normalize=True)\n",
    "    qml.AmplitudeEmbedding(features=f, wires=[4,5,6,7], normalize=True)\n",
    "    qml.AmplitudeEmbedding(features=f, wires=[8,9,10,11], normalize=True)"
   ]
  },
  {
   "cell_type": "code",
   "execution_count": 6,
   "id": "095bc466",
   "metadata": {
    "execution": {
     "iopub.execute_input": "2025-03-24T16:02:35.829274Z",
     "iopub.status.busy": "2025-03-24T16:02:35.828875Z",
     "iopub.status.idle": "2025-03-24T16:02:35.834521Z",
     "shell.execute_reply": "2025-03-24T16:02:35.833527Z"
    },
    "id": "2JL2UMuZ56Sm",
    "papermill": {
     "duration": 0.015397,
     "end_time": "2025-03-24T16:02:35.836248",
     "exception": false,
     "start_time": "2025-03-24T16:02:35.820851",
     "status": "completed"
    },
    "tags": []
   },
   "outputs": [],
   "source": [
    "def unitary_embedding(theta_list: list):\n",
    "  '''\n",
    "  theta_list: list of theta\n",
    "  '''\n",
    "  for i in range(len(theta_list)):\n",
    "    qml.RY(theta_list[i], wires=[i])\n",
    "  for i in range(len(theta_list)-1):\n",
    "    c = i\n",
    "    if c == len(theta_list)-1:\n",
    "      f = 0\n",
    "    else:\n",
    "      f = c+1\n",
    "    qml.CNOT(wires=[c,f])"
   ]
  },
  {
   "cell_type": "code",
   "execution_count": 7,
   "id": "48f90ef1",
   "metadata": {
    "execution": {
     "iopub.execute_input": "2025-03-24T16:02:35.852227Z",
     "iopub.status.busy": "2025-03-24T16:02:35.851811Z",
     "iopub.status.idle": "2025-03-24T16:02:35.856910Z",
     "shell.execute_reply": "2025-03-24T16:02:35.855821Z"
    },
    "papermill": {
     "duration": 0.015002,
     "end_time": "2025-03-24T16:02:35.858587",
     "exception": false,
     "start_time": "2025-03-24T16:02:35.843585",
     "status": "completed"
    },
    "tags": []
   },
   "outputs": [],
   "source": [
    "def combine_unitary_embedding(number_layer, theta_list):\n",
    "  '''\n",
    "  len(theta_list) = number_layer\n",
    "  theta_list elem = \n",
    "  '''\n",
    "  for i in range(len(theta_list[0])):\n",
    "    qml.H(wires=[i])\n",
    "  for layer in range(number_layer):\n",
    "    unitary_embedding(theta_list[layer])"
   ]
  },
  {
   "cell_type": "code",
   "execution_count": 8,
   "id": "98e9fa65",
   "metadata": {
    "execution": {
     "iopub.execute_input": "2025-03-24T16:02:35.874686Z",
     "iopub.status.busy": "2025-03-24T16:02:35.874344Z",
     "iopub.status.idle": "2025-03-24T16:02:35.878912Z",
     "shell.execute_reply": "2025-03-24T16:02:35.877931Z"
    },
    "id": "z5cGe_yzARyc",
    "papermill": {
     "duration": 0.014257,
     "end_time": "2025-03-24T16:02:35.880481",
     "exception": false,
     "start_time": "2025-03-24T16:02:35.866224",
     "status": "completed"
    },
    "tags": []
   },
   "outputs": [],
   "source": [
    "def barbell_operation(wires_1, wires_2):\n",
    "  '''\n",
    "  swap Q to second register group\n",
    "  '''\n",
    "  for i, j in zip(wires_1, wires_2):\n",
    "    qml.SWAP(wires=[i,j])"
   ]
  },
  {
   "cell_type": "code",
   "execution_count": 9,
   "id": "c63e7882",
   "metadata": {
    "execution": {
     "iopub.execute_input": "2025-03-24T16:02:35.895979Z",
     "iopub.status.busy": "2025-03-24T16:02:35.895616Z",
     "iopub.status.idle": "2025-03-24T16:02:35.900614Z",
     "shell.execute_reply": "2025-03-24T16:02:35.899689Z"
    },
    "id": "NmCq3kW7ct4E",
    "papermill": {
     "duration": 0.014596,
     "end_time": "2025-03-24T16:02:35.902202",
     "exception": false,
     "start_time": "2025-03-24T16:02:35.887606",
     "status": "completed"
    },
    "tags": []
   },
   "outputs": [],
   "source": [
    "def QLS_module(wires_control_1, wires_control_2, wires_result):\n",
    "  for i, j, k in zip(wires_control_1, wires_control_2, wires_result):\n",
    "    qml.Toffoli(wires=[i,j,k])\n",
    "  for i in range(len(wires_result)-2):\n",
    "    qml.CNOT(wires=[wires_result[i],wires_result[i+1]])"
   ]
  },
  {
   "cell_type": "code",
   "execution_count": 10,
   "id": "6a4f9118",
   "metadata": {
    "execution": {
     "iopub.execute_input": "2025-03-24T16:02:35.918846Z",
     "iopub.status.busy": "2025-03-24T16:02:35.918503Z",
     "iopub.status.idle": "2025-03-24T16:02:35.922738Z",
     "shell.execute_reply": "2025-03-24T16:02:35.921886Z"
    },
    "id": "utSeMaEAdBmB",
    "outputId": "7eeb8e85-3cee-437e-90a1-008a2eee9fd3",
    "papermill": {
     "duration": 0.0147,
     "end_time": "2025-03-24T16:02:35.924161",
     "exception": false,
     "start_time": "2025-03-24T16:02:35.909461",
     "status": "completed"
    },
    "tags": []
   },
   "outputs": [],
   "source": [
    "def multicontrol_slice(wires_qls, wires_q):\n",
    "  for i in wires_q:\n",
    "    qml.MultiControlledX(wires=[*wires_qls,i])\n",
    "# print(qml.draw(multicontrol_slice)([12,13,14,15], [0,1,2,3]))"
   ]
  },
  {
   "cell_type": "code",
   "execution_count": 11,
   "id": "1743745c",
   "metadata": {
    "execution": {
     "iopub.execute_input": "2025-03-24T16:02:35.939709Z",
     "iopub.status.busy": "2025-03-24T16:02:35.939397Z",
     "iopub.status.idle": "2025-03-24T16:02:35.943817Z",
     "shell.execute_reply": "2025-03-24T16:02:35.943032Z"
    },
    "papermill": {
     "duration": 0.013717,
     "end_time": "2025-03-24T16:02:35.945257",
     "exception": false,
     "start_time": "2025-03-24T16:02:35.931540",
     "status": "completed"
    },
    "tags": []
   },
   "outputs": [],
   "source": [
    "def swap_test_layer(wires_1, wires_2, controll_wires):\n",
    "    qml.H(wires=controll_wires)\n",
    "    for w1, w2 in zip(wires_1, wires_2):\n",
    "        qml.CSWAP(wires=[controll_wires,w1,w2])\n",
    "    qml.H(wires=controll_wires)"
   ]
  },
  {
   "cell_type": "code",
   "execution_count": 12,
   "id": "47be86e5",
   "metadata": {
    "execution": {
     "iopub.execute_input": "2025-03-24T16:02:35.961137Z",
     "iopub.status.busy": "2025-03-24T16:02:35.960646Z",
     "iopub.status.idle": "2025-03-24T16:02:35.968310Z",
     "shell.execute_reply": "2025-03-24T16:02:35.967316Z"
    },
    "id": "UYCqcjbzdy_y",
    "papermill": {
     "duration": 0.017656,
     "end_time": "2025-03-24T16:02:35.969978",
     "exception": false,
     "start_time": "2025-03-24T16:02:35.952322",
     "status": "completed"
    },
    "tags": []
   },
   "outputs": [],
   "source": [
    "# define circuit and start train and implement\n",
    "@qml.qnode(dev)\n",
    "def full_circuit(x, weights,parameters, num_layers=1):\n",
    "  '''\n",
    "  weight = [theta_q, theta_k, theta_v]\n",
    "  3x4\n",
    "  theta_q: 4x1\n",
    "  theta_k: 4x1\n",
    "  theta_v: 4x1\n",
    "\n",
    "  '''\n",
    "  state_preparation(f=x)\n",
    "  # step 1: prepare Q\n",
    "  combine_unitary_embedding(number_layer=num_layers, theta_list=weights[0])\n",
    "  # step 2: swap Q and register\n",
    "  wires_1 = [0,1,2,3]\n",
    "  wires_2 = [4,5,6,7]\n",
    "  barbell_operation(wires_1, wires_2)\n",
    "\n",
    "  # step 3: prepare K\n",
    "  combine_unitary_embedding(number_layer=num_layers, theta_list=weights[1])\n",
    "\n",
    "  # step 4: swap K\n",
    "  wires_1 = [0,1,2,3]\n",
    "  wires_2 = [8,9,10,11]\n",
    "  barbell_operation(wires_1, wires_2)\n",
    "\n",
    "  # step 5: QLS Module\n",
    "  wires_control_1, wires_control_2, wires_result = [0,1,2,3], [4,5,6,7], [12,13,14,15]\n",
    "  QLS_module(wires_control_1, wires_control_2, wires_result)\n",
    "\n",
    "\n",
    "  #step 6: prepare V\n",
    "  combine_unitary_embedding(number_layer=num_layers, theta_list=weights[2])\n",
    "\n",
    "  # step 7: the entanglement compression operation\n",
    "  # do nothing if n == 1\n",
    "\n",
    "  # step 8: slicing operation\n",
    "  # step 8.2: swap test operation\n",
    "  # wires_qls, wires_q = [12,13,14,15], [0,1,2,3]\n",
    "  # controll_qubit = 16\n",
    "  # swap_test_layer(wires_qls, wires_q, controll_qubit)\n",
    "  # step8.3: another QNN\n",
    "  qml.StronglyEntanglingLayers(weights=parameters, wires=range(8))\n",
    "  # step 9: meseaurement\n",
    "  observable = qml.PauliZ(0)\n",
    "  return qml.expval(observable)"
   ]
  },
  {
   "cell_type": "code",
   "execution_count": 13,
   "id": "b1248be2",
   "metadata": {
    "execution": {
     "iopub.execute_input": "2025-03-24T16:02:35.986088Z",
     "iopub.status.busy": "2025-03-24T16:02:35.985646Z",
     "iopub.status.idle": "2025-03-24T16:02:35.993304Z",
     "shell.execute_reply": "2025-03-24T16:02:35.992155Z"
    },
    "papermill": {
     "duration": 0.017537,
     "end_time": "2025-03-24T16:02:35.994768",
     "exception": false,
     "start_time": "2025-03-24T16:02:35.977231",
     "status": "completed"
    },
    "tags": []
   },
   "outputs": [
    {
     "name": "stdout",
     "output_type": "stream",
     "text": [
      "(16, 8, 3)\n"
     ]
    }
   ],
   "source": [
    "# test circuit\n",
    "shape = qml.StronglyEntanglingLayers.shape(n_layers=16, n_wires=8)\n",
    "parameters = np.random.random(size=shape)\n",
    "print(parameters.shape)\n",
    "n_layers = 1\n",
    "weights = 0.01 * np.random.randn(3,n_layers,4, requires_grad=True)\n",
    "params = (weights, parameters)"
   ]
  },
  {
   "cell_type": "code",
   "execution_count": 14,
   "id": "6c6454b4",
   "metadata": {
    "execution": {
     "iopub.execute_input": "2025-03-24T16:02:36.010420Z",
     "iopub.status.busy": "2025-03-24T16:02:36.010053Z",
     "iopub.status.idle": "2025-03-24T16:02:36.014246Z",
     "shell.execute_reply": "2025-03-24T16:02:36.013218Z"
    },
    "papermill": {
     "duration": 0.013688,
     "end_time": "2025-03-24T16:02:36.015717",
     "exception": false,
     "start_time": "2025-03-24T16:02:36.002029",
     "status": "completed"
    },
    "tags": []
   },
   "outputs": [],
   "source": [
    "X_batch = X\n",
    "Y_batch = Y\n",
    "X_test_batch = X_test\n",
    "Y_test_batch = Y_test"
   ]
  },
  {
   "cell_type": "markdown",
   "id": "1bc3d46d",
   "metadata": {
    "id": "nxeZNr8QqsNy",
    "papermill": {
     "duration": 0.006846,
     "end_time": "2025-03-24T16:02:36.029654",
     "exception": false,
     "start_time": "2025-03-24T16:02:36.022808",
     "status": "completed"
    },
    "tags": []
   },
   "source": [
    "<h1> Cost Function and Opimizer </h1>"
   ]
  },
  {
   "cell_type": "code",
   "execution_count": 15,
   "id": "fcd15b1f",
   "metadata": {
    "execution": {
     "iopub.execute_input": "2025-03-24T16:02:36.045086Z",
     "iopub.status.busy": "2025-03-24T16:02:36.044624Z",
     "iopub.status.idle": "2025-03-24T16:02:36.051053Z",
     "shell.execute_reply": "2025-03-24T16:02:36.050028Z"
    },
    "id": "rKOPEtF0iKhj",
    "papermill": {
     "duration": 0.015911,
     "end_time": "2025-03-24T16:02:36.052532",
     "exception": false,
     "start_time": "2025-03-24T16:02:36.036621",
     "status": "completed"
    },
    "tags": []
   },
   "outputs": [],
   "source": [
    "def accuracy(labels, predictions):\n",
    "    acc = sum(abs(l - p) < 1e-5 for l, p in zip(labels, predictions))\n",
    "    acc = acc / len(labels)\n",
    "    return acc\n",
    "    \n",
    "def cost(*args, **kwargs):\n",
    "    # Extract the parameters and data from *args and **kwargs\n",
    "    weights = args[0]  # Assuming the first argument is the parameters (usually a NumPy array)\n",
    "    parameters = args[1]\n",
    "    X = kwargs.get('X', None)  # Get X from kwargs, default to None if not provided\n",
    "    Y = kwargs.get('Y', None)  # Get Y from kwargs, default to None if not provided\n",
    "    predictions = [full_circuit(x=x, weights=weights,parameters=parameters) for x in X]\n",
    "    return np.mean((Y - qml.math.stack(predictions)) ** 2)"
   ]
  },
  {
   "cell_type": "code",
   "execution_count": 16,
   "id": "a48fc85c",
   "metadata": {
    "execution": {
     "iopub.execute_input": "2025-03-24T16:02:36.068710Z",
     "iopub.status.busy": "2025-03-24T16:02:36.068255Z",
     "iopub.status.idle": "2025-03-24T16:02:36.073855Z",
     "shell.execute_reply": "2025-03-24T16:02:36.072634Z"
    },
    "papermill": {
     "duration": 0.015964,
     "end_time": "2025-03-24T16:02:36.075769",
     "exception": false,
     "start_time": "2025-03-24T16:02:36.059805",
     "status": "completed"
    },
    "tags": []
   },
   "outputs": [
    {
     "name": "stdout",
     "output_type": "stream",
     "text": [
      "50\n",
      "50\n",
      "30\n",
      "30\n"
     ]
    }
   ],
   "source": [
    "print(len(X))\n",
    "print(len(Y))\n",
    "print(len(X_test))\n",
    "print(len(Y_test))"
   ]
  },
  {
   "cell_type": "code",
   "execution_count": 17,
   "id": "d27a7171",
   "metadata": {
    "execution": {
     "iopub.execute_input": "2025-03-24T16:02:36.091876Z",
     "iopub.status.busy": "2025-03-24T16:02:36.091527Z",
     "iopub.status.idle": "2025-03-24T16:02:36.099259Z",
     "shell.execute_reply": "2025-03-24T16:02:36.098024Z"
    },
    "papermill": {
     "duration": 0.017675,
     "end_time": "2025-03-24T16:02:36.101024",
     "exception": false,
     "start_time": "2025-03-24T16:02:36.083349",
     "status": "completed"
    },
    "tags": []
   },
   "outputs": [],
   "source": [
    "import matplotlib.pyplot as plt\n",
    "def draw_result(current_cost_list,acc_list,test_acc_list,epoch,lrate,n_layers=1):\n",
    "    fig, axs = plt.subplots(3, 1, figsize=(12, 10))\n",
    "    axs[0].plot(epoch, current_cost_list,label=f'loss_{lrate}')\n",
    "    axs[0].set_title(f'Loss {n_layers}')\n",
    "    axs[0].set_xlabel('Epoch')  # Set x-axis label\n",
    "    axs[0].set_ylabel('Cost Function')  # Set y-axis label\n",
    "    axs[0].legend()\n",
    "    axs[1].plot(epoch, acc_list, label=f'train_acc_{lrate}')\n",
    "    axs[1].set_title(f'Train acc {n_layers}')\n",
    "    axs[1].set_xlabel('Epoch')  # Set x-axis label\n",
    "    axs[1].set_ylabel('Train Accuraccy')  # Set y-axis label\n",
    "    axs[1].legend()\n",
    "    axs[2].plot(epoch, test_acc_list,label=f'test_acc_{lrate}')\n",
    "    axs[2].set_title(f'Test acc {n_layers}')\n",
    "    axs[2].set_xlabel('Epoch')  # Set x-axis label\n",
    "    axs[2].set_ylabel('Test Accuraccy')  # Set y-axis label\n",
    "    axs[2].legend()\n",
    "    fig.subplots_adjust(hspace=0.5)\n",
    "    fig.tight_layout()\n",
    "    plt.show()\n",
    "    fig.savefig(f\"/kaggle/working/chart_nlayer{n_layers}_lrate{lrate}.png\")"
   ]
  },
  {
   "cell_type": "code",
   "execution_count": 18,
   "id": "9217ba9a",
   "metadata": {
    "execution": {
     "iopub.execute_input": "2025-03-24T16:02:36.117010Z",
     "iopub.status.busy": "2025-03-24T16:02:36.116627Z",
     "iopub.status.idle": "2025-03-24T16:02:36.122370Z",
     "shell.execute_reply": "2025-03-24T16:02:36.121355Z"
    },
    "papermill": {
     "duration": 0.015337,
     "end_time": "2025-03-24T16:02:36.124057",
     "exception": false,
     "start_time": "2025-03-24T16:02:36.108720",
     "status": "completed"
    },
    "tags": []
   },
   "outputs": [],
   "source": [
    "def make_drop_out_parameter(parameter, drop_rate):\n",
    "    '''\n",
    "    caculate gradient based on dropped gate\n",
    "    update gradient without dropped gate\n",
    "    update on true parameter\n",
    "    '''\n",
    "    param_shape = parameter.shape\n",
    "    total_elem = param_shape[0] * param_shape[1]\n",
    "    num_selected = int(drop_rate * total_elem)  # 30% of 64 = 19\n",
    "    \n",
    "    # Flatten the matrix, randomly select 19 indices\n",
    "    flat_indices = np.random.choice(total_elem, num_selected, replace=False)\n",
    "    \n",
    "    # Create a mask of zeros and set selected positions to 1\n",
    "    index_matrix = np.zeros(total_elem, dtype=bool)\n",
    "    index_matrix[flat_indices] = True\n",
    "    index_matrix = index_matrix.reshape(param_shape[0], param_shape[1])  # Reshape back to 8×8\n",
    "    masked_matrix = np.ones(param_shape, dtype=int)  # Initialize with zeros\n",
    "    masked_matrix[index_matrix,:] = 0  # Set every second row to 1\n",
    "    dropped_param = parameter * masked_matrix\n",
    "    return dropped_param, masked_matrix"
   ]
  },
  {
   "cell_type": "code",
   "execution_count": 19,
   "id": "f8d23302",
   "metadata": {
    "execution": {
     "iopub.execute_input": "2025-03-24T16:02:36.139456Z",
     "iopub.status.busy": "2025-03-24T16:02:36.139090Z",
     "iopub.status.idle": "2025-03-24T16:02:36.147006Z",
     "shell.execute_reply": "2025-03-24T16:02:36.146007Z"
    },
    "papermill": {
     "duration": 0.017262,
     "end_time": "2025-03-24T16:02:36.148510",
     "exception": false,
     "start_time": "2025-03-24T16:02:36.131248",
     "status": "completed"
    },
    "tags": []
   },
   "outputs": [
    {
     "data": {
      "text/plain": [
       "tensor([[[-4.40652118e-05, -4.17676563e-04, -4.35259408e-03,\n",
       "          -1.34480243e-02]],\n",
       "\n",
       "        [[ 2.01270017e-02, -1.85675378e-02, -5.11539777e-03,\n",
       "          -2.32095396e-03]],\n",
       "\n",
       "        [[-1.87243571e-02,  1.01136536e-02,  1.50174108e-02,\n",
       "          -1.72254655e-02]]], requires_grad=True)"
      ]
     },
     "execution_count": 19,
     "metadata": {},
     "output_type": "execute_result"
    }
   ],
   "source": [
    "params[0]"
   ]
  },
  {
   "cell_type": "code",
   "execution_count": 20,
   "id": "df35efd1",
   "metadata": {
    "execution": {
     "iopub.execute_input": "2025-03-24T16:02:36.164524Z",
     "iopub.status.busy": "2025-03-24T16:02:36.164149Z",
     "iopub.status.idle": "2025-03-24T16:02:54.857563Z",
     "shell.execute_reply": "2025-03-24T16:02:54.856446Z"
    },
    "papermill": {
     "duration": 18.703774,
     "end_time": "2025-03-24T16:02:54.859632",
     "exception": false,
     "start_time": "2025-03-24T16:02:36.155858",
     "status": "completed"
    },
    "tags": []
   },
   "outputs": [],
   "source": [
    "current_cost = cost(params[0],params[1], X=X, Y=Y)"
   ]
  },
  {
   "cell_type": "code",
   "execution_count": 21,
   "id": "b5499b6f",
   "metadata": {
    "execution": {
     "iopub.execute_input": "2025-03-24T16:02:54.876327Z",
     "iopub.status.busy": "2025-03-24T16:02:54.875927Z",
     "iopub.status.idle": "2025-03-24T21:23:51.582833Z",
     "shell.execute_reply": "2025-03-24T21:23:51.581395Z"
    },
    "id": "GPXyMxbnsbXv",
    "outputId": "918de71a-c54e-4f74-d877-f6b1bb0e6aed",
    "papermill": {
     "duration": 19256.71782,
     "end_time": "2025-03-24T21:23:51.585304",
     "exception": false,
     "start_time": "2025-03-24T16:02:54.867484",
     "status": "completed"
    },
    "tags": []
   },
   "outputs": [
    {
     "name": "stdout",
     "output_type": "stream",
     "text": [
      "number layers of strong eng: 15\n",
      "(15, 8, 3)\n",
      "Iter:    1 | Cost: 0.9961124 | Accuracy: 0.5200000 | Test Accuracy: 0.4666667 | Run Time: 136.7115290\n",
      "Iter:    2 | Cost: 0.9828221 | Accuracy: 0.6600000 | Test Accuracy: 0.6000000 | Run Time: 127.3323801\n",
      "Iter:    3 | Cost: 0.9651412 | Accuracy: 0.8200000 | Test Accuracy: 0.5666667 | Run Time: 127.4103951\n",
      "Iter:    4 | Cost: 0.9455044 | Accuracy: 0.8200000 | Test Accuracy: 0.5666667 | Run Time: 128.4057143\n",
      "Iter:    5 | Cost: 0.9267092 | Accuracy: 0.8400000 | Test Accuracy: 0.5333333 | Run Time: 130.5373886\n",
      "Iter:    6 | Cost: 0.9110177 | Accuracy: 0.8400000 | Test Accuracy: 0.5333333 | Run Time: 127.0287724\n",
      "Iter:    7 | Cost: 0.8993114 | Accuracy: 0.8600000 | Test Accuracy: 0.5333333 | Run Time: 130.7796218\n",
      "Iter:    8 | Cost: 0.8910324 | Accuracy: 0.8600000 | Test Accuracy: 0.5333333 | Run Time: 131.0806594\n",
      "Iter:    9 | Cost: 0.8848998 | Accuracy: 0.8800000 | Test Accuracy: 0.5000000 | Run Time: 127.8110251\n",
      "Iter:   10 | Cost: 0.8796667 | Accuracy: 0.9000000 | Test Accuracy: 0.4666667 | Run Time: 129.0777485\n",
      "Iter:   11 | Cost: 0.8744707 | Accuracy: 0.8800000 | Test Accuracy: 0.5000000 | Run Time: 129.2924926\n",
      "Iter:   12 | Cost: 0.8688748 | Accuracy: 0.8800000 | Test Accuracy: 0.5000000 | Run Time: 127.8885133\n",
      "Iter:   13 | Cost: 0.8627988 | Accuracy: 0.8800000 | Test Accuracy: 0.5000000 | Run Time: 129.5071030\n",
      "Iter:   14 | Cost: 0.8564187 | Accuracy: 0.8800000 | Test Accuracy: 0.5000000 | Run Time: 129.8451500\n",
      "Iter:   15 | Cost: 0.8500485 | Accuracy: 0.9000000 | Test Accuracy: 0.5000000 | Run Time: 128.1731753\n",
      "Iter:   16 | Cost: 0.8440214 | Accuracy: 0.9000000 | Test Accuracy: 0.5000000 | Run Time: 130.1357934\n",
      "Iter:   17 | Cost: 0.8385939 | Accuracy: 0.9000000 | Test Accuracy: 0.5000000 | Run Time: 128.5263596\n",
      "Iter:   18 | Cost: 0.8338938 | Accuracy: 0.9000000 | Test Accuracy: 0.5000000 | Run Time: 127.8367541\n",
      "Iter:   19 | Cost: 0.8299183 | Accuracy: 0.9000000 | Test Accuracy: 0.5000000 | Run Time: 128.6446850\n",
      "Iter:   20 | Cost: 0.8265733 | Accuracy: 0.9000000 | Test Accuracy: 0.5000000 | Run Time: 127.5750308\n",
      "Iter:   21 | Cost: 0.8237216 | Accuracy: 0.9000000 | Test Accuracy: 0.5333333 | Run Time: 127.6008146\n",
      "Iter:   22 | Cost: 0.8212179 | Accuracy: 0.9200000 | Test Accuracy: 0.5666667 | Run Time: 130.2450118\n",
      "Iter:   23 | Cost: 0.8189218 | Accuracy: 0.9200000 | Test Accuracy: 0.5666667 | Run Time: 130.5875258\n",
      "Iter:   24 | Cost: 0.8167077 | Accuracy: 0.9200000 | Test Accuracy: 0.5666667 | Run Time: 130.7138112\n",
      "Iter:   25 | Cost: 0.8144808 | Accuracy: 0.9200000 | Test Accuracy: 0.5666667 | Run Time: 127.8267610\n",
      "Iter:   26 | Cost: 0.8121966 | Accuracy: 0.9200000 | Test Accuracy: 0.5666667 | Run Time: 129.3775609\n",
      "Iter:   27 | Cost: 0.8098666 | Accuracy: 0.9200000 | Test Accuracy: 0.5666667 | Run Time: 129.1893744\n",
      "Iter:   28 | Cost: 0.8075445 | Accuracy: 0.9200000 | Test Accuracy: 0.5666667 | Run Time: 127.7163608\n",
      "Iter:   29 | Cost: 0.8052990 | Accuracy: 0.9200000 | Test Accuracy: 0.5666667 | Run Time: 128.3592131\n",
      "Iter:   30 | Cost: 0.8031859 | Accuracy: 0.9200000 | Test Accuracy: 0.5666667 | Run Time: 127.3559117\n",
      "Iter:   31 | Cost: 0.8012332 | Accuracy: 0.9200000 | Test Accuracy: 0.5666667 | Run Time: 128.7994089\n",
      "Iter:   32 | Cost: 0.7994392 | Accuracy: 0.9200000 | Test Accuracy: 0.5666667 | Run Time: 128.7173595\n",
      "Iter:   33 | Cost: 0.7977804 | Accuracy: 0.9200000 | Test Accuracy: 0.5666667 | Run Time: 126.5075181\n",
      "Iter:   34 | Cost: 0.7962234 | Accuracy: 0.9200000 | Test Accuracy: 0.5666667 | Run Time: 129.6990390\n",
      "Iter:   35 | Cost: 0.7947336 | Accuracy: 0.9200000 | Test Accuracy: 0.5666667 | Run Time: 130.8167002\n",
      "Iter:   36 | Cost: 0.7932808 | Accuracy: 0.9200000 | Test Accuracy: 0.5666667 | Run Time: 126.9042618\n",
      "Iter:   37 | Cost: 0.7918412 | Accuracy: 0.9200000 | Test Accuracy: 0.5666667 | Run Time: 129.2664816\n",
      "Iter:   38 | Cost: 0.7903977 | Accuracy: 0.9200000 | Test Accuracy: 0.5666667 | Run Time: 129.6900628\n",
      "Iter:   39 | Cost: 0.7889381 | Accuracy: 0.9200000 | Test Accuracy: 0.5666667 | Run Time: 129.0430095\n",
      "Iter:   40 | Cost: 0.7874540 | Accuracy: 0.9200000 | Test Accuracy: 0.5666667 | Run Time: 130.7871153\n",
      "Iter:   41 | Cost: 0.7859400 | Accuracy: 0.9200000 | Test Accuracy: 0.5666667 | Run Time: 129.3505423\n",
      "Iter:   42 | Cost: 0.7843945 | Accuracy: 0.9200000 | Test Accuracy: 0.5666667 | Run Time: 127.7396181\n",
      "Iter:   43 | Cost: 0.7828197 | Accuracy: 0.9200000 | Test Accuracy: 0.5666667 | Run Time: 128.6011674\n",
      "Iter:   44 | Cost: 0.7812221 | Accuracy: 0.9200000 | Test Accuracy: 0.5666667 | Run Time: 130.2324510\n",
      "Iter:   45 | Cost: 0.7796113 | Accuracy: 0.9200000 | Test Accuracy: 0.5666667 | Run Time: 126.7034461\n",
      "Iter:   46 | Cost: 0.7779989 | Accuracy: 0.9200000 | Test Accuracy: 0.5666667 | Run Time: 127.3079004\n",
      "Iter:   47 | Cost: 0.7763975 | Accuracy: 0.9200000 | Test Accuracy: 0.5666667 | Run Time: 126.6454475\n",
      "Iter:   48 | Cost: 0.7748205 | Accuracy: 0.9200000 | Test Accuracy: 0.5666667 | Run Time: 127.0403218\n",
      "Iter:   49 | Cost: 0.7732820 | Accuracy: 0.9200000 | Test Accuracy: 0.5666667 | Run Time: 127.5552442\n",
      "Iter:   50 | Cost: 0.7717972 | Accuracy: 0.9200000 | Test Accuracy: 0.5666667 | Run Time: 127.2535918\n",
      "Iter:   51 | Cost: 0.7703817 | Accuracy: 0.9200000 | Test Accuracy: 0.5666667 | Run Time: 126.6455648\n",
      "Iter:   52 | Cost: 0.7690502 | Accuracy: 0.9200000 | Test Accuracy: 0.5666667 | Run Time: 126.9581184\n",
      "Iter:   53 | Cost: 0.7678154 | Accuracy: 0.9200000 | Test Accuracy: 0.5666667 | Run Time: 127.6901169\n",
      "Iter:   54 | Cost: 0.7666860 | Accuracy: 0.9200000 | Test Accuracy: 0.5666667 | Run Time: 126.1709986\n",
      "Iter:   55 | Cost: 0.7656655 | Accuracy: 0.9200000 | Test Accuracy: 0.5666667 | Run Time: 127.7099731\n",
      "Iter:   56 | Cost: 0.7647522 | Accuracy: 0.9200000 | Test Accuracy: 0.5666667 | Run Time: 127.9928012\n",
      "Iter:   57 | Cost: 0.7639389 | Accuracy: 0.9200000 | Test Accuracy: 0.5666667 | Run Time: 129.9124026\n",
      "Iter:   58 | Cost: 0.7632143 | Accuracy: 0.9200000 | Test Accuracy: 0.5666667 | Run Time: 125.5742302\n",
      "Iter:   59 | Cost: 0.7625643 | Accuracy: 0.9200000 | Test Accuracy: 0.5666667 | Run Time: 126.6638715\n",
      "Iter:   60 | Cost: 0.7619733 | Accuracy: 0.9200000 | Test Accuracy: 0.5666667 | Run Time: 128.4645507\n",
      "Iter:   61 | Cost: 0.7614257 | Accuracy: 0.9200000 | Test Accuracy: 0.5666667 | Run Time: 127.2770569\n",
      "Iter:   62 | Cost: 0.7609069 | Accuracy: 0.9200000 | Test Accuracy: 0.5666667 | Run Time: 127.7618420\n",
      "Iter:   63 | Cost: 0.7604047 | Accuracy: 0.9200000 | Test Accuracy: 0.5666667 | Run Time: 130.4674828\n",
      "Iter:   64 | Cost: 0.7599090 | Accuracy: 0.9200000 | Test Accuracy: 0.5666667 | Run Time: 128.0249522\n",
      "Iter:   65 | Cost: 0.7594131 | Accuracy: 0.9200000 | Test Accuracy: 0.5666667 | Run Time: 129.0008104\n",
      "Iter:   66 | Cost: 0.7589127 | Accuracy: 0.9200000 | Test Accuracy: 0.5666667 | Run Time: 129.8545072\n",
      "Iter:   67 | Cost: 0.7584059 | Accuracy: 0.9200000 | Test Accuracy: 0.5666667 | Run Time: 128.9715743\n",
      "Iter:   68 | Cost: 0.7578929 | Accuracy: 0.9200000 | Test Accuracy: 0.5666667 | Run Time: 127.6388969\n",
      "Iter:   69 | Cost: 0.7573750 | Accuracy: 0.9200000 | Test Accuracy: 0.5666667 | Run Time: 128.9666390\n",
      "Iter:   70 | Cost: 0.7568543 | Accuracy: 0.9200000 | Test Accuracy: 0.5666667 | Run Time: 129.2288122\n",
      "Iter:   71 | Cost: 0.7563336 | Accuracy: 0.9200000 | Test Accuracy: 0.5666667 | Run Time: 130.4596946\n",
      "Iter:   72 | Cost: 0.7558154 | Accuracy: 0.9200000 | Test Accuracy: 0.5666667 | Run Time: 127.8654375\n",
      "Iter:   73 | Cost: 0.7553021 | Accuracy: 0.9200000 | Test Accuracy: 0.5666667 | Run Time: 129.1935494\n",
      "Iter:   74 | Cost: 0.7547957 | Accuracy: 0.9200000 | Test Accuracy: 0.5666667 | Run Time: 129.5423636\n",
      "Iter:   75 | Cost: 0.7542980 | Accuracy: 0.9200000 | Test Accuracy: 0.5666667 | Run Time: 127.7579215\n",
      "Iter:   76 | Cost: 0.7538099 | Accuracy: 0.9200000 | Test Accuracy: 0.5666667 | Run Time: 129.4807293\n",
      "Iter:   77 | Cost: 0.7533321 | Accuracy: 0.9200000 | Test Accuracy: 0.5666667 | Run Time: 130.6929271\n",
      "Iter:   78 | Cost: 0.7528647 | Accuracy: 0.9200000 | Test Accuracy: 0.5666667 | Run Time: 129.1979520\n",
      "Iter:   79 | Cost: 0.7524076 | Accuracy: 0.9200000 | Test Accuracy: 0.5666667 | Run Time: 127.1465764\n",
      "Iter:   80 | Cost: 0.7519604 | Accuracy: 0.9200000 | Test Accuracy: 0.5666667 | Run Time: 128.0209572\n",
      "Iter:   81 | Cost: 0.7515227 | Accuracy: 0.9200000 | Test Accuracy: 0.5666667 | Run Time: 128.1833818\n",
      "Iter:   82 | Cost: 0.7510937 | Accuracy: 0.9200000 | Test Accuracy: 0.5666667 | Run Time: 131.2079716\n",
      "Iter:   83 | Cost: 0.7506732 | Accuracy: 0.9200000 | Test Accuracy: 0.5666667 | Run Time: 128.3887756\n",
      "Iter:   84 | Cost: 0.7502607 | Accuracy: 0.9200000 | Test Accuracy: 0.5666667 | Run Time: 127.6979480\n",
      "Iter:   85 | Cost: 0.7498560 | Accuracy: 0.9200000 | Test Accuracy: 0.5666667 | Run Time: 129.3880463\n",
      "Iter:   86 | Cost: 0.7494587 | Accuracy: 0.9200000 | Test Accuracy: 0.5666667 | Run Time: 127.6242092\n",
      "Iter:   87 | Cost: 0.7490687 | Accuracy: 0.9200000 | Test Accuracy: 0.5666667 | Run Time: 127.7705662\n",
      "Iter:   88 | Cost: 0.7486857 | Accuracy: 0.9200000 | Test Accuracy: 0.5666667 | Run Time: 128.6468213\n",
      "Iter:   89 | Cost: 0.7483096 | Accuracy: 0.9200000 | Test Accuracy: 0.5666667 | Run Time: 128.8097110\n",
      "Iter:   90 | Cost: 0.7479401 | Accuracy: 0.9200000 | Test Accuracy: 0.5666667 | Run Time: 128.6575487\n",
      "Iter:   91 | Cost: 0.7475770 | Accuracy: 0.9200000 | Test Accuracy: 0.5666667 | Run Time: 129.0610168\n",
      "Iter:   92 | Cost: 0.7472198 | Accuracy: 0.9200000 | Test Accuracy: 0.5666667 | Run Time: 128.7161100\n",
      "Iter:   93 | Cost: 0.7468684 | Accuracy: 0.9200000 | Test Accuracy: 0.5666667 | Run Time: 127.1367347\n",
      "Iter:   94 | Cost: 0.7465225 | Accuracy: 0.9200000 | Test Accuracy: 0.5666667 | Run Time: 129.1182342\n",
      "Iter:   95 | Cost: 0.7461821 | Accuracy: 0.9200000 | Test Accuracy: 0.5666667 | Run Time: 128.1697092\n",
      "Iter:   96 | Cost: 0.7458472 | Accuracy: 0.9200000 | Test Accuracy: 0.5666667 | Run Time: 128.6760392\n",
      "Iter:   97 | Cost: 0.7455178 | Accuracy: 0.9200000 | Test Accuracy: 0.5666667 | Run Time: 130.0663600\n",
      "Iter:   98 | Cost: 0.7451941 | Accuracy: 0.9200000 | Test Accuracy: 0.5666667 | Run Time: 128.1255097\n",
      "Iter:   99 | Cost: 0.7448764 | Accuracy: 0.9200000 | Test Accuracy: 0.5666667 | Run Time: 130.8931570\n",
      "Iter:  100 | Cost: 0.7445648 | Accuracy: 0.9200000 | Test Accuracy: 0.5666667 | Run Time: 128.1759019\n",
      "Iter:  101 | Cost: 0.7442598 | Accuracy: 0.9200000 | Test Accuracy: 0.5666667 | Run Time: 126.6295519\n",
      "Iter:  102 | Cost: 0.7439614 | Accuracy: 0.9200000 | Test Accuracy: 0.5666667 | Run Time: 127.7879598\n",
      "Iter:  103 | Cost: 0.7436699 | Accuracy: 0.9200000 | Test Accuracy: 0.5666667 | Run Time: 128.0321929\n",
      "Iter:  104 | Cost: 0.7433853 | Accuracy: 0.9200000 | Test Accuracy: 0.5666667 | Run Time: 128.4086437\n",
      "Iter:  105 | Cost: 0.7431075 | Accuracy: 0.9200000 | Test Accuracy: 0.5666667 | Run Time: 128.7440417\n",
      "Iter:  106 | Cost: 0.7428365 | Accuracy: 0.9200000 | Test Accuracy: 0.5666667 | Run Time: 127.5599270\n",
      "Iter:  107 | Cost: 0.7425719 | Accuracy: 0.9200000 | Test Accuracy: 0.5666667 | Run Time: 126.7640197\n",
      "Iter:  108 | Cost: 0.7423136 | Accuracy: 0.9200000 | Test Accuracy: 0.5666667 | Run Time: 127.7676537\n",
      "Iter:  109 | Cost: 0.7420611 | Accuracy: 0.9200000 | Test Accuracy: 0.5666667 | Run Time: 128.6690385\n",
      "Iter:  110 | Cost: 0.7418139 | Accuracy: 0.9200000 | Test Accuracy: 0.5666667 | Run Time: 128.2568772\n",
      "Iter:  111 | Cost: 0.7415718 | Accuracy: 0.9200000 | Test Accuracy: 0.5666667 | Run Time: 127.3133605\n",
      "Iter:  112 | Cost: 0.7413342 | Accuracy: 0.9200000 | Test Accuracy: 0.5666667 | Run Time: 128.6993163\n",
      "Iter:  113 | Cost: 0.7411008 | Accuracy: 0.9200000 | Test Accuracy: 0.5666667 | Run Time: 129.0700703\n",
      "Iter:  114 | Cost: 0.7408712 | Accuracy: 0.9200000 | Test Accuracy: 0.5666667 | Run Time: 126.1417701\n",
      "Iter:  115 | Cost: 0.7406452 | Accuracy: 0.9200000 | Test Accuracy: 0.5666667 | Run Time: 126.3187404\n",
      "Iter:  116 | Cost: 0.7404224 | Accuracy: 0.9200000 | Test Accuracy: 0.5666667 | Run Time: 127.3212502\n",
      "Iter:  117 | Cost: 0.7402026 | Accuracy: 0.9200000 | Test Accuracy: 0.5666667 | Run Time: 127.5669823\n",
      "Iter:  118 | Cost: 0.7399857 | Accuracy: 0.9200000 | Test Accuracy: 0.5666667 | Run Time: 127.5730028\n",
      "Iter:  119 | Cost: 0.7397714 | Accuracy: 0.9200000 | Test Accuracy: 0.5666667 | Run Time: 127.3467453\n",
      "Iter:  120 | Cost: 0.7395597 | Accuracy: 0.9200000 | Test Accuracy: 0.5666667 | Run Time: 127.0192690\n",
      "Iter:  121 | Cost: 0.7393503 | Accuracy: 0.9200000 | Test Accuracy: 0.5666667 | Run Time: 126.7985725\n",
      "Iter:  122 | Cost: 0.7391433 | Accuracy: 0.9200000 | Test Accuracy: 0.5666667 | Run Time: 127.6460860\n",
      "Iter:  123 | Cost: 0.7389383 | Accuracy: 0.9200000 | Test Accuracy: 0.5666667 | Run Time: 126.7287884\n",
      "Iter:  124 | Cost: 0.7387354 | Accuracy: 0.9200000 | Test Accuracy: 0.5666667 | Run Time: 127.8592031\n",
      "Iter:  125 | Cost: 0.7385343 | Accuracy: 0.9200000 | Test Accuracy: 0.5666667 | Run Time: 127.8176873\n",
      "Iter:  126 | Cost: 0.7383349 | Accuracy: 0.9200000 | Test Accuracy: 0.5666667 | Run Time: 127.6730494\n",
      "Iter:  127 | Cost: 0.7381372 | Accuracy: 0.9200000 | Test Accuracy: 0.5666667 | Run Time: 129.2460427\n",
      "Iter:  128 | Cost: 0.7379409 | Accuracy: 0.9200000 | Test Accuracy: 0.5666667 | Run Time: 126.7703435\n",
      "Iter:  129 | Cost: 0.7377458 | Accuracy: 0.9200000 | Test Accuracy: 0.5666667 | Run Time: 129.0338087\n",
      "Iter:  130 | Cost: 0.7375520 | Accuracy: 0.9200000 | Test Accuracy: 0.5666667 | Run Time: 128.7134101\n",
      "Iter:  131 | Cost: 0.7373592 | Accuracy: 0.9200000 | Test Accuracy: 0.5666667 | Run Time: 128.1921990\n",
      "Iter:  132 | Cost: 0.7371673 | Accuracy: 0.9200000 | Test Accuracy: 0.5666667 | Run Time: 128.4928679\n",
      "Iter:  133 | Cost: 0.7369763 | Accuracy: 0.9200000 | Test Accuracy: 0.5666667 | Run Time: 128.6115284\n",
      "Iter:  134 | Cost: 0.7367860 | Accuracy: 0.9200000 | Test Accuracy: 0.5666667 | Run Time: 126.6812549\n",
      "Iter:  135 | Cost: 0.7365965 | Accuracy: 0.9200000 | Test Accuracy: 0.5666667 | Run Time: 129.6776831\n",
      "Iter:  136 | Cost: 0.7364077 | Accuracy: 0.9200000 | Test Accuracy: 0.5666667 | Run Time: 129.2955639\n",
      "Iter:  137 | Cost: 0.7362196 | Accuracy: 0.9200000 | Test Accuracy: 0.5666667 | Run Time: 128.1645913\n",
      "Iter:  138 | Cost: 0.7360322 | Accuracy: 0.9200000 | Test Accuracy: 0.5666667 | Run Time: 128.7247238\n",
      "Iter:  139 | Cost: 0.7358457 | Accuracy: 0.9200000 | Test Accuracy: 0.5666667 | Run Time: 128.0446258\n",
      "Iter:  140 | Cost: 0.7356601 | Accuracy: 0.9200000 | Test Accuracy: 0.5666667 | Run Time: 128.8466008\n",
      "Iter:  141 | Cost: 0.7354754 | Accuracy: 0.9200000 | Test Accuracy: 0.5666667 | Run Time: 126.5158312\n",
      "Iter:  142 | Cost: 0.7352920 | Accuracy: 0.9200000 | Test Accuracy: 0.5666667 | Run Time: 127.0607102\n",
      "Iter:  143 | Cost: 0.7351098 | Accuracy: 0.9200000 | Test Accuracy: 0.5666667 | Run Time: 127.7632661\n",
      "Iter:  144 | Cost: 0.7349290 | Accuracy: 0.9200000 | Test Accuracy: 0.5666667 | Run Time: 127.0907478\n",
      "Iter:  145 | Cost: 0.7347499 | Accuracy: 0.9200000 | Test Accuracy: 0.5666667 | Run Time: 127.8086216\n",
      "Iter:  146 | Cost: 0.7345726 | Accuracy: 0.9200000 | Test Accuracy: 0.5666667 | Run Time: 128.5212429\n",
      "Iter:  147 | Cost: 0.7343972 | Accuracy: 0.9200000 | Test Accuracy: 0.5666667 | Run Time: 127.2178586\n",
      "Iter:  148 | Cost: 0.7342239 | Accuracy: 0.9200000 | Test Accuracy: 0.5666667 | Run Time: 128.4156692\n",
      "Iter:  149 | Cost: 0.7340530 | Accuracy: 0.9200000 | Test Accuracy: 0.5666667 | Run Time: 127.2159774\n",
      "Iter:  150 | Cost: 0.7338844 | Accuracy: 0.9200000 | Test Accuracy: 0.5666667 | Run Time: 125.8425822\n"
     ]
    },
    {
     "data": {
      "image/png": "[encoded data removed]",
      "text/plain": [
       "<Figure size 1200x1000 with 3 Axes>"
      ]
     },
     "metadata": {},
     "output_type": "display_data"
    },
    {
     "name": "stdout",
     "output_type": "stream",
     "text": [
      "[[[-0.45204913 -0.19069141  0.73642831 -0.27094403]]\n",
      "\n",
      " [[-0.00836638 -0.01420228 -0.00222053 -0.00397674]]\n",
      "\n",
      " [[-0.12742717 -0.0306152  -0.14168765 -0.03647484]]]\n"
     ]
    }
   ],
   "source": [
    "import time\n",
    "learning_rate = [0.5]\n",
    "num_layers = [15]\n",
    "for strong_eng_layers in num_layers:\n",
    "    lrate = 0.5\n",
    "    print(\"number layers of strong eng:\", strong_eng_layers)\n",
    "    # test circuit\n",
    "    shape = qml.StronglyEntanglingLayers.shape(n_layers=strong_eng_layers, n_wires=8)\n",
    "    parameters = np.random.random(size=shape)\n",
    "    print(parameters.shape)\n",
    "    n_layers = 1\n",
    "    weights = 0.01 * np.random.randn(3,n_layers,4, requires_grad=True)\n",
    "    params = (weights, parameters)\n",
    "    opt = NesterovMomentumOptimizer(stepsize=lrate)\n",
    "    current_cost_list = []\n",
    "    acc_list = []\n",
    "    test_acc_list = []\n",
    "    epoch = []\n",
    "    for it in range(150):\n",
    "        start_time = time.time()\n",
    "        # apply drop out\n",
    "        dropped_parameters, masked_matrix = make_drop_out_parameter(params[1], 0.0)\n",
    "        dropped_params = (params[0], dropped_parameters)\n",
    "        gradient_value, current_cost = opt.compute_grad(objective_fn=cost, args=dropped_params, kwargs={\"X\": X, \"Y\": Y})\n",
    "        dropped_gradient = (gradient_value[0], gradient_value[1] * masked_matrix)\n",
    "        params = opt.apply_grad(grad=dropped_gradient, args=params)\n",
    "        current_cost = cost(params[0],params[1], X=X, Y=Y)\n",
    "        current_cost_list.append(current_cost)\n",
    "        weights = params[0]\n",
    "        parameters = params[1]\n",
    "        # Compute accuracy on train\n",
    "        predictions = [np.sign(full_circuit(x,weights,parameters=parameters,num_layers=n_layers)) for x in X_batch]\n",
    "        acc = accuracy(Y_batch, predictions)\n",
    "        acc_list.append(acc)\n",
    "        \n",
    "        # Compute accuracy on test\n",
    "        predictions_test = [np.sign(full_circuit(x,weights,parameters=parameters, num_layers=n_layers)) for x in X_test_batch]\n",
    "        test_acc = accuracy(Y_test_batch, predictions)\n",
    "        test_acc_list.append(test_acc)\n",
    "        epoch.append(it)\n",
    "        \n",
    "        # Redraw the updated plot\n",
    "        end_time = time.time() - start_time\n",
    "        print(f\"Iter: {it+1:4d} | Cost: {current_cost:0.7f} | Accuracy: {acc:0.7f} | Test Accuracy: {test_acc:0.7f} | Run Time: {end_time:0.7f}\")   \n",
    "    draw_result(current_cost_list,acc_list,test_acc_list,epoch,lrate,n_layers)\n",
    "    print(weights)"
   ]
  },
  {
   "cell_type": "code",
   "execution_count": 22,
   "id": "20eb335f",
   "metadata": {
    "execution": {
     "iopub.execute_input": "2025-03-24T21:23:51.623099Z",
     "iopub.status.busy": "2025-03-24T21:23:51.622663Z",
     "iopub.status.idle": "2025-03-24T21:24:02.581264Z",
     "shell.execute_reply": "2025-03-24T21:24:02.579407Z"
    },
    "id": "flb82L4ZBY6x",
    "papermill": {
     "duration": 10.979806,
     "end_time": "2025-03-24T21:24:02.583711",
     "exception": false,
     "start_time": "2025-03-24T21:23:51.603905",
     "status": "completed"
    },
    "tags": []
   },
   "outputs": [
    {
     "name": "stdout",
     "output_type": "stream",
     "text": [
      "Final test, accuracy_test: 0.5666666666666667\n"
     ]
    }
   ],
   "source": [
    "# Compute accuracy\n",
    "weights = params[0]\n",
    "parameters = params[1]\n",
    "predictions = [np.sign(full_circuit(x,weights,parameters, 1)) for x in X_test]\n",
    "acc = accuracy(Y_test, predictions)\n",
    "print(f\"Final test, accuracy_test: {acc}\")"
   ]
  }
 ],
 "metadata": {
  "colab": {
   "provenance": []
  },
  "kaggle": {
   "accelerator": "none",
   "dataSources": [
    {
     "datasetId": 6593060,
     "sourceId": 10648027,
     "sourceType": "datasetVersion"
    }
   ],
   "dockerImageVersionId": 30886,
   "isGpuEnabled": false,
   "isInternetEnabled": true,
   "language": "python",
   "sourceType": "notebook"
  },
  "kernelspec": {
   "display_name": "Python 3",
   "language": "python",
   "name": "python3"
  },
  "language_info": {
   "codemirror_mode": {
    "name": "ipython",
    "version": 3
   },
   "file_extension": ".py",
   "mimetype": "text/x-python",
   "name": "python",
   "nbconvert_exporter": "python",
   "pygments_lexer": "ipython3",
   "version": "3.10.12"
  },
  "papermill": {
   "default_parameters": {},
   "duration": 19322.567842,
   "end_time": "2025-03-24T21:24:05.655719",
   "environment_variables": {},
   "exception": null,
   "input_path": "__notebook__.ipynb",
   "output_path": "__notebook__.ipynb",
   "parameters": {},
   "start_time": "2025-03-24T16:02:03.087877",
   "version": "2.6.0"
  }
 },
 "nbformat": 4,
 "nbformat_minor": 5
}
