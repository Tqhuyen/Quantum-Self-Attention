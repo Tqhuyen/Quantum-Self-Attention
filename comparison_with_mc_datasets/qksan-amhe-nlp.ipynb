{
 "cells": [
  {
   "cell_type": "code",
   "execution_count": 1,
   "id": "97d37ddf",
   "metadata": {
    "execution": {
     "iopub.execute_input": "2025-04-29T03:29:57.293214Z",
     "iopub.status.busy": "2025-04-29T03:29:57.292913Z",
     "iopub.status.idle": "2025-04-29T03:30:04.447807Z",
     "shell.execute_reply": "2025-04-29T03:30:04.446873Z"
    },
    "id": "fFqvK319LrYK",
    "outputId": "7a236944-aeb9-42e1-8ea9-4f5a4d6a23ec",
    "papermill": {
     "duration": 7.160934,
     "end_time": "2025-04-29T03:30:04.449274",
     "exception": false,
     "start_time": "2025-04-29T03:29:57.288340",
     "status": "completed"
    },
    "tags": []
   },
   "outputs": [
    {
     "name": "stdout",
     "output_type": "stream",
     "text": [
      "Collecting pennylane\r\n",
      "  Downloading PennyLane-0.41.0-py3-none-any.whl.metadata (10 kB)\r\n",
      "Requirement already satisfied: numpy in /usr/local/lib/python3.10/dist-packages (from pennylane) (1.26.4)\r\n",
      "Requirement already satisfied: scipy in /usr/local/lib/python3.10/dist-packages (from pennylane) (1.13.1)\r\n",
      "Requirement already satisfied: networkx in /usr/local/lib/python3.10/dist-packages (from pennylane) (3.4.2)\r\n",
      "Collecting rustworkx>=0.14.0 (from pennylane)\r\n",
      "  Downloading rustworkx-0.16.0-cp39-abi3-manylinux_2_17_x86_64.manylinux2014_x86_64.whl.metadata (10 kB)\r\n",
      "Requirement already satisfied: autograd in /usr/local/lib/python3.10/dist-packages (from pennylane) (1.7.0)\r\n",
      "Collecting tomlkit (from pennylane)\r\n",
      "  Downloading tomlkit-0.13.2-py3-none-any.whl.metadata (2.7 kB)\r\n",
      "Collecting appdirs (from pennylane)\r\n",
      "  Downloading appdirs-1.4.4-py2.py3-none-any.whl.metadata (9.0 kB)\r\n",
      "Collecting autoray>=0.6.11 (from pennylane)\r\n",
      "  Downloading autoray-0.7.1-py3-none-any.whl.metadata (5.8 kB)\r\n",
      "Requirement already satisfied: cachetools in /usr/local/lib/python3.10/dist-packages (from pennylane) (5.5.0)\r\n",
      "Collecting pennylane-lightning>=0.41 (from pennylane)\r\n",
      "  Downloading pennylane_lightning-0.41.0-cp310-cp310-manylinux_2_28_x86_64.whl.metadata (28 kB)\r\n",
      "Requirement already satisfied: requests in /usr/local/lib/python3.10/dist-packages (from pennylane) (2.32.3)\r\n",
      "Requirement already satisfied: typing-extensions in /usr/local/lib/python3.10/dist-packages (from pennylane) (4.12.2)\r\n",
      "Requirement already satisfied: packaging in /usr/local/lib/python3.10/dist-packages (from pennylane) (24.2)\r\n",
      "Collecting diastatic-malt (from pennylane)\r\n",
      "  Downloading diastatic_malt-2.15.2-py3-none-any.whl.metadata (2.6 kB)\r\n",
      "Collecting scipy-openblas32>=0.3.26 (from pennylane-lightning>=0.41->pennylane)\r\n",
      "  Downloading scipy_openblas32-0.3.29.0.0-py3-none-manylinux_2_17_x86_64.manylinux2014_x86_64.whl.metadata (56 kB)\r\n",
      "\u001b[2K     \u001b[90m━━━━━━━━━━━━━━━━━━━━━━━━━━━━━━━━━━━━━━━━\u001b[0m \u001b[32m56.1/56.1 kB\u001b[0m \u001b[31m3.7 MB/s\u001b[0m eta \u001b[36m0:00:00\u001b[0m\r\n",
      "\u001b[?25hRequirement already satisfied: mkl_fft in /usr/local/lib/python3.10/dist-packages (from numpy->pennylane) (1.3.8)\r\n",
      "Requirement already satisfied: mkl_random in /usr/local/lib/python3.10/dist-packages (from numpy->pennylane) (1.2.4)\r\n",
      "Requirement already satisfied: mkl_umath in /usr/local/lib/python3.10/dist-packages (from numpy->pennylane) (0.1.1)\r\n",
      "Requirement already satisfied: mkl in /usr/local/lib/python3.10/dist-packages (from numpy->pennylane) (2025.0.1)\r\n",
      "Requirement already satisfied: tbb4py in /usr/local/lib/python3.10/dist-packages (from numpy->pennylane) (2022.0.0)\r\n",
      "Requirement already satisfied: mkl-service in /usr/local/lib/python3.10/dist-packages (from numpy->pennylane) (2.4.1)\r\n",
      "Requirement already satisfied: astunparse in /usr/local/lib/python3.10/dist-packages (from diastatic-malt->pennylane) (1.6.3)\r\n",
      "Requirement already satisfied: gast in /usr/local/lib/python3.10/dist-packages (from diastatic-malt->pennylane) (0.6.0)\r\n",
      "Requirement already satisfied: termcolor in /usr/local/lib/python3.10/dist-packages (from diastatic-malt->pennylane) (2.5.0)\r\n",
      "Requirement already satisfied: charset-normalizer<4,>=2 in /usr/local/lib/python3.10/dist-packages (from requests->pennylane) (3.4.1)\r\n",
      "Requirement already satisfied: idna<4,>=2.5 in /usr/local/lib/python3.10/dist-packages (from requests->pennylane) (3.10)\r\n",
      "Requirement already satisfied: urllib3<3,>=1.21.1 in /usr/local/lib/python3.10/dist-packages (from requests->pennylane) (2.3.0)\r\n",
      "Requirement already satisfied: certifi>=2017.4.17 in /usr/local/lib/python3.10/dist-packages (from requests->pennylane) (2025.1.31)\r\n",
      "Requirement already satisfied: wheel<1.0,>=0.23.0 in /usr/local/lib/python3.10/dist-packages (from astunparse->diastatic-malt->pennylane) (0.45.1)\r\n",
      "Requirement already satisfied: six<2.0,>=1.6.1 in /usr/local/lib/python3.10/dist-packages (from astunparse->diastatic-malt->pennylane) (1.17.0)\r\n",
      "Requirement already satisfied: intel-openmp>=2024 in /usr/local/lib/python3.10/dist-packages (from mkl->numpy->pennylane) (2024.2.0)\r\n",
      "Requirement already satisfied: tbb==2022.* in /usr/local/lib/python3.10/dist-packages (from mkl->numpy->pennylane) (2022.0.0)\r\n",
      "Requirement already satisfied: tcmlib==1.* in /usr/local/lib/python3.10/dist-packages (from tbb==2022.*->mkl->numpy->pennylane) (1.2.0)\r\n",
      "Requirement already satisfied: intel-cmplr-lib-rt in /usr/local/lib/python3.10/dist-packages (from mkl_umath->numpy->pennylane) (2024.2.0)\r\n",
      "Requirement already satisfied: intel-cmplr-lib-ur==2024.2.0 in /usr/local/lib/python3.10/dist-packages (from intel-openmp>=2024->mkl->numpy->pennylane) (2024.2.0)\r\n",
      "Downloading PennyLane-0.41.0-py3-none-any.whl (2.3 MB)\r\n",
      "\u001b[2K   \u001b[90m━━━━━━━━━━━━━━━━━━━━━━━━━━━━━━━━━━━━━━━━\u001b[0m \u001b[32m2.3/2.3 MB\u001b[0m \u001b[31m52.5 MB/s\u001b[0m eta \u001b[36m0:00:00\u001b[0m\r\n",
      "\u001b[?25hDownloading autoray-0.7.1-py3-none-any.whl (930 kB)\r\n",
      "\u001b[2K   \u001b[90m━━━━━━━━━━━━━━━━━━━━━━━━━━━━━━━━━━━━━━━━\u001b[0m \u001b[32m930.8/930.8 kB\u001b[0m \u001b[31m40.5 MB/s\u001b[0m eta \u001b[36m0:00:00\u001b[0m\r\n",
      "\u001b[?25hDownloading pennylane_lightning-0.41.0-cp310-cp310-manylinux_2_28_x86_64.whl (2.5 MB)\r\n",
      "\u001b[2K   \u001b[90m━━━━━━━━━━━━━━━━━━━━━━━━━━━━━━━━━━━━━━━━\u001b[0m \u001b[32m2.5/2.5 MB\u001b[0m \u001b[31m68.0 MB/s\u001b[0m eta \u001b[36m0:00:00\u001b[0m\r\n",
      "\u001b[?25hDownloading rustworkx-0.16.0-cp39-abi3-manylinux_2_17_x86_64.manylinux2014_x86_64.whl (2.1 MB)\r\n",
      "\u001b[2K   \u001b[90m━━━━━━━━━━━━━━━━━━━━━━━━━━━━━━━━━━━━━━━━\u001b[0m \u001b[32m2.1/2.1 MB\u001b[0m \u001b[31m65.3 MB/s\u001b[0m eta \u001b[36m0:00:00\u001b[0m\r\n",
      "\u001b[?25hDownloading appdirs-1.4.4-py2.py3-none-any.whl (9.6 kB)\r\n",
      "Downloading diastatic_malt-2.15.2-py3-none-any.whl (167 kB)\r\n",
      "\u001b[2K   \u001b[90m━━━━━━━━━━━━━━━━━━━━━━━━━━━━━━━━━━━━━━━━\u001b[0m \u001b[32m167.9/167.9 kB\u001b[0m \u001b[31m12.5 MB/s\u001b[0m eta \u001b[36m0:00:00\u001b[0m\r\n",
      "\u001b[?25hDownloading tomlkit-0.13.2-py3-none-any.whl (37 kB)\r\n",
      "Downloading scipy_openblas32-0.3.29.0.0-py3-none-manylinux_2_17_x86_64.manylinux2014_x86_64.whl (8.6 MB)\r\n",
      "\u001b[2K   \u001b[90m━━━━━━━━━━━━━━━━━━━━━━━━━━━━━━━━━━━━━━━━\u001b[0m \u001b[32m8.6/8.6 MB\u001b[0m \u001b[31m78.0 MB/s\u001b[0m eta \u001b[36m0:00:00\u001b[0m\r\n",
      "\u001b[?25hInstalling collected packages: appdirs, tomlkit, scipy-openblas32, autoray, diastatic-malt, rustworkx, pennylane-lightning, pennylane\r\n",
      "Successfully installed appdirs-1.4.4 autoray-0.7.1 diastatic-malt-2.15.2 pennylane-0.41.0 pennylane-lightning-0.41.0 rustworkx-0.16.0 scipy-openblas32-0.3.29.0.0 tomlkit-0.13.2\r\n"
     ]
    }
   ],
   "source": [
    "!pip install pennylane --upgrade"
   ]
  },
  {
   "cell_type": "code",
   "execution_count": 2,
   "id": "9361ad8b",
   "metadata": {
    "execution": {
     "iopub.execute_input": "2025-04-29T03:30:04.458080Z",
     "iopub.status.busy": "2025-04-29T03:30:04.457817Z",
     "iopub.status.idle": "2025-04-29T03:30:07.833962Z",
     "shell.execute_reply": "2025-04-29T03:30:07.833216Z"
    },
    "id": "FFJK-CEdMV_k",
    "papermill": {
     "duration": 3.382044,
     "end_time": "2025-04-29T03:30:07.835504",
     "exception": false,
     "start_time": "2025-04-29T03:30:04.453460",
     "status": "completed"
    },
    "tags": []
   },
   "outputs": [],
   "source": [
    "import pennylane as qml\n",
    "from pennylane import numpy as np\n",
    "from pennylane.optimize import NesterovMomentumOptimizer,GradientDescentOptimizer"
   ]
  },
  {
   "cell_type": "code",
   "execution_count": 3,
   "id": "09fed4e1",
   "metadata": {
    "execution": {
     "iopub.execute_input": "2025-04-29T03:30:07.845377Z",
     "iopub.status.busy": "2025-04-29T03:30:07.844917Z",
     "iopub.status.idle": "2025-04-29T03:30:07.848803Z",
     "shell.execute_reply": "2025-04-29T03:30:07.848237Z"
    },
    "id": "smb0Dy5CN7yB",
    "papermill": {
     "duration": 0.010236,
     "end_time": "2025-04-29T03:30:07.849743",
     "exception": false,
     "start_time": "2025-04-29T03:30:07.839507",
     "status": "completed"
    },
    "tags": []
   },
   "outputs": [],
   "source": [
    "dev = qml.device(\"default.qubit\", wires=8)"
   ]
  },
  {
   "cell_type": "code",
   "execution_count": 4,
   "id": "29085bf5",
   "metadata": {
    "execution": {
     "iopub.execute_input": "2025-04-29T03:30:07.858009Z",
     "iopub.status.busy": "2025-04-29T03:30:07.857770Z",
     "iopub.status.idle": "2025-04-29T03:30:07.861029Z",
     "shell.execute_reply": "2025-04-29T03:30:07.860511Z"
    },
    "id": "qUYC1E6rRtBI",
    "papermill": {
     "duration": 0.008439,
     "end_time": "2025-04-29T03:30:07.862050",
     "exception": false,
     "start_time": "2025-04-29T03:30:07.853611",
     "status": "completed"
    },
    "tags": []
   },
   "outputs": [],
   "source": [
    "def amplitude_encoding(x, wires):\n",
    "  qml.AmplitudeEmbedding(features=x, wires=wires, normalize=True)\n",
    "\n",
    "def amplitude_encoding_inverse(x, wires):\n",
    "  qml.adjoint(qml.AmplitudeEmbedding)(features=x, wires=wires, normalize=True)"
   ]
  },
  {
   "cell_type": "code",
   "execution_count": 5,
   "id": "e8e66b91",
   "metadata": {
    "execution": {
     "iopub.execute_input": "2025-04-29T03:30:07.870170Z",
     "iopub.status.busy": "2025-04-29T03:30:07.869972Z",
     "iopub.status.idle": "2025-04-29T03:30:07.877487Z",
     "shell.execute_reply": "2025-04-29T03:30:07.876821Z"
    },
    "id": "PbL9i9kJUnl5",
    "outputId": "2b9e13ff-ce49-46a4-cd6b-bfc0f114c476",
    "papermill": {
     "duration": 0.012648,
     "end_time": "2025-04-29T03:30:07.878511",
     "exception": false,
     "start_time": "2025-04-29T03:30:07.865863",
     "status": "completed"
    },
    "tags": []
   },
   "outputs": [
    {
     "name": "stdout",
     "output_type": "stream",
     "text": [
      "0: ──H──RY(1.00)─╭●───────────╭●─────────────────────────────────╭●───────────╭●─┤  \n",
      "1: ──H──RY(2.00)─╰X──RZ(5.00)─╰X─╭●───────────╭●─────────────────│────────────│──┤  \n",
      "2: ──H──RY(3.00)─────────────────╰X──RZ(6.00)─╰X─╭●───────────╭●─│────────────│──┤  \n",
      "3: ──H──RY(4.00)─────────────────────────────────╰X──RZ(7.00)─╰X─╰X──RZ(8.00)─╰X─┤  \n"
     ]
    }
   ],
   "source": [
    "def qaoa_ansatz(number_qubit,start_wire, theta):\n",
    "  '''\n",
    "  theta_size = 2n\n",
    "  start_wires = 0 or 4\n",
    "  '''\n",
    "\n",
    "  for i in range(number_qubit):\n",
    "    qml.H(wires=[i+start_wire])\n",
    "    qml.RY(theta[i], wires=[i+start_wire])\n",
    "  for i in range(number_qubit):\n",
    "    c = i\n",
    "    if c == number_qubit-1:\n",
    "      f = number_qubit-1\n",
    "      c = 0\n",
    "    else:\n",
    "      f = c+1\n",
    "    qml.CNOT(wires=[c+start_wire,f+start_wire])\n",
    "    qml.RZ(theta[number_qubit+i], wires=[f+start_wire])\n",
    "    qml.CNOT(wires=[c+start_wire,f+start_wire])\n",
    "print(qml.draw(qaoa_ansatz)(4,0, [1,2,3,4,5,6,7,8]))\n"
   ]
  },
  {
   "cell_type": "code",
   "execution_count": 6,
   "id": "c73d7c65",
   "metadata": {
    "execution": {
     "iopub.execute_input": "2025-04-29T03:30:07.887216Z",
     "iopub.status.busy": "2025-04-29T03:30:07.886922Z",
     "iopub.status.idle": "2025-04-29T03:30:07.893064Z",
     "shell.execute_reply": "2025-04-29T03:30:07.892243Z"
    },
    "id": "pl9ghVmZFmiw",
    "outputId": "fd5bdc09-08d9-44a4-99cd-9c3351365f4c",
    "papermill": {
     "duration": 0.012067,
     "end_time": "2025-04-29T03:30:07.894392",
     "exception": false,
     "start_time": "2025-04-29T03:30:07.882325",
     "status": "completed"
    },
    "tags": []
   },
   "outputs": [
    {
     "name": "stdout",
     "output_type": "stream",
     "text": [
      "0: ──H──RY(1.00)─╭●────────────────────────────╭RY(8.00)─┤  \n",
      "1: ──H──RY(2.00)─╰RY(5.00)─╭●──────────────────│─────────┤  \n",
      "2: ──H──RY(3.00)───────────╰RY(6.00)─╭●────────│─────────┤  \n",
      "3: ──H──RY(4.00)─────────────────────╰RY(7.00)─╰●────────┤  \n"
     ]
    }
   ],
   "source": [
    "def hardware_effificent_ansatz(number_qubit, theta):\n",
    "  '''\n",
    "  theta_size = 2n\n",
    "  '''\n",
    "  for i in range(number_qubit):\n",
    "    qml.H(wires=[i])\n",
    "    qml.RY(theta[i], wires=[i])\n",
    "  for i in range(number_qubit):\n",
    "    c = i\n",
    "    if c == number_qubit-1:\n",
    "      f = 0\n",
    "    else:\n",
    "      f = c+1\n",
    "    qml.CRY(theta[number_qubit+i], wires=[c,f])\n",
    "print(qml.draw(hardware_effificent_ansatz)(4, [1,2,3,4,5,6,7,8]))"
   ]
  },
  {
   "cell_type": "code",
   "execution_count": 7,
   "id": "56c2ee31",
   "metadata": {
    "execution": {
     "iopub.execute_input": "2025-04-29T03:30:07.903141Z",
     "iopub.status.busy": "2025-04-29T03:30:07.902916Z",
     "iopub.status.idle": "2025-04-29T03:30:07.908189Z",
     "shell.execute_reply": "2025-04-29T03:30:07.907511Z"
    },
    "id": "zTzQ25qrG7lb",
    "papermill": {
     "duration": 0.010784,
     "end_time": "2025-04-29T03:30:07.909291",
     "exception": false,
     "start_time": "2025-04-29T03:30:07.898507",
     "status": "completed"
    },
    "tags": []
   },
   "outputs": [],
   "source": [
    "@qml.qnode(dev)\n",
    "def full_circuit(x, weights):\n",
    "  '''\n",
    "  x: input\n",
    "  weights: [theta1, theta2, theta3, theta4]\n",
    "  '''\n",
    "  # step 1: initial state\n",
    "  # step 2: compute QKSAS\n",
    "  # first register\n",
    "  amplitude_encoding(x=x, wires=range(4))\n",
    "  # qaoa_ansatz(number_qubit=4,start_wire=0, theta=weights[0])\n",
    "  hardware_effificent_ansatz(number_qubit=4, theta=weights[0])  \n",
    "  amplitude_encoding_inverse(x=x, wires=range(4))\n",
    "  qml.adjoint(hardware_effificent_ansatz)(number_qubit=3, theta=weights[1])\n",
    "  # qml.adjoint(qaoa_ansatz)(number_qubit=4,start_wire=0, theta=weights[1])\n",
    "\n",
    "  # second register\n",
    "  amplitude_encoding(x=x, wires=range(4,8))\n",
    "  qaoa_ansatz(number_qubit=4,start_wire=3, theta=weights[2])\n",
    "\n",
    "  # step 3: apply DMP\n",
    "  # measure M1\n",
    "  m_10 = qml.measure(0)\n",
    "  m_11 = qml.measure(1)\n",
    "  m_12 = qml.measure(2)\n",
    "  m_13 = qml.measure(3)  \n",
    "\n",
    "  # conditional with wires 4->7, theta4\n",
    "  qml.cond(m_10, qml.RY)(weights[3][0], wires=4)\n",
    "  qml.cond(m_11, qml.RY)(weights[3][1], wires=5)\n",
    "  qml.cond(m_12, qml.RY)(weights[3][2], wires=6)\n",
    "  qml.cond(m_13, qml.RY)(weights[3][3], wires=7)\n",
    "\n",
    "  # step 4: measure M2 and return\n",
    "  return qml.expval(qml.PauliZ(4) @ qml.PauliZ(5) @ qml.PauliZ(6) @ qml.PauliZ(7))"
   ]
  },
  {
   "cell_type": "code",
   "execution_count": 8,
   "id": "43c00c8c",
   "metadata": {
    "execution": {
     "iopub.execute_input": "2025-04-29T03:30:07.917612Z",
     "iopub.status.busy": "2025-04-29T03:30:07.917416Z",
     "iopub.status.idle": "2025-04-29T03:30:07.921079Z",
     "shell.execute_reply": "2025-04-29T03:30:07.920482Z"
    },
    "id": "8IF6UlIrJAyH",
    "outputId": "fd0c5266-f75b-48fc-f103-66adec9fd51f",
    "papermill": {
     "duration": 0.008972,
     "end_time": "2025-04-29T03:30:07.922209",
     "exception": false,
     "start_time": "2025-04-29T03:30:07.913237",
     "status": "completed"
    },
    "tags": []
   },
   "outputs": [],
   "source": [
    "weights = 0.1 * np.random.randn(4, 8, requires_grad=True)\n",
    "params = (weights,)"
   ]
  },
  {
   "cell_type": "code",
   "execution_count": 9,
   "id": "8029a77f",
   "metadata": {
    "execution": {
     "iopub.execute_input": "2025-04-29T03:30:07.930992Z",
     "iopub.status.busy": "2025-04-29T03:30:07.930675Z",
     "iopub.status.idle": "2025-04-29T03:30:07.935005Z",
     "shell.execute_reply": "2025-04-29T03:30:07.934324Z"
    },
    "id": "qvlod-O2uSxx",
    "papermill": {
     "duration": 0.009677,
     "end_time": "2025-04-29T03:30:07.936041",
     "exception": false,
     "start_time": "2025-04-29T03:30:07.926364",
     "status": "completed"
    },
    "tags": []
   },
   "outputs": [],
   "source": [
    "def accuracy(labels, predictions):\n",
    "    acc = sum(abs(l - p) < 1e-5 for l, p in zip(labels, predictions))\n",
    "    acc = acc / len(labels)\n",
    "    return acc\n",
    "\n",
    "def cost(*args, **kwargs):\n",
    "    # Extract the parameters and data from *args and **kwargs\n",
    "    weights = args[0]  # Assuming the first argument is the parameters (usually a NumPy array)\n",
    "    X = kwargs.get('X', None)  # Get X from kwargs, default to None if not provided\n",
    "    Y = kwargs.get('Y', None)  # Get Y from kwargs, default to None if not provided\n",
    "\n",
    "    predictions = [full_circuit(x=x, weights=weights) for x in X]\n",
    "    return np.mean((Y - qml.math.stack(predictions)) ** 2)"
   ]
  },
  {
   "cell_type": "code",
   "execution_count": 10,
   "id": "4e4a0f74",
   "metadata": {
    "execution": {
     "iopub.execute_input": "2025-04-29T03:30:07.944210Z",
     "iopub.status.busy": "2025-04-29T03:30:07.943979Z",
     "iopub.status.idle": "2025-04-29T03:30:17.656201Z",
     "shell.execute_reply": "2025-04-29T03:30:17.655480Z"
    },
    "papermill": {
     "duration": 9.717559,
     "end_time": "2025-04-29T03:30:17.657379",
     "exception": false,
     "start_time": "2025-04-29T03:30:07.939820",
     "status": "completed"
    },
    "tags": []
   },
   "outputs": [
    {
     "name": "stdout",
     "output_type": "stream",
     "text": [
      "\u001b[1m3/3\u001b[0m \u001b[32m━━━━━━━━━━━━━━━━━━━━\u001b[0m\u001b[37m\u001b[0m \u001b[1m0s\u001b[0m 9ms/step  \n"
     ]
    },
    {
     "name": "stderr",
     "output_type": "stream",
     "text": [
      "/usr/local/lib/python3.10/dist-packages/keras/src/layers/core/embedding.py:90: UserWarning: Argument `input_length` is deprecated. Just remove it.\n",
      "  warnings.warn(\n"
     ]
    },
    {
     "name": "stdout",
     "output_type": "stream",
     "text": [
      "\u001b[1m1/1\u001b[0m \u001b[32m━━━━━━━━━━━━━━━━━━━━\u001b[0m\u001b[37m\u001b[0m \u001b[1m0s\u001b[0m 63ms/step\n",
      "\u001b[1m1/1\u001b[0m \u001b[32m━━━━━━━━━━━━━━━━━━━━\u001b[0m\u001b[37m\u001b[0m \u001b[1m0s\u001b[0m 67ms/step\n"
     ]
    }
   ],
   "source": [
    "#******************************************\n",
    "# Data import\n",
    "#******************************************\n",
    "\n",
    "# import train, dev and test datasets: the data entries are all strings of the form 'label sentence' \n",
    "# with the label in {0,1} and with the sentence of the form \"word1_POStag1 word2_POStag2 ...\"\n",
    "\n",
    "with open('/kaggle/input/mc-and-rp-dataset-for-quantum-computing-qnlp/mc_train_data.txt') as f:\n",
    "    training_data_raw = f.readlines()\n",
    "\n",
    "with open('/kaggle/input/mc-and-rp-dataset-for-quantum-computing-qnlp/mc_dev_data.txt') as f:\n",
    "    dev_data_raw = f.readlines()\n",
    "\n",
    "with open('/kaggle/input/mc-and-rp-dataset-for-quantum-computing-qnlp/mc_test_data.txt') as f:\n",
    "    testing_data_raw = f.readlines()\n",
    "#***************************************************************\n",
    "# Turn the raw input data into data structures convenient below\n",
    "#***************************************************************\n",
    "\n",
    "vocab = dict()          # dictionary to be filled with the vocabulary in the form { word : POStag }\n",
    "data = dict()           # dictionary to be filled with all the data (train, dev and test subsets); entries of the \n",
    "                        # form { sentence : label } with label encoding '1' as [1.0, 0.0] and '0' as [0.0, 1.0]\n",
    "training_data = []      # list of sentences in the train dataset as strings \"word1 word2 ...\"\n",
    "dev_data = []           # list of sentences in the dev dataset as strings \"word1 word2 ...\"\n",
    "testing_data = []       # list of sentences in the test dataset as strings \"word1 word2 ...\"\n",
    "training_data_label = []      # list of sentences in the train dataset as strings \"word1 word2 ...\"\n",
    "dev_data_label = []           # list of sentences in the dev dataset as strings \"word1 word2 ...\"\n",
    "testing_data_label = []\n",
    "# Go through the train data\n",
    "for sent in training_data_raw:\n",
    "    words = sent[2:].split() \n",
    "    sent_untagged = ''\n",
    "    for word in words:\n",
    "        word_untagged, tag = word.split('_')\n",
    "        vocab[word_untagged] = tag\n",
    "        sent_untagged += word_untagged + ' '\n",
    "    sentence = sent_untagged[:-1]\n",
    "    training_data.append(sentence)\n",
    "    label = 1.0 if sent[0] == '1' else -1.0\n",
    "    training_data_label.append(label)\n",
    "\n",
    "# Go through the dev data\n",
    "for sent in dev_data_raw:\n",
    "    words = sent[2:].split() \n",
    "    sent_untagged = ''\n",
    "    for word in words:\n",
    "        word_untagged, tag = word.split('_')\n",
    "        vocab[word_untagged] = tag\n",
    "        sent_untagged += word_untagged + ' '\n",
    "    sentence = sent_untagged[:-1]\n",
    "    dev_data.append(sentence)\n",
    "    label = 1.0 if sent[0] == '1' else -1.0\n",
    "    dev_data_label.append(label)\n",
    "    \n",
    "# Go through the test data\n",
    "for sent in testing_data_raw:\n",
    "    words = sent[2:].split() \n",
    "    sent_untagged = ''\n",
    "    for word in words:\n",
    "        word_untagged, tag = word.split('_')\n",
    "        vocab[word_untagged] = tag\n",
    "        sent_untagged += word_untagged + ' '\n",
    "    sentence = sent_untagged[:-1]\n",
    "    testing_data.append(sentence)\n",
    "    label = 1.0 if sent[0] == '1' else -1.0\n",
    "    testing_data_label.append(label)\n",
    "import tensorflow as tf\n",
    "from tensorflow.keras.preprocessing.text import Tokenizer\n",
    "from tensorflow.keras.preprocessing.sequence import pad_sequences\n",
    "from tensorflow.keras.models import Sequential\n",
    "from tensorflow.keras.layers import Embedding\n",
    "\n",
    "def embedding_sentece(data_list):\n",
    "    sentences = data_list\n",
    "    tokenizer = Tokenizer()\n",
    "    tokenizer.fit_on_texts(sentences)  \n",
    "    word_index = tokenizer.word_index  \n",
    "    vocab_size = len(word_index) + 1  # Số lượng từ vựng (+1 cho padding)\n",
    "    sequences = tokenizer.texts_to_sequences(sentences)\n",
    "\n",
    "    max_length = max(len(seq) for seq in sequences)  # Độ dài tối đa\n",
    "    padded_sequences = pad_sequences(sequences, maxlen=max_length, padding='post')\n",
    "    \n",
    "    embedding_dim = 4  # Chọn số chiều của vector embedding\n",
    "    \n",
    "    model = Sequential([\n",
    "        Embedding(input_dim=vocab_size, output_dim=embedding_dim, input_length=max_length)\n",
    "    ])\n",
    "    \n",
    "    output = model.predict(padded_sequences)\n",
    "    return output\n",
    "X = np.array(embedding_sentece(training_data), dtype='float64')\n",
    "Y = np.array(training_data_label)\n",
    "X_dev = np.array(embedding_sentece(dev_data), dtype='float64')\n",
    "Y_dev = np.array(dev_data_label)\n",
    "X_test = np.array(embedding_sentece(testing_data), dtype='float64')\n",
    "Y_test = np.array(testing_data_label)\n",
    "X = X.reshape(-1,16)\n",
    "X_dev = X_dev.reshape(-1,16)\n",
    "X_test = X_test.reshape(-1,16)"
   ]
  },
  {
   "cell_type": "code",
   "execution_count": 11,
   "id": "185190ee",
   "metadata": {
    "execution": {
     "iopub.execute_input": "2025-04-29T03:30:17.667144Z",
     "iopub.status.busy": "2025-04-29T03:30:17.666526Z",
     "iopub.status.idle": "2025-04-29T03:30:17.670159Z",
     "shell.execute_reply": "2025-04-29T03:30:17.669441Z"
    },
    "id": "0wEjaLZEwW7l",
    "outputId": "16e78450-b24d-4cd8-e67d-c1dadf4c53aa",
    "papermill": {
     "duration": 0.009642,
     "end_time": "2025-04-29T03:30:17.671421",
     "exception": false,
     "start_time": "2025-04-29T03:30:17.661779",
     "status": "completed"
    },
    "tags": []
   },
   "outputs": [
    {
     "name": "stdout",
     "output_type": "stream",
     "text": [
      "(70, 16)\n",
      "(70,)\n"
     ]
    }
   ],
   "source": [
    "print(X.shape)\n",
    "print(Y.shape)"
   ]
  },
  {
   "cell_type": "code",
   "execution_count": 12,
   "id": "274d617d",
   "metadata": {
    "execution": {
     "iopub.execute_input": "2025-04-29T03:30:17.680554Z",
     "iopub.status.busy": "2025-04-29T03:30:17.680316Z",
     "iopub.status.idle": "2025-04-29T03:30:17.683312Z",
     "shell.execute_reply": "2025-04-29T03:30:17.682633Z"
    },
    "papermill": {
     "duration": 0.008536,
     "end_time": "2025-04-29T03:30:17.684431",
     "exception": false,
     "start_time": "2025-04-29T03:30:17.675895",
     "status": "completed"
    },
    "tags": []
   },
   "outputs": [],
   "source": [
    "X_batch = X\n",
    "Y_batch = Y\n",
    "X_test_batch = X_dev\n",
    "Y_test_batch = Y_dev"
   ]
  },
  {
   "cell_type": "code",
   "execution_count": 13,
   "id": "d9ab812a",
   "metadata": {
    "execution": {
     "iopub.execute_input": "2025-04-29T03:30:17.693722Z",
     "iopub.status.busy": "2025-04-29T03:30:17.693497Z",
     "iopub.status.idle": "2025-04-29T03:30:17.697807Z",
     "shell.execute_reply": "2025-04-29T03:30:17.697109Z"
    },
    "papermill": {
     "duration": 0.010005,
     "end_time": "2025-04-29T03:30:17.698930",
     "exception": false,
     "start_time": "2025-04-29T03:30:17.688925",
     "status": "completed"
    },
    "tags": []
   },
   "outputs": [
    {
     "name": "stdout",
     "output_type": "stream",
     "text": [
      "70\n",
      "70\n",
      "30\n",
      "30\n",
      "30\n",
      "30\n"
     ]
    }
   ],
   "source": [
    "print(len(X))\n",
    "print(len(Y))\n",
    "print(len(X_dev))\n",
    "print(len(Y_dev))\n",
    "print(len(X_test))\n",
    "print(len(Y_test))"
   ]
  },
  {
   "cell_type": "code",
   "execution_count": 14,
   "id": "70b2a811",
   "metadata": {
    "execution": {
     "iopub.execute_input": "2025-04-29T03:30:17.708341Z",
     "iopub.status.busy": "2025-04-29T03:30:17.708081Z",
     "iopub.status.idle": "2025-04-29T03:30:17.713567Z",
     "shell.execute_reply": "2025-04-29T03:30:17.712715Z"
    },
    "id": "Z3lUbbMZvHvO",
    "papermill": {
     "duration": 0.011839,
     "end_time": "2025-04-29T03:30:17.715163",
     "exception": false,
     "start_time": "2025-04-29T03:30:17.703324",
     "status": "completed"
    },
    "tags": []
   },
   "outputs": [],
   "source": [
    "import matplotlib.pyplot as plt\n",
    "def draw_result(current_cost_list,acc_list,test_acc_list,epoch,lrate,n_layers=1):\n",
    "    fig, axs = plt.subplots(3, 1, figsize=(12, 10))\n",
    "    axs[0].plot(epoch, current_cost_list,label=f'loss_{lrate}')\n",
    "    axs[0].set_title(f'Loss {n_layers}')\n",
    "    axs[0].set_xlabel('Epoch')  # Set x-axis label\n",
    "    axs[0].set_ylabel('Cost Function')  # Set y-axis label\n",
    "    axs[0].legend()\n",
    "    axs[1].plot(epoch, acc_list, label=f'train_acc_{lrate}')\n",
    "    axs[1].set_title(f'Train acc {n_layers}')\n",
    "    axs[1].set_xlabel('Epoch')  # Set x-axis label\n",
    "    axs[1].set_ylabel('Train Accuraccy')  # Set y-axis label\n",
    "    axs[1].legend()\n",
    "    axs[2].plot(epoch, test_acc_list,label=f'test_acc_{lrate}')\n",
    "    axs[2].set_title(f'Test acc {n_layers}')\n",
    "    axs[2].set_xlabel('Epoch')  # Set x-axis label\n",
    "    axs[2].set_ylabel('Test Accuraccy')  # Set y-axis label\n",
    "    axs[2].legend()\n",
    "    fig.subplots_adjust(hspace=0.5)\n",
    "    fig.tight_layout()\n",
    "    plt.show()\n",
    "    fig.savefig(f\"/kaggle/working/chart_nlayer{n_layers}_lrate{lrate}.png\")"
   ]
  },
  {
   "cell_type": "code",
   "execution_count": 15,
   "id": "90f8aeb1",
   "metadata": {
    "execution": {
     "iopub.execute_input": "2025-04-29T03:30:17.724644Z",
     "iopub.status.busy": "2025-04-29T03:30:17.724348Z",
     "iopub.status.idle": "2025-04-29T04:01:02.787582Z",
     "shell.execute_reply": "2025-04-29T04:01:02.786657Z"
    },
    "id": "JJygIvw0vdgm",
    "outputId": "ee75cb99-b575-4f33-b212-439c68287bff",
    "papermill": {
     "duration": 1845.069318,
     "end_time": "2025-04-29T04:01:02.788963",
     "exception": false,
     "start_time": "2025-04-29T03:30:17.719645",
     "status": "completed"
    },
    "tags": []
   },
   "outputs": [
    {
     "name": "stdout",
     "output_type": "stream",
     "text": [
      "Iter:    1 | Cost: 1.1052459 | Accuracy: 0.4571429 | Test Accuracy: 0.5333333 | Run Time: 12.4377437\n",
      "Iter:    2 | Cost: 1.0943787 | Accuracy: 0.4571429 | Test Accuracy: 0.5333333 | Run Time: 12.3061678\n",
      "Iter:    3 | Cost: 1.0720519 | Accuracy: 0.5000000 | Test Accuracy: 0.4666667 | Run Time: 12.2549698\n",
      "Iter:    4 | Cost: 1.0174416 | Accuracy: 0.5571429 | Test Accuracy: 0.5000000 | Run Time: 12.0856929\n",
      "Iter:    5 | Cost: 0.9023939 | Accuracy: 0.6571429 | Test Accuracy: 0.4000000 | Run Time: 12.3512273\n",
      "Iter:    6 | Cost: 0.7979856 | Accuracy: 0.7428571 | Test Accuracy: 0.3333333 | Run Time: 12.1876419\n",
      "Iter:    7 | Cost: 0.7954340 | Accuracy: 0.7571429 | Test Accuracy: 0.3333333 | Run Time: 12.4261370\n",
      "Iter:    8 | Cost: 0.8186047 | Accuracy: 0.7285714 | Test Accuracy: 0.4333333 | Run Time: 12.2804873\n",
      "Iter:    9 | Cost: 0.8207747 | Accuracy: 0.7142857 | Test Accuracy: 0.4000000 | Run Time: 11.9120712\n",
      "Iter:   10 | Cost: 0.7995454 | Accuracy: 0.7571429 | Test Accuracy: 0.4333333 | Run Time: 12.3442795\n",
      "Iter:   11 | Cost: 0.7715884 | Accuracy: 0.7857143 | Test Accuracy: 0.3666667 | Run Time: 12.2969196\n",
      "Iter:   12 | Cost: 0.7545473 | Accuracy: 0.7857143 | Test Accuracy: 0.3666667 | Run Time: 12.1700287\n",
      "Iter:   13 | Cost: 0.7504909 | Accuracy: 0.7857143 | Test Accuracy: 0.3666667 | Run Time: 12.3000188\n",
      "Iter:   14 | Cost: 0.7502401 | Accuracy: 0.7857143 | Test Accuracy: 0.3666667 | Run Time: 12.1576631\n",
      "Iter:   15 | Cost: 0.7472121 | Accuracy: 0.7714286 | Test Accuracy: 0.3333333 | Run Time: 12.4376540\n",
      "Iter:   16 | Cost: 0.7412992 | Accuracy: 0.7857143 | Test Accuracy: 0.3333333 | Run Time: 12.4069023\n",
      "Iter:   17 | Cost: 0.7352133 | Accuracy: 0.7857143 | Test Accuracy: 0.4000000 | Run Time: 11.7954733\n",
      "Iter:   18 | Cost: 0.7307347 | Accuracy: 0.7857143 | Test Accuracy: 0.4333333 | Run Time: 12.4401336\n",
      "Iter:   19 | Cost: 0.7278065 | Accuracy: 0.7857143 | Test Accuracy: 0.4333333 | Run Time: 12.3493130\n",
      "Iter:   20 | Cost: 0.7255991 | Accuracy: 0.7857143 | Test Accuracy: 0.4333333 | Run Time: 12.1787133\n",
      "Iter:   21 | Cost: 0.7235744 | Accuracy: 0.7857143 | Test Accuracy: 0.4333333 | Run Time: 12.4240394\n",
      "Iter:   22 | Cost: 0.7217010 | Accuracy: 0.7857143 | Test Accuracy: 0.4333333 | Run Time: 12.1775894\n",
      "Iter:   23 | Cost: 0.7201290 | Accuracy: 0.7714286 | Test Accuracy: 0.4333333 | Run Time: 12.6955168\n",
      "Iter:   24 | Cost: 0.7188886 | Accuracy: 0.7714286 | Test Accuracy: 0.4333333 | Run Time: 12.3458018\n",
      "Iter:   25 | Cost: 0.7178587 | Accuracy: 0.7714286 | Test Accuracy: 0.4333333 | Run Time: 11.8772011\n",
      "Iter:   26 | Cost: 0.7168939 | Accuracy: 0.7714286 | Test Accuracy: 0.4333333 | Run Time: 12.4185045\n",
      "Iter:   27 | Cost: 0.7159191 | Accuracy: 0.7714286 | Test Accuracy: 0.4333333 | Run Time: 12.4426847\n",
      "Iter:   28 | Cost: 0.7149288 | Accuracy: 0.7714286 | Test Accuracy: 0.4333333 | Run Time: 12.2073944\n",
      "Iter:   29 | Cost: 0.7139412 | Accuracy: 0.7714286 | Test Accuracy: 0.4333333 | Run Time: 12.5060227\n",
      "Iter:   30 | Cost: 0.7129682 | Accuracy: 0.7714286 | Test Accuracy: 0.4333333 | Run Time: 12.2102797\n",
      "Iter:   31 | Cost: 0.7120129 | Accuracy: 0.7714286 | Test Accuracy: 0.4333333 | Run Time: 12.5021346\n",
      "Iter:   32 | Cost: 0.7110780 | Accuracy: 0.7571429 | Test Accuracy: 0.4000000 | Run Time: 12.2669485\n",
      "Iter:   33 | Cost: 0.7101703 | Accuracy: 0.7714286 | Test Accuracy: 0.3666667 | Run Time: 11.9690850\n",
      "Iter:   34 | Cost: 0.7092989 | Accuracy: 0.7714286 | Test Accuracy: 0.3666667 | Run Time: 12.5095284\n",
      "Iter:   35 | Cost: 0.7084726 | Accuracy: 0.7714286 | Test Accuracy: 0.3666667 | Run Time: 12.3852146\n",
      "Iter:   36 | Cost: 0.7076987 | Accuracy: 0.7714286 | Test Accuracy: 0.3666667 | Run Time: 12.2399330\n",
      "Iter:   37 | Cost: 0.7069835 | Accuracy: 0.7714286 | Test Accuracy: 0.3666667 | Run Time: 12.3615942\n",
      "Iter:   38 | Cost: 0.7063328 | Accuracy: 0.7714286 | Test Accuracy: 0.3666667 | Run Time: 12.0310037\n",
      "Iter:   39 | Cost: 0.7057505 | Accuracy: 0.7714286 | Test Accuracy: 0.3666667 | Run Time: 12.5981150\n",
      "Iter:   40 | Cost: 0.7052380 | Accuracy: 0.7857143 | Test Accuracy: 0.3666667 | Run Time: 12.2645388\n",
      "Iter:   41 | Cost: 0.7047929 | Accuracy: 0.8000000 | Test Accuracy: 0.3666667 | Run Time: 11.8919945\n",
      "Iter:   42 | Cost: 0.7044096 | Accuracy: 0.8000000 | Test Accuracy: 0.3666667 | Run Time: 12.4448540\n",
      "Iter:   43 | Cost: 0.7040800 | Accuracy: 0.8000000 | Test Accuracy: 0.3666667 | Run Time: 12.1831355\n",
      "Iter:   44 | Cost: 0.7037949 | Accuracy: 0.8000000 | Test Accuracy: 0.3666667 | Run Time: 12.5077348\n",
      "Iter:   45 | Cost: 0.7035445 | Accuracy: 0.8000000 | Test Accuracy: 0.3666667 | Run Time: 12.1668847\n",
      "Iter:   46 | Cost: 0.7033197 | Accuracy: 0.8000000 | Test Accuracy: 0.3666667 | Run Time: 12.1468117\n",
      "Iter:   47 | Cost: 0.7031126 | Accuracy: 0.8000000 | Test Accuracy: 0.3666667 | Run Time: 12.1286983\n",
      "Iter:   48 | Cost: 0.7029164 | Accuracy: 0.8000000 | Test Accuracy: 0.3666667 | Run Time: 12.5070770\n",
      "Iter:   49 | Cost: 0.7027257 | Accuracy: 0.8000000 | Test Accuracy: 0.3666667 | Run Time: 12.3795567\n",
      "Iter:   50 | Cost: 0.7025367 | Accuracy: 0.8000000 | Test Accuracy: 0.3666667 | Run Time: 12.1584768\n",
      "Iter:   51 | Cost: 0.7023463 | Accuracy: 0.8000000 | Test Accuracy: 0.3666667 | Run Time: 12.1917315\n",
      "Iter:   52 | Cost: 0.7021527 | Accuracy: 0.8000000 | Test Accuracy: 0.3666667 | Run Time: 12.6223049\n",
      "Iter:   53 | Cost: 0.7019545 | Accuracy: 0.8000000 | Test Accuracy: 0.3666667 | Run Time: 12.2628915\n",
      "Iter:   54 | Cost: 0.7017507 | Accuracy: 0.8000000 | Test Accuracy: 0.3666667 | Run Time: 11.9788077\n",
      "Iter:   55 | Cost: 0.7015408 | Accuracy: 0.8000000 | Test Accuracy: 0.3666667 | Run Time: 12.5025058\n",
      "Iter:   56 | Cost: 0.7013244 | Accuracy: 0.8000000 | Test Accuracy: 0.3666667 | Run Time: 12.0448787\n",
      "Iter:   57 | Cost: 0.7011010 | Accuracy: 0.8000000 | Test Accuracy: 0.3666667 | Run Time: 12.5021431\n",
      "Iter:   58 | Cost: 0.7008703 | Accuracy: 0.8000000 | Test Accuracy: 0.3666667 | Run Time: 12.2712469\n",
      "Iter:   59 | Cost: 0.7006319 | Accuracy: 0.8000000 | Test Accuracy: 0.3666667 | Run Time: 12.2214921\n",
      "Iter:   60 | Cost: 0.7003853 | Accuracy: 0.8000000 | Test Accuracy: 0.3666667 | Run Time: 12.3152523\n",
      "Iter:   61 | Cost: 0.7001301 | Accuracy: 0.8000000 | Test Accuracy: 0.3666667 | Run Time: 12.4843457\n",
      "Iter:   62 | Cost: 0.6998655 | Accuracy: 0.8000000 | Test Accuracy: 0.3666667 | Run Time: 12.3452451\n",
      "Iter:   63 | Cost: 0.6995909 | Accuracy: 0.8000000 | Test Accuracy: 0.3666667 | Run Time: 12.0753531\n",
      "Iter:   64 | Cost: 0.6993057 | Accuracy: 0.8000000 | Test Accuracy: 0.3666667 | Run Time: 12.1756387\n",
      "Iter:   65 | Cost: 0.6990092 | Accuracy: 0.8000000 | Test Accuracy: 0.3666667 | Run Time: 12.5523491\n",
      "Iter:   66 | Cost: 0.6987007 | Accuracy: 0.7857143 | Test Accuracy: 0.4000000 | Run Time: 12.2867661\n",
      "Iter:   67 | Cost: 0.6983795 | Accuracy: 0.7857143 | Test Accuracy: 0.4000000 | Run Time: 11.9896896\n",
      "Iter:   68 | Cost: 0.6980449 | Accuracy: 0.7857143 | Test Accuracy: 0.4000000 | Run Time: 12.4953063\n",
      "Iter:   69 | Cost: 0.6976964 | Accuracy: 0.7857143 | Test Accuracy: 0.4000000 | Run Time: 12.1827688\n",
      "Iter:   70 | Cost: 0.6973335 | Accuracy: 0.7857143 | Test Accuracy: 0.4000000 | Run Time: 12.4733315\n",
      "Iter:   71 | Cost: 0.6969554 | Accuracy: 0.7857143 | Test Accuracy: 0.4000000 | Run Time: 12.2699831\n",
      "Iter:   72 | Cost: 0.6965618 | Accuracy: 0.7857143 | Test Accuracy: 0.4000000 | Run Time: 12.3077140\n",
      "Iter:   73 | Cost: 0.6961522 | Accuracy: 0.7857143 | Test Accuracy: 0.4000000 | Run Time: 12.1875274\n",
      "Iter:   74 | Cost: 0.6957261 | Accuracy: 0.7857143 | Test Accuracy: 0.4000000 | Run Time: 12.4374559\n",
      "Iter:   75 | Cost: 0.6952833 | Accuracy: 0.7857143 | Test Accuracy: 0.4000000 | Run Time: 12.4635611\n",
      "Iter:   76 | Cost: 0.6948235 | Accuracy: 0.7857143 | Test Accuracy: 0.4000000 | Run Time: 12.1174743\n",
      "Iter:   77 | Cost: 0.6943467 | Accuracy: 0.7857143 | Test Accuracy: 0.4000000 | Run Time: 12.2812290\n",
      "Iter:   78 | Cost: 0.6938528 | Accuracy: 0.7857143 | Test Accuracy: 0.4000000 | Run Time: 12.5606794\n",
      "Iter:   79 | Cost: 0.6933420 | Accuracy: 0.7857143 | Test Accuracy: 0.4000000 | Run Time: 12.3174489\n",
      "Iter:   80 | Cost: 0.6928148 | Accuracy: 0.7857143 | Test Accuracy: 0.4000000 | Run Time: 11.9320881\n",
      "Iter:   81 | Cost: 0.6922717 | Accuracy: 0.7857143 | Test Accuracy: 0.4000000 | Run Time: 12.3964446\n",
      "Iter:   82 | Cost: 0.6917135 | Accuracy: 0.7857143 | Test Accuracy: 0.4000000 | Run Time: 12.1799788\n",
      "Iter:   83 | Cost: 0.6911413 | Accuracy: 0.8142857 | Test Accuracy: 0.4333333 | Run Time: 12.4977639\n",
      "Iter:   84 | Cost: 0.6905565 | Accuracy: 0.8142857 | Test Accuracy: 0.4333333 | Run Time: 12.1557214\n",
      "Iter:   85 | Cost: 0.6899609 | Accuracy: 0.8142857 | Test Accuracy: 0.4333333 | Run Time: 12.2571497\n",
      "Iter:   86 | Cost: 0.6893563 | Accuracy: 0.8142857 | Test Accuracy: 0.4333333 | Run Time: 12.1936076\n",
      "Iter:   87 | Cost: 0.6887452 | Accuracy: 0.8142857 | Test Accuracy: 0.4333333 | Run Time: 12.4752157\n",
      "Iter:   88 | Cost: 0.6881301 | Accuracy: 0.8142857 | Test Accuracy: 0.4333333 | Run Time: 12.4381409\n",
      "Iter:   89 | Cost: 0.6875142 | Accuracy: 0.8142857 | Test Accuracy: 0.4333333 | Run Time: 11.9943106\n",
      "Iter:   90 | Cost: 0.6869005 | Accuracy: 0.8142857 | Test Accuracy: 0.4333333 | Run Time: 12.1542730\n",
      "Iter:   91 | Cost: 0.6862926 | Accuracy: 0.8142857 | Test Accuracy: 0.4333333 | Run Time: 12.6034710\n",
      "Iter:   92 | Cost: 0.6856942 | Accuracy: 0.8142857 | Test Accuracy: 0.4333333 | Run Time: 12.3413932\n",
      "Iter:   93 | Cost: 0.6851088 | Accuracy: 0.8000000 | Test Accuracy: 0.4000000 | Run Time: 11.9926641\n",
      "Iter:   94 | Cost: 0.6845401 | Accuracy: 0.8000000 | Test Accuracy: 0.4000000 | Run Time: 12.4900496\n",
      "Iter:   95 | Cost: 0.6839913 | Accuracy: 0.8000000 | Test Accuracy: 0.4000000 | Run Time: 12.2101479\n",
      "Iter:   96 | Cost: 0.6834656 | Accuracy: 0.7857143 | Test Accuracy: 0.4000000 | Run Time: 12.4953575\n",
      "Iter:   97 | Cost: 0.6829653 | Accuracy: 0.7857143 | Test Accuracy: 0.4000000 | Run Time: 12.1823537\n",
      "Iter:   98 | Cost: 0.6824921 | Accuracy: 0.7857143 | Test Accuracy: 0.4000000 | Run Time: 12.1990118\n",
      "Iter:   99 | Cost: 0.6820470 | Accuracy: 0.7857143 | Test Accuracy: 0.4000000 | Run Time: 12.1765456\n",
      "Iter:  100 | Cost: 0.6816302 | Accuracy: 0.7857143 | Test Accuracy: 0.4000000 | Run Time: 12.5981398\n",
      "Iter:  101 | Cost: 0.6812409 | Accuracy: 0.8000000 | Test Accuracy: 0.4333333 | Run Time: 12.4133470\n",
      "Iter:  102 | Cost: 0.6808776 | Accuracy: 0.8000000 | Test Accuracy: 0.4333333 | Run Time: 12.0662093\n",
      "Iter:  103 | Cost: 0.6805382 | Accuracy: 0.8142857 | Test Accuracy: 0.4000000 | Run Time: 12.2405660\n",
      "Iter:  104 | Cost: 0.6802200 | Accuracy: 0.8142857 | Test Accuracy: 0.4000000 | Run Time: 12.6624920\n",
      "Iter:  105 | Cost: 0.6799202 | Accuracy: 0.8142857 | Test Accuracy: 0.4000000 | Run Time: 12.3621130\n",
      "Iter:  106 | Cost: 0.6796358 | Accuracy: 0.8142857 | Test Accuracy: 0.4000000 | Run Time: 11.9178538\n",
      "Iter:  107 | Cost: 0.6793640 | Accuracy: 0.8142857 | Test Accuracy: 0.4000000 | Run Time: 12.5173845\n",
      "Iter:  108 | Cost: 0.6791021 | Accuracy: 0.8142857 | Test Accuracy: 0.4000000 | Run Time: 12.2343936\n",
      "Iter:  109 | Cost: 0.6788481 | Accuracy: 0.8142857 | Test Accuracy: 0.4000000 | Run Time: 12.5541315\n",
      "Iter:  110 | Cost: 0.6786003 | Accuracy: 0.8142857 | Test Accuracy: 0.4000000 | Run Time: 12.3025444\n",
      "Iter:  111 | Cost: 0.6783575 | Accuracy: 0.8285714 | Test Accuracy: 0.3666667 | Run Time: 12.3947833\n",
      "Iter:  112 | Cost: 0.6781190 | Accuracy: 0.8285714 | Test Accuracy: 0.3666667 | Run Time: 12.1351416\n",
      "Iter:  113 | Cost: 0.6778845 | Accuracy: 0.8285714 | Test Accuracy: 0.3666667 | Run Time: 12.4072316\n",
      "Iter:  114 | Cost: 0.6776539 | Accuracy: 0.8285714 | Test Accuracy: 0.3666667 | Run Time: 12.3936083\n",
      "Iter:  115 | Cost: 0.6774277 | Accuracy: 0.8285714 | Test Accuracy: 0.3666667 | Run Time: 12.1291556\n",
      "Iter:  116 | Cost: 0.6772062 | Accuracy: 0.8285714 | Test Accuracy: 0.3666667 | Run Time: 12.3751206\n",
      "Iter:  117 | Cost: 0.6769899 | Accuracy: 0.8285714 | Test Accuracy: 0.3666667 | Run Time: 12.6098325\n",
      "Iter:  118 | Cost: 0.6767795 | Accuracy: 0.8285714 | Test Accuracy: 0.3666667 | Run Time: 12.3922901\n",
      "Iter:  119 | Cost: 0.6765755 | Accuracy: 0.8285714 | Test Accuracy: 0.3666667 | Run Time: 11.9918349\n",
      "Iter:  120 | Cost: 0.6763782 | Accuracy: 0.8285714 | Test Accuracy: 0.3666667 | Run Time: 12.4634557\n",
      "Iter:  121 | Cost: 0.6761881 | Accuracy: 0.8285714 | Test Accuracy: 0.3666667 | Run Time: 12.2423820\n",
      "Iter:  122 | Cost: 0.6760054 | Accuracy: 0.8285714 | Test Accuracy: 0.3666667 | Run Time: 12.4380324\n",
      "Iter:  123 | Cost: 0.6758301 | Accuracy: 0.8285714 | Test Accuracy: 0.3666667 | Run Time: 12.2977586\n",
      "Iter:  124 | Cost: 0.6756623 | Accuracy: 0.8142857 | Test Accuracy: 0.4000000 | Run Time: 12.2928543\n",
      "Iter:  125 | Cost: 0.6755019 | Accuracy: 0.8142857 | Test Accuracy: 0.4000000 | Run Time: 12.1697447\n",
      "Iter:  126 | Cost: 0.6753487 | Accuracy: 0.8142857 | Test Accuracy: 0.4000000 | Run Time: 12.6240954\n",
      "Iter:  127 | Cost: 0.6752025 | Accuracy: 0.8142857 | Test Accuracy: 0.4000000 | Run Time: 12.3719981\n",
      "Iter:  128 | Cost: 0.6750629 | Accuracy: 0.8142857 | Test Accuracy: 0.4000000 | Run Time: 12.0510128\n",
      "Iter:  129 | Cost: 0.6749296 | Accuracy: 0.8142857 | Test Accuracy: 0.4000000 | Run Time: 12.1249838\n",
      "Iter:  130 | Cost: 0.6748022 | Accuracy: 0.8142857 | Test Accuracy: 0.4000000 | Run Time: 12.4668863\n",
      "Iter:  131 | Cost: 0.6746805 | Accuracy: 0.8142857 | Test Accuracy: 0.4000000 | Run Time: 12.3653231\n",
      "Iter:  132 | Cost: 0.6745639 | Accuracy: 0.8142857 | Test Accuracy: 0.4000000 | Run Time: 11.9023981\n",
      "Iter:  133 | Cost: 0.6744521 | Accuracy: 0.8142857 | Test Accuracy: 0.4000000 | Run Time: 12.5827699\n",
      "Iter:  134 | Cost: 0.6743448 | Accuracy: 0.8142857 | Test Accuracy: 0.4000000 | Run Time: 12.0940180\n",
      "Iter:  135 | Cost: 0.6742417 | Accuracy: 0.8142857 | Test Accuracy: 0.4000000 | Run Time: 12.3371024\n",
      "Iter:  136 | Cost: 0.6741424 | Accuracy: 0.8142857 | Test Accuracy: 0.4000000 | Run Time: 12.3167126\n",
      "Iter:  137 | Cost: 0.6740465 | Accuracy: 0.8142857 | Test Accuracy: 0.4000000 | Run Time: 12.2357726\n",
      "Iter:  138 | Cost: 0.6739539 | Accuracy: 0.8142857 | Test Accuracy: 0.4000000 | Run Time: 12.1025686\n",
      "Iter:  139 | Cost: 0.6738642 | Accuracy: 0.8142857 | Test Accuracy: 0.4000000 | Run Time: 12.5297234\n",
      "Iter:  140 | Cost: 0.6737773 | Accuracy: 0.8142857 | Test Accuracy: 0.4000000 | Run Time: 12.2573483\n",
      "Iter:  141 | Cost: 0.6736927 | Accuracy: 0.8142857 | Test Accuracy: 0.4000000 | Run Time: 12.1975229\n",
      "Iter:  142 | Cost: 0.6736104 | Accuracy: 0.8142857 | Test Accuracy: 0.4000000 | Run Time: 12.1711447\n",
      "Iter:  143 | Cost: 0.6735301 | Accuracy: 0.8142857 | Test Accuracy: 0.4000000 | Run Time: 12.4614258\n",
      "Iter:  144 | Cost: 0.6734516 | Accuracy: 0.8142857 | Test Accuracy: 0.4000000 | Run Time: 12.3205419\n",
      "Iter:  145 | Cost: 0.6733746 | Accuracy: 0.8142857 | Test Accuracy: 0.4000000 | Run Time: 11.9318452\n",
      "Iter:  146 | Cost: 0.6732991 | Accuracy: 0.8142857 | Test Accuracy: 0.4000000 | Run Time: 12.6579621\n",
      "Iter:  147 | Cost: 0.6732248 | Accuracy: 0.8000000 | Test Accuracy: 0.4000000 | Run Time: 12.1894176\n",
      "Iter:  148 | Cost: 0.6731516 | Accuracy: 0.8000000 | Test Accuracy: 0.4000000 | Run Time: 12.5537784\n",
      "Iter:  149 | Cost: 0.6730794 | Accuracy: 0.8000000 | Test Accuracy: 0.4000000 | Run Time: 12.3327405\n",
      "Iter:  150 | Cost: 0.6730079 | Accuracy: 0.8000000 | Test Accuracy: 0.4000000 | Run Time: 12.2060115\n"
     ]
    },
    {
     "data": {
      "image/png": "[encoded data removed]",
      "text/plain": [
       "<Figure size 1200x1000 with 3 Axes>"
      ]
     },
     "metadata": {},
     "output_type": "display_data"
    },
    {
     "name": "stdout",
     "output_type": "stream",
     "text": [
      "[[-1.13403440e+00 -3.33676303e-02  3.21433888e-01  8.27907357e-01\n",
      "   1.24132278e+00  1.65184557e-01  3.42519549e-01 -1.04705543e+00]\n",
      " [-4.56340440e-01  2.65367137e-01 -4.73178062e-01  5.27168715e-01\n",
      "   1.94307754e+00 -2.08780051e+00  3.00133341e-02 -1.82514011e-02]\n",
      " [ 1.00634000e+00 -1.64718974e+00  1.37699278e+00  2.80341150e-01\n",
      "  -1.33231660e-04  4.38035894e-05  6.99438546e-06  2.80537531e-05]\n",
      " [ 3.48075921e-01 -5.06236806e-01  7.79005029e-01 -1.25644100e+00\n",
      "   1.03839000e-01 -6.89795321e-02  3.50532879e-02  1.62214616e-01]]\n"
     ]
    }
   ],
   "source": [
    "import time\n",
    "learning_rate = [0.5]\n",
    "num_layers = [1]\n",
    "for n_layers in num_layers:\n",
    "    lrate = 0.5\n",
    "\n",
    "    opt = NesterovMomentumOptimizer(lrate)\n",
    "    current_cost_list = []\n",
    "    acc_list = []\n",
    "    test_acc_list = []\n",
    "    epoch = []\n",
    "    for it in range(150):\n",
    "        start_time = time.time()\n",
    "\n",
    "        # Update the weights by one optimizer step, using only a limited batch of data\n",
    "        gradient_value, current_cost = opt.compute_grad(objective_fn=cost, args=params, kwargs={\"X\": X, \"Y\": Y})\n",
    "        params = opt.apply_grad(grad=gradient_value, args=params)\n",
    "        current_cost_list.append(current_cost)\n",
    "        weights = params[0]\n",
    "        # Compute accuracy on train\n",
    "        predictions = [np.sign(full_circuit(x,weights)) for x in X]\n",
    "        acc = accuracy(Y, predictions)\n",
    "        acc_list.append(acc)\n",
    "\n",
    "        # Compute accuracy on test\n",
    "        predictions_test = [np.sign(full_circuit(x,weights,)) for x in X_dev]\n",
    "        test_acc = accuracy(Y_dev, predictions)\n",
    "        test_acc_list.append(test_acc)\n",
    "        epoch.append(it)\n",
    "\n",
    "        # Redraw the updated plot\n",
    "        end_time = time.time() - start_time\n",
    "        print(f\"Iter: {it+1:4d} | Cost: {current_cost:0.7f} | Accuracy: {acc:0.7f} | Test Accuracy: {test_acc:0.7f} | Run Time: {end_time:0.7f}\")\n",
    "    draw_result(current_cost_list,acc_list,test_acc_list,epoch,lrate,n_layers)\n",
    "    print(weights)"
   ]
  },
  {
   "cell_type": "code",
   "execution_count": 16,
   "id": "e17a3194",
   "metadata": {
    "execution": {
     "iopub.execute_input": "2025-04-29T04:01:02.811244Z",
     "iopub.status.busy": "2025-04-29T04:01:02.811002Z",
     "iopub.status.idle": "2025-04-29T04:01:04.320298Z",
     "shell.execute_reply": "2025-04-29T04:01:04.319361Z"
    },
    "id": "yxRI9AAM_sn8",
    "outputId": "ad1f52b8-5e88-4e3b-db2c-251f99651a8c",
    "papermill": {
     "duration": 1.521741,
     "end_time": "2025-04-29T04:01:04.321472",
     "exception": false,
     "start_time": "2025-04-29T04:01:02.799731",
     "status": "completed"
    },
    "tags": []
   },
   "outputs": [
    {
     "name": "stdout",
     "output_type": "stream",
     "text": [
      "Final test, accuracy_test: 0.4666666666666667\n"
     ]
    }
   ],
   "source": [
    "# Compute accuracy\n",
    "weights = params[0]\n",
    "predictions = [np.sign(full_circuit(x,weights)) for x in X_test]\n",
    "acc = accuracy(Y_test, predictions)\n",
    "print(f\"Final test, accuracy_test: {acc}\")"
   ]
  },
  {
   "cell_type": "code",
   "execution_count": null,
   "id": "86371831",
   "metadata": {
    "id": "yUI2mgpBIRYp",
    "papermill": {
     "duration": 0.010421,
     "end_time": "2025-04-29T04:01:04.342793",
     "exception": false,
     "start_time": "2025-04-29T04:01:04.332372",
     "status": "completed"
    },
    "tags": []
   },
   "outputs": [],
   "source": []
  }
 ],
 "metadata": {
  "colab": {
   "provenance": []
  },
  "kaggle": {
   "accelerator": "none",
   "dataSources": [
    {
     "datasetId": 6593060,
     "sourceId": 10648027,
     "sourceType": "datasetVersion"
    }
   ],
   "dockerImageVersionId": 30886,
   "isGpuEnabled": false,
   "isInternetEnabled": true,
   "language": "python",
   "sourceType": "notebook"
  },
  "kernelspec": {
   "display_name": "Python 3",
   "language": "python",
   "name": "python3"
  },
  "language_info": {
   "codemirror_mode": {
    "name": "ipython",
    "version": 3
   },
   "file_extension": ".py",
   "mimetype": "text/x-python",
   "name": "python",
   "nbconvert_exporter": "python",
   "pygments_lexer": "ipython3",
   "version": "3.10.12"
  },
  "papermill": {
   "default_parameters": {},
   "duration": 1870.965085,
   "end_time": "2025-04-29T04:01:05.875869",
   "environment_variables": {},
   "exception": null,
   "input_path": "__notebook__.ipynb",
   "output_path": "__notebook__.ipynb",
   "parameters": {},
   "start_time": "2025-04-29T03:29:54.910784",
   "version": "2.6.0"
  }
 },
 "nbformat": 4,
 "nbformat_minor": 5
}
