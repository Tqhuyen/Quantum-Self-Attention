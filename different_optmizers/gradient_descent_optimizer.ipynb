{
 "cells": [
  {
   "cell_type": "code",
   "execution_count": 1,
   "id": "10dd6052",
   "metadata": {
    "execution": {
     "iopub.execute_input": "2025-02-10T15:11:26.363949Z",
     "iopub.status.busy": "2025-02-10T15:11:26.363473Z",
     "iopub.status.idle": "2025-02-10T15:11:35.777838Z",
     "shell.execute_reply": "2025-02-10T15:11:35.776372Z"
    },
    "id": "MbEyJMHaW9w7",
    "outputId": "8edd0afc-dd65-408c-b624-fea1e6874d8b",
    "papermill": {
     "duration": 9.424224,
     "end_time": "2025-02-10T15:11:35.780234",
     "exception": false,
     "start_time": "2025-02-10T15:11:26.356010",
     "status": "completed"
    },
    "tags": []
   },
   "outputs": [
    {
     "name": "stdout",
     "output_type": "stream",
     "text": [
      "Collecting pennylane\r\n",
      "  Downloading PennyLane-0.40.0-py3-none-any.whl.metadata (10 kB)\r\n",
      "Requirement already satisfied: numpy<2.1 in /usr/local/lib/python3.10/dist-packages (from pennylane) (1.26.4)\r\n",
      "Requirement already satisfied: scipy in /usr/local/lib/python3.10/dist-packages (from pennylane) (1.13.1)\r\n",
      "Requirement already satisfied: networkx in /usr/local/lib/python3.10/dist-packages (from pennylane) (3.4.2)\r\n",
      "Collecting rustworkx>=0.14.0 (from pennylane)\r\n",
      "  Downloading rustworkx-0.16.0-cp39-abi3-manylinux_2_17_x86_64.manylinux2014_x86_64.whl.metadata (10 kB)\r\n",
      "Requirement already satisfied: autograd in /usr/local/lib/python3.10/dist-packages (from pennylane) (1.7.0)\r\n",
      "Collecting tomlkit (from pennylane)\r\n",
      "  Downloading tomlkit-0.13.2-py3-none-any.whl.metadata (2.7 kB)\r\n",
      "Collecting appdirs (from pennylane)\r\n",
      "  Downloading appdirs-1.4.4-py2.py3-none-any.whl.metadata (9.0 kB)\r\n",
      "Collecting autoray>=0.6.11 (from pennylane)\r\n",
      "  Downloading autoray-0.7.0-py3-none-any.whl.metadata (5.8 kB)\r\n",
      "Requirement already satisfied: cachetools in /usr/local/lib/python3.10/dist-packages (from pennylane) (5.5.0)\r\n",
      "Collecting pennylane-lightning>=0.40 (from pennylane)\r\n",
      "  Downloading PennyLane_Lightning-0.40.0-cp310-cp310-manylinux_2_28_x86_64.whl.metadata (27 kB)\r\n",
      "Requirement already satisfied: requests in /usr/local/lib/python3.10/dist-packages (from pennylane) (2.32.3)\r\n",
      "Requirement already satisfied: typing-extensions in /usr/local/lib/python3.10/dist-packages (from pennylane) (4.12.2)\r\n",
      "Requirement already satisfied: packaging in /usr/local/lib/python3.10/dist-packages (from pennylane) (24.2)\r\n",
      "Collecting diastatic-malt (from pennylane)\r\n",
      "  Downloading diastatic_malt-2.15.2-py3-none-any.whl.metadata (2.6 kB)\r\n",
      "Requirement already satisfied: mkl_fft in /usr/local/lib/python3.10/dist-packages (from numpy<2.1->pennylane) (1.3.8)\r\n",
      "Requirement already satisfied: mkl_random in /usr/local/lib/python3.10/dist-packages (from numpy<2.1->pennylane) (1.2.4)\r\n",
      "Requirement already satisfied: mkl_umath in /usr/local/lib/python3.10/dist-packages (from numpy<2.1->pennylane) (0.1.1)\r\n",
      "Requirement already satisfied: mkl in /usr/local/lib/python3.10/dist-packages (from numpy<2.1->pennylane) (2025.0.1)\r\n",
      "Requirement already satisfied: tbb4py in /usr/local/lib/python3.10/dist-packages (from numpy<2.1->pennylane) (2022.0.0)\r\n",
      "Requirement already satisfied: mkl-service in /usr/local/lib/python3.10/dist-packages (from numpy<2.1->pennylane) (2.4.1)\r\n",
      "Collecting scipy-openblas32>=0.3.26 (from pennylane-lightning>=0.40->pennylane)\r\n",
      "  Downloading scipy_openblas32-0.3.29.0.0-py3-none-manylinux_2_17_x86_64.manylinux2014_x86_64.whl.metadata (56 kB)\r\n",
      "\u001b[2K     \u001b[90m━━━━━━━━━━━━━━━━━━━━━━━━━━━━━━━━━━━━━━━━\u001b[0m \u001b[32m56.1/56.1 kB\u001b[0m \u001b[31m2.4 MB/s\u001b[0m eta \u001b[36m0:00:00\u001b[0m\r\n",
      "\u001b[?25hRequirement already satisfied: astunparse in /usr/local/lib/python3.10/dist-packages (from diastatic-malt->pennylane) (1.6.3)\r\n",
      "Requirement already satisfied: gast in /usr/local/lib/python3.10/dist-packages (from diastatic-malt->pennylane) (0.6.0)\r\n",
      "Requirement already satisfied: termcolor in /usr/local/lib/python3.10/dist-packages (from diastatic-malt->pennylane) (2.5.0)\r\n",
      "Requirement already satisfied: charset-normalizer<4,>=2 in /usr/local/lib/python3.10/dist-packages (from requests->pennylane) (3.4.1)\r\n",
      "Requirement already satisfied: idna<4,>=2.5 in /usr/local/lib/python3.10/dist-packages (from requests->pennylane) (3.10)\r\n",
      "Requirement already satisfied: urllib3<3,>=1.21.1 in /usr/local/lib/python3.10/dist-packages (from requests->pennylane) (2.3.0)\r\n",
      "Requirement already satisfied: certifi>=2017.4.17 in /usr/local/lib/python3.10/dist-packages (from requests->pennylane) (2025.1.31)\r\n",
      "Requirement already satisfied: wheel<1.0,>=0.23.0 in /usr/local/lib/python3.10/dist-packages (from astunparse->diastatic-malt->pennylane) (0.45.1)\r\n",
      "Requirement already satisfied: six<2.0,>=1.6.1 in /usr/local/lib/python3.10/dist-packages (from astunparse->diastatic-malt->pennylane) (1.17.0)\r\n",
      "Requirement already satisfied: intel-openmp>=2024 in /usr/local/lib/python3.10/dist-packages (from mkl->numpy<2.1->pennylane) (2024.2.0)\r\n",
      "Requirement already satisfied: tbb==2022.* in /usr/local/lib/python3.10/dist-packages (from mkl->numpy<2.1->pennylane) (2022.0.0)\r\n",
      "Requirement already satisfied: tcmlib==1.* in /usr/local/lib/python3.10/dist-packages (from tbb==2022.*->mkl->numpy<2.1->pennylane) (1.2.0)\r\n",
      "Requirement already satisfied: intel-cmplr-lib-rt in /usr/local/lib/python3.10/dist-packages (from mkl_umath->numpy<2.1->pennylane) (2024.2.0)\r\n",
      "Requirement already satisfied: intel-cmplr-lib-ur==2024.2.0 in /usr/local/lib/python3.10/dist-packages (from intel-openmp>=2024->mkl->numpy<2.1->pennylane) (2024.2.0)\r\n",
      "Downloading PennyLane-0.40.0-py3-none-any.whl (2.0 MB)\r\n",
      "\u001b[2K   \u001b[90m━━━━━━━━━━━━━━━━━━━━━━━━━━━━━━━━━━━━━━━━\u001b[0m \u001b[32m2.0/2.0 MB\u001b[0m \u001b[31m35.7 MB/s\u001b[0m eta \u001b[36m0:00:00\u001b[0m\r\n",
      "\u001b[?25hDownloading autoray-0.7.0-py3-none-any.whl (930 kB)\r\n",
      "\u001b[2K   \u001b[90m━━━━━━━━━━━━━━━━━━━━━━━━━━━━━━━━━━━━━━━━\u001b[0m \u001b[32m930.0/930.0 kB\u001b[0m \u001b[31m34.2 MB/s\u001b[0m eta \u001b[36m0:00:00\u001b[0m\r\n",
      "\u001b[?25hDownloading PennyLane_Lightning-0.40.0-cp310-cp310-manylinux_2_28_x86_64.whl (2.4 MB)\r\n",
      "\u001b[2K   \u001b[90m━━━━━━━━━━━━━━━━━━━━━━━━━━━━━━━━━━━━━━━━\u001b[0m \u001b[32m2.4/2.4 MB\u001b[0m \u001b[31m58.0 MB/s\u001b[0m eta \u001b[36m0:00:00\u001b[0m\r\n",
      "\u001b[?25hDownloading rustworkx-0.16.0-cp39-abi3-manylinux_2_17_x86_64.manylinux2014_x86_64.whl (2.1 MB)\r\n",
      "\u001b[2K   \u001b[90m━━━━━━━━━━━━━━━━━━━━━━━━━━━━━━━━━━━━━━━━\u001b[0m \u001b[32m2.1/2.1 MB\u001b[0m \u001b[31m54.8 MB/s\u001b[0m eta \u001b[36m0:00:00\u001b[0m\r\n",
      "\u001b[?25hDownloading appdirs-1.4.4-py2.py3-none-any.whl (9.6 kB)\r\n",
      "Downloading diastatic_malt-2.15.2-py3-none-any.whl (167 kB)\r\n",
      "\u001b[2K   \u001b[90m━━━━━━━━━━━━━━━━━━━━━━━━━━━━━━━━━━━━━━━━\u001b[0m \u001b[32m167.9/167.9 kB\u001b[0m \u001b[31m8.0 MB/s\u001b[0m eta \u001b[36m0:00:00\u001b[0m\r\n",
      "\u001b[?25hDownloading tomlkit-0.13.2-py3-none-any.whl (37 kB)\r\n",
      "Downloading scipy_openblas32-0.3.29.0.0-py3-none-manylinux_2_17_x86_64.manylinux2014_x86_64.whl (8.6 MB)\r\n",
      "\u001b[2K   \u001b[90m━━━━━━━━━━━━━━━━━━━━━━━━━━━━━━━━━━━━━━━━\u001b[0m \u001b[32m8.6/8.6 MB\u001b[0m \u001b[31m79.1 MB/s\u001b[0m eta \u001b[36m0:00:00\u001b[0m\r\n",
      "\u001b[?25hInstalling collected packages: appdirs, tomlkit, scipy-openblas32, autoray, diastatic-malt, rustworkx, pennylane-lightning, pennylane\r\n",
      "Successfully installed appdirs-1.4.4 autoray-0.7.0 diastatic-malt-2.15.2 pennylane-0.40.0 pennylane-lightning-0.40.0 rustworkx-0.16.0 scipy-openblas32-0.3.29.0.0 tomlkit-0.13.2\r\n"
     ]
    }
   ],
   "source": [
    "!pip install pennylane --upgrade"
   ]
  },
  {
   "cell_type": "code",
   "execution_count": 2,
   "id": "78e931f8",
   "metadata": {
    "execution": {
     "iopub.execute_input": "2025-02-10T15:11:35.797061Z",
     "iopub.status.busy": "2025-02-10T15:11:35.796694Z",
     "iopub.status.idle": "2025-02-10T15:11:56.423392Z",
     "shell.execute_reply": "2025-02-10T15:11:56.422188Z"
    },
    "id": "u1g8haeSUioZ",
    "papermill": {
     "duration": 20.637238,
     "end_time": "2025-02-10T15:11:56.425503",
     "exception": false,
     "start_time": "2025-02-10T15:11:35.788265",
     "status": "completed"
    },
    "tags": []
   },
   "outputs": [],
   "source": [
    "import pennylane as qml\n",
    "from pennylane import numpy as np\n",
    "from pennylane.optimize import NesterovMomentumOptimizer, GradientDescentOptimizer, AdaptiveOptimizer\n",
    "import tensorflow as tf"
   ]
  },
  {
   "cell_type": "code",
   "execution_count": 3,
   "id": "f5c7b0e8",
   "metadata": {
    "execution": {
     "iopub.execute_input": "2025-02-10T15:11:56.441944Z",
     "iopub.status.busy": "2025-02-10T15:11:56.440935Z",
     "iopub.status.idle": "2025-02-10T15:11:57.253640Z",
     "shell.execute_reply": "2025-02-10T15:11:57.252570Z"
    },
    "papermill": {
     "duration": 0.822891,
     "end_time": "2025-02-10T15:11:57.255812",
     "exception": false,
     "start_time": "2025-02-10T15:11:56.432921",
     "status": "completed"
    },
    "tags": []
   },
   "outputs": [
    {
     "name": "stderr",
     "output_type": "stream",
     "text": [
      "/usr/local/lib/python3.10/dist-packages/keras/src/layers/core/embedding.py:90: UserWarning: Argument `input_length` is deprecated. Just remove it.\n",
      "  warnings.warn(\n"
     ]
    },
    {
     "name": "stdout",
     "output_type": "stream",
     "text": [
      "\u001b[1m3/3\u001b[0m \u001b[32m━━━━━━━━━━━━━━━━━━━━\u001b[0m\u001b[37m\u001b[0m \u001b[1m0s\u001b[0m 15ms/step \n",
      "\u001b[1m1/1\u001b[0m \u001b[32m━━━━━━━━━━━━━━━━━━━━\u001b[0m\u001b[37m\u001b[0m \u001b[1m0s\u001b[0m 109ms/step\n",
      "\u001b[1m1/1\u001b[0m \u001b[32m━━━━━━━━━━━━━━━━━━━━\u001b[0m\u001b[37m\u001b[0m \u001b[1m0s\u001b[0m 107ms/step\n"
     ]
    }
   ],
   "source": [
    "#******************************************\n",
    "# Data import\n",
    "#******************************************\n",
    "\n",
    "# import train, dev and test datasets: the data entries are all strings of the form 'label sentence' \n",
    "# with the label in {0,1} and with the sentence of the form \"word1_POStag1 word2_POStag2 ...\"\n",
    "\n",
    "with open('/kaggle/input/mc-and-rp-dataset-for-quantum-computing-qnlp/mc_train_data.txt') as f:\n",
    "    training_data_raw = f.readlines()\n",
    "\n",
    "with open('/kaggle/input/mc-and-rp-dataset-for-quantum-computing-qnlp/mc_dev_data.txt') as f:\n",
    "    dev_data_raw = f.readlines()\n",
    "\n",
    "with open('/kaggle/input/mc-and-rp-dataset-for-quantum-computing-qnlp/mc_test_data.txt') as f:\n",
    "    testing_data_raw = f.readlines()\n",
    "#***************************************************************\n",
    "# Turn the raw input data into data structures convenient below\n",
    "#***************************************************************\n",
    "\n",
    "vocab = dict()          # dictionary to be filled with the vocabulary in the form { word : POStag }\n",
    "data = dict()           # dictionary to be filled with all the data (train, dev and test subsets); entries of the \n",
    "                        # form { sentence : label } with label encoding '1' as [1.0, 0.0] and '0' as [0.0, 1.0]\n",
    "training_data = []      # list of sentences in the train dataset as strings \"word1 word2 ...\"\n",
    "dev_data = []           # list of sentences in the dev dataset as strings \"word1 word2 ...\"\n",
    "testing_data = []       # list of sentences in the test dataset as strings \"word1 word2 ...\"\n",
    "training_data_label = []      # list of sentences in the train dataset as strings \"word1 word2 ...\"\n",
    "dev_data_label = []           # list of sentences in the dev dataset as strings \"word1 word2 ...\"\n",
    "testing_data_label = []\n",
    "# Go through the train data\n",
    "for sent in training_data_raw:\n",
    "    words = sent[2:].split() \n",
    "    sent_untagged = ''\n",
    "    for word in words:\n",
    "        word_untagged, tag = word.split('_')\n",
    "        vocab[word_untagged] = tag\n",
    "        sent_untagged += word_untagged + ' '\n",
    "    sentence = sent_untagged[:-1]\n",
    "    training_data.append(sentence)\n",
    "    label = 1.0 if sent[0] == '1' else -1.0\n",
    "    training_data_label.append(label)\n",
    "\n",
    "# Go through the dev data\n",
    "for sent in dev_data_raw:\n",
    "    words = sent[2:].split() \n",
    "    sent_untagged = ''\n",
    "    for word in words:\n",
    "        word_untagged, tag = word.split('_')\n",
    "        vocab[word_untagged] = tag\n",
    "        sent_untagged += word_untagged + ' '\n",
    "    sentence = sent_untagged[:-1]\n",
    "    dev_data.append(sentence)\n",
    "    label = 1.0 if sent[0] == '1' else -1.0\n",
    "    dev_data_label.append(label)\n",
    "    \n",
    "# Go through the test data\n",
    "for sent in testing_data_raw:\n",
    "    words = sent[2:].split() \n",
    "    sent_untagged = ''\n",
    "    for word in words:\n",
    "        word_untagged, tag = word.split('_')\n",
    "        vocab[word_untagged] = tag\n",
    "        sent_untagged += word_untagged + ' '\n",
    "    sentence = sent_untagged[:-1]\n",
    "    testing_data.append(sentence)\n",
    "    label = 1.0 if sent[0] == '1' else -1.0\n",
    "    testing_data_label.append(label)\n",
    "import tensorflow as tf\n",
    "from tensorflow.keras.preprocessing.text import Tokenizer\n",
    "from tensorflow.keras.preprocessing.sequence import pad_sequences\n",
    "from tensorflow.keras.models import Sequential\n",
    "from tensorflow.keras.layers import Embedding\n",
    "\n",
    "def embedding_sentece(data_list):\n",
    "    sentences = data_list\n",
    "    tokenizer = Tokenizer()\n",
    "    tokenizer.fit_on_texts(sentences)  \n",
    "    word_index = tokenizer.word_index  \n",
    "    vocab_size = len(word_index) + 1  # Số lượng từ vựng (+1 cho padding)\n",
    "    sequences = tokenizer.texts_to_sequences(sentences)\n",
    "\n",
    "    max_length = max(len(seq) for seq in sequences)  # Độ dài tối đa\n",
    "    padded_sequences = pad_sequences(sequences, maxlen=max_length, padding='post')\n",
    "    \n",
    "    embedding_dim = 4  # Chọn số chiều của vector embedding\n",
    "    \n",
    "    model = Sequential([\n",
    "        Embedding(input_dim=vocab_size, output_dim=embedding_dim, input_length=max_length)\n",
    "    ])\n",
    "    \n",
    "    output = model.predict(padded_sequences)\n",
    "    return output\n",
    "X = np.array(embedding_sentece(training_data), dtype='float64')\n",
    "Y = np.array(training_data_label)\n",
    "X_dev = np.array(embedding_sentece(dev_data), dtype='float64')\n",
    "Y_dev = np.array(dev_data_label)\n",
    "X_test = np.array(embedding_sentece(testing_data), dtype='float64')\n",
    "Y_test = np.array(testing_data_label)\n",
    "X = X.reshape(-1,16)\n",
    "X_dev = X_dev.reshape(-1,16)\n",
    "X_test = X_test.reshape(-1,16)"
   ]
  },
  {
   "cell_type": "code",
   "execution_count": 4,
   "id": "069a1292",
   "metadata": {
    "execution": {
     "iopub.execute_input": "2025-02-10T15:11:57.273857Z",
     "iopub.status.busy": "2025-02-10T15:11:57.273477Z",
     "iopub.status.idle": "2025-02-10T15:11:57.277992Z",
     "shell.execute_reply": "2025-02-10T15:11:57.276863Z"
    },
    "papermill": {
     "duration": 0.014934,
     "end_time": "2025-02-10T15:11:57.279791",
     "exception": false,
     "start_time": "2025-02-10T15:11:57.264857",
     "status": "completed"
    },
    "tags": []
   },
   "outputs": [],
   "source": [
    "X = X[:50]\n",
    "Y = Y[:50]"
   ]
  },
  {
   "cell_type": "code",
   "execution_count": 5,
   "id": "859d042d",
   "metadata": {
    "execution": {
     "iopub.execute_input": "2025-02-10T15:11:57.295850Z",
     "iopub.status.busy": "2025-02-10T15:11:57.295505Z",
     "iopub.status.idle": "2025-02-10T15:11:57.302078Z",
     "shell.execute_reply": "2025-02-10T15:11:57.300832Z"
    },
    "id": "9ZrZHnIeXGAD",
    "papermill": {
     "duration": 0.016676,
     "end_time": "2025-02-10T15:11:57.304092",
     "exception": false,
     "start_time": "2025-02-10T15:11:57.287416",
     "status": "completed"
    },
    "tags": []
   },
   "outputs": [],
   "source": [
    "dev = qml.device('default.qubit', wires=17)\n",
    "\n",
    "def state_preparation(f=None):\n",
    "    qml.AmplitudeEmbedding(features=f, wires=[0,1,2,3], normalize=True)\n",
    "    qml.AmplitudeEmbedding(features=f, wires=[4,5,6,7], normalize=True)\n",
    "    qml.AmplitudeEmbedding(features=f, wires=[8,9,10,11], normalize=True)"
   ]
  },
  {
   "cell_type": "code",
   "execution_count": 6,
   "id": "65e95cbd",
   "metadata": {
    "execution": {
     "iopub.execute_input": "2025-02-10T15:11:57.321088Z",
     "iopub.status.busy": "2025-02-10T15:11:57.320710Z",
     "iopub.status.idle": "2025-02-10T15:11:57.326843Z",
     "shell.execute_reply": "2025-02-10T15:11:57.325746Z"
    },
    "id": "2JL2UMuZ56Sm",
    "papermill": {
     "duration": 0.016697,
     "end_time": "2025-02-10T15:11:57.328748",
     "exception": false,
     "start_time": "2025-02-10T15:11:57.312051",
     "status": "completed"
    },
    "tags": []
   },
   "outputs": [],
   "source": [
    "def unitary_embedding(theta_list: list):\n",
    "  '''\n",
    "  theta_list: list of theta\n",
    "  '''\n",
    "  for i in range(len(theta_list)):\n",
    "    qml.RY(theta_list[i], wires=[i])\n",
    "  for i in range(len(theta_list)-1):\n",
    "    c = i\n",
    "    if c == len(theta_list)-1:\n",
    "      f = 0\n",
    "    else:\n",
    "      f = c+1\n",
    "    qml.CNOT(wires=[c,f])"
   ]
  },
  {
   "cell_type": "code",
   "execution_count": 7,
   "id": "7859a29f",
   "metadata": {
    "execution": {
     "iopub.execute_input": "2025-02-10T15:11:57.345414Z",
     "iopub.status.busy": "2025-02-10T15:11:57.345049Z",
     "iopub.status.idle": "2025-02-10T15:11:57.350274Z",
     "shell.execute_reply": "2025-02-10T15:11:57.349240Z"
    },
    "papermill": {
     "duration": 0.015426,
     "end_time": "2025-02-10T15:11:57.351892",
     "exception": false,
     "start_time": "2025-02-10T15:11:57.336466",
     "status": "completed"
    },
    "tags": []
   },
   "outputs": [],
   "source": [
    "def combine_unitary_embedding(number_layer, theta_list):\n",
    "  '''\n",
    "  len(theta_list) = number_layer\n",
    "  theta_list elem = \n",
    "  '''\n",
    "  for i in range(len(theta_list[0])):\n",
    "    qml.H(wires=[i])\n",
    "  for layer in range(number_layer):\n",
    "    unitary_embedding(theta_list[layer])"
   ]
  },
  {
   "cell_type": "code",
   "execution_count": 8,
   "id": "d4facd76",
   "metadata": {
    "execution": {
     "iopub.execute_input": "2025-02-10T15:11:57.368898Z",
     "iopub.status.busy": "2025-02-10T15:11:57.368507Z",
     "iopub.status.idle": "2025-02-10T15:11:57.373521Z",
     "shell.execute_reply": "2025-02-10T15:11:57.372400Z"
    },
    "id": "z5cGe_yzARyc",
    "papermill": {
     "duration": 0.015521,
     "end_time": "2025-02-10T15:11:57.375272",
     "exception": false,
     "start_time": "2025-02-10T15:11:57.359751",
     "status": "completed"
    },
    "tags": []
   },
   "outputs": [],
   "source": [
    "def barbell_operation(wires_1, wires_2):\n",
    "  '''\n",
    "  swap Q to second register group\n",
    "  '''\n",
    "  for i, j in zip(wires_1, wires_2):\n",
    "    qml.SWAP(wires=[i,j])"
   ]
  },
  {
   "cell_type": "code",
   "execution_count": 9,
   "id": "9852e2b7",
   "metadata": {
    "execution": {
     "iopub.execute_input": "2025-02-10T15:11:57.392002Z",
     "iopub.status.busy": "2025-02-10T15:11:57.391648Z",
     "iopub.status.idle": "2025-02-10T15:11:57.397157Z",
     "shell.execute_reply": "2025-02-10T15:11:57.395681Z"
    },
    "id": "NmCq3kW7ct4E",
    "papermill": {
     "duration": 0.016537,
     "end_time": "2025-02-10T15:11:57.399411",
     "exception": false,
     "start_time": "2025-02-10T15:11:57.382874",
     "status": "completed"
    },
    "tags": []
   },
   "outputs": [],
   "source": [
    "def QLS_module(wires_control_1, wires_control_2, wires_result):\n",
    "  for i, j, k in zip(wires_control_1, wires_control_2, wires_result):\n",
    "    qml.Toffoli(wires=[i,j,k])\n",
    "  for i in range(len(wires_result)-2):\n",
    "    qml.CNOT(wires=[wires_result[i],wires_result[i+1]])"
   ]
  },
  {
   "cell_type": "code",
   "execution_count": 10,
   "id": "94481ec7",
   "metadata": {
    "execution": {
     "iopub.execute_input": "2025-02-10T15:11:57.416570Z",
     "iopub.status.busy": "2025-02-10T15:11:57.416218Z",
     "iopub.status.idle": "2025-02-10T15:11:57.421237Z",
     "shell.execute_reply": "2025-02-10T15:11:57.419900Z"
    },
    "id": "utSeMaEAdBmB",
    "outputId": "7eeb8e85-3cee-437e-90a1-008a2eee9fd3",
    "papermill": {
     "duration": 0.016104,
     "end_time": "2025-02-10T15:11:57.423516",
     "exception": false,
     "start_time": "2025-02-10T15:11:57.407412",
     "status": "completed"
    },
    "tags": []
   },
   "outputs": [],
   "source": [
    "def multicontrol_slice(wires_qls, wires_q):\n",
    "  for i in wires_q:\n",
    "    qml.MultiControlledX(wires=[*wires_qls,i])\n",
    "# print(qml.draw(multicontrol_slice)([12,13,14,15], [0,1,2,3]))"
   ]
  },
  {
   "cell_type": "code",
   "execution_count": 11,
   "id": "5f8a612d",
   "metadata": {
    "execution": {
     "iopub.execute_input": "2025-02-10T15:11:57.440560Z",
     "iopub.status.busy": "2025-02-10T15:11:57.440104Z",
     "iopub.status.idle": "2025-02-10T15:11:57.446043Z",
     "shell.execute_reply": "2025-02-10T15:11:57.444617Z"
    },
    "papermill": {
     "duration": 0.016428,
     "end_time": "2025-02-10T15:11:57.447894",
     "exception": false,
     "start_time": "2025-02-10T15:11:57.431466",
     "status": "completed"
    },
    "tags": []
   },
   "outputs": [],
   "source": [
    "def swap_test_layer(wires_1, wires_2, controll_wires):\n",
    "    qml.H(wires=controll_wires)\n",
    "    for w1, w2 in zip(wires_1, wires_2):\n",
    "        qml.CSWAP(wires=[controll_wires,w1,w2])\n",
    "    qml.H(wires=controll_wires)"
   ]
  },
  {
   "cell_type": "code",
   "execution_count": 12,
   "id": "1e4ead44",
   "metadata": {
    "execution": {
     "iopub.execute_input": "2025-02-10T15:11:57.464467Z",
     "iopub.status.busy": "2025-02-10T15:11:57.463955Z",
     "iopub.status.idle": "2025-02-10T15:11:57.473239Z",
     "shell.execute_reply": "2025-02-10T15:11:57.471856Z"
    },
    "id": "UYCqcjbzdy_y",
    "papermill": {
     "duration": 0.019931,
     "end_time": "2025-02-10T15:11:57.475151",
     "exception": false,
     "start_time": "2025-02-10T15:11:57.455220",
     "status": "completed"
    },
    "tags": []
   },
   "outputs": [],
   "source": [
    "# define circuit and start train and implement\n",
    "@qml.qnode(dev)\n",
    "def full_circuit(x, weights,parameters, num_layers=1):\n",
    "  '''\n",
    "  weight = [theta_q, theta_k, theta_v]\n",
    "  3x4\n",
    "  theta_q: 4x1\n",
    "  theta_k: 4x1\n",
    "  theta_v: 4x1\n",
    "\n",
    "  '''\n",
    "  state_preparation(f=x)\n",
    "  # step 1: prepare Q\n",
    "  combine_unitary_embedding(number_layer=num_layers, theta_list=weights[0])\n",
    "  # step 2: swap Q and register\n",
    "  wires_1 = [0,1,2,3]\n",
    "  wires_2 = [4,5,6,7]\n",
    "  barbell_operation(wires_1, wires_2)\n",
    "\n",
    "  # step 3: prepare K\n",
    "  combine_unitary_embedding(number_layer=num_layers, theta_list=weights[1])\n",
    "\n",
    "  # step 4: swap K\n",
    "  wires_1 = [0,1,2,3]\n",
    "  wires_2 = [8,9,10,11]\n",
    "  barbell_operation(wires_1, wires_2)\n",
    "\n",
    "  # step 5: QLS Module\n",
    "  wires_control_1, wires_control_2, wires_result = [0,1,2,3], [4,5,6,7], [12,13,14,15]\n",
    "  QLS_module(wires_control_1, wires_control_2, wires_result)\n",
    "\n",
    "\n",
    "  #step 6: prepare V\n",
    "  combine_unitary_embedding(number_layer=num_layers, theta_list=weights[2])\n",
    "\n",
    "  # step 7: the entanglement compression operation\n",
    "  # do nothing if n == 1\n",
    "\n",
    "  # step 8: slicing operation\n",
    "  wires_qls, wires_q = [12,13,14,15], [4,5,6,7]\n",
    "  multicontrol_slice(wires_qls, wires_q)\n",
    "\n",
    "  # step 8.2: swap test operation\n",
    "  # wires_qls, wires_q = [12,13,14,15], [0,1,2,3]\n",
    "  # controll_qubit = 16\n",
    "  # swap_test_layer(wires_qls, wires_q, controll_qubit)\n",
    "  # step8.3: another QNN\n",
    "  qml.StronglyEntanglingLayers(weights=parameters, wires=range(8))\n",
    "  # step 9: meseaurement\n",
    "  observable = qml.PauliZ(0)\n",
    "  return qml.expval(observable)"
   ]
  },
  {
   "cell_type": "code",
   "execution_count": 13,
   "id": "d7d3b883",
   "metadata": {
    "execution": {
     "iopub.execute_input": "2025-02-10T15:11:57.491530Z",
     "iopub.status.busy": "2025-02-10T15:11:57.491074Z",
     "iopub.status.idle": "2025-02-10T15:11:57.499834Z",
     "shell.execute_reply": "2025-02-10T15:11:57.498589Z"
    },
    "papermill": {
     "duration": 0.019268,
     "end_time": "2025-02-10T15:11:57.501622",
     "exception": false,
     "start_time": "2025-02-10T15:11:57.482354",
     "status": "completed"
    },
    "tags": []
   },
   "outputs": [
    {
     "name": "stdout",
     "output_type": "stream",
     "text": [
      "(16, 8, 3)\n"
     ]
    }
   ],
   "source": [
    "# test circuit\n",
    "shape = qml.StronglyEntanglingLayers.shape(n_layers=16, n_wires=8)\n",
    "parameters = np.random.random(size=shape)\n",
    "print(parameters.shape)\n",
    "n_layers = 1\n",
    "weights = 0.01 * np.random.randn(3,n_layers,4, requires_grad=True)\n",
    "params = (weights, parameters)"
   ]
  },
  {
   "cell_type": "code",
   "execution_count": 14,
   "id": "995689c1",
   "metadata": {
    "execution": {
     "iopub.execute_input": "2025-02-10T15:11:57.517465Z",
     "iopub.status.busy": "2025-02-10T15:11:57.517109Z",
     "iopub.status.idle": "2025-02-10T15:11:57.522284Z",
     "shell.execute_reply": "2025-02-10T15:11:57.521023Z"
    },
    "papermill": {
     "duration": 0.015245,
     "end_time": "2025-02-10T15:11:57.524111",
     "exception": false,
     "start_time": "2025-02-10T15:11:57.508866",
     "status": "completed"
    },
    "tags": []
   },
   "outputs": [],
   "source": [
    "X_batch = X\n",
    "Y_batch = Y\n",
    "X_test_batch = X_test\n",
    "Y_test_batch = Y_test"
   ]
  },
  {
   "cell_type": "markdown",
   "id": "81d7eefd",
   "metadata": {
    "id": "nxeZNr8QqsNy",
    "papermill": {
     "duration": 0.007032,
     "end_time": "2025-02-10T15:11:57.538678",
     "exception": false,
     "start_time": "2025-02-10T15:11:57.531646",
     "status": "completed"
    },
    "tags": []
   },
   "source": [
    "<h1> Cost Function and Opimizer </h1>"
   ]
  },
  {
   "cell_type": "code",
   "execution_count": 15,
   "id": "36b5af13",
   "metadata": {
    "execution": {
     "iopub.execute_input": "2025-02-10T15:11:57.554676Z",
     "iopub.status.busy": "2025-02-10T15:11:57.554328Z",
     "iopub.status.idle": "2025-02-10T15:11:57.560966Z",
     "shell.execute_reply": "2025-02-10T15:11:57.559863Z"
    },
    "id": "rKOPEtF0iKhj",
    "papermill": {
     "duration": 0.017176,
     "end_time": "2025-02-10T15:11:57.563043",
     "exception": false,
     "start_time": "2025-02-10T15:11:57.545867",
     "status": "completed"
    },
    "tags": []
   },
   "outputs": [],
   "source": [
    "def accuracy(labels, predictions):\n",
    "    acc = sum(abs(l - p) < 1e-5 for l, p in zip(labels, predictions))\n",
    "    acc = acc / len(labels)\n",
    "    return acc\n",
    "    \n",
    "def cost(*args, **kwargs):\n",
    "    # Extract the parameters and data from *args and **kwargs\n",
    "    weights = args[0]  # Assuming the first argument is the parameters (usually a NumPy array)\n",
    "    parameters = args[1]\n",
    "    X = kwargs.get('X', None)  # Get X from kwargs, default to None if not provided\n",
    "    Y = kwargs.get('Y', None)  # Get Y from kwargs, default to None if not provided\n",
    "    predictions = [full_circuit(x=x, weights=weights,parameters=parameters) for x in X]\n",
    "    return np.mean((Y - qml.math.stack(predictions)) ** 2)"
   ]
  },
  {
   "cell_type": "code",
   "execution_count": 16,
   "id": "1e16a664",
   "metadata": {
    "execution": {
     "iopub.execute_input": "2025-02-10T15:11:57.580773Z",
     "iopub.status.busy": "2025-02-10T15:11:57.580419Z",
     "iopub.status.idle": "2025-02-10T15:11:57.587354Z",
     "shell.execute_reply": "2025-02-10T15:11:57.586089Z"
    },
    "papermill": {
     "duration": 0.01815,
     "end_time": "2025-02-10T15:11:57.589383",
     "exception": false,
     "start_time": "2025-02-10T15:11:57.571233",
     "status": "completed"
    },
    "tags": []
   },
   "outputs": [
    {
     "name": "stdout",
     "output_type": "stream",
     "text": [
      "50\n",
      "50\n",
      "30\n",
      "30\n"
     ]
    }
   ],
   "source": [
    "print(len(X))\n",
    "print(len(Y))\n",
    "print(len(X_test))\n",
    "print(len(Y_test))"
   ]
  },
  {
   "cell_type": "code",
   "execution_count": 17,
   "id": "7b2f1a77",
   "metadata": {
    "execution": {
     "iopub.execute_input": "2025-02-10T15:11:57.605778Z",
     "iopub.status.busy": "2025-02-10T15:11:57.605325Z",
     "iopub.status.idle": "2025-02-10T15:11:57.613592Z",
     "shell.execute_reply": "2025-02-10T15:11:57.612152Z"
    },
    "papermill": {
     "duration": 0.018443,
     "end_time": "2025-02-10T15:11:57.615343",
     "exception": false,
     "start_time": "2025-02-10T15:11:57.596900",
     "status": "completed"
    },
    "tags": []
   },
   "outputs": [],
   "source": [
    "import matplotlib.pyplot as plt\n",
    "def draw_result(current_cost_list,acc_list,test_acc_list,epoch,lrate,n_layers=1):\n",
    "    fig, axs = plt.subplots(3, 1, figsize=(12, 10))\n",
    "    axs[0].plot(epoch, current_cost_list,label=f'loss_{lrate}')\n",
    "    axs[0].set_title(f'Loss {n_layers}')\n",
    "    axs[0].set_xlabel('Epoch')  # Set x-axis label\n",
    "    axs[0].set_ylabel('Cost Function')  # Set y-axis label\n",
    "    axs[0].legend()\n",
    "    axs[1].plot(epoch, acc_list, label=f'train_acc_{lrate}')\n",
    "    axs[1].set_title(f'Train acc {n_layers}')\n",
    "    axs[1].set_xlabel('Epoch')  # Set x-axis label\n",
    "    axs[1].set_ylabel('Train Accuraccy')  # Set y-axis label\n",
    "    axs[1].legend()\n",
    "    axs[2].plot(epoch, test_acc_list,label=f'test_acc_{lrate}')\n",
    "    axs[2].set_title(f'Test acc {n_layers}')\n",
    "    axs[2].set_xlabel('Epoch')  # Set x-axis label\n",
    "    axs[2].set_ylabel('Test Accuraccy')  # Set y-axis label\n",
    "    axs[2].legend()\n",
    "    fig.subplots_adjust(hspace=0.5)\n",
    "    fig.tight_layout()\n",
    "    plt.show()\n",
    "    fig.savefig(f\"/kaggle/working/chart_nlayer{n_layers}_lrate{lrate}.png\")"
   ]
  },
  {
   "cell_type": "code",
   "execution_count": 18,
   "id": "e23326bb",
   "metadata": {
    "execution": {
     "iopub.execute_input": "2025-02-10T15:11:57.631790Z",
     "iopub.status.busy": "2025-02-10T15:11:57.631289Z",
     "iopub.status.idle": "2025-02-10T15:11:57.638228Z",
     "shell.execute_reply": "2025-02-10T15:11:57.636853Z"
    },
    "papermill": {
     "duration": 0.017467,
     "end_time": "2025-02-10T15:11:57.640144",
     "exception": false,
     "start_time": "2025-02-10T15:11:57.622677",
     "status": "completed"
    },
    "tags": []
   },
   "outputs": [],
   "source": [
    "def make_drop_out_parameter(parameter, drop_rate):\n",
    "    '''\n",
    "    caculate gradient based on dropped gate\n",
    "    update gradient without dropped gate\n",
    "    update on true parameter\n",
    "    '''\n",
    "    param_shape = parameter.shape\n",
    "    total_elem = param_shape[0] * param_shape[1]\n",
    "    num_selected = int(drop_rate * total_elem)  # 30% of 64 = 19\n",
    "    \n",
    "    # Flatten the matrix, randomly select 19 indices\n",
    "    flat_indices = np.random.choice(total_elem, num_selected, replace=False)\n",
    "    \n",
    "    # Create a mask of zeros and set selected positions to 1\n",
    "    index_matrix = np.zeros(total_elem, dtype=bool)\n",
    "    index_matrix[flat_indices] = True\n",
    "    index_matrix = index_matrix.reshape(param_shape[0], param_shape[1])  # Reshape back to 8×8\n",
    "    masked_matrix = np.ones(param_shape, dtype=int)  # Initialize with zeros\n",
    "    masked_matrix[index_matrix,:] = 0  # Set every second row to 1\n",
    "    dropped_param = parameter * masked_matrix\n",
    "    return dropped_param, masked_matrix"
   ]
  },
  {
   "cell_type": "code",
   "execution_count": 19,
   "id": "f5ed1145",
   "metadata": {
    "execution": {
     "iopub.execute_input": "2025-02-10T15:11:57.656338Z",
     "iopub.status.busy": "2025-02-10T15:11:57.655850Z",
     "iopub.status.idle": "2025-02-10T15:11:57.665592Z",
     "shell.execute_reply": "2025-02-10T15:11:57.664304Z"
    },
    "papermill": {
     "duration": 0.020075,
     "end_time": "2025-02-10T15:11:57.667603",
     "exception": false,
     "start_time": "2025-02-10T15:11:57.647528",
     "status": "completed"
    },
    "tags": []
   },
   "outputs": [
    {
     "data": {
      "text/plain": [
       "tensor([[[ 0.00321065, -0.00830425,  0.00591061, -0.01028312]],\n",
       "\n",
       "        [[-0.00540174,  0.00881297, -0.02217555, -0.00181311]],\n",
       "\n",
       "        [[ 0.01345207,  0.00326443, -0.00084402, -0.0045111 ]]], requires_grad=True)"
      ]
     },
     "execution_count": 19,
     "metadata": {},
     "output_type": "execute_result"
    }
   ],
   "source": [
    "params[0]"
   ]
  },
  {
   "cell_type": "code",
   "execution_count": 20,
   "id": "27afca84",
   "metadata": {
    "execution": {
     "iopub.execute_input": "2025-02-10T15:11:57.684041Z",
     "iopub.status.busy": "2025-02-10T15:11:57.683651Z",
     "iopub.status.idle": "2025-02-10T15:12:19.611175Z",
     "shell.execute_reply": "2025-02-10T15:12:19.610072Z"
    },
    "papermill": {
     "duration": 21.938028,
     "end_time": "2025-02-10T15:12:19.613239",
     "exception": false,
     "start_time": "2025-02-10T15:11:57.675211",
     "status": "completed"
    },
    "tags": []
   },
   "outputs": [],
   "source": [
    "current_cost = cost(params[0],params[1], X=X, Y=Y)"
   ]
  },
  {
   "cell_type": "code",
   "execution_count": 21,
   "id": "f83aa85f",
   "metadata": {
    "execution": {
     "iopub.execute_input": "2025-02-10T15:12:19.630147Z",
     "iopub.status.busy": "2025-02-10T15:12:19.629666Z",
     "iopub.status.idle": "2025-02-10T22:10:28.917683Z",
     "shell.execute_reply": "2025-02-10T22:10:28.915716Z"
    },
    "id": "GPXyMxbnsbXv",
    "outputId": "918de71a-c54e-4f74-d877-f6b1bb0e6aed",
    "papermill": {
     "duration": 25089.301461,
     "end_time": "2025-02-10T22:10:28.922297",
     "exception": false,
     "start_time": "2025-02-10T15:12:19.620836",
     "status": "completed"
    },
    "tags": []
   },
   "outputs": [
    {
     "name": "stdout",
     "output_type": "stream",
     "text": [
      "number layers: 1\n",
      "Iter:    1 | Cost: 1.0107830 | Accuracy: 0.4400000 | Test Accuracy: 0.5000000 | Run Time: 172.2889404\n",
      "Iter:    2 | Cost: 1.0032258 | Accuracy: 0.4600000 | Test Accuracy: 0.5333333 | Run Time: 172.8097298\n",
      "Iter:    3 | Cost: 0.9956972 | Accuracy: 0.4600000 | Test Accuracy: 0.5333333 | Run Time: 160.4765751\n",
      "Iter:    4 | Cost: 0.9882564 | Accuracy: 0.5200000 | Test Accuracy: 0.4666667 | Run Time: 157.5624895\n",
      "Iter:    5 | Cost: 0.9809584 | Accuracy: 0.6200000 | Test Accuracy: 0.5666667 | Run Time: 170.5957394\n",
      "Iter:    6 | Cost: 0.9738513 | Accuracy: 0.6600000 | Test Accuracy: 0.5666667 | Run Time: 171.4374986\n",
      "Iter:    7 | Cost: 0.9669744 | Accuracy: 0.7200000 | Test Accuracy: 0.6000000 | Run Time: 170.3325400\n",
      "Iter:    8 | Cost: 0.9603579 | Accuracy: 0.7400000 | Test Accuracy: 0.6333333 | Run Time: 172.2786167\n",
      "Iter:    9 | Cost: 0.9540226 | Accuracy: 0.7600000 | Test Accuracy: 0.6000000 | Run Time: 174.5053523\n",
      "Iter:   10 | Cost: 0.9479811 | Accuracy: 0.8000000 | Test Accuracy: 0.6000000 | Run Time: 168.6403284\n",
      "Iter:   11 | Cost: 0.9422386 | Accuracy: 0.8600000 | Test Accuracy: 0.5666667 | Run Time: 170.4234867\n",
      "Iter:   12 | Cost: 0.9367943 | Accuracy: 0.8600000 | Test Accuracy: 0.5666667 | Run Time: 185.7112441\n",
      "Iter:   13 | Cost: 0.9316427 | Accuracy: 0.8800000 | Test Accuracy: 0.5666667 | Run Time: 172.4286132\n",
      "Iter:   14 | Cost: 0.9267746 | Accuracy: 0.9000000 | Test Accuracy: 0.5666667 | Run Time: 165.2870896\n",
      "Iter:   15 | Cost: 0.9221788 | Accuracy: 0.9000000 | Test Accuracy: 0.5666667 | Run Time: 167.4151905\n",
      "Iter:   16 | Cost: 0.9178419 | Accuracy: 0.9000000 | Test Accuracy: 0.5666667 | Run Time: 176.7844408\n",
      "Iter:   17 | Cost: 0.9137498 | Accuracy: 0.9000000 | Test Accuracy: 0.5666667 | Run Time: 172.7741416\n",
      "Iter:   18 | Cost: 0.9098878 | Accuracy: 0.9200000 | Test Accuracy: 0.5333333 | Run Time: 165.5058160\n",
      "Iter:   19 | Cost: 0.9062411 | Accuracy: 0.9600000 | Test Accuracy: 0.5333333 | Run Time: 165.9369385\n",
      "Iter:   20 | Cost: 0.9027951 | Accuracy: 0.9600000 | Test Accuracy: 0.5333333 | Run Time: 175.3846695\n",
      "Iter:   21 | Cost: 0.8995356 | Accuracy: 0.9600000 | Test Accuracy: 0.5333333 | Run Time: 153.8550613\n",
      "Iter:   22 | Cost: 0.8964491 | Accuracy: 0.9600000 | Test Accuracy: 0.5333333 | Run Time: 166.0183635\n",
      "Iter:   23 | Cost: 0.8935224 | Accuracy: 0.9600000 | Test Accuracy: 0.5333333 | Run Time: 161.1114743\n",
      "Iter:   24 | Cost: 0.8907435 | Accuracy: 0.9600000 | Test Accuracy: 0.5333333 | Run Time: 163.2338176\n",
      "Iter:   25 | Cost: 0.8881008 | Accuracy: 0.9600000 | Test Accuracy: 0.5333333 | Run Time: 165.7314951\n",
      "Iter:   26 | Cost: 0.8855838 | Accuracy: 0.9600000 | Test Accuracy: 0.5333333 | Run Time: 162.7900710\n",
      "Iter:   27 | Cost: 0.8831824 | Accuracy: 0.9600000 | Test Accuracy: 0.5333333 | Run Time: 159.4477861\n",
      "Iter:   28 | Cost: 0.8808877 | Accuracy: 0.9600000 | Test Accuracy: 0.5333333 | Run Time: 175.5169091\n",
      "Iter:   29 | Cost: 0.8786912 | Accuracy: 0.9600000 | Test Accuracy: 0.5333333 | Run Time: 162.0074046\n",
      "Iter:   30 | Cost: 0.8765853 | Accuracy: 0.9600000 | Test Accuracy: 0.5333333 | Run Time: 162.2677841\n",
      "Iter:   31 | Cost: 0.8745629 | Accuracy: 0.9600000 | Test Accuracy: 0.5333333 | Run Time: 159.6843607\n",
      "Iter:   32 | Cost: 0.8726177 | Accuracy: 0.9600000 | Test Accuracy: 0.5333333 | Run Time: 162.3009698\n",
      "Iter:   33 | Cost: 0.8707439 | Accuracy: 0.9600000 | Test Accuracy: 0.5333333 | Run Time: 163.3506203\n",
      "Iter:   34 | Cost: 0.8689363 | Accuracy: 0.9800000 | Test Accuracy: 0.5000000 | Run Time: 162.0871308\n",
      "Iter:   35 | Cost: 0.8671902 | Accuracy: 0.9800000 | Test Accuracy: 0.5000000 | Run Time: 165.6453345\n",
      "Iter:   36 | Cost: 0.8655014 | Accuracy: 0.9800000 | Test Accuracy: 0.5000000 | Run Time: 161.3194423\n",
      "Iter:   37 | Cost: 0.8638661 | Accuracy: 0.9800000 | Test Accuracy: 0.5000000 | Run Time: 161.7759285\n",
      "Iter:   38 | Cost: 0.8622809 | Accuracy: 0.9800000 | Test Accuracy: 0.5000000 | Run Time: 162.6723583\n",
      "Iter:   39 | Cost: 0.8607428 | Accuracy: 0.9800000 | Test Accuracy: 0.5000000 | Run Time: 161.3847413\n",
      "Iter:   40 | Cost: 0.8592491 | Accuracy: 0.9800000 | Test Accuracy: 0.5000000 | Run Time: 161.3323781\n",
      "Iter:   41 | Cost: 0.8577974 | Accuracy: 0.9800000 | Test Accuracy: 0.5000000 | Run Time: 165.6431506\n",
      "Iter:   42 | Cost: 0.8563857 | Accuracy: 0.9800000 | Test Accuracy: 0.5000000 | Run Time: 163.4807811\n",
      "Iter:   43 | Cost: 0.8550119 | Accuracy: 0.9800000 | Test Accuracy: 0.5000000 | Run Time: 164.0584788\n",
      "Iter:   44 | Cost: 0.8536745 | Accuracy: 0.9800000 | Test Accuracy: 0.5000000 | Run Time: 177.2363703\n",
      "Iter:   45 | Cost: 0.8523717 | Accuracy: 0.9800000 | Test Accuracy: 0.5000000 | Run Time: 164.2991402\n",
      "Iter:   46 | Cost: 0.8511024 | Accuracy: 0.9800000 | Test Accuracy: 0.5000000 | Run Time: 165.3930824\n",
      "Iter:   47 | Cost: 0.8498651 | Accuracy: 0.9800000 | Test Accuracy: 0.5000000 | Run Time: 163.6921980\n",
      "Iter:   48 | Cost: 0.8486587 | Accuracy: 0.9800000 | Test Accuracy: 0.5000000 | Run Time: 160.4352460\n",
      "Iter:   49 | Cost: 0.8474820 | Accuracy: 0.9800000 | Test Accuracy: 0.5000000 | Run Time: 162.4455035\n",
      "Iter:   50 | Cost: 0.8463341 | Accuracy: 0.9800000 | Test Accuracy: 0.5000000 | Run Time: 164.7252409\n",
      "Iter:   51 | Cost: 0.8452138 | Accuracy: 0.9800000 | Test Accuracy: 0.5000000 | Run Time: 164.7238436\n",
      "Iter:   52 | Cost: 0.8441204 | Accuracy: 1.0000000 | Test Accuracy: 0.5000000 | Run Time: 164.0217361\n",
      "Iter:   53 | Cost: 0.8430527 | Accuracy: 1.0000000 | Test Accuracy: 0.5000000 | Run Time: 163.9775863\n",
      "Iter:   54 | Cost: 0.8420099 | Accuracy: 1.0000000 | Test Accuracy: 0.5000000 | Run Time: 164.3121002\n",
      "Iter:   55 | Cost: 0.8409912 | Accuracy: 1.0000000 | Test Accuracy: 0.5000000 | Run Time: 170.3132408\n",
      "Iter:   56 | Cost: 0.8399955 | Accuracy: 1.0000000 | Test Accuracy: 0.5000000 | Run Time: 164.2399061\n",
      "Iter:   57 | Cost: 0.8390220 | Accuracy: 1.0000000 | Test Accuracy: 0.5000000 | Run Time: 166.3474569\n",
      "Iter:   58 | Cost: 0.8380699 | Accuracy: 1.0000000 | Test Accuracy: 0.5000000 | Run Time: 163.9220960\n",
      "Iter:   59 | Cost: 0.8371381 | Accuracy: 1.0000000 | Test Accuracy: 0.5000000 | Run Time: 164.6916175\n",
      "Iter:   60 | Cost: 0.8362260 | Accuracy: 1.0000000 | Test Accuracy: 0.5000000 | Run Time: 164.1815054\n",
      "Iter:   61 | Cost: 0.8353325 | Accuracy: 1.0000000 | Test Accuracy: 0.5000000 | Run Time: 164.1620855\n",
      "Iter:   62 | Cost: 0.8344568 | Accuracy: 1.0000000 | Test Accuracy: 0.5000000 | Run Time: 165.1678813\n",
      "Iter:   63 | Cost: 0.8335980 | Accuracy: 1.0000000 | Test Accuracy: 0.5000000 | Run Time: 166.7507534\n",
      "Iter:   64 | Cost: 0.8327554 | Accuracy: 1.0000000 | Test Accuracy: 0.5000000 | Run Time: 162.5021598\n",
      "Iter:   65 | Cost: 0.8319279 | Accuracy: 1.0000000 | Test Accuracy: 0.5000000 | Run Time: 168.0263250\n",
      "Iter:   66 | Cost: 0.8311148 | Accuracy: 1.0000000 | Test Accuracy: 0.5000000 | Run Time: 165.4805050\n",
      "Iter:   67 | Cost: 0.8303152 | Accuracy: 1.0000000 | Test Accuracy: 0.5000000 | Run Time: 165.7165868\n",
      "Iter:   68 | Cost: 0.8295283 | Accuracy: 1.0000000 | Test Accuracy: 0.5000000 | Run Time: 180.9986186\n",
      "Iter:   69 | Cost: 0.8287532 | Accuracy: 1.0000000 | Test Accuracy: 0.5000000 | Run Time: 164.1666417\n",
      "Iter:   70 | Cost: 0.8279892 | Accuracy: 1.0000000 | Test Accuracy: 0.5000000 | Run Time: 162.4008434\n",
      "Iter:   71 | Cost: 0.8272355 | Accuracy: 1.0000000 | Test Accuracy: 0.5000000 | Run Time: 163.6185679\n",
      "Iter:   72 | Cost: 0.8264913 | Accuracy: 1.0000000 | Test Accuracy: 0.5000000 | Run Time: 162.3418794\n",
      "Iter:   73 | Cost: 0.8257558 | Accuracy: 1.0000000 | Test Accuracy: 0.5000000 | Run Time: 160.7103064\n",
      "Iter:   74 | Cost: 0.8250283 | Accuracy: 1.0000000 | Test Accuracy: 0.5000000 | Run Time: 159.7806373\n",
      "Iter:   75 | Cost: 0.8243081 | Accuracy: 1.0000000 | Test Accuracy: 0.5000000 | Run Time: 161.9273090\n",
      "Iter:   76 | Cost: 0.8235945 | Accuracy: 1.0000000 | Test Accuracy: 0.5000000 | Run Time: 161.8347595\n",
      "Iter:   77 | Cost: 0.8228868 | Accuracy: 1.0000000 | Test Accuracy: 0.5000000 | Run Time: 167.5377812\n",
      "Iter:   78 | Cost: 0.8221844 | Accuracy: 1.0000000 | Test Accuracy: 0.5000000 | Run Time: 166.4311924\n",
      "Iter:   79 | Cost: 0.8214866 | Accuracy: 1.0000000 | Test Accuracy: 0.5000000 | Run Time: 163.0199997\n",
      "Iter:   80 | Cost: 0.8207929 | Accuracy: 1.0000000 | Test Accuracy: 0.5000000 | Run Time: 178.0049715\n",
      "Iter:   81 | Cost: 0.8201027 | Accuracy: 1.0000000 | Test Accuracy: 0.5000000 | Run Time: 167.8254123\n",
      "Iter:   82 | Cost: 0.8194154 | Accuracy: 1.0000000 | Test Accuracy: 0.5000000 | Run Time: 164.3279033\n",
      "Iter:   83 | Cost: 0.8187305 | Accuracy: 1.0000000 | Test Accuracy: 0.5000000 | Run Time: 166.4368665\n",
      "Iter:   84 | Cost: 0.8180476 | Accuracy: 1.0000000 | Test Accuracy: 0.5000000 | Run Time: 167.4788671\n",
      "Iter:   85 | Cost: 0.8173663 | Accuracy: 1.0000000 | Test Accuracy: 0.5000000 | Run Time: 166.8525023\n",
      "Iter:   86 | Cost: 0.8166860 | Accuracy: 1.0000000 | Test Accuracy: 0.5000000 | Run Time: 167.0293119\n",
      "Iter:   87 | Cost: 0.8160064 | Accuracy: 1.0000000 | Test Accuracy: 0.5000000 | Run Time: 169.9187686\n",
      "Iter:   88 | Cost: 0.8153273 | Accuracy: 1.0000000 | Test Accuracy: 0.5000000 | Run Time: 163.8556371\n",
      "Iter:   89 | Cost: 0.8146482 | Accuracy: 1.0000000 | Test Accuracy: 0.5000000 | Run Time: 168.6068733\n",
      "Iter:   90 | Cost: 0.8139689 | Accuracy: 1.0000000 | Test Accuracy: 0.5000000 | Run Time: 175.5990689\n",
      "Iter:   91 | Cost: 0.8132891 | Accuracy: 1.0000000 | Test Accuracy: 0.5000000 | Run Time: 186.2197561\n",
      "Iter:   92 | Cost: 0.8126088 | Accuracy: 1.0000000 | Test Accuracy: 0.5000000 | Run Time: 172.3534384\n",
      "Iter:   93 | Cost: 0.8119277 | Accuracy: 1.0000000 | Test Accuracy: 0.5000000 | Run Time: 175.7140744\n",
      "Iter:   94 | Cost: 0.8112457 | Accuracy: 1.0000000 | Test Accuracy: 0.5000000 | Run Time: 181.9617779\n",
      "Iter:   95 | Cost: 0.8105628 | Accuracy: 1.0000000 | Test Accuracy: 0.5000000 | Run Time: 183.9064007\n",
      "Iter:   96 | Cost: 0.8098788 | Accuracy: 1.0000000 | Test Accuracy: 0.5000000 | Run Time: 173.1998911\n",
      "Iter:   97 | Cost: 0.8091939 | Accuracy: 1.0000000 | Test Accuracy: 0.5000000 | Run Time: 171.5826967\n",
      "Iter:   98 | Cost: 0.8085081 | Accuracy: 1.0000000 | Test Accuracy: 0.5000000 | Run Time: 164.1507676\n",
      "Iter:   99 | Cost: 0.8078214 | Accuracy: 1.0000000 | Test Accuracy: 0.5000000 | Run Time: 164.3235066\n",
      "Iter:  100 | Cost: 0.8071340 | Accuracy: 1.0000000 | Test Accuracy: 0.5000000 | Run Time: 167.7425578\n",
      "Iter:  101 | Cost: 0.8064461 | Accuracy: 1.0000000 | Test Accuracy: 0.5000000 | Run Time: 166.2104449\n",
      "Iter:  102 | Cost: 0.8057578 | Accuracy: 1.0000000 | Test Accuracy: 0.5000000 | Run Time: 172.1861289\n",
      "Iter:  103 | Cost: 0.8050695 | Accuracy: 1.0000000 | Test Accuracy: 0.5000000 | Run Time: 166.5248044\n",
      "Iter:  104 | Cost: 0.8043813 | Accuracy: 1.0000000 | Test Accuracy: 0.5000000 | Run Time: 166.7713606\n",
      "Iter:  105 | Cost: 0.8036936 | Accuracy: 1.0000000 | Test Accuracy: 0.5000000 | Run Time: 167.4420602\n",
      "Iter:  106 | Cost: 0.8030067 | Accuracy: 1.0000000 | Test Accuracy: 0.5000000 | Run Time: 164.0909309\n",
      "Iter:  107 | Cost: 0.8023211 | Accuracy: 1.0000000 | Test Accuracy: 0.5000000 | Run Time: 164.8639002\n",
      "Iter:  108 | Cost: 0.8016370 | Accuracy: 1.0000000 | Test Accuracy: 0.5000000 | Run Time: 165.8955796\n",
      "Iter:  109 | Cost: 0.8009549 | Accuracy: 1.0000000 | Test Accuracy: 0.5000000 | Run Time: 159.0639827\n",
      "Iter:  110 | Cost: 0.8002752 | Accuracy: 1.0000000 | Test Accuracy: 0.5000000 | Run Time: 169.1518333\n",
      "Iter:  111 | Cost: 0.7995984 | Accuracy: 1.0000000 | Test Accuracy: 0.5000000 | Run Time: 165.7344036\n",
      "Iter:  112 | Cost: 0.7989249 | Accuracy: 1.0000000 | Test Accuracy: 0.5000000 | Run Time: 161.2169151\n",
      "Iter:  113 | Cost: 0.7982552 | Accuracy: 1.0000000 | Test Accuracy: 0.5000000 | Run Time: 164.9025531\n",
      "Iter:  114 | Cost: 0.7975897 | Accuracy: 1.0000000 | Test Accuracy: 0.5000000 | Run Time: 164.4493618\n",
      "Iter:  115 | Cost: 0.7969290 | Accuracy: 1.0000000 | Test Accuracy: 0.5000000 | Run Time: 165.1296890\n",
      "Iter:  116 | Cost: 0.7962734 | Accuracy: 1.0000000 | Test Accuracy: 0.5000000 | Run Time: 180.6873095\n",
      "Iter:  117 | Cost: 0.7956235 | Accuracy: 1.0000000 | Test Accuracy: 0.5000000 | Run Time: 166.3546691\n",
      "Iter:  118 | Cost: 0.7949796 | Accuracy: 1.0000000 | Test Accuracy: 0.5000000 | Run Time: 166.3067157\n",
      "Iter:  119 | Cost: 0.7943423 | Accuracy: 1.0000000 | Test Accuracy: 0.5000000 | Run Time: 165.6424139\n",
      "Iter:  120 | Cost: 0.7937118 | Accuracy: 1.0000000 | Test Accuracy: 0.5000000 | Run Time: 164.3621564\n",
      "Iter:  121 | Cost: 0.7930886 | Accuracy: 1.0000000 | Test Accuracy: 0.5000000 | Run Time: 164.7498820\n",
      "Iter:  122 | Cost: 0.7924731 | Accuracy: 1.0000000 | Test Accuracy: 0.5000000 | Run Time: 163.4506130\n",
      "Iter:  123 | Cost: 0.7918655 | Accuracy: 1.0000000 | Test Accuracy: 0.5000000 | Run Time: 164.7961853\n",
      "Iter:  124 | Cost: 0.7912663 | Accuracy: 1.0000000 | Test Accuracy: 0.5000000 | Run Time: 163.8575501\n",
      "Iter:  125 | Cost: 0.7906756 | Accuracy: 1.0000000 | Test Accuracy: 0.5000000 | Run Time: 162.3164074\n",
      "Iter:  126 | Cost: 0.7900937 | Accuracy: 1.0000000 | Test Accuracy: 0.5000000 | Run Time: 178.8634992\n",
      "Iter:  127 | Cost: 0.7895209 | Accuracy: 1.0000000 | Test Accuracy: 0.5000000 | Run Time: 170.3850160\n",
      "Iter:  128 | Cost: 0.7889573 | Accuracy: 1.0000000 | Test Accuracy: 0.5000000 | Run Time: 175.4358156\n",
      "Iter:  129 | Cost: 0.7884030 | Accuracy: 1.0000000 | Test Accuracy: 0.5000000 | Run Time: 164.4706838\n",
      "Iter:  130 | Cost: 0.7878582 | Accuracy: 1.0000000 | Test Accuracy: 0.5000000 | Run Time: 165.3038957\n",
      "Iter:  131 | Cost: 0.7873229 | Accuracy: 1.0000000 | Test Accuracy: 0.5000000 | Run Time: 163.1270156\n",
      "Iter:  132 | Cost: 0.7867973 | Accuracy: 1.0000000 | Test Accuracy: 0.5000000 | Run Time: 164.9454818\n",
      "Iter:  133 | Cost: 0.7862813 | Accuracy: 1.0000000 | Test Accuracy: 0.5000000 | Run Time: 161.7794268\n",
      "Iter:  134 | Cost: 0.7857749 | Accuracy: 1.0000000 | Test Accuracy: 0.5000000 | Run Time: 162.4593024\n",
      "Iter:  135 | Cost: 0.7852781 | Accuracy: 1.0000000 | Test Accuracy: 0.5000000 | Run Time: 165.0583410\n",
      "Iter:  136 | Cost: 0.7847908 | Accuracy: 0.9800000 | Test Accuracy: 0.4666667 | Run Time: 175.6623592\n",
      "Iter:  137 | Cost: 0.7843129 | Accuracy: 0.9800000 | Test Accuracy: 0.4666667 | Run Time: 173.6496389\n",
      "Iter:  138 | Cost: 0.7838443 | Accuracy: 0.9800000 | Test Accuracy: 0.4666667 | Run Time: 172.2578974\n",
      "Iter:  139 | Cost: 0.7833850 | Accuracy: 0.9800000 | Test Accuracy: 0.4666667 | Run Time: 164.6919854\n",
      "Iter:  140 | Cost: 0.7829346 | Accuracy: 0.9800000 | Test Accuracy: 0.4666667 | Run Time: 166.4135036\n",
      "Iter:  141 | Cost: 0.7824932 | Accuracy: 0.9800000 | Test Accuracy: 0.4666667 | Run Time: 170.2423546\n",
      "Iter:  142 | Cost: 0.7820604 | Accuracy: 0.9800000 | Test Accuracy: 0.4666667 | Run Time: 166.2056253\n",
      "Iter:  143 | Cost: 0.7816362 | Accuracy: 0.9800000 | Test Accuracy: 0.4666667 | Run Time: 166.6223598\n",
      "Iter:  144 | Cost: 0.7812202 | Accuracy: 0.9800000 | Test Accuracy: 0.4666667 | Run Time: 167.9187307\n",
      "Iter:  145 | Cost: 0.7808124 | Accuracy: 0.9800000 | Test Accuracy: 0.4666667 | Run Time: 168.0956888\n",
      "Iter:  146 | Cost: 0.7804124 | Accuracy: 0.9800000 | Test Accuracy: 0.4666667 | Run Time: 187.7123008\n",
      "Iter:  147 | Cost: 0.7800201 | Accuracy: 0.9800000 | Test Accuracy: 0.4666667 | Run Time: 176.4682422\n",
      "Iter:  148 | Cost: 0.7796352 | Accuracy: 0.9800000 | Test Accuracy: 0.4666667 | Run Time: 170.2073457\n",
      "Iter:  149 | Cost: 0.7792575 | Accuracy: 0.9800000 | Test Accuracy: 0.4666667 | Run Time: 174.7840250\n",
      "Iter:  150 | Cost: 0.7788868 | Accuracy: 0.9800000 | Test Accuracy: 0.4666667 | Run Time: 175.0999320\n"
     ]
    },
    {
     "data": {
      "image/png": "[encoded data removed]",
      "text/plain": [
       "<Figure size 1200x1000 with 3 Axes>"
      ]
     },
     "metadata": {},
     "output_type": "display_data"
    },
    {
     "name": "stdout",
     "output_type": "stream",
     "text": [
      "[[[ 0.03967156  0.21703442  0.26707005  0.0359591 ]]\n",
      "\n",
      " [[-0.00540174  0.00881297 -0.02217555 -0.00181311]]\n",
      "\n",
      " [[ 0.13667942 -0.06523747  0.07715397 -0.12869271]]]\n"
     ]
    }
   ],
   "source": [
    "import time\n",
    "learning_rate = [0.5]\n",
    "num_layers = [1]\n",
    "for n_layers in num_layers:\n",
    "    lrate = 0.5\n",
    "    print(\"number layers:\", n_layers)\n",
    "\n",
    "    opt = GradientDescentOptimizer(lrate)\n",
    "    current_cost_list = []\n",
    "    acc_list = []\n",
    "    test_acc_list = []\n",
    "    epoch = []\n",
    "    for it in range(150):\n",
    "        start_time = time.time()\n",
    "        # apply drop out\n",
    "        dropped_parameters, masked_matrix = make_drop_out_parameter(params[1], 0.0)\n",
    "        dropped_params = (params[0], dropped_parameters)\n",
    "        gradient_value, current_cost = opt.compute_grad(objective_fn=cost, args=dropped_params, kwargs={\"X\": X, \"Y\": Y})\n",
    "        dropped_gradient = (gradient_value[0], gradient_value[1] * masked_matrix)\n",
    "        params = opt.apply_grad(grad=dropped_gradient, args=params)\n",
    "        current_cost = cost(params[0],params[1], X=X, Y=Y)\n",
    "        current_cost_list.append(current_cost)\n",
    "        weights = params[0]\n",
    "        parameters = params[1]\n",
    "        # Compute accuracy on train\n",
    "        predictions = [np.sign(full_circuit(x,weights,parameters=parameters,num_layers=n_layers)) for x in X_batch]\n",
    "        acc = accuracy(Y_batch, predictions)\n",
    "        acc_list.append(acc)\n",
    "        \n",
    "        # Compute accuracy on test\n",
    "        predictions_test = [np.sign(full_circuit(x,weights,parameters=parameters, num_layers=n_layers)) for x in X_test_batch]\n",
    "        test_acc = accuracy(Y_test_batch, predictions)\n",
    "        test_acc_list.append(test_acc)\n",
    "        epoch.append(it)\n",
    "        \n",
    "        # Redraw the updated plot\n",
    "        end_time = time.time() - start_time\n",
    "        print(f\"Iter: {it+1:4d} | Cost: {current_cost:0.7f} | Accuracy: {acc:0.7f} | Test Accuracy: {test_acc:0.7f} | Run Time: {end_time:0.7f}\")   \n",
    "    draw_result(current_cost_list,acc_list,test_acc_list,epoch,lrate,n_layers)\n",
    "    print(weights)"
   ]
  },
  {
   "cell_type": "code",
   "execution_count": 22,
   "id": "6cc8dd18",
   "metadata": {
    "execution": {
     "iopub.execute_input": "2025-02-10T22:10:28.967220Z",
     "iopub.status.busy": "2025-02-10T22:10:28.966704Z",
     "iopub.status.idle": "2025-02-10T22:10:43.067230Z",
     "shell.execute_reply": "2025-02-10T22:10:43.065425Z"
    },
    "id": "flb82L4ZBY6x",
    "papermill": {
     "duration": 14.126025,
     "end_time": "2025-02-10T22:10:43.069738",
     "exception": false,
     "start_time": "2025-02-10T22:10:28.943713",
     "status": "completed"
    },
    "tags": []
   },
   "outputs": [
    {
     "name": "stdout",
     "output_type": "stream",
     "text": [
      "Final test, accuracy_test: 0.5666666666666667\n"
     ]
    }
   ],
   "source": [
    "# Compute accuracy\n",
    "weights = params[0]\n",
    "parameters = params[1]\n",
    "predictions = [np.sign(full_circuit(x,weights,parameters, 1)) for x in X_test]\n",
    "acc = accuracy(Y_test, predictions)\n",
    "print(f\"Final test, accuracy_test: {acc}\")"
   ]
  }
 ],
 "metadata": {
  "colab": {
   "provenance": []
  },
  "kaggle": {
   "accelerator": "none",
   "dataSources": [
    {
     "datasetId": 6593060,
     "sourceId": 10648027,
     "sourceType": "datasetVersion"
    }
   ],
   "dockerImageVersionId": 30886,
   "isGpuEnabled": false,
   "isInternetEnabled": true,
   "language": "python",
   "sourceType": "notebook"
  },
  "kernelspec": {
   "display_name": "Python 3",
   "language": "python",
   "name": "python3"
  },
  "language_info": {
   "codemirror_mode": {
    "name": "ipython",
    "version": 3
   },
   "file_extension": ".py",
   "mimetype": "text/x-python",
   "name": "python",
   "nbconvert_exporter": "python",
   "pygments_lexer": "ipython3",
   "version": "3.10.12"
  },
  "papermill": {
   "default_parameters": {},
   "duration": 25163.435726,
   "end_time": "2025-02-10T22:10:46.869755",
   "environment_variables": {},
   "exception": null,
   "input_path": "__notebook__.ipynb",
   "output_path": "__notebook__.ipynb",
   "parameters": {},
   "start_time": "2025-02-10T15:11:23.434029",
   "version": "2.6.0"
  }
 },
 "nbformat": 4,
 "nbformat_minor": 5
}
